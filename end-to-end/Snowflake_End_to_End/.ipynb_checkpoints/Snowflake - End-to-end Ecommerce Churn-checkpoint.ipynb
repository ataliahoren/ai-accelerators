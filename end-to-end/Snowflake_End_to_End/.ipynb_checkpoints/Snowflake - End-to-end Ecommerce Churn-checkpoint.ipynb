{
 "cells": [
  {
   "cell_type": "markdown",
   "id": "5d9fbaf4",
   "metadata": {},
   "source": [
    "# End-to-end modeling and production workflow with DataRobot and Snowflake\n",
    "\n",
    "Authors: Austin Chou, Arjun Arora\n",
    "\n",
    "Version Date: 01/11/2023\n",
    "\n",
    "[Reference DataRobot's API documentation](https://docs.datarobot.com/en/docs/api/reference/index.html)"
   ]
  },
  {
   "attachments": {
    "DR_and_Snowflake_logo.png": {
     "image/png": "[encoded data removed]"
    }
   },
   "cell_type": "markdown",
   "id": "1fc29f2d",
   "metadata": {},
   "source": [
    "![DR_and_Snowflake_logo.png](attachment:DR_and_Snowflake_logo.png)"
   ]
  },
  {
   "cell_type": "markdown",
   "id": "0a2873fa",
   "metadata": {},
   "source": [
    "## Notebook overview\n",
    "\n",
    "This notebook focuses on working with **Snowflake** as a data source and walks through how to use the Python API client to:\n",
    "\n",
    "1. [Connect to DataRobot](#Setup)\n",
    "2. [Import data from Snowflake into the AI catalog](#Import)\n",
    "3. [Create a project and run Autopilot](#Project)\n",
    "4. [Select and evaluate the top recommended model from a project)](#Eval)\n",
    "5. [Deploy a model in a Docker container with a REST API endpoint](#Deploy)\n",
    "6. [Orchestrate scheduled predictions with an MLOps job definition](#Schedule)"
   ]
  },
  {
   "cell_type": "markdown",
   "id": "0fd71eef",
   "metadata": {},
   "source": [
    "### Libraries used in this notebook\n",
    "\n",
    "* The [**DataRobot Python client**](https://pypi.org/project/datarobot/).\n",
    "* [**Snowflake Python Connector**](https://docs.snowflake.com/en/user-guide/python-connector.html) if pulling the demo dataset to follow along with this notebook.\n",
    "* **Matplotlib** for model evaluation.\n",
    "* **Pandas** for model evaluation."
   ]
  },
  {
   "cell_type": "markdown",
   "id": "3f46f29c",
   "metadata": {},
   "source": [
    "#### Optional:  Import public demo data\n",
    "\n",
    "For this walkthrough, you can use a publicly available dataset (`DR_Demo_E-commerce_churn_train.csv`) from DataRobot's S3 bucket to create a table in your Snowflake instance. This will let you run the cells in this notebook and follow along.\n",
    "\n",
    "You will need to update the fields below with your Snowflake information. You will also need the following files found in the same repo as this notebook:\n",
    "\n",
    "* utils.py\n",
    "* datasets.yaml\n",
    "\n",
    "Once you are done with this walkthrough, remember to delete the data from your Snowflake instance.\n",
    "\n",
    "**If you have already established a Snowflake data connection in DataRobot, make sure the following information matches your credentials and data connection details.**"
   ]
  },
  {
   "cell_type": "code",
   "execution_count": 1,
   "id": "e3ec761e",
   "metadata": {
    "collapsed": true,
    "jupyter": {
     "outputs_hidden": true
    }
   },
   "outputs": [
    {
     "name": "stderr",
     "output_type": "stream",
     "text": [
      "C:\\Users\\AustinChou\\anaconda3\\lib\\site-packages\\snowflake\\connector\\options.py:96: UserWarning: You have an incompatible version of 'pyarrow' installed (10.0.1), please install a version that adheres to: 'pyarrow<8.1.0,>=8.0.0; extra == \"pandas\"'\n",
      "  warn_incompatible_dep(\n"
     ]
    }
   ],
   "source": [
    "from utils import prepare_demo_tables_in_db"
   ]
  },
  {
   "cell_type": "code",
   "execution_count": null,
   "id": "ea1e2056",
   "metadata": {},
   "outputs": [],
   "source": [
    "# Fill out the credentials for your Snowflake instance. You will need write access to a database\n",
    "db_user = 'your_username' # Username to access Snowflake database\n",
    "db_password = 'your_password' # Password \n",
    "account = 'eg:datarobotap_partner.ap-southeast-2' # Snowflake account identifier, can be found in the db_url\n",
    "db = 'YOUR_DB_NAME' # Database to Write_To\n",
    "warehouse = 'YOUR_WAREHOUSE' # Warehouse \n",
    "schema = 'YOUR_SCHEMA' # Schema\n",
    "\n",
    "db_url = 'jdbc:snowflake://{account}.snowflakecomputing.com/?warehouse={warehouse}&db={db}'.format(\n",
    "    account = account,\n",
    "    db = db,\n",
    "    warehouse = warehouse\n",
    ")"
   ]
  },
  {
   "cell_type": "code",
   "execution_count": 3,
   "id": "040c8261",
   "metadata": {},
   "outputs": [
    {
     "name": "stdout",
     "output_type": "stream",
     "text": [
      "******************************\n",
      "table: DR_Demo_E-commerce_churn_train\n"
     ]
    },
    {
     "data": {
      "text/html": [
       "<div>\n",
       "<style scoped>\n",
       "    .dataframe tbody tr th:only-of-type {\n",
       "        vertical-align: middle;\n",
       "    }\n",
       "\n",
       "    .dataframe tbody tr th {\n",
       "        vertical-align: top;\n",
       "    }\n",
       "\n",
       "    .dataframe thead th {\n",
       "        text-align: right;\n",
       "    }\n",
       "</style>\n",
       "<table border=\"1\" class=\"dataframe\">\n",
       "  <thead>\n",
       "    <tr style=\"text-align: right;\">\n",
       "      <th></th>\n",
       "      <th>customerID</th>\n",
       "      <th>Gender</th>\n",
       "      <th>Address state</th>\n",
       "      <th>Age</th>\n",
       "      <th>Loyalty member</th>\n",
       "      <th>User period</th>\n",
       "      <th>Days since previous purchase</th>\n",
       "      <th># purchase(1 year)</th>\n",
       "      <th>Purchase amount(1 year)</th>\n",
       "      <th>Most recent purchased product cat</th>\n",
       "      <th>...</th>\n",
       "      <th># purchased fashion products</th>\n",
       "      <th>Amnt purchased fashion products</th>\n",
       "      <th># purchased interior products</th>\n",
       "      <th>Amnt purchased interior products</th>\n",
       "      <th># website visits</th>\n",
       "      <th>Duration of website visits (mins)</th>\n",
       "      <th># product page visits</th>\n",
       "      <th># favorite items</th>\n",
       "      <th>customer score</th>\n",
       "      <th>Is_dormant</th>\n",
       "    </tr>\n",
       "  </thead>\n",
       "  <tbody>\n",
       "    <tr>\n",
       "      <th>0</th>\n",
       "      <td>customer_3297125</td>\n",
       "      <td>F</td>\n",
       "      <td>MI</td>\n",
       "      <td>35</td>\n",
       "      <td>no</td>\n",
       "      <td>28</td>\n",
       "      <td>76</td>\n",
       "      <td>1</td>\n",
       "      <td>536.0</td>\n",
       "      <td>Down vest</td>\n",
       "      <td>...</td>\n",
       "      <td>1</td>\n",
       "      <td>104</td>\n",
       "      <td>3</td>\n",
       "      <td>432.0</td>\n",
       "      <td>1</td>\n",
       "      <td>1</td>\n",
       "      <td>95</td>\n",
       "      <td>0</td>\n",
       "      <td>1360.0</td>\n",
       "      <td>True</td>\n",
       "    </tr>\n",
       "    <tr>\n",
       "      <th>1</th>\n",
       "      <td>customer_3297554</td>\n",
       "      <td>M</td>\n",
       "      <td>AR</td>\n",
       "      <td>24</td>\n",
       "      <td>no</td>\n",
       "      <td>15</td>\n",
       "      <td>40</td>\n",
       "      <td>2</td>\n",
       "      <td>1372.0</td>\n",
       "      <td>Interior accessories</td>\n",
       "      <td>...</td>\n",
       "      <td>1</td>\n",
       "      <td>686</td>\n",
       "      <td>3</td>\n",
       "      <td>421.0</td>\n",
       "      <td>26</td>\n",
       "      <td>133</td>\n",
       "      <td>195</td>\n",
       "      <td>0</td>\n",
       "      <td>2772.5</td>\n",
       "      <td>False</td>\n",
       "    </tr>\n",
       "    <tr>\n",
       "      <th>2</th>\n",
       "      <td>customer_3298372</td>\n",
       "      <td>F</td>\n",
       "      <td>NM</td>\n",
       "      <td>24</td>\n",
       "      <td>no</td>\n",
       "      <td>34</td>\n",
       "      <td>28</td>\n",
       "      <td>4</td>\n",
       "      <td>940.0</td>\n",
       "      <td>Other tops</td>\n",
       "      <td>...</td>\n",
       "      <td>2</td>\n",
       "      <td>92</td>\n",
       "      <td>4</td>\n",
       "      <td>458.5</td>\n",
       "      <td>13</td>\n",
       "      <td>66</td>\n",
       "      <td>90</td>\n",
       "      <td>0</td>\n",
       "      <td>4817.5</td>\n",
       "      <td>True</td>\n",
       "    </tr>\n",
       "    <tr>\n",
       "      <th>3</th>\n",
       "      <td>customer_3299409</td>\n",
       "      <td>F</td>\n",
       "      <td>VT</td>\n",
       "      <td>25</td>\n",
       "      <td>yes</td>\n",
       "      <td>21</td>\n",
       "      <td>0</td>\n",
       "      <td>7</td>\n",
       "      <td>748.0</td>\n",
       "      <td>Camisole</td>\n",
       "      <td>...</td>\n",
       "      <td>1</td>\n",
       "      <td>52</td>\n",
       "      <td>2</td>\n",
       "      <td>371.0</td>\n",
       "      <td>390</td>\n",
       "      <td>1953</td>\n",
       "      <td>35</td>\n",
       "      <td>30</td>\n",
       "      <td>2964.0</td>\n",
       "      <td>False</td>\n",
       "    </tr>\n",
       "    <tr>\n",
       "      <th>4</th>\n",
       "      <td>customer_3297708</td>\n",
       "      <td>F</td>\n",
       "      <td>WA</td>\n",
       "      <td>24</td>\n",
       "      <td>no</td>\n",
       "      <td>20</td>\n",
       "      <td>137</td>\n",
       "      <td>1</td>\n",
       "      <td>641.5</td>\n",
       "      <td>Storage goods</td>\n",
       "      <td>...</td>\n",
       "      <td>2</td>\n",
       "      <td>113</td>\n",
       "      <td>5</td>\n",
       "      <td>528.5</td>\n",
       "      <td>13</td>\n",
       "      <td>68</td>\n",
       "      <td>15</td>\n",
       "      <td>0</td>\n",
       "      <td>3157.5</td>\n",
       "      <td>True</td>\n",
       "    </tr>\n",
       "  </tbody>\n",
       "</table>\n",
       "<p>5 rows × 21 columns</p>\n",
       "</div>"
      ],
      "text/plain": [
       "         customerID Gender Address state  Age Loyalty member  User period  \\\n",
       "0  customer_3297125      F            MI   35             no           28   \n",
       "1  customer_3297554      M            AR   24             no           15   \n",
       "2  customer_3298372      F            NM   24             no           34   \n",
       "3  customer_3299409      F            VT   25            yes           21   \n",
       "4  customer_3297708      F            WA   24             no           20   \n",
       "\n",
       "   Days since previous purchase  # purchase(1 year)  Purchase amount(1 year)  \\\n",
       "0                            76                   1                    536.0   \n",
       "1                            40                   2                   1372.0   \n",
       "2                            28                   4                    940.0   \n",
       "3                             0                   7                    748.0   \n",
       "4                           137                   1                    641.5   \n",
       "\n",
       "  Most recent purchased product cat  ... # purchased fashion products  \\\n",
       "0                         Down vest  ...                            1   \n",
       "1              Interior accessories  ...                            1   \n",
       "2                        Other tops  ...                            2   \n",
       "3                          Camisole  ...                            1   \n",
       "4                     Storage goods  ...                            2   \n",
       "\n",
       "   Amnt purchased fashion products  # purchased interior products  \\\n",
       "0                              104                              3   \n",
       "1                              686                              3   \n",
       "2                               92                              4   \n",
       "3                               52                              2   \n",
       "4                              113                              5   \n",
       "\n",
       "   Amnt purchased interior products  # website visits  \\\n",
       "0                             432.0                 1   \n",
       "1                             421.0                26   \n",
       "2                             458.5                13   \n",
       "3                             371.0               390   \n",
       "4                             528.5                13   \n",
       "\n",
       "   Duration of website visits (mins)  # product page visits  # favorite items  \\\n",
       "0                                  1                     95                 0   \n",
       "1                                133                    195                 0   \n",
       "2                                 66                     90                 0   \n",
       "3                               1953                     35                30   \n",
       "4                                 68                     15                 0   \n",
       "\n",
       "   customer score  Is_dormant  \n",
       "0          1360.0        True  \n",
       "1          2772.5       False  \n",
       "2          4817.5        True  \n",
       "3          2964.0       False  \n",
       "4          3157.5        True  \n",
       "\n",
       "[5 rows x 21 columns]"
      ]
     },
     "metadata": {},
     "output_type": "display_data"
    },
    {
     "name": "stdout",
     "output_type": "stream",
     "text": [
      "info for  DR_Demo_E-commerce_churn_train\n",
      "<class 'pandas.core.frame.DataFrame'>\n",
      "RangeIndex: 3333 entries, 0 to 3332\n",
      "Data columns (total 21 columns):\n",
      " #   Column                             Non-Null Count  Dtype  \n",
      "---  ------                             --------------  -----  \n",
      " 0   customerID                         3333 non-null   object \n",
      " 1   Gender                             3333 non-null   object \n",
      " 2   Address state                      3333 non-null   object \n",
      " 3   Age                                3333 non-null   int64  \n",
      " 4   Loyalty member                     3333 non-null   object \n",
      " 5   User period                        3333 non-null   int64  \n",
      " 6   Days since previous purchase       3333 non-null   int64  \n",
      " 7   # purchase(1 year)                 3333 non-null   int64  \n",
      " 8   Purchase amount(1 year)            3333 non-null   float64\n",
      " 9   Most recent purchased product cat  3210 non-null   object \n",
      " 10  Most recent purchased product ID   3333 non-null   object \n",
      " 11  # purchased fashion products       3333 non-null   int64  \n",
      " 12  Amnt purchased fashion products    3333 non-null   int64  \n",
      " 13  # purchased interior products      3333 non-null   int64  \n",
      " 14  Amnt purchased interior products   3333 non-null   float64\n",
      " 15  # website visits                   3333 non-null   int64  \n",
      " 16  Duration of website visits (mins)  3333 non-null   int64  \n",
      " 17  # product page visits              3333 non-null   int64  \n",
      " 18  # favorite items                   3333 non-null   int64  \n",
      " 19  customer score                     3333 non-null   float64\n",
      " 20  Is_dormant                         3333 non-null   bool   \n",
      "dtypes: bool(1), float64(3), int64(11), object(6)\n",
      "memory usage: 524.2+ KB\n",
      "None\n",
      "writing DR_Demo_E-commerce_churn_train to snowflake from:  https://s3.amazonaws.com/datarobot_public_datasets/ai_accelerators/DR_Demo_E-commerce_churn_train.csv\n"
     ]
    }
   ],
   "source": [
    "# Use the util function to pull the data from DataRobot's public S3 and import into your Snowflake instance\n",
    "reponse = prepare_demo_tables_in_db(\n",
    "    db_user = db_user,                        \n",
    "    db_password = db_password,                \n",
    "    account = account,                        \n",
    "    db = db,                                  \n",
    "    warehouse = warehouse,                     \n",
    "    schema = schema\n",
    ")"
   ]
  },
  {
   "cell_type": "markdown",
   "id": "be78aa8c",
   "metadata": {},
   "source": [
    "## Setup <a id='Setup'></a>\n",
    "\n",
    "### Import libraries"
   ]
  },
  {
   "cell_type": "code",
   "execution_count": 4,
   "id": "e63b7a2f",
   "metadata": {},
   "outputs": [],
   "source": [
    "import datarobot as dr\n",
    "\n",
    "# The following are libraries used in this notebook during model evaluation\n",
    "import matplotlib.pyplot as plt\n",
    "import pandas as pd"
   ]
  },
  {
   "cell_type": "markdown",
   "id": "4945d0e6",
   "metadata": {},
   "source": [
    "### Connect to DataRobot\n",
    "\n",
    "**To connect to DataRobot,** you need to provide your **API Token** and the **endpoint**. For more information, please refer to the following documentation:\n",
    "\n",
    "* [**Create/Manage API keys via Developer tools in the GUI**](https://docs.datarobot.com/en/docs/platform/account-mgmt/acct-settings/api-key-mgmt.html#api-key-management)\n",
    "* [**Different options to connect to DataRobot from the API client**](https://docs.datarobot.com/en/docs/api/api-quickstart/api-qs.html)"
   ]
  },
  {
   "cell_type": "code",
   "execution_count": 5,
   "id": "64733a8f",
   "metadata": {},
   "outputs": [
    {
     "data": {
      "text/plain": [
       "<datarobot.rest.RESTClientObject at 0x277b44b5580>"
      ]
     },
     "execution_count": 5,
     "metadata": {},
     "output_type": "execute_result"
    }
   ],
   "source": [
    "# API Token\n",
    "token = open('..\\\\..\\\\API token.txt').read() # Load the API token from a .txt file for ease of repeatable access\n",
    "DATAROBOT_API_TOKEN = token # You can also find the API token under the Developer Tools in the UI\n",
    "\n",
    "# Endpoint - This notebook uses the default endpoint for DataRobot Managed AI Cloud (US)\n",
    "DATAROBOT_ENDPOINT = 'https://app.datarobot.com/api/v2'\n",
    "\n",
    "# To connect from Jupyter notebook:\n",
    "client = dr.Client(\n",
    "    token=DATAROBOT_API_TOKEN, \n",
    "    endpoint=DATAROBOT_ENDPOINT,\n",
    "    user_agent_suffix='AIA-E2E-SNF-17' #Optional but helps DataRobot improve this workflow\n",
    ")\n",
    "\n",
    "dr.client._global_client = client"
   ]
  },
  {
   "cell_type": "markdown",
   "id": "5c741335",
   "metadata": {},
   "source": [
    "## Import data from Snowflake to DataRobot AI Catalog  <a id='Import'></a>\n",
    "\n",
    "You can upload data to Datarobot in a variety of ways:\n",
    "\n",
    "* Data Sources (e.g., through a Snowflake data connection)\n",
    "* Local Files\n",
    "* Links\n",
    "\n",
    "In this notebook, you will upload a dataset from a **Snowflake** data source. To do so:\n",
    "\n",
    "1. Retrieve the Snowflake data connection and credentials.\n",
    "2. Create a new data source (i.e., setting up the query to a Snowflake data table) if needed.\n",
    "3. Import the dataset into the AI Catalog."
   ]
  },
  {
   "cell_type": "markdown",
   "id": "ed17e654",
   "metadata": {},
   "source": [
    "### Retrieve credentials\n",
    "\n",
    "You will need to provide your Snowflake credentials to DataRobot to ingest the data from Snowflake to the AI Catalog.\n",
    "\n",
    "You can easily [create and configure your credentials in the DataRobot UI](https://docs.datarobot.com/en/docs/data/connect-data/stored-creds.html). DataRobot will store all your credentials in the Credentials Management tab under your profile on the platform.\n",
    "\n",
    "You can also create a new set of credentials by using the `dr.Credential.create_basic` function:"
   ]
  },
  {
   "cell_type": "code",
   "execution_count": 6,
   "id": "0eff620f",
   "metadata": {},
   "outputs": [],
   "source": [
    "# If you need to create the credentials, run this cell\n",
    "# If you already have Snowflake credentials in DataRobot, DO NOT RUN THIS CELL\n",
    "# Instead, run the next cell (needs to be uncommented) to retrieve your existing credentials\n",
    "\n",
    "# Use the db_user and db_password from the Setup section\n",
    "\n",
    "cred = dr.Credential.create_basic(\n",
    "        name='[AIA] Your_Snowflake_Credentials', # Rename\n",
    "        user=db_user,\n",
    "        password=db_password,\n",
    "    )\n",
    "\n",
    "credential_id = cred.credential_id"
   ]
  },
  {
   "cell_type": "markdown",
   "id": "026b95dc",
   "metadata": {},
   "source": [
    "If you have already created credentials on DataRobot, you can retrieve them via the API. This notebook uses the credentials named \"Snowflake Sandbox Demo Connection\" - **replace it with the name you've given your Snowflake credentials in DataRobot's Credentials Management.**"
   ]
  },
  {
   "cell_type": "code",
   "execution_count": null,
   "id": "a2851289",
   "metadata": {},
   "outputs": [],
   "source": [
    "# # If you already have Snowflake credentials in DataRobot, you can retrieve and reuse the same credentials\n",
    "# # Uncomment and run this cell instead of creating new credentials\n",
    "\n",
    "# CREDS_NAME = 'Snowflake Sandbox Demo Connection' # Replace with your credentials name given during Snowflake credentials creation\n",
    "\n",
    "# credential_id = [cr.credential_id for cr in dr.Credential.list() if cr.name == CREDS_NAME][0]\n",
    "\n",
    "# # You can verify that you have the right credential by showing the ID and name\n",
    "# dr.Credential.get(credential_id)"
   ]
  },
  {
   "cell_type": "markdown",
   "id": "f4d92c1d",
   "metadata": {},
   "source": [
    "### Retrieve a Snowflake data connection\n",
    "\n",
    "You will also need to create a data connection from DataRobot to Snowflake. This will allow DataRobot to pull data directly from your Snowflake database.\n",
    "\n",
    "You can easily [create a new data connection in the DataRobot UI](https://docs.datarobot.com/en/docs/data/connect-data/data-conn.html). You can find all your established data connections in the **Data Connections** tab under your profile on the platform.\n",
    "\n",
    "\n",
    "You can also create a new data connection by finding the Snowflake driver and using the `dr.DataStore.create` function via the API."
   ]
  },
  {
   "cell_type": "code",
   "execution_count": 7,
   "id": "0f46a1e3",
   "metadata": {},
   "outputs": [
    {
     "name": "stdout",
     "output_type": "stream",
     "text": [
      "('626bae0a98b54f9ba70b4122', 'Snowflake (3.13.9 - recommended)')\n"
     ]
    }
   ],
   "source": [
    "# Find a Snowflake driver ID by name. This can be skipped if you have the ID - code shown here for completeness\n",
    "for d in dr.DataDriver.list():\n",
    "    if d.canonical_name in 'Snowflake (3.13.9 - recommended)':\n",
    "        print((d.id, d.canonical_name))"
   ]
  },
  {
   "cell_type": "code",
   "execution_count": 8,
   "id": "70deba09",
   "metadata": {},
   "outputs": [],
   "source": [
    "# Create a datastore\n",
    "# If you already have the Snowflake data connection to the right database in DataRobot, DO NOT RUN THIS CELL \n",
    "# Instead, run the next cell (needs to be uncommented) to retrieve your existing credentials\n",
    "\n",
    "# Use the db_url from the \"Setup\" section\n",
    "\n",
    "data_store = dr.DataStore.create(\n",
    "        data_store_type='jdbc',\n",
    "        canonical_name='[AIA] Your New Snowflake Data Connection', # Rename\n",
    "        driver_id='626bae0a98b54f9ba70b4122', # Snowflake driver id\n",
    "        jdbc_url= db_url\n",
    "    )\n",
    "\n",
    "# Test new data connection; access with your Snowflake credentials\n",
    "data_store.test(username=db_user,\n",
    "                password=db_password)\n",
    "\n",
    "data_store_id = data_store.id"
   ]
  },
  {
   "cell_type": "markdown",
   "id": "f2d6e27c",
   "metadata": {},
   "source": [
    "If you have already created the data connection on DataRobot, you can retrieve it via API. This notebook uses a data connection named \"Snowflake - TEST_DB\" - **please replace with the name you've given your appropriate Snowflake data connection in DataRobot's Data Connections tab.**"
   ]
  },
  {
   "cell_type": "code",
   "execution_count": null,
   "id": "f1b98746",
   "metadata": {},
   "outputs": [],
   "source": [
    "# # If you already have a Snowflake data connection to your Snowflake database in DataRobot, you can\n",
    "# # retrieve and reuse the same connection. Uncomment and run this cell instead of creating a new connection.\n",
    "\n",
    "# # Once the connection is established via the UI, you can retrieve your data connection by name\n",
    "# DATA_STORE_NAME = 'Snowflake - TEST_DB' # Replace with your Data Store name given during Snowflake data connection creation\n",
    "\n",
    "# data_store_id = [ds.id for ds in dr.DataStore.list() if ds.canonical_name == DATA_STORE_NAME][0]\n",
    "\n",
    "# # You can verify that you have the right DataStore by name\n",
    "# dr.DataStore.get(data_store_id)"
   ]
  },
  {
   "cell_type": "markdown",
   "id": "bda1c7ee",
   "metadata": {},
   "source": [
    "Next, create a data source specifying the query that you will use to pull data from the Snowflake data connection and into the DataRobot AI Catalog. For more information, please refer to the [**DataRobot documentation on data sources**](https://docs.datarobot.com/en/docs/data/connect-data/data-conn.html#add-data-sources).\n",
    "\n",
    "If you already set up an existing data source, you can search for it by name."
   ]
  },
  {
   "cell_type": "code",
   "execution_count": 9,
   "id": "4af54ffb",
   "metadata": {},
   "outputs": [
    {
     "name": "stdout",
     "output_type": "stream",
     "text": [
      "New data source created (ID): 63c01e2e2ac154636713f3f3\n"
     ]
    }
   ],
   "source": [
    "# Pick the data source\n",
    "# If you had already established a data source, just pick the existing data source\n",
    "# Otherwise, create a new data source\n",
    "\n",
    "DATA_SOURCE_NAME = '[AIA] Snowflake ECommerce Churn' # Rename\n",
    "query_train = 'SELECT * FROM ' + schema + '.\"DR_Demo_E-commerce_churn_train\";' # Edit this query to pull the appropriate table\n",
    "\n",
    "data_sources = [ds for ds in dr.DataSource.list() if ds.canonical_name == DATA_SOURCE_NAME] \n",
    "\n",
    "if len(data_sources) > 0:\n",
    "    data_source_train = data_sources[0].id\n",
    "    print('Existing data source ID:', data_source_train)\n",
    "else:\n",
    "    query_train = query_train \n",
    "    ds_params = dr.DataSourceParameters(data_store_id=data_store_id, \n",
    "                                        query=query_train)\n",
    "    data_source_train = dr.DataSource.create(data_source_type='jdbc', \n",
    "                                             canonical_name=DATA_SOURCE_NAME, \n",
    "                                             params=ds_params).id\n",
    "    print('New data source created (ID):', data_source_train)"
   ]
  },
  {
   "cell_type": "markdown",
   "id": "2435c486",
   "metadata": {},
   "source": [
    "### Import dataset to AI Catalog\n",
    "\n",
    "To **upload a dataset to AI Catalog**, use the `dr.create_from_` family of functions. In this case, we use `create_from_data_source`."
   ]
  },
  {
   "cell_type": "code",
   "execution_count": 10,
   "id": "b35db823",
   "metadata": {},
   "outputs": [],
   "source": [
    "new_dataset = dr.Dataset.create_from_data_source(data_source_id=data_source_train,\n",
    "                                                 do_snapshot=True,\n",
    "                                                 credential_id=credential_id)\n",
    "\n",
    "# Update the dataset name in the AI Catalog\n",
    "new_dataset.modify(name=\"[AIA] Ecommerce Customer Churn Data\")"
   ]
  },
  {
   "cell_type": "markdown",
   "id": "32f2ec6d",
   "metadata": {},
   "source": [
    "Datasets in the AI Catalog are assigned a **dataset ID** which you can use to reference/get the dataset via the API."
   ]
  },
  {
   "cell_type": "code",
   "execution_count": 11,
   "id": "ffc2a847",
   "metadata": {
    "scrolled": true
   },
   "outputs": [
    {
     "name": "stdout",
     "output_type": "stream",
     "text": [
      "AI Catalog URL: https://app.datarobot.com/ai-catalog/63c01e32f9d3700a378cb250\n",
      "Dataset ID: 63c01e32f9d3700a378cb250\n"
     ]
    }
   ],
   "source": [
    "# Quick link to the AI Catalog dataset you just created\n",
    "# The base link assumes you are on the DataRobot Managed AI Cloud\n",
    "print(\n",
    "    \"AI Catalog URL: \" + \"https://app.datarobot.com/ai-catalog/\" + new_dataset.id\n",
    ")\n",
    "print(\"Dataset ID: \" + new_dataset.id)"
   ]
  },
  {
   "cell_type": "markdown",
   "id": "1e195094",
   "metadata": {},
   "source": [
    "## Create a project and run Autopilot <a id='Project'></a>\n",
    "\n",
    "You can **create DataRobot projects** directly from:\n",
    "\n",
    "* A dataset in AI Catalog (using the dataset's ID in DataRobot)\n",
    "* A pandas dataframe (you do not need to write back to a data source or disk)\n",
    "* Directly from data sources\n",
    "\n",
    "Once a project is created, you can pass in DataRobot options and start modeling. At a minimum, you need to provide the prediction **Target**. With just two function calls (`create_from_` and `analyze_and_model`), you can go from data to optimizing 10 to 100 models with data science best practices.\n",
    "\n",
    "You can actively watch the project in action in the DataRobot UI once Autopilot is triggered - the API and UI are parallel gateways to working on the same project which allows for **cross-functional collaboration.**\n",
    "\n",
    "Note that each created project is associated with a unique **project ID**. You can use the project ID to retrieve the project of interest via the API."
   ]
  },
  {
   "cell_type": "markdown",
   "id": "58389a25",
   "metadata": {},
   "source": [
    "### Create a project\n",
    "\n",
    "Create a DataRobot project by uploading the dataset."
   ]
  },
  {
   "cell_type": "code",
   "execution_count": 12,
   "id": "8671d2ca",
   "metadata": {},
   "outputs": [],
   "source": [
    "project = dr.Project.create_from_dataset(\n",
    "    dataset_id=new_dataset.id,\n",
    "    project_name=\"[AIA] Ecommerce Churn Project\")"
   ]
  },
  {
   "cell_type": "code",
   "execution_count": 13,
   "id": "bbd34262",
   "metadata": {},
   "outputs": [
    {
     "name": "stdout",
     "output_type": "stream",
     "text": [
      "DataRobot Project URL: https://app.datarobot.com/projects/63c01e86572cd3b4f8673e9f/eda\n",
      "Project ID: 63c01e86572cd3b4f8673e9f\n"
     ]
    }
   ],
   "source": [
    "# Quick link to the DataRobot project you just created\n",
    "# The base link assumes you are on the DataRobot Managed AI Cloud\n",
    "print(\n",
    "    \"DataRobot Project URL: \" + \"https://app.datarobot.com/projects/\" + project.id + \"/eda\"\n",
    ")\n",
    "print(\"Project ID: \" + project.id)"
   ]
  },
  {
   "cell_type": "markdown",
   "id": "d82e2320",
   "metadata": {},
   "source": [
    "### Initiate Autopilot\n",
    "\n",
    "To start the Autopilot process, call the `analyze_and_model` function. Provide the prediction target as part of the function call and use the default \"Quick\" Autopilot mode."
   ]
  },
  {
   "cell_type": "code",
   "execution_count": 14,
   "id": "5a03c8cc",
   "metadata": {},
   "outputs": [
    {
     "data": {
      "text/plain": [
       "Project([AIA] Ecommerce Churn Project)"
      ]
     },
     "execution_count": 14,
     "metadata": {},
     "output_type": "execute_result"
    }
   ],
   "source": [
    "project.analyze_and_model(\n",
    "    target=\"Is_dormant\",\n",
    "    worker_count=-1 # Setting worker count to -1 will use your maximum available workers\n",
    ")"
   ]
  },
  {
   "cell_type": "code",
   "execution_count": 15,
   "id": "ad0206c6",
   "metadata": {
    "scrolled": true
   },
   "outputs": [],
   "source": [
    "# If you want to wait for Autopilot to finish, run this code\n",
    "# You can set verbosity to 1 if you want to print progress updates as Autopilot runs\n",
    "project.wait_for_autopilot(verbosity=0)"
   ]
  },
  {
   "cell_type": "markdown",
   "id": "ef05c0fe",
   "metadata": {},
   "source": [
    "While out of scope for this notebook, you can set advanced options to further configure Autopilot with the `set_advanced_options` function before triggering `analyze_and_model`. For visibility, you can view the advanced options used by the current project (which would be the default options):"
   ]
  },
  {
   "cell_type": "code",
   "execution_count": 16,
   "id": "2b0480f6",
   "metadata": {
    "scrolled": true
   },
   "outputs": [
    {
     "name": "stdout",
     "output_type": "stream",
     "text": [
      "Advanced Settings used:\n"
     ]
    },
    {
     "data": {
      "text/plain": [
       "{'weights': None,\n",
       " 'response_cap': False,\n",
       " 'blueprint_threshold': None,\n",
       " 'seed': None,\n",
       " 'smart_downsampled': False,\n",
       " 'majority_downsampling_rate': None,\n",
       " 'offset': None,\n",
       " 'exposure': None,\n",
       " 'accuracy_optimized_mb': None,\n",
       " 'events_count': None,\n",
       " 'monotonic_increasing_featurelist_id': None,\n",
       " 'monotonic_decreasing_featurelist_id': None,\n",
       " 'only_include_monotonic_blueprints': False,\n",
       " 'allowed_pairwise_interaction_groups': None,\n",
       " 'blend_best_models': False,\n",
       " 'scoring_code_only': False,\n",
       " 'shap_only_mode': False,\n",
       " 'prepare_model_for_deployment': True,\n",
       " 'consider_blenders_in_recommendation': False,\n",
       " 'min_secondary_validation_model_count': None,\n",
       " 'autopilot_data_sampling_method': None,\n",
       " 'run_leakage_removed_feature_list': True,\n",
       " 'autopilot_with_feature_discovery': False,\n",
       " 'feature_discovery_supervised_feature_reduction': None,\n",
       " 'exponentially_weighted_moving_alpha': None,\n",
       " 'external_time_series_baseline_dataset_id': None,\n",
       " 'use_supervised_feature_reduction': True,\n",
       " 'primary_location_column': None,\n",
       " 'protected_features': None,\n",
       " 'preferable_target_value': None,\n",
       " 'fairness_metrics_set': None,\n",
       " 'fairness_threshold': None,\n",
       " 'bias_mitigation_feature_name': None,\n",
       " 'bias_mitigation_technique': None,\n",
       " 'include_bias_mitigation_feature_as_predictor_variable': None,\n",
       " 'default_monotonic_increasing_featurelist_id': None,\n",
       " 'default_monotonic_decreasing_featurelist_id': None}"
      ]
     },
     "execution_count": 16,
     "metadata": {},
     "output_type": "execute_result"
    }
   ],
   "source": [
    "# View advanced options used by Autopilot for the project\n",
    "project = dr.Project.get(project.id) # Update the project object after Autopilot\n",
    "\n",
    "print(\"Advanced Settings used:\")\n",
    "project.list_advanced_options()"
   ]
  },
  {
   "cell_type": "markdown",
   "id": "0f2df1d9",
   "metadata": {},
   "source": [
    "## Select and evaluate the top recommended model <a id='Eval'></a>\n",
    "\n",
    "After Autopilot completes, you can evaluate the results. Evaluation can include compiling the Leaderboard as a dataframe, measuring performances across different partitions with different metrics, visualizing the ROC curve, analyzing Feature Impact and Feature Effects to understand each models' behaviors, and more. This can be done for every single model created by DataRobot.\n",
    "\n",
    "As a simple example in this notebook, **select the recommended model created by Autopilot and evaluate**:\n",
    "\n",
    "* LogLoss performance\n",
    "* AUC performance\n",
    "* ROC curve\n",
    "* Feature Impact of Top 10 features\n",
    "\n",
    "Note: The recommended model is the best performing model that DataRobot identifies during Autopilot and then effectively retrains the blueprint on 100% of the data. For more information, refer to the [Model recommendation process documentation](https://docs.datarobot.com/en/docs/modeling/reference/model-detail/model-rec-process.html#model-recommendation-process)."
   ]
  },
  {
   "cell_type": "code",
   "execution_count": 17,
   "id": "ea692e17",
   "metadata": {},
   "outputs": [],
   "source": [
    "# Select the model recommended by DataRobot AutoML\n",
    "top_model = project.recommended_model()"
   ]
  },
  {
   "cell_type": "code",
   "execution_count": 18,
   "id": "f0065536",
   "metadata": {},
   "outputs": [
    {
     "name": "stdout",
     "output_type": "stream",
     "text": [
      "Top Model URL: https://app.datarobot.com/projects/63c01e86572cd3b4f8673e9f/models/63c0207facae2e21f7805629\n",
      "Top Model Type: Light Gradient Boosted Trees Classifier with Early Stopping\n"
     ]
    }
   ],
   "source": [
    "# Quick link to the recommended model built by Autopilot\n",
    "print(\n",
    "    \"Top Model URL: \" + top_model.get_uri()\n",
    ")\n",
    "print(\"Top Model Type: \" + top_model.model_type)"
   ]
  },
  {
   "cell_type": "markdown",
   "id": "74cde0b5",
   "metadata": {},
   "source": [
    "### Model performance by metric"
   ]
  },
  {
   "cell_type": "code",
   "execution_count": 19,
   "id": "206183ea",
   "metadata": {},
   "outputs": [
    {
     "name": "stdout",
     "output_type": "stream",
     "text": [
      "Top Model LogLoss performance: 0.4218\n",
      "Top Model AUC performance: 0.8545639999999999\n"
     ]
    }
   ],
   "source": [
    "print(\"Top Model LogLoss performance: \" + str(top_model.metrics['LogLoss']['crossValidation']))\n",
    "print(\"Top Model AUC performance: \" + str(top_model.metrics['AUC']['crossValidation']))"
   ]
  },
  {
   "cell_type": "markdown",
   "id": "47249aa2",
   "metadata": {},
   "source": [
    "### Create an ROC Curve\n",
    "\n",
    "Beyond the Leaderboard, you can access any analysis DataRobot does out-of-the-box for every single model. The example below reproduces the ROC curve by calling the `get_roc_curve` function from the top model."
   ]
  },
  {
   "cell_type": "code",
   "execution_count": 20,
   "id": "7f9bd236",
   "metadata": {},
   "outputs": [],
   "source": [
    "# Retrieve ROC Curve\n",
    "roc_object = top_model.get_roc_curve(source=\"crossValidation\")\n",
    "roc = pd.DataFrame(roc_object.roc_points)"
   ]
  },
  {
   "cell_type": "code",
   "execution_count": 21,
   "id": "da91fab5",
   "metadata": {},
   "outputs": [
    {
     "data": {
      "image/png": "[encoded data removed]",
      "text/plain": [
       "<Figure size 576x576 with 1 Axes>"
      ]
     },
     "metadata": {
      "needs_background": "light"
     },
     "output_type": "display_data"
    }
   ],
   "source": [
    "# Plot the ROC Curve\n",
    "fig = plt.figure(figsize=(8, 8))\n",
    "axes = fig.add_subplot(1, 1, 1, facecolor='w')\n",
    "\n",
    "plt.plot(roc.false_positive_rate, roc.true_positive_rate, color='b')\n",
    "plt.plot([0,1], [0,1], color='r', linestyle='dashed', alpha=0.25)\n",
    "plt.title(\"ROC curve\", size=16, fontweight=\"bold\")\n",
    "plt.xlabel(\"False Positive Rate\", size=14)\n",
    "plt.xlim([0,1])\n",
    "plt.ylabel(\"True Positive Rate\", size=14)\n",
    "plt.ylim([0,1])\n",
    "plt.show()"
   ]
  },
  {
   "cell_type": "markdown",
   "id": "a9eeb638",
   "metadata": {},
   "source": [
    "### Feature Impact\n",
    "\n",
    "As an example of model explainability, we calculate the Feature Impact values of the model using the `get_or_request_feature_impact` function."
   ]
  },
  {
   "cell_type": "code",
   "execution_count": 22,
   "id": "08cb2964",
   "metadata": {
    "scrolled": true
   },
   "outputs": [],
   "source": [
    "# Retrieve Feature Impact\n",
    "feature_impacts = top_model.get_or_request_feature_impact() # Will trigger Feature Impact calculations if not done.\n",
    "FI_df = pd.DataFrame(feature_impacts) # Convert to dataframe\n",
    "\n",
    "# Sort features by Normalized Feature Impact\n",
    "FI_df = FI_df.sort_values(by='impactNormalized', ascending=False)"
   ]
  },
  {
   "cell_type": "code",
   "execution_count": 23,
   "id": "e072743f",
   "metadata": {
    "scrolled": true
   },
   "outputs": [
    {
     "data": {
      "image/png": "[encoded data removed]",
      "text/plain": [
       "<Figure size 576x576 with 1 Axes>"
      ]
     },
     "metadata": {
      "needs_background": "light"
     },
     "output_type": "display_data"
    }
   ],
   "source": [
    "# Plot Feature Impact\n",
    "FI_df[\"X axis\"] = FI_df.index\n",
    "\n",
    "# Plot\n",
    "fig = plt.figure(figsize=(8, 8))\n",
    "axes = fig.add_subplot(1, 1, 1, facecolor='w')\n",
    "\n",
    "plt.barh(FI_df.featureName, FI_df.impactNormalized)\n",
    "axes.invert_yaxis()\n",
    "plt.title(\"Feature Impact\", size=16, fontweight=\"bold\")\n",
    "plt.xlabel(\"Normalized Feature Impact\", size=14)\n",
    "plt.xlim([0,1.1])\n",
    "plt.ylabel(\"Feature\", size=14)\n",
    "plt.show()"
   ]
  },
  {
   "cell_type": "markdown",
   "id": "253b0065",
   "metadata": {},
   "source": [
    "## Deploy a model with monitoring in MLOps <a id='Deploy'></a>\n",
    "\n",
    "With a single function call or click on the UI, DataRobot can quickly deploy models into production while fully reproducing the entire modeling pipeline including the necessary data preprocessing steps utilized by the blueprints and any advanced feature engineering that are part of the project (such as in [Feature Discovery projects](https://www.datarobot.com/platform/feature-discovery/)). Once deployed, you can call DataRobot's REST or Python API to make batch and real-time predictions. You can also configure and schedule recurring batch prediction jobs that write back into a database.\n",
    "\n",
    "Once a model is deployed, you can access MLOps monitoring capabilities such as:\n",
    "\n",
    "- Service health\n",
    "- Data drift\n",
    "- Prediction accuracy\n",
    "- Model retraining\n",
    "\n",
    "To **deploy a model from the Leaderboard**, call the `create_from_learning_model` function and provide the **ID of the model** you want to deploy and the **ID of the prediction server** you want to deploy into.\n",
    "\n",
    "For additional information, please see documentation for:\n",
    "\n",
    "1. [**MLOps monitoring**](https://docs.datarobot.com/en/docs/mlops/mlops-overview.html) \n",
    "2. [**Available prediction methods**](https://docs.datarobot.com/en/docs/predictions/index.html)\n",
    "3. [**Other deployment workflows with DataRobot**](https://docs.datarobot.com/en/docs/mlops/deployment/deploy-workflows/index.html)"
   ]
  },
  {
   "cell_type": "code",
   "execution_count": 24,
   "id": "d7f3be5a",
   "metadata": {},
   "outputs": [],
   "source": [
    "# Prepare new deployment\n",
    "deployment_model_id = top_model.id\n",
    "prediction_server = dr.PredictionServer.list()[0]\n",
    "\n",
    "# Create deployment\n",
    "deployment = dr.Deployment.create_from_learning_model(\n",
    "    deployment_model_id,\n",
    "    label=\"[AIA] Customer Churn Deployment\",\n",
    "    description=\"[AIA] Customer Churn Prediction\",\n",
    "    default_prediction_server_id=prediction_server.id,\n",
    ")"
   ]
  },
  {
   "cell_type": "markdown",
   "id": "b3b4068f",
   "metadata": {},
   "source": [
    "Every deployment in DataRobot is assigned a **deployment ID** which you can use to reference/retrieve the deployment via the API."
   ]
  },
  {
   "cell_type": "code",
   "execution_count": 25,
   "id": "cfd9cc81",
   "metadata": {},
   "outputs": [
    {
     "name": "stdout",
     "output_type": "stream",
     "text": [
      "DataRobot Deployment URL: https://app.datarobot.com/deployments/63c02177e0754bc1809ac3e1/overview\n",
      "Deployment ID: 63c02177e0754bc1809ac3e1\n"
     ]
    }
   ],
   "source": [
    "# Quick link to the deployment you just created\n",
    "# The base link assumes you are on the DataRobot Managed AI Cloud\n",
    "print(\n",
    "    \"DataRobot Deployment URL: \" + \"https://app.datarobot.com/deployments/\" + deployment.id + \"/overview\"\n",
    ")\n",
    "print(\"Deployment ID: \" + deployment.id)"
   ]
  },
  {
   "cell_type": "markdown",
   "id": "9f62a63d",
   "metadata": {},
   "source": [
    "### Configure model monitoring\n",
    "\n",
    "In this example, you can set up the deployment to monitor data drift and accuracy using the following functions:\n",
    "\n",
    "* Data drift: `update_drift_tracking_settings`\n",
    "* Accuracy: `update_association_id_settings`"
   ]
  },
  {
   "cell_type": "code",
   "execution_count": 26,
   "id": "0dcf3977",
   "metadata": {},
   "outputs": [],
   "source": [
    "# Turn on Data Drift tracking for features and the target\n",
    "deployment.update_drift_tracking_settings(target_drift_enabled=True, \n",
    "                                          feature_drift_enabled=True)"
   ]
  },
  {
   "cell_type": "code",
   "execution_count": 27,
   "id": "faaa8e77",
   "metadata": {},
   "outputs": [],
   "source": [
    "# Turn on Accuracy tracking by providing an association ID\n",
    "deployment.update_association_id_settings(column_names=['customerID'], # Association ID to associate prediction results to actuals for accuracy monitoring\n",
    "                                          required_in_prediction_requests=True)"
   ]
  },
  {
   "cell_type": "markdown",
   "id": "cca7bdb4",
   "metadata": {},
   "source": [
    "## Orchestrate scheduled prediction jobs <a id='Schedule'></a>\n",
    "\n",
    "You can **schedule a recurring batch prediction job** that looks up data from a data source (e.g.,  **Snowflake**), score predictions, and write back the results to a data table in a data source (e.g., **Snowflake**).\n",
    "\n",
    "Similar to [**working in the UI**](https://docs.datarobot.com/en/docs/predictions/batch/batch-dep/batch-pred-jobs.html), you need to provide settings to set up a prediction job. In a [**code-first approach**](https://datarobot-public-api-client.readthedocs-hosted.com/en/v3.0.2/reference/predictions/batch_predictions.html#batch-prediction-job-definitions-1), this is done by passing dictionaries containing settings for:\n",
    "\n",
    "* Intake Settings (input data table or data source)\n",
    "* Output Settings (output data table or data source)\n",
    "* Schedule\n",
    "\n",
    "You also need to provide the intake and output with IDs for:\n",
    "\n",
    "* Data Store (i.e., data connection as set up in DataRobot)\n",
    "* Credentials for the data store (as set up in DataRobot)"
   ]
  },
  {
   "cell_type": "code",
   "execution_count": 28,
   "id": "7ea9a748",
   "metadata": {},
   "outputs": [],
   "source": [
    "# Select the data store and credentials needed\n",
    "# This notebook uses the same Snowflake data store and credentials as the ones used\n",
    "# at the start of this notebook\n",
    "writeback_data_store_id = data_store_id \n",
    "writeback_cred_id = credential_id \n",
    "    \n",
    "# Set the Snowflake catalog (database) and schema for intake and output\n",
    "# This notebook uses the same Snowflake database and schema as the ones\n",
    "# at the start of this notebook\n",
    "intake_catalog = db \n",
    "intake_schema = schema\n",
    "output_catalog = db\n",
    "output_schema = schema"
   ]
  },
  {
   "cell_type": "code",
   "execution_count": 29,
   "id": "1bc8742a",
   "metadata": {},
   "outputs": [],
   "source": [
    "# Set up settings dictionaries - edit this to your data and prediction pipeline\n",
    "\n",
    "# Intake settings\n",
    "# This example uses the training dataset as if it was also used for scoring\n",
    "intake_settings = {\n",
    "    'type': 'jdbc',\n",
    "    'table': 'DR_Demo_E-commerce_churn_train', # Data table in data source\n",
    "    'schema': intake_schema,\n",
    "    'catalog': intake_catalog,\n",
    "    'data_store_id': writeback_data_store_id,\n",
    "    'credential_id': writeback_cred_id\n",
    "}\n",
    "\n",
    "# Output settings\n",
    "output_settings = {\n",
    "    'type': 'jdbc',\n",
    "    'table': 'E-commerce_churn_prediction_demo_output', # Rename; Data table to write out to\n",
    "    'schema': output_schema,\n",
    "    'catalog': output_catalog,\n",
    "    'statement_type': 'insert',\n",
    "    'create_table_if_not_exists': True,\n",
    "    'data_store_id': writeback_data_store_id,\n",
    "    'credential_id': writeback_cred_id\n",
    "}\n",
    "\n",
    "# Schedule settings\n",
    "schedule = {\n",
    "        \"minute\": [59],\n",
    "        \"hour\": [7],\n",
    "        \"month\": [\"*\"],\n",
    "        \"dayOfWeek\": [\"*\"],\n",
    "        \"dayOfMonth\": [1]\n",
    "}"
   ]
  },
  {
   "cell_type": "code",
   "execution_count": 30,
   "id": "68330795",
   "metadata": {},
   "outputs": [],
   "source": [
    "# Set up the job dictionary\n",
    "# Includes intake and output settings within the job dictionary\n",
    "job = {\n",
    "    \"deployment_id\" : deployment.id,\n",
    "    \"num_concurrent\": 4,\n",
    "    \"intake_settings\" : intake_settings,\n",
    "    \"output_settings\" : output_settings,\n",
    "    \"passthroughColumnsSet\": \"all\"\n",
    "}\n",
    "\n",
    "# Create the Batch Prediction job definition\n",
    "job_definition = dr.BatchPredictionJobDefinition.create(\n",
    "       enabled=True,\n",
    "       batch_prediction_job=job,\n",
    "       name=\"[AIA] ECommerce Churn - Monthly Prediction Job JDBC\", # Make sure you use a unique name from other existing JobDefinitions in your organization\n",
    "       schedule=schedule\n",
    ")"
   ]
  },
  {
   "cell_type": "markdown",
   "id": "c146f637",
   "metadata": {},
   "source": [
    "The job definition should now be listed in the deployment's **Job Definitions** tab.\n",
    "\n",
    "As a test, you can trigger the job manually to see DataRobot MLOps in action. **The next snippet will manually trigger the Job Definition to run.**"
   ]
  },
  {
   "cell_type": "code",
   "execution_count": 31,
   "id": "73a2c0ab",
   "metadata": {},
   "outputs": [
    {
     "data": {
      "text/plain": [
       "BatchPredictionJob(batchPredictions, '63c021e121006d023553c470', status=INITIALIZING)"
      ]
     },
     "execution_count": 31,
     "metadata": {},
     "output_type": "execute_result"
    }
   ],
   "source": [
    "# Trigger the job manually\n",
    "job_definition.run_once()"
   ]
  },
  {
   "cell_type": "markdown",
   "id": "4af24d35",
   "metadata": {},
   "source": [
    "When the job completes successfully, you will find the output written to the corresponding Snowflake table. The MLOps deployment will also update accordingly and you should see service health and data drift metrics update."
   ]
  },
  {
   "cell_type": "markdown",
   "id": "8a453d39",
   "metadata": {},
   "source": [
    "## Clean up\n",
    "\n",
    "To remove everything added in the DataRobot platform as part of this notebook, run the following cell. If you want to delete any tables created in Snowflake as a result of running this notebook, you will need to manually do so in Snowflake."
   ]
  },
  {
   "cell_type": "code",
   "execution_count": 32,
   "id": "1d451033",
   "metadata": {},
   "outputs": [],
   "source": [
    "# # CLEAN UP - Uncomment and run this cell to remove everything you added during this session\n",
    "\n",
    "# job_definition.delete()\n",
    "# deployment.delete()\n",
    "# project.delete()\n",
    "# new_dataset.delete(new_dataset.id)\n",
    "# dr.DataSource.get(data_source_train).delete()\n",
    "# data_store.delete()\n",
    "# cred.delete()"
   ]
  },
  {
   "cell_type": "markdown",
   "id": "8395b970",
   "metadata": {},
   "source": [
    "## Additional Resources\n",
    "\n",
    "* Check the [**DataRobot Community AI Accelerator page**](https://community.datarobot.com/t5/ai-accelerators/bd-p/ai_accelerators) for similar walkthroughs using DataRobot with other data sources (e.g. AWS, GCP, Azure, etc).\n",
    "* Check the [**DataRobot API user guide for other code examples**](https://docs.datarobot.com/en/docs/api/guide/python/index.html) covering various topics such as model factories, feature impact rank ensembling, and more."
   ]
  }
 ],
 "metadata": {
  "kernelspec": {
   "display_name": "Python 3 (ipykernel)",
   "language": "python",
   "name": "python3"
  },
  "language_info": {
   "codemirror_mode": {
    "name": "ipython",
    "version": 3
   },
   "file_extension": ".py",
   "mimetype": "text/x-python",
   "name": "python",
   "nbconvert_exporter": "python",
   "pygments_lexer": "ipython3",
   "version": "3.7.12"
  }
 },
 "nbformat": 4,
 "nbformat_minor": 5
}
