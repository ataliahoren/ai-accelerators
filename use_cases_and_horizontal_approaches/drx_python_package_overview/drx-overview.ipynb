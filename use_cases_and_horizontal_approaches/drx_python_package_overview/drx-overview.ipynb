{
 "cells": [
  {
   "attachments": {},
   "cell_type": "markdown",
   "metadata": {},
   "source": [
    "# Introduction to DataRobotX"
   ]
  },
  {
   "attachments": {},
   "cell_type": "markdown",
   "metadata": {},
   "source": [
    "## Overview\n",
    "\n",
    "DataRobotX (DRX) is a collection of DataRobot extensions designed to enhance your data science experience. It has clean, scikit-learn-like syntax that makes training models, deploying models, and getting predictions from models easy. It supports any project type including multiclass, time series, multilabel, clustering, and anomaly detction. It also has some perks that included see in this accelerator. \n",
    "\n",
    "- Access the [DataRobotX documentation](https://drx.datarobot.com/index.html)."
   ]
  },
  {
   "attachments": {},
   "cell_type": "markdown",
   "metadata": {},
   "source": [
    "## Setup\n",
    "\n",
    "### Install and import libraries\n",
    "\n",
    "To get started with the package, install it using the follwing command:\n",
    "\n",
    "   > pip install datarobotx\n",
    "   \n",
    "Note that DRX requires Python version >= 3.7."
   ]
  },
  {
   "cell_type": "code",
   "execution_count": 1,
   "metadata": {},
   "outputs": [],
   "source": [
    "%%bash\n",
    "pip install datarobotx -q"
   ]
  },
  {
   "attachments": {},
   "cell_type": "markdown",
   "metadata": {},
   "source": [
    "### Import Lending Club Dataset"
   ]
  },
  {
   "cell_type": "code",
   "execution_count": 2,
   "metadata": {},
   "outputs": [],
   "source": [
    "import pandas as pd\n",
    "import datarobotx as drx\n",
    "\n",
    "# Get a dataset\n",
    "df = pd.read_csv(\n",
    "    \"https://s3.amazonaws.com/datarobot_public_datasets/10K_2007_to_2011_Lending_Club_Loans_v2_mod_80.csv\"\n",
    ")\n",
    "# Split the dataframe into two: 80, 20 split\n",
    "train = df[:800]\n",
    "score = df[800:1000]"
   ]
  },
  {
   "attachments": {},
   "cell_type": "markdown",
   "metadata": {},
   "source": [
    "## Train a model\n",
    "\n",
    "Fitting a model in `drx` is easy. Behind the scenes, it does exactly what you would expect it to do in DataRobot. When you call `model.fit`, it will create a project, upload the data, and train models. \n",
    "\n",
    "Drx makes it easy to configure projects. Drx doesn't just throw a thousand options at you from the beginning. It lets the user navigate their way to logical configurations for a project.\n",
    "\n",
    "DRConfig() Reference: [link](https://drx.datarobot.com/reference/_autosummary/datarobotx.DRConfig.html?highlight=drconfig#datarobotx.DRConfig\\n)"
   ]
  },
  {
   "cell_type": "code",
   "execution_count": 3,
   "metadata": {},
   "outputs": [
    {
     "data": {
      "application/vnd.jupyter.widget-view+json": {
       "model_id": "f728baaab64147e39ef51997d88820b9",
       "version_major": 2,
       "version_minor": 0
      },
      "text/plain": [
       "VBox()"
      ]
     },
     "metadata": {},
     "output_type": "display_data"
    },
    {
     "data": {
      "application/vnd.jupyter.widget-view+json": {
       "model_id": "75999403c656465a84faf22ffd024bdd",
       "version_major": 2,
       "version_minor": 0
      },
      "text/plain": [
       "VBox()"
      ]
     },
     "metadata": {},
     "output_type": "display_data"
    },
    {
     "data": {
      "application/vnd.jupyter.widget-view+json": {
       "model_id": "15c155fda5cc4536a481c6e7165be1e4",
       "version_major": 2,
       "version_minor": 0
      },
      "text/plain": [
       "VBox()"
      ]
     },
     "metadata": {},
     "output_type": "display_data"
    },
    {
     "data": {
      "application/vnd.jupyter.widget-view+json": {
       "model_id": "fe41c1551cbc4f1f80e4e17c0b2904d6",
       "version_major": 2,
       "version_minor": 0
      },
      "text/plain": [
       "VBox()"
      ]
     },
     "metadata": {},
     "output_type": "display_data"
    }
   ],
   "source": [
    "# Set a model\n",
    "model = drx.AutoMLModel(name=\"Lending Club\")\n",
    "\n",
    "# Optional configurations\n",
    "config = model.get_params()\n",
    "config.Metadata.worker_count = 8\n",
    "model.set_params(**config)\n",
    "\n",
    "# Fit the models and set the target\n",
    "model.fit(train, target=\"is_bad\") ## Note: Some Drx output is not fully supported in DR notebooks yet."
   ]
  },
  {
   "attachments": {},
   "cell_type": "markdown",
   "metadata": {},
   "source": [
    "## Evaluate the model\n",
    "    \n",
    "*Now that you have a champion model, you can evaluate it in a few different ways.* \n",
    "\n",
    "If you ran the cells rather than just read them, you might have noticed that DRX actually lets you use the _current_ champion model in order to generate predictions. This means that you do not need to wait for Autopilot to finish running. You might have also noticed that you were able to execute other snippets of code while DRX was running. DRX operates asynchronously, which means you can execute additional operations while projects run in the background. You can also have DRX wait for Autopilot to finish by setting the `wait_for_autopilot` argument to true.\n",
    "\n",
    "\n",
    "1. Access measures of model performance and feature importance \n",
    "2. When using an external dataset, a few additional plots are available depending on the target type\n",
    "3. Evaluate the model using external libraries "
   ]
  },
  {
   "cell_type": "code",
   "execution_count": 4,
   "metadata": {},
   "outputs": [
    {
     "data": {
      "application/vnd.jupyter.widget-view+json": {
       "model_id": "e9a9a254d3334c63a2735092b76491b8",
       "version_major": 2,
       "version_minor": 0
      },
      "text/plain": [
       "VBox()"
      ]
     },
     "metadata": {},
     "output_type": "display_data"
    },
    {
     "data": {
      "application/vnd.jupyter.widget-view+json": {
       "model_id": "b8fe8da032b3442cbcda93267d520e97",
       "version_major": 2,
       "version_minor": 0
      },
      "text/plain": [
       "VBox()"
      ]
     },
     "metadata": {},
     "output_type": "display_data"
    },
    {
     "data": {
      "application/vnd.jupyter.widget-view+json": {
       "model_id": "5531fc781f29471fa4fc831e6fed022d",
       "version_major": 2,
       "version_minor": 0
      },
      "text/plain": [
       "VBox()"
      ]
     },
     "metadata": {},
     "output_type": "display_data"
    },
    {
     "data": {
      "application/vnd.jupyter.widget-view+json": {
       "model_id": "bacb3b3e173547639f798fe9bae567ce",
       "version_major": 2,
       "version_minor": 0
      },
      "text/plain": [
       "VBox()"
      ]
     },
     "metadata": {},
     "output_type": "display_data"
    },
    {
     "data": {
      "application/vnd.jupyter.widget-view+json": {
       "model_id": "09031b78e21d4c35a06f7641ed0c06c5",
       "version_major": 2,
       "version_minor": 0
      },
      "text/plain": [
       "VBox()"
      ]
     },
     "metadata": {},
     "output_type": "display_data"
    },
    {
     "data": {
      "text/html": [
       "<div>\n",
       "<style scoped>\n",
       "    .dataframe tbody tr th:only-of-type {\n",
       "        vertical-align: middle;\n",
       "    }\n",
       "\n",
       "    .dataframe tbody tr th {\n",
       "        vertical-align: top;\n",
       "    }\n",
       "\n",
       "    .dataframe thead th {\n",
       "        text-align: right;\n",
       "    }\n",
       "</style>\n",
       "<table border=\"1\" class=\"dataframe\">\n",
       "  <thead>\n",
       "    <tr style=\"text-align: right;\">\n",
       "      <th></th>\n",
       "      <th>0</th>\n",
       "      <th>1</th>\n",
       "    </tr>\n",
       "  </thead>\n",
       "  <tbody>\n",
       "    <tr>\n",
       "      <th>0</th>\n",
       "      <td>180</td>\n",
       "      <td>0</td>\n",
       "    </tr>\n",
       "    <tr>\n",
       "      <th>1</th>\n",
       "      <td>20</td>\n",
       "      <td>0</td>\n",
       "    </tr>\n",
       "  </tbody>\n",
       "</table>\n",
       "</div>"
      ],
      "text/plain": [
       "     0  1\n",
       "0  180  0\n",
       "1   20  0"
      ]
     },
     "execution_count": 4,
     "metadata": {},
     "output_type": "execute_result"
    }
   ],
   "source": [
    "from datarobotx import evaluate\n",
    "from sklearn.metrics import confusion_matrix\n",
    "\n",
    "# 'score' is the testing dataset\n",
    "evaluate(model, evaluation_data=score, wait_for_autopilot=True)\n",
    "\n",
    "pd.DataFrame(confusion_matrix(score['is_bad'], model.predict(score)))"
   ]
  },
  {
   "attachments": {},
   "cell_type": "markdown",
   "metadata": {},
   "source": [
    "## Get predictions\n",
    "\n",
    "To get predictions, call `model.predict`. Behind the scenes, it uploads data to the champion model and gets predictions.\n",
    "\n",
    "`model.predict_proba` will give probabilities for the likelihood of the instance being of each class.\n",
    "\n",
    "In this case, class 1 means the loan is bad, and class 0 means the loan is not bad."
   ]
  },
  {
   "cell_type": "code",
   "execution_count": 5,
   "metadata": {},
   "outputs": [
    {
     "data": {
      "application/vnd.jupyter.widget-view+json": {
       "model_id": "751b6936f31d4a218aa7bc52ef050693",
       "version_major": 2,
       "version_minor": 0
      },
      "text/plain": [
       "VBox()"
      ]
     },
     "metadata": {},
     "output_type": "display_data"
    },
    {
     "data": {
      "text/html": [
       "<div>\n",
       "<style scoped>\n",
       "    .dataframe tbody tr th:only-of-type {\n",
       "        vertical-align: middle;\n",
       "    }\n",
       "\n",
       "    .dataframe tbody tr th {\n",
       "        vertical-align: top;\n",
       "    }\n",
       "\n",
       "    .dataframe thead th {\n",
       "        text-align: right;\n",
       "    }\n",
       "</style>\n",
       "<table border=\"1\" class=\"dataframe\">\n",
       "  <thead>\n",
       "    <tr style=\"text-align: right;\">\n",
       "      <th></th>\n",
       "      <th>class_1.0</th>\n",
       "      <th>class_0.0</th>\n",
       "    </tr>\n",
       "  </thead>\n",
       "  <tbody>\n",
       "    <tr>\n",
       "      <th>0</th>\n",
       "      <td>0.107910</td>\n",
       "      <td>0.892090</td>\n",
       "    </tr>\n",
       "    <tr>\n",
       "      <th>1</th>\n",
       "      <td>0.201492</td>\n",
       "      <td>0.798508</td>\n",
       "    </tr>\n",
       "    <tr>\n",
       "      <th>2</th>\n",
       "      <td>0.181867</td>\n",
       "      <td>0.818133</td>\n",
       "    </tr>\n",
       "    <tr>\n",
       "      <th>3</th>\n",
       "      <td>0.093362</td>\n",
       "      <td>0.906638</td>\n",
       "    </tr>\n",
       "    <tr>\n",
       "      <th>4</th>\n",
       "      <td>0.113582</td>\n",
       "      <td>0.886418</td>\n",
       "    </tr>\n",
       "    <tr>\n",
       "      <th>...</th>\n",
       "      <td>...</td>\n",
       "      <td>...</td>\n",
       "    </tr>\n",
       "    <tr>\n",
       "      <th>195</th>\n",
       "      <td>0.084090</td>\n",
       "      <td>0.915910</td>\n",
       "    </tr>\n",
       "    <tr>\n",
       "      <th>196</th>\n",
       "      <td>0.078111</td>\n",
       "      <td>0.921889</td>\n",
       "    </tr>\n",
       "    <tr>\n",
       "      <th>197</th>\n",
       "      <td>0.133623</td>\n",
       "      <td>0.866377</td>\n",
       "    </tr>\n",
       "    <tr>\n",
       "      <th>198</th>\n",
       "      <td>0.118998</td>\n",
       "      <td>0.881002</td>\n",
       "    </tr>\n",
       "    <tr>\n",
       "      <th>199</th>\n",
       "      <td>0.080903</td>\n",
       "      <td>0.919097</td>\n",
       "    </tr>\n",
       "  </tbody>\n",
       "</table>\n",
       "<p>200 rows × 2 columns</p>\n",
       "</div>"
      ],
      "text/plain": [
       "     class_1.0  class_0.0\n",
       "0     0.107910   0.892090\n",
       "1     0.201492   0.798508\n",
       "2     0.181867   0.818133\n",
       "3     0.093362   0.906638\n",
       "4     0.113582   0.886418\n",
       "..         ...        ...\n",
       "195   0.084090   0.915910\n",
       "196   0.078111   0.921889\n",
       "197   0.133623   0.866377\n",
       "198   0.118998   0.881002\n",
       "199   0.080903   0.919097\n",
       "\n",
       "[200 rows x 2 columns]"
      ]
     },
     "execution_count": 5,
     "metadata": {},
     "output_type": "execute_result"
    }
   ],
   "source": [
    "# Make predictions with probabilities of each class (0 or 1)\n",
    "preds = model.predict_proba(score)\n",
    "preds"
   ]
  },
  {
   "attachments": {},
   "cell_type": "markdown",
   "metadata": {},
   "source": [
    "### Deploy a model"
   ]
  },
  {
   "cell_type": "code",
   "execution_count": 6,
   "metadata": {},
   "outputs": [
    {
     "data": {
      "application/vnd.jupyter.widget-view+json": {
       "model_id": "9d42c2194d1e47eca098670808d2007b",
       "version_major": 2,
       "version_minor": 0
      },
      "text/plain": [
       "VBox()"
      ]
     },
     "metadata": {},
     "output_type": "display_data"
    },
    {
     "data": {
      "application/vnd.jupyter.widget-view+json": {
       "model_id": "43767d2714e54351b1d45b7fbd812a0e",
       "version_major": 2,
       "version_minor": 0
      },
      "text/plain": [
       "VBox()"
      ]
     },
     "metadata": {},
     "output_type": "display_data"
    }
   ],
   "source": [
    "deployment = model.deploy(wait_for_autopilot=True)"
   ]
  },
  {
   "attachments": {},
   "cell_type": "markdown",
   "metadata": {},
   "source": [
    "### Share a model or deployment\n",
    "\n",
    "~simple~"
   ]
  },
  {
   "cell_type": "code",
   "execution_count": 7,
   "metadata": {},
   "outputs": [],
   "source": [
    "# model.share(\"user.name@datarobot.com\")\n",
    "# deployment.share([\"user.name@datarobot.com\", \"user.name2@datarobot.com\"])"
   ]
  },
  {
   "attachments": {},
   "cell_type": "markdown",
   "metadata": {},
   "source": [
    "### Make predictions with a deployed model\n",
    "\n",
    "Now that the model is deployed, you can take advantage of all of the infrastructure present in a DataRobot deployment for monitoring and scaling predictions. Getting predictions takes about as much effort at deployment time as it did in training time except it's faster. It's also easy to get prediction explanations."
   ]
  },
  {
   "cell_type": "code",
   "execution_count": 8,
   "metadata": {},
   "outputs": [
    {
     "data": {
      "application/vnd.jupyter.widget-view+json": {
       "model_id": "c067bfb46d624f9e9251779a4e5449bc",
       "version_major": 2,
       "version_minor": 0
      },
      "text/plain": [
       "VBox()"
      ]
     },
     "metadata": {},
     "output_type": "display_data"
    },
    {
     "data": {
      "application/vnd.jupyter.widget-view+json": {
       "model_id": "f309bec340f644a981fad0f7edc92c99",
       "version_major": 2,
       "version_minor": 0
      },
      "text/plain": [
       "VBox()"
      ]
     },
     "metadata": {},
     "output_type": "display_data"
    },
    {
     "data": {
      "text/html": [
       "<div>\n",
       "<style scoped>\n",
       "    .dataframe tbody tr th:only-of-type {\n",
       "        vertical-align: middle;\n",
       "    }\n",
       "\n",
       "    .dataframe tbody tr th {\n",
       "        vertical-align: top;\n",
       "    }\n",
       "\n",
       "    .dataframe thead th {\n",
       "        text-align: right;\n",
       "    }\n",
       "</style>\n",
       "<table border=\"1\" class=\"dataframe\">\n",
       "  <thead>\n",
       "    <tr style=\"text-align: right;\">\n",
       "      <th></th>\n",
       "      <th>class_1</th>\n",
       "      <th>class_0</th>\n",
       "      <th>explanation_1_feature_name</th>\n",
       "      <th>explanation_1_strength</th>\n",
       "      <th>explanation_1_actual_value</th>\n",
       "      <th>explanation_1_qualitative_strength</th>\n",
       "      <th>explanation_2_feature_name</th>\n",
       "      <th>explanation_2_strength</th>\n",
       "      <th>explanation_2_actual_value</th>\n",
       "      <th>explanation_2_qualitative_strength</th>\n",
       "      <th>...</th>\n",
       "      <th>explanation_3_actual_value</th>\n",
       "      <th>explanation_3_qualitative_strength</th>\n",
       "      <th>explanation_4_feature_name</th>\n",
       "      <th>explanation_4_strength</th>\n",
       "      <th>explanation_4_actual_value</th>\n",
       "      <th>explanation_4_qualitative_strength</th>\n",
       "      <th>explanation_5_feature_name</th>\n",
       "      <th>explanation_5_strength</th>\n",
       "      <th>explanation_5_actual_value</th>\n",
       "      <th>explanation_5_qualitative_strength</th>\n",
       "    </tr>\n",
       "  </thead>\n",
       "  <tbody>\n",
       "    <tr>\n",
       "      <th>0</th>\n",
       "      <td>0.107910</td>\n",
       "      <td>0.892090</td>\n",
       "      <td>revol_util</td>\n",
       "      <td>-0.192621</td>\n",
       "      <td>25.2</td>\n",
       "      <td>---</td>\n",
       "      <td>annual_inc</td>\n",
       "      <td>0.174761</td>\n",
       "      <td>23000.0</td>\n",
       "      <td>+++</td>\n",
       "      <td>...</td>\n",
       "      <td>MI</td>\n",
       "      <td>--</td>\n",
       "      <td>mths_since_last_delinq</td>\n",
       "      <td>-0.074489</td>\n",
       "      <td>NaN</td>\n",
       "      <td>--</td>\n",
       "      <td>title</td>\n",
       "      <td>0.053737</td>\n",
       "      <td>Snowmobile</td>\n",
       "      <td>++</td>\n",
       "    </tr>\n",
       "    <tr>\n",
       "      <th>1</th>\n",
       "      <td>0.201492</td>\n",
       "      <td>0.798508</td>\n",
       "      <td>revol_util</td>\n",
       "      <td>0.426575</td>\n",
       "      <td>100.0</td>\n",
       "      <td>+++</td>\n",
       "      <td>annual_inc</td>\n",
       "      <td>0.158384</td>\n",
       "      <td>27000.0</td>\n",
       "      <td>++</td>\n",
       "      <td>...</td>\n",
       "      <td>small_business</td>\n",
       "      <td>++</td>\n",
       "      <td>mths_since_last_delinq</td>\n",
       "      <td>0.113900</td>\n",
       "      <td>10.0</td>\n",
       "      <td>++</td>\n",
       "      <td>addr_state</td>\n",
       "      <td>-0.109507</td>\n",
       "      <td>WA</td>\n",
       "      <td>--</td>\n",
       "    </tr>\n",
       "    <tr>\n",
       "      <th>2</th>\n",
       "      <td>0.181867</td>\n",
       "      <td>0.818133</td>\n",
       "      <td>revol_util</td>\n",
       "      <td>0.414158</td>\n",
       "      <td>98.5</td>\n",
       "      <td>+++</td>\n",
       "      <td>annual_inc</td>\n",
       "      <td>0.187027</td>\n",
       "      <td>20004.0</td>\n",
       "      <td>++</td>\n",
       "      <td>...</td>\n",
       "      <td>FL</td>\n",
       "      <td>--</td>\n",
       "      <td>mths_since_last_delinq</td>\n",
       "      <td>-0.074489</td>\n",
       "      <td>NaN</td>\n",
       "      <td>--</td>\n",
       "      <td>title</td>\n",
       "      <td>0.053737</td>\n",
       "      <td>a/c repair loan</td>\n",
       "      <td>++</td>\n",
       "    </tr>\n",
       "    <tr>\n",
       "      <th>3</th>\n",
       "      <td>0.093362</td>\n",
       "      <td>0.906638</td>\n",
       "      <td>revol_util</td>\n",
       "      <td>-0.357354</td>\n",
       "      <td>5.3</td>\n",
       "      <td>---</td>\n",
       "      <td>earliest_cr_line (Day of Week)</td>\n",
       "      <td>0.113903</td>\n",
       "      <td>6</td>\n",
       "      <td>++</td>\n",
       "      <td>...</td>\n",
       "      <td>21.0</td>\n",
       "      <td>++</td>\n",
       "      <td>addr_state</td>\n",
       "      <td>-0.109507</td>\n",
       "      <td>CO</td>\n",
       "      <td>--</td>\n",
       "      <td>earliest_cr_line (Month)</td>\n",
       "      <td>-0.078358</td>\n",
       "      <td>10</td>\n",
       "      <td>--</td>\n",
       "    </tr>\n",
       "    <tr>\n",
       "      <th>4</th>\n",
       "      <td>0.113582</td>\n",
       "      <td>0.886418</td>\n",
       "      <td>addr_state</td>\n",
       "      <td>-0.109507</td>\n",
       "      <td>VA</td>\n",
       "      <td>--</td>\n",
       "      <td>revol_util</td>\n",
       "      <td>0.102904</td>\n",
       "      <td>60.9</td>\n",
       "      <td>++</td>\n",
       "      <td>...</td>\n",
       "      <td>45000.0</td>\n",
       "      <td>++</td>\n",
       "      <td>title</td>\n",
       "      <td>-0.076155</td>\n",
       "      <td>Debt Consolidation Loan</td>\n",
       "      <td>--</td>\n",
       "      <td>mths_since_last_delinq</td>\n",
       "      <td>-0.074489</td>\n",
       "      <td>NaN</td>\n",
       "      <td>--</td>\n",
       "    </tr>\n",
       "    <tr>\n",
       "      <th>...</th>\n",
       "      <td>...</td>\n",
       "      <td>...</td>\n",
       "      <td>...</td>\n",
       "      <td>...</td>\n",
       "      <td>...</td>\n",
       "      <td>...</td>\n",
       "      <td>...</td>\n",
       "      <td>...</td>\n",
       "      <td>...</td>\n",
       "      <td>...</td>\n",
       "      <td>...</td>\n",
       "      <td>...</td>\n",
       "      <td>...</td>\n",
       "      <td>...</td>\n",
       "      <td>...</td>\n",
       "      <td>...</td>\n",
       "      <td>...</td>\n",
       "      <td>...</td>\n",
       "      <td>...</td>\n",
       "      <td>...</td>\n",
       "      <td>...</td>\n",
       "    </tr>\n",
       "    <tr>\n",
       "      <th>195</th>\n",
       "      <td>0.084090</td>\n",
       "      <td>0.915910</td>\n",
       "      <td>revol_util</td>\n",
       "      <td>-0.356526</td>\n",
       "      <td>5.4</td>\n",
       "      <td>---</td>\n",
       "      <td>addr_state</td>\n",
       "      <td>0.255516</td>\n",
       "      <td>CA</td>\n",
       "      <td>+++</td>\n",
       "      <td>...</td>\n",
       "      <td>92000.0</td>\n",
       "      <td>--</td>\n",
       "      <td>earliest_cr_line (Month)</td>\n",
       "      <td>-0.078358</td>\n",
       "      <td>10</td>\n",
       "      <td>--</td>\n",
       "      <td>mths_since_last_delinq</td>\n",
       "      <td>-0.074489</td>\n",
       "      <td>NaN</td>\n",
       "      <td>--</td>\n",
       "    </tr>\n",
       "    <tr>\n",
       "      <th>196</th>\n",
       "      <td>0.078111</td>\n",
       "      <td>0.921889</td>\n",
       "      <td>revol_util</td>\n",
       "      <td>-0.229044</td>\n",
       "      <td>20.8</td>\n",
       "      <td>---</td>\n",
       "      <td>addr_state</td>\n",
       "      <td>-0.109507</td>\n",
       "      <td>NY</td>\n",
       "      <td>--</td>\n",
       "      <td>...</td>\n",
       "      <td>NaN</td>\n",
       "      <td>--</td>\n",
       "      <td>annual_inc</td>\n",
       "      <td>0.056031</td>\n",
       "      <td>52000.0</td>\n",
       "      <td>++</td>\n",
       "      <td>title</td>\n",
       "      <td>0.053737</td>\n",
       "      <td>Casinobill</td>\n",
       "      <td>++</td>\n",
       "    </tr>\n",
       "    <tr>\n",
       "      <th>197</th>\n",
       "      <td>0.133623</td>\n",
       "      <td>0.866377</td>\n",
       "      <td>revol_util</td>\n",
       "      <td>0.368629</td>\n",
       "      <td>93.0</td>\n",
       "      <td>+++</td>\n",
       "      <td>addr_state</td>\n",
       "      <td>-0.109507</td>\n",
       "      <td>AZ</td>\n",
       "      <td>--</td>\n",
       "      <td>...</td>\n",
       "      <td>40000.0</td>\n",
       "      <td>++</td>\n",
       "      <td>earliest_cr_line (Month)</td>\n",
       "      <td>-0.078358</td>\n",
       "      <td>10</td>\n",
       "      <td>--</td>\n",
       "      <td>mths_since_last_delinq</td>\n",
       "      <td>-0.074489</td>\n",
       "      <td>NaN</td>\n",
       "      <td>--</td>\n",
       "    </tr>\n",
       "    <tr>\n",
       "      <th>198</th>\n",
       "      <td>0.118998</td>\n",
       "      <td>0.881002</td>\n",
       "      <td>revol_util</td>\n",
       "      <td>-0.225733</td>\n",
       "      <td>21.2</td>\n",
       "      <td>---</td>\n",
       "      <td>annual_inc</td>\n",
       "      <td>0.150376</td>\n",
       "      <td>28956.0</td>\n",
       "      <td>++</td>\n",
       "      <td>...</td>\n",
       "      <td>16.0</td>\n",
       "      <td>++</td>\n",
       "      <td>addr_state</td>\n",
       "      <td>-0.109507</td>\n",
       "      <td>TX</td>\n",
       "      <td>--</td>\n",
       "      <td>verification_status</td>\n",
       "      <td>0.053103</td>\n",
       "      <td>VERIFIED - income source</td>\n",
       "      <td>++</td>\n",
       "    </tr>\n",
       "    <tr>\n",
       "      <th>199</th>\n",
       "      <td>0.080903</td>\n",
       "      <td>0.919097</td>\n",
       "      <td>annual_inc</td>\n",
       "      <td>-0.468018</td>\n",
       "      <td>180000.0</td>\n",
       "      <td>---</td>\n",
       "      <td>addr_state</td>\n",
       "      <td>0.255516</td>\n",
       "      <td>CA</td>\n",
       "      <td>+++</td>\n",
       "      <td>...</td>\n",
       "      <td>Debt Consolidation Loan</td>\n",
       "      <td>--</td>\n",
       "      <td>mths_since_last_delinq</td>\n",
       "      <td>-0.074489</td>\n",
       "      <td>NaN</td>\n",
       "      <td>--</td>\n",
       "      <td>pub_rec</td>\n",
       "      <td>-0.050012</td>\n",
       "      <td>0.0</td>\n",
       "      <td>-</td>\n",
       "    </tr>\n",
       "  </tbody>\n",
       "</table>\n",
       "<p>200 rows × 22 columns</p>\n",
       "</div>"
      ],
      "text/plain": [
       "      class_1   class_0 explanation_1_feature_name  explanation_1_strength  \\\n",
       "0    0.107910  0.892090                 revol_util               -0.192621   \n",
       "1    0.201492  0.798508                 revol_util                0.426575   \n",
       "2    0.181867  0.818133                 revol_util                0.414158   \n",
       "3    0.093362  0.906638                 revol_util               -0.357354   \n",
       "4    0.113582  0.886418                 addr_state               -0.109507   \n",
       "..        ...       ...                        ...                     ...   \n",
       "195  0.084090  0.915910                 revol_util               -0.356526   \n",
       "196  0.078111  0.921889                 revol_util               -0.229044   \n",
       "197  0.133623  0.866377                 revol_util                0.368629   \n",
       "198  0.118998  0.881002                 revol_util               -0.225733   \n",
       "199  0.080903  0.919097                 annual_inc               -0.468018   \n",
       "\n",
       "    explanation_1_actual_value explanation_1_qualitative_strength  \\\n",
       "0                         25.2                                ---   \n",
       "1                        100.0                                +++   \n",
       "2                         98.5                                +++   \n",
       "3                          5.3                                ---   \n",
       "4                           VA                                 --   \n",
       "..                         ...                                ...   \n",
       "195                        5.4                                ---   \n",
       "196                       20.8                                ---   \n",
       "197                       93.0                                +++   \n",
       "198                       21.2                                ---   \n",
       "199                   180000.0                                ---   \n",
       "\n",
       "         explanation_2_feature_name  explanation_2_strength  \\\n",
       "0                        annual_inc                0.174761   \n",
       "1                        annual_inc                0.158384   \n",
       "2                        annual_inc                0.187027   \n",
       "3    earliest_cr_line (Day of Week)                0.113903   \n",
       "4                        revol_util                0.102904   \n",
       "..                              ...                     ...   \n",
       "195                      addr_state                0.255516   \n",
       "196                      addr_state               -0.109507   \n",
       "197                      addr_state               -0.109507   \n",
       "198                      annual_inc                0.150376   \n",
       "199                      addr_state                0.255516   \n",
       "\n",
       "    explanation_2_actual_value explanation_2_qualitative_strength  ...  \\\n",
       "0                      23000.0                                +++  ...   \n",
       "1                      27000.0                                 ++  ...   \n",
       "2                      20004.0                                 ++  ...   \n",
       "3                            6                                 ++  ...   \n",
       "4                         60.9                                 ++  ...   \n",
       "..                         ...                                ...  ...   \n",
       "195                         CA                                +++  ...   \n",
       "196                         NY                                 --  ...   \n",
       "197                         AZ                                 --  ...   \n",
       "198                    28956.0                                 ++  ...   \n",
       "199                         CA                                +++  ...   \n",
       "\n",
       "    explanation_3_actual_value  explanation_3_qualitative_strength  \\\n",
       "0                           MI                                  --   \n",
       "1               small_business                                  ++   \n",
       "2                           FL                                  --   \n",
       "3                         21.0                                  ++   \n",
       "4                      45000.0                                  ++   \n",
       "..                         ...                                 ...   \n",
       "195                    92000.0                                  --   \n",
       "196                        NaN                                  --   \n",
       "197                    40000.0                                  ++   \n",
       "198                       16.0                                  ++   \n",
       "199    Debt Consolidation Loan                                  --   \n",
       "\n",
       "    explanation_4_feature_name explanation_4_strength  \\\n",
       "0       mths_since_last_delinq              -0.074489   \n",
       "1       mths_since_last_delinq               0.113900   \n",
       "2       mths_since_last_delinq              -0.074489   \n",
       "3                   addr_state              -0.109507   \n",
       "4                        title              -0.076155   \n",
       "..                         ...                    ...   \n",
       "195   earliest_cr_line (Month)              -0.078358   \n",
       "196                 annual_inc               0.056031   \n",
       "197   earliest_cr_line (Month)              -0.078358   \n",
       "198                 addr_state              -0.109507   \n",
       "199     mths_since_last_delinq              -0.074489   \n",
       "\n",
       "    explanation_4_actual_value  explanation_4_qualitative_strength  \\\n",
       "0                          NaN                                  --   \n",
       "1                         10.0                                  ++   \n",
       "2                          NaN                                  --   \n",
       "3                           CO                                  --   \n",
       "4      Debt Consolidation Loan                                  --   \n",
       "..                         ...                                 ...   \n",
       "195                         10                                  --   \n",
       "196                    52000.0                                  ++   \n",
       "197                         10                                  --   \n",
       "198                         TX                                  --   \n",
       "199                        NaN                                  --   \n",
       "\n",
       "    explanation_5_feature_name explanation_5_strength  \\\n",
       "0                        title               0.053737   \n",
       "1                   addr_state              -0.109507   \n",
       "2                        title               0.053737   \n",
       "3     earliest_cr_line (Month)              -0.078358   \n",
       "4       mths_since_last_delinq              -0.074489   \n",
       "..                         ...                    ...   \n",
       "195     mths_since_last_delinq              -0.074489   \n",
       "196                      title               0.053737   \n",
       "197     mths_since_last_delinq              -0.074489   \n",
       "198        verification_status               0.053103   \n",
       "199                    pub_rec              -0.050012   \n",
       "\n",
       "    explanation_5_actual_value  explanation_5_qualitative_strength  \n",
       "0                   Snowmobile                                  ++  \n",
       "1                           WA                                  --  \n",
       "2              a/c repair loan                                  ++  \n",
       "3                           10                                  --  \n",
       "4                          NaN                                  --  \n",
       "..                         ...                                 ...  \n",
       "195                        NaN                                  --  \n",
       "196                 Casinobill                                  ++  \n",
       "197                        NaN                                  --  \n",
       "198   VERIFIED - income source                                  ++  \n",
       "199                        0.0                                   -  \n",
       "\n",
       "[200 rows x 22 columns]"
      ]
     },
     "execution_count": 8,
     "metadata": {},
     "output_type": "execute_result"
    }
   ],
   "source": [
    "superior_predictions = deployment.predict_proba(score, max_explanations=5)\n",
    "superior_predictions"
   ]
  },
  {
   "attachments": {},
   "cell_type": "markdown",
   "metadata": {},
   "source": [
    "Use the following cell to organize the display of the prediction explanations, similar to [tidy](https://cran.r-project.org/web/packages/tidyr/vignettes/tidy-data.html)."
   ]
  },
  {
   "cell_type": "code",
   "execution_count": 9,
   "metadata": {},
   "outputs": [
    {
     "data": {
      "text/plain": [
       "<Axes: title={'center': 'Average Feature Strength'}, ylabel='feature_name'>"
      ]
     },
     "execution_count": 9,
     "metadata": {},
     "output_type": "execute_result"
    },
    {
     "data": {
      "image/png": "[encoded data removed]",
      "text/plain": [
       "<Figure size 500x400 with 1 Axes>"
      ]
     },
     "metadata": {},
     "output_type": "display_data"
    }
   ],
   "source": [
    "# Make explanations long form\n",
    "melted_predictions = drx.melt_explanations(superior_predictions, id_vars=[\"class_1\", \"class_0\"])\n",
    "\n",
    "\n",
    "# Make a plot\n",
    "(\n",
    "    melted_predictions.groupby(\"feature_name\")[\"strength\"]\n",
    "    .mean()\n",
    "    .sort_values()\n",
    "    .plot.barh(figsize=(5, 4), title=\"Average Feature Strength\")\n",
    ")"
   ]
  },
  {
   "attachments": {},
   "cell_type": "markdown",
   "metadata": {},
   "source": [
    "## Advanced usage\n",
    "\n",
    "You might wonder what else you can do with DRX:\n",
    "\n",
    "- Easy project configuration\n",
    "- Convert to a DataRobot SDK project\n",
    "- Extend DataRobot functionality (i.e. DataRobot projects with some extra enhancements)\n",
    "  - FIRE (See [drx.ColumnReduceModel](https://crispy-fiesta-5a44cb93.pages.github.io/model/column_reducer.html))\n",
    "  - Self-Join Feature Discovery (See [drx.SelfDiscoveryModel](https://crispy-fiesta-5a44cb93.pages.github.io/model/self_join.html))"
   ]
  },
  {
   "attachments": {},
   "cell_type": "markdown",
   "metadata": {},
   "source": [
    "### Convert to a DataRobot SDK project\n",
    "\n",
    "Convert your new specially configured drx project into a DataRobot SDK Project:\n",
    "\n",
    "DataRobot is not going to be able to do everything that DataRobot can do and it isn't meant to. That's why DataRobot has made it easy to convert a `drx` project to a DataRobot SDK project. This way, you can use the DataRobot SDK to do things that `drx` doesn't support yet."
   ]
  },
  {
   "cell_type": "code",
   "execution_count": 10,
   "metadata": {},
   "outputs": [
    {
     "data": {
      "text/plain": [
       "[Model('Generalized Additive2 Model'),\n",
       " Model('RandomForest Classifier (Gini)'),\n",
       " Model('Elastic-Net Classifier (mixing alpha=0.5 / Binomial Deviance)'),\n",
       " Model('Elastic-Net Classifier (mixing alpha=0.5 / Binomial Deviance)'),\n",
       " Model('Elastic-Net Classifier (L2 / Binomial Deviance)')]"
      ]
     },
     "execution_count": 10,
     "metadata": {},
     "output_type": "execute_result"
    }
   ],
   "source": [
    "sdk_project = model.dr_project\n",
    "\n",
    "top_models = sdk_project.get_models()[:5]\n",
    "top_models"
   ]
  },
  {
   "attachments": {},
   "cell_type": "markdown",
   "metadata": {},
   "source": [
    "### Basic DataRobot package functionality"
   ]
  },
  {
   "cell_type": "code",
   "execution_count": 11,
   "metadata": {},
   "outputs": [
    {
     "data": {
      "text/plain": [
       "(0.0, 1.0)"
      ]
     },
     "execution_count": 11,
     "metadata": {},
     "output_type": "execute_result"
    },
    {
     "data": {
      "image/png": "[encoded data removed]",
      "text/plain": [
       "<Figure size 600x400 with 1 Axes>"
      ]
     },
     "metadata": {},
     "output_type": "display_data"
    }
   ],
   "source": [
    "import matplotlib.pyplot as plt\n",
    "\n",
    "roc = top_models[0].get_roc_curve(\"validation\")\n",
    "df_roc = pd.DataFrame(roc.roc_points)\n",
    "\n",
    "dr_dark_blue = \"#08233F\"\n",
    "dr_roc_orange = \"#EF8E1C\"\n",
    "white = \"#ffffff\"\n",
    "\n",
    "fig = plt.figure(figsize=(6, 4))\n",
    "axes = fig.add_subplot(1, 1, 1, facecolor=dr_dark_blue)\n",
    "\n",
    "plt.scatter(df_roc.false_positive_rate, df_roc.true_positive_rate, color=dr_roc_orange)\n",
    "plt.plot(df_roc.false_positive_rate, df_roc.true_positive_rate, color=dr_roc_orange)\n",
    "plt.plot([0, 1], [0, 1], color=white, alpha=0.25)\n",
    "plt.title(\"ROC curve\", size=16, fontweight=\"bold\")\n",
    "plt.xlabel(\"False Positive Rate (Fallout)\", size=14)\n",
    "plt.xlim([0, 1])\n",
    "plt.ylabel(\"True Positive Rate (Sensitivity)\", size=14)\n",
    "plt.ylim([0, 1])\n",
    "# plt.show()"
   ]
  },
  {
   "attachments": {},
   "cell_type": "markdown",
   "metadata": {},
   "source": [
    "## Conclusion\n",
    "What a ride. You've learned how to use the new, agile, DRX package. DRX streamlines project creation & configuration. This notebook taught you how to create a deployment using a champion model with ease. Try using DRX with your own dataset, and check out DRX's documentation if you have questions or want to explore it further"
   ]
  }
 ],
 "metadata": {
  "kernelspec": {
   "display_name": "venv",
   "language": "python",
   "name": "python3"
  },
  "language_info": {
   "codemirror_mode": {
    "name": "ipython",
    "version": 3
   },
   "file_extension": ".py",
   "mimetype": "text/x-python",
   "name": "python",
   "nbconvert_exporter": "python",
   "pygments_lexer": "ipython3",
   "version": "3.10.12"
  },
  "orig_nbformat": 4
 },
 "nbformat": 4,
 "nbformat_minor": 2
}
