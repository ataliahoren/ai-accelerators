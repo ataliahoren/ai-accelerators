{
 "cells": [
  {
   "cell_type": "markdown",
   "metadata": {},
   "source": [
    "# Use self-joins with panel data to improve model accuracy \n",
    "\n",
    "Author: Andrea Kropp\n",
    "Version date: May 2023"
   ]
  },
  {
   "cell_type": "markdown",
   "metadata": {},
   "source": [
    "## Overview\n",
    "\n",
    "The intended audience for this notebooks is data scientists in nearly all industries, especially those who work with panel data.\n",
    "\n",
    "### When to use self-joins\n",
    "\n",
    "Panel data contains multiple observations for consistent subjects over time. Those subjects can be persons, companies, products, locations, or any other discrete categorical unit. Examples of panel data dimensions are present in nearly every industry. Below are three examples of panel dimensions:\n",
    "\n",
    "* Customers: Customer interaction data over multiple time-intervals\n",
    "* Zip codes: Historical attributes of homes for sale in various zip codes \n",
    "* Lakes: Water quality measures from various lakes\n",
    "\n",
    "Panel data often exists in multiple tables, such as having a customer table and a seperate transaction table, as covered in [this AI accelerator](https://github.com/datarobot-community/ai-accelerators/tree/main/advanced-experimentation/AFD \"End-to-End Automated Feature Discovery Workflow\")\n",
    ".  However, it is also common for singular datasets to have more than one feature which can be used as a panel dimensions. Consider a dataset of flight delays for various airline carriers, origin airports, and destination airports over time. The airline carrier, origin airport, and destination airport all fit the criteria of panel data subjects. In the case of only having one table of panel data, you can join the dataset _with itself_ using Feature Discovery to create lagged features over time. This is called the __self-join technique__.\n",
    "\n",
    "When building predictive models from panel data, you can often improve the model substantially by including engineered features which capture time-based patterns within the panel feature(s). The extent to which this technique will improve accuracy for any specific use case requires experimentation and cannot be known at the outset.\n",
    "\n",
    "This notebook uses airplane delays as they are a familiar phenomenon to many people. Examples of time-aware aggregations for this use case are:\n",
    "\n",
    "* Average taxiing time by __origin airport__ across the last 3 days\n",
    "* Minimum delay due to late aircraft arrival __by carrier__ in the last 3 days \n",
    "* Average total minutes of delays by __destination airport__ in the last 24 hours\n",
    "\n",
    "The self-join technique generates these types of features automatically and uses them for modeling during Autopilot. Consider using the self-join technique any time that your dataset has date or datetime information for the same subject over time.\n",
    "\n",
    "### Notebook contents\n",
    "\n",
    "In this notebook you develop a model for predicting airline take-off delays of 30 minutes or more. The dataset has a least three features which qualify as panel features, namely the origin airport code (OA), the destination airport code (DA), and the airline carrier code (CC). \n",
    "\n",
    "The notebook shows you how to use the self-join technique multiple times using a single dataset. Specifically, you will register one dataset in the AICatalog and join it back onto itself four times.\n",
    "\n",
    "The notebook assumes basic familiarity with running machine learning experiments in DataRobot. It focuses the self-join technique which requires careful consideration of feature lists and joining time-aware datasets. It also uses dataset aliases to improve human readability of the engineered feature names. The two feature lists will be named **Known Features** and **Self-Join Features**.\n",
    "\n",
    "### Avoiding Target Leakage\n",
    "In the data dictionary used in the notebook, there are numerous features which are not known at prediction time. These are all the subcategories for how many minutes of delay (the prediction target) came from taxiing, security, or waiting for an inbound aircraft. It is important that these features are not included in the feature list used to run Autopilot. \n",
    "\n",
    "At the same time, past values for these features could be very informative and helpful for the model. It is easy to imagine that aggregations such as the following could be immensely helpful in predicting take off delays for today's flights:\n",
    "\n",
    "* Average taxiing time at a specific origin airport across the past three days\n",
    "* Minimum delay due to late aircraft arrival by carrier in the last three days \n",
    "* Average total delays by destination airport across the last 24 hours\n",
    "\n",
    "\n",
    "### Data source\n",
    "\n",
    "Information on flight delays is made available by the [Bureau of Transportation Statistics](https://www.transtats.bts.gov/ONTIME/Departures.aspx). DataRobot downloaded data from this website in April 2023 and made minor modifications to prepare it for use in this notebook. \n",
    "\n",
    "To narrow down the amount of data involved, the dataset assembled for this use case is limited to January 2023 flights originating in San Francisco (SFO), Portland (PDX), and Seattle (SEA) operated by the carriers Alaska Airlines (AS), American Airlines (AA), Hawaiian Airlines (HA), and United Airlines (UA). A flight was declared to be delayed if it ultimately took off at least thirty minutes after its scheduled departure time.\n",
    "  \n",
    "There 14,803 rows in the dataset with these 15 columns:\n",
    "\n",
    "| Field                      | Data Type         | Description                                                                                           |\n",
    "| -------------------------- | ----------------- | ----------------------------------------------------------------------------------------------------- |\n",
    "| Date                       | str (MM/DD/YYYY) | The date of the flight                                                                                |\n",
    "| Carrier Code               | categorical       | The carrier code of the airline (one of AS, AA, HA, UA)                                               |\n",
    "| Origin Airport             | categorical       | The three-letter airport code of the origin airport (one of PDX, SEA, SFO)                            |\n",
    "| Flight Number              | numeric           | The flight number for the flight (needs to be converted to categorical)                               |\n",
    "| Tail Number                | categorical       | The tail number of the aircraft                                                                       |\n",
    "| Destination Airport        | categorical       | The three-letter airport code of the destination airport (many variants)                              |\n",
    "| Scheduled Departure Time   | time (HH:MM)      | The 24-hour scheduled departure time of the flight, in the origin airport's timezone                  |\n",
    "| Take-Off Delay Minutes     | numeric           | The number of minutes past the scheduled departure time that the flight took off (also known as wheels-up time) |\n",
    "| Take-Off Delay 30          | boolean           | Whether the flight was delayed at least 30 minutes (TARGET feature)                                    |\n",
    "| Taxi Out Time              | numeric           | The number of minutes for taxiing before take-off                                                     |\n",
    "| Delay Carrier              | numeric           | The number of minutes delay caused by the carrier                                                     |\n",
    "| Delay Weather              | numeric           | The number of minutes delay caused by the weather                                                     |\n",
    "| Delay National Aviation System | numeric        | The number of minutes delay caused by the National Aviation System                                    |\n",
    "| Delay Security             | numeric           | The number of minutes delay caused by security                                                        |\n",
    "| Delay Late Arrival Aircraft | numeric           | The number of minutes delay caused by a late-arriving aircraft       "
   ]
  },
  {
   "cell_type": "markdown",
   "metadata": {},
   "source": [
    "## Setup\n",
    "\n",
    "### Import libraries\n",
    "\n",
    "The first cell of the notebook imports necessary packages, and sets up the connection to the DataRobot platform. "
   ]
  },
  {
   "cell_type": "code",
   "execution_count": 1,
   "metadata": {},
   "outputs": [],
   "source": [
    "import datarobot as dr\n",
    "import pandas as pd\n",
    "import numpy as np\n",
    "import matplotlib.pyplot as plt\n",
    "import random"
   ]
  },
  {
   "cell_type": "markdown",
   "metadata": {},
   "source": [
    "### Connect to DataRobot\n",
    "\n",
    "Read more about different options for [connecting to DataRobot from the Python client](https://docs.datarobot.com/en/docs/api/api-quickstart/api-qs.html)."
   ]
  },
  {
   "cell_type": "code",
   "execution_count": 2,
   "metadata": {},
   "outputs": [
    {
     "data": {
      "text/plain": [
       "<datarobot.rest.RESTClientObject at 0x1059bbe50>"
      ]
     },
     "execution_count": 2,
     "metadata": {},
     "output_type": "execute_result"
    }
   ],
   "source": [
    "api_key = \"YOUR_API_TOKEN\" # Get this from the Developer Tools page in the DataRobot UI\n",
    "endpoint = \"YOUR_DATAROBOT_BASE_URL\" #eg \"https://app.datarobot.com/\" This should be the URL you use to access the DataRobot UI\n",
    "\n",
    "dr.Client(endpoint=\"%sapi/v2\" % (endpoint), token=api_key)"
   ]
  },
  {
   "cell_type": "markdown",
   "metadata": {},
   "source": [
    "## Import data\n",
    "\n",
    "The data for this use case is provided in an 800 KB CSV file in DataRobot's Amazon S3 public datasets bucket. You can [download the data](https://s3.amazonaws.com/datarobot_public_datasets/ai_accelerators/airline_delays_self_join.csv) to inspect it or add it directly to DataRobot's AI Catalog as shown in this notebook.\n",
    "\n",
    "The dataset can be added to AI Catalog directly from the Amazon S3 bucket."
   ]
  },
  {
   "cell_type": "code",
   "execution_count": 4,
   "metadata": {},
   "outputs": [
    {
     "data": {
      "text/plain": [
       "'646c0e6f5d283c33054df69d'"
      ]
     },
     "execution_count": 4,
     "metadata": {},
     "output_type": "execute_result"
    }
   ],
   "source": [
    "dataset = dr.Dataset.upload(\"https://s3.amazonaws.com/datarobot_public_datasets/ai_accelerators/airline_delays_self_join.csv\")\n",
    "data_id = dataset.id\n",
    "data_id"
   ]
  },
  {
   "cell_type": "markdown",
   "metadata": {},
   "source": [
    "## Explore the data\n",
    "\n",
    "In this section, familairize yourself with the data. Begin by accessing the dataset uploaded to AI Catalog and converting it to a Pandas DataFrame. Then perform a few aggregations to see how the features you will use for the self-joins relate to delays."
   ]
  },
  {
   "cell_type": "markdown",
   "metadata": {},
   "source": [
    "### Retrieve and view dataset"
   ]
  },
  {
   "cell_type": "code",
   "execution_count": 5,
   "metadata": {},
   "outputs": [
    {
     "data": {
      "text/html": [
       "<div>\n",
       "<style scoped>\n",
       "    .dataframe tbody tr th:only-of-type {\n",
       "        vertical-align: middle;\n",
       "    }\n",
       "\n",
       "    .dataframe tbody tr th {\n",
       "        vertical-align: top;\n",
       "    }\n",
       "\n",
       "    .dataframe thead th {\n",
       "        text-align: right;\n",
       "    }\n",
       "</style>\n",
       "<table border=\"1\" class=\"dataframe\">\n",
       "  <thead>\n",
       "    <tr style=\"text-align: right;\">\n",
       "      <th></th>\n",
       "      <th>Date</th>\n",
       "      <th>Carrier_Code</th>\n",
       "      <th>Origin_Airport</th>\n",
       "      <th>Flight_Number</th>\n",
       "      <th>Tail_Number</th>\n",
       "      <th>Destination_Airport</th>\n",
       "      <th>Scheduled_Departure_Time</th>\n",
       "      <th>Take_Off_Delay_Minutes</th>\n",
       "      <th>Take_Off_Delay_30</th>\n",
       "      <th>Taxi_Out_Time</th>\n",
       "      <th>Delay_Carrier</th>\n",
       "      <th>Delay_Weather</th>\n",
       "      <th>Delay_National_Aviation_System</th>\n",
       "      <th>Delay_Security</th>\n",
       "      <th>Delay_Late_Aircraft_Arrival</th>\n",
       "    </tr>\n",
       "  </thead>\n",
       "  <tbody>\n",
       "    <tr>\n",
       "      <th>0</th>\n",
       "      <td>1/1/23</td>\n",
       "      <td>UA</td>\n",
       "      <td>SEA</td>\n",
       "      <td>2090</td>\n",
       "      <td>N79521</td>\n",
       "      <td>ORD</td>\n",
       "      <td>0:29</td>\n",
       "      <td>3</td>\n",
       "      <td>0</td>\n",
       "      <td>14</td>\n",
       "      <td>0</td>\n",
       "      <td>0</td>\n",
       "      <td>0</td>\n",
       "      <td>0</td>\n",
       "      <td>0</td>\n",
       "    </tr>\n",
       "    <tr>\n",
       "      <th>1</th>\n",
       "      <td>1/1/23</td>\n",
       "      <td>AS</td>\n",
       "      <td>SEA</td>\n",
       "      <td>185</td>\n",
       "      <td>N408AS</td>\n",
       "      <td>ANC</td>\n",
       "      <td>0:30</td>\n",
       "      <td>75</td>\n",
       "      <td>1</td>\n",
       "      <td>13</td>\n",
       "      <td>51</td>\n",
       "      <td>0</td>\n",
       "      <td>0</td>\n",
       "      <td>0</td>\n",
       "      <td>0</td>\n",
       "    </tr>\n",
       "    <tr>\n",
       "      <th>2</th>\n",
       "      <td>1/1/23</td>\n",
       "      <td>AA</td>\n",
       "      <td>SEA</td>\n",
       "      <td>2748</td>\n",
       "      <td>N434AN</td>\n",
       "      <td>DFW</td>\n",
       "      <td>5:00</td>\n",
       "      <td>10</td>\n",
       "      <td>0</td>\n",
       "      <td>15</td>\n",
       "      <td>0</td>\n",
       "      <td>0</td>\n",
       "      <td>0</td>\n",
       "      <td>0</td>\n",
       "      <td>0</td>\n",
       "    </tr>\n",
       "    <tr>\n",
       "      <th>3</th>\n",
       "      <td>1/1/23</td>\n",
       "      <td>UA</td>\n",
       "      <td>SEA</td>\n",
       "      <td>2672</td>\n",
       "      <td>N67501</td>\n",
       "      <td>DEN</td>\n",
       "      <td>5:03</td>\n",
       "      <td>3</td>\n",
       "      <td>0</td>\n",
       "      <td>13</td>\n",
       "      <td>0</td>\n",
       "      <td>0</td>\n",
       "      <td>0</td>\n",
       "      <td>0</td>\n",
       "      <td>0</td>\n",
       "    </tr>\n",
       "    <tr>\n",
       "      <th>4</th>\n",
       "      <td>1/1/23</td>\n",
       "      <td>UA</td>\n",
       "      <td>PDX</td>\n",
       "      <td>2493</td>\n",
       "      <td>N39423</td>\n",
       "      <td>DEN</td>\n",
       "      <td>5:05</td>\n",
       "      <td>8</td>\n",
       "      <td>0</td>\n",
       "      <td>15</td>\n",
       "      <td>0</td>\n",
       "      <td>0</td>\n",
       "      <td>0</td>\n",
       "      <td>0</td>\n",
       "      <td>0</td>\n",
       "    </tr>\n",
       "    <tr>\n",
       "      <th>5</th>\n",
       "      <td>1/1/23</td>\n",
       "      <td>UA</td>\n",
       "      <td>SFO</td>\n",
       "      <td>583</td>\n",
       "      <td>N75426</td>\n",
       "      <td>IAH</td>\n",
       "      <td>5:15</td>\n",
       "      <td>15</td>\n",
       "      <td>0</td>\n",
       "      <td>19</td>\n",
       "      <td>0</td>\n",
       "      <td>0</td>\n",
       "      <td>0</td>\n",
       "      <td>0</td>\n",
       "      <td>0</td>\n",
       "    </tr>\n",
       "    <tr>\n",
       "      <th>6</th>\n",
       "      <td>1/1/23</td>\n",
       "      <td>UA</td>\n",
       "      <td>SFO</td>\n",
       "      <td>2426</td>\n",
       "      <td>N69885</td>\n",
       "      <td>DEN</td>\n",
       "      <td>5:25</td>\n",
       "      <td>20</td>\n",
       "      <td>0</td>\n",
       "      <td>16</td>\n",
       "      <td>0</td>\n",
       "      <td>0</td>\n",
       "      <td>0</td>\n",
       "      <td>0</td>\n",
       "      <td>0</td>\n",
       "    </tr>\n",
       "    <tr>\n",
       "      <th>7</th>\n",
       "      <td>1/1/23</td>\n",
       "      <td>AS</td>\n",
       "      <td>SFO</td>\n",
       "      <td>559</td>\n",
       "      <td>N453AS</td>\n",
       "      <td>SEA</td>\n",
       "      <td>6:00</td>\n",
       "      <td>18</td>\n",
       "      <td>0</td>\n",
       "      <td>18</td>\n",
       "      <td>0</td>\n",
       "      <td>0</td>\n",
       "      <td>0</td>\n",
       "      <td>0</td>\n",
       "      <td>0</td>\n",
       "    </tr>\n",
       "    <tr>\n",
       "      <th>8</th>\n",
       "      <td>1/1/23</td>\n",
       "      <td>AA</td>\n",
       "      <td>PDX</td>\n",
       "      <td>2216</td>\n",
       "      <td>N124AA</td>\n",
       "      <td>DFW</td>\n",
       "      <td>6:00</td>\n",
       "      <td>23</td>\n",
       "      <td>0</td>\n",
       "      <td>25</td>\n",
       "      <td>0</td>\n",
       "      <td>0</td>\n",
       "      <td>0</td>\n",
       "      <td>0</td>\n",
       "      <td>0</td>\n",
       "    </tr>\n",
       "    <tr>\n",
       "      <th>9</th>\n",
       "      <td>1/1/23</td>\n",
       "      <td>AA</td>\n",
       "      <td>SFO</td>\n",
       "      <td>1198</td>\n",
       "      <td>N139AN</td>\n",
       "      <td>DFW</td>\n",
       "      <td>6:00</td>\n",
       "      <td>12</td>\n",
       "      <td>0</td>\n",
       "      <td>18</td>\n",
       "      <td>0</td>\n",
       "      <td>0</td>\n",
       "      <td>0</td>\n",
       "      <td>0</td>\n",
       "      <td>0</td>\n",
       "    </tr>\n",
       "  </tbody>\n",
       "</table>\n",
       "</div>"
      ],
      "text/plain": [
       "     Date Carrier_Code Origin_Airport  Flight_Number Tail_Number  \\\n",
       "0  1/1/23           UA            SEA           2090      N79521   \n",
       "1  1/1/23           AS            SEA            185      N408AS   \n",
       "2  1/1/23           AA            SEA           2748      N434AN   \n",
       "3  1/1/23           UA            SEA           2672      N67501   \n",
       "4  1/1/23           UA            PDX           2493      N39423   \n",
       "5  1/1/23           UA            SFO            583      N75426   \n",
       "6  1/1/23           UA            SFO           2426      N69885   \n",
       "7  1/1/23           AS            SFO            559      N453AS   \n",
       "8  1/1/23           AA            PDX           2216      N124AA   \n",
       "9  1/1/23           AA            SFO           1198      N139AN   \n",
       "\n",
       "  Destination_Airport Scheduled_Departure_Time  Take_Off_Delay_Minutes  \\\n",
       "0                 ORD                     0:29                       3   \n",
       "1                 ANC                     0:30                      75   \n",
       "2                 DFW                     5:00                      10   \n",
       "3                 DEN                     5:03                       3   \n",
       "4                 DEN                     5:05                       8   \n",
       "5                 IAH                     5:15                      15   \n",
       "6                 DEN                     5:25                      20   \n",
       "7                 SEA                     6:00                      18   \n",
       "8                 DFW                     6:00                      23   \n",
       "9                 DFW                     6:00                      12   \n",
       "\n",
       "   Take_Off_Delay_30  Taxi_Out_Time  Delay_Carrier  Delay_Weather  \\\n",
       "0                  0             14              0              0   \n",
       "1                  1             13             51              0   \n",
       "2                  0             15              0              0   \n",
       "3                  0             13              0              0   \n",
       "4                  0             15              0              0   \n",
       "5                  0             19              0              0   \n",
       "6                  0             16              0              0   \n",
       "7                  0             18              0              0   \n",
       "8                  0             25              0              0   \n",
       "9                  0             18              0              0   \n",
       "\n",
       "   Delay_National_Aviation_System  Delay_Security  Delay_Late_Aircraft_Arrival  \n",
       "0                               0               0                            0  \n",
       "1                               0               0                            0  \n",
       "2                               0               0                            0  \n",
       "3                               0               0                            0  \n",
       "4                               0               0                            0  \n",
       "5                               0               0                            0  \n",
       "6                               0               0                            0  \n",
       "7                               0               0                            0  \n",
       "8                               0               0                            0  \n",
       "9                               0               0                            0  "
      ]
     },
     "execution_count": 5,
     "metadata": {},
     "output_type": "execute_result"
    }
   ],
   "source": [
    "# Retrieve the data set and convert it to a pandas dataframe\n",
    "df = dr.Dataset.get(data_id).get_as_dataframe()\n",
    "df.head(10)"
   ]
  },
  {
   "cell_type": "code",
   "execution_count": 6,
   "metadata": {},
   "outputs": [
    {
     "data": {
      "text/plain": [
       "Text(0.5, 0, 'Flight Count')"
      ]
     },
     "execution_count": 6,
     "metadata": {},
     "output_type": "execute_result"
    },
    {
     "data": {
      "image/png": "[encoded data removed]",
      "text/plain": [
       "<Figure size 1800x864 with 8 Axes>"
      ]
     },
     "metadata": {
      "needs_background": "light"
     },
     "output_type": "display_data"
    }
   ],
   "source": [
    "# Explore the structured data provided with some plots\n",
    "plt.rcParams['axes.labelsize'] = 18\n",
    "plt.rcParams['axes.titlesize'] = 24\n",
    "plt.rcParams['xtick.labelsize'] = 16\n",
    "plt.rcParams['ytick.labelsize'] = 16\n",
    "plt.rcParams['figure.titlesize'] = 24\n",
    "\n",
    "fig, axes = plt.subplots(nrows=2, ncols=4, figsize=(25, 12), tight_layout=True)\n",
    "\n",
    "plt.subplot(2, 4, 1)\n",
    "plt.hist(df['Take_Off_Delay_Minutes'], bins = 100)\n",
    "plt.title('Delay from all Causes',)\n",
    "plt.ylabel('Flight Count')\n",
    "plt.xlabel('Minutes Delayed')\n",
    "\n",
    "plt.subplot(2, 4, 2)\n",
    "plt.hist(df['Taxi_Out_Time'], bins = 20)\n",
    "plt.title('Delay from Taxi Out Time',)\n",
    "plt.ylabel('Flight Count')\n",
    "plt.xlabel('Minutes Delayed')\n",
    "\n",
    "plt.subplot(2, 4, 3)\n",
    "plt.hist(df['Delay_Late_Aircraft_Arrival'], bins = 20)\n",
    "plt.title('Delay from Late Aircarft Arrival',)\n",
    "plt.ylabel('Flight Count')\n",
    "plt.xlabel('Minutes Delayed')\n",
    "\n",
    "plt.subplot(2, 4, 4)\n",
    "plt.hist(df['Delay_Weather'], bins = 20)\n",
    "plt.title('Delay from Weather',)\n",
    "plt.ylabel('Flight Count')\n",
    "plt.xlabel('Minutes Delayed')\n",
    "\n",
    "plt.subplot(2, 4, 5)\n",
    "df['Take_Off_Delay_30'].value_counts().sort_values().plot(kind = 'barh')\n",
    "plt.title('Take Off Delayed by 30 Minutes or more')\n",
    "plt.xlabel('Flight Count')\n",
    "\n",
    "plt.subplot(2, 4, 6)\n",
    "df['Origin_Airport'].value_counts().sort_values().plot(kind = 'barh')\n",
    "plt.title('Flight Count by Origin')\n",
    "plt.xlabel('Flight Count')\n",
    "\n",
    "plt.subplot(2, 4, 7)\n",
    "df['Destination_Airport'].value_counts().sort_values()[0:15].plot(kind = 'barh')\n",
    "plt.title('Flight Count by Destination (Top 15)')\n",
    "plt.xlabel('Flight Count')\n",
    "\n",
    "plt.subplot(2, 4, 8)\n",
    "df['Carrier_Code'].value_counts().sort_values().plot(kind = 'barh')\n",
    "plt.title('Flight Count by Carrier')\n",
    "plt.xlabel('Flight Count')"
   ]
  },
  {
   "cell_type": "code",
   "execution_count": 7,
   "metadata": {},
   "outputs": [
    {
     "data": {
      "text/plain": [
       "0.2879146119029926"
      ]
     },
     "execution_count": 7,
     "metadata": {},
     "output_type": "execute_result"
    }
   ],
   "source": [
    "# Calculate the percentage of all flights delayed by more than 30 minutes\n",
    "np.mean(df['Take_Off_Delay_30'])"
   ]
  },
  {
   "cell_type": "markdown",
   "metadata": {},
   "source": [
    "### Explore categorical features used for self-joins"
   ]
  },
  {
   "cell_type": "code",
   "execution_count": 8,
   "metadata": {},
   "outputs": [
    {
     "data": {
      "text/html": [
       "<div>\n",
       "<style scoped>\n",
       "    .dataframe tbody tr th:only-of-type {\n",
       "        vertical-align: middle;\n",
       "    }\n",
       "\n",
       "    .dataframe tbody tr th {\n",
       "        vertical-align: top;\n",
       "    }\n",
       "\n",
       "    .dataframe thead th {\n",
       "        text-align: right;\n",
       "    }\n",
       "</style>\n",
       "<table border=\"1\" class=\"dataframe\">\n",
       "  <thead>\n",
       "    <tr style=\"text-align: right;\">\n",
       "      <th></th>\n",
       "      <th></th>\n",
       "      <th>flight_count</th>\n",
       "      <th>delayed_count</th>\n",
       "      <th>percent_delayed</th>\n",
       "      <th>average_delayed_duration</th>\n",
       "    </tr>\n",
       "    <tr>\n",
       "      <th>Origin_Airport</th>\n",
       "      <th>Carrier_Code</th>\n",
       "      <th></th>\n",
       "      <th></th>\n",
       "      <th></th>\n",
       "      <th></th>\n",
       "    </tr>\n",
       "  </thead>\n",
       "  <tbody>\n",
       "    <tr>\n",
       "      <th rowspan=\"4\" valign=\"top\">PDX</th>\n",
       "      <th>AA</th>\n",
       "      <td>231</td>\n",
       "      <td>32</td>\n",
       "      <td>0.138528</td>\n",
       "      <td>27.164502</td>\n",
       "    </tr>\n",
       "    <tr>\n",
       "      <th>AS</th>\n",
       "      <td>1692</td>\n",
       "      <td>236</td>\n",
       "      <td>0.139480</td>\n",
       "      <td>17.555556</td>\n",
       "    </tr>\n",
       "    <tr>\n",
       "      <th>HA</th>\n",
       "      <td>62</td>\n",
       "      <td>15</td>\n",
       "      <td>0.241935</td>\n",
       "      <td>53.661290</td>\n",
       "    </tr>\n",
       "    <tr>\n",
       "      <th>UA</th>\n",
       "      <td>425</td>\n",
       "      <td>67</td>\n",
       "      <td>0.157647</td>\n",
       "      <td>18.804706</td>\n",
       "    </tr>\n",
       "    <tr>\n",
       "      <th rowspan=\"4\" valign=\"top\">SEA</th>\n",
       "      <th>AA</th>\n",
       "      <td>432</td>\n",
       "      <td>77</td>\n",
       "      <td>0.178241</td>\n",
       "      <td>40.060185</td>\n",
       "    </tr>\n",
       "    <tr>\n",
       "      <th>AS</th>\n",
       "      <td>5801</td>\n",
       "      <td>1738</td>\n",
       "      <td>0.299604</td>\n",
       "      <td>27.823651</td>\n",
       "    </tr>\n",
       "    <tr>\n",
       "      <th>HA</th>\n",
       "      <td>68</td>\n",
       "      <td>14</td>\n",
       "      <td>0.205882</td>\n",
       "      <td>27.955882</td>\n",
       "    </tr>\n",
       "    <tr>\n",
       "      <th>UA</th>\n",
       "      <td>576</td>\n",
       "      <td>101</td>\n",
       "      <td>0.175347</td>\n",
       "      <td>25.755208</td>\n",
       "    </tr>\n",
       "    <tr>\n",
       "      <th rowspan=\"4\" valign=\"top\">SFO</th>\n",
       "      <th>AA</th>\n",
       "      <td>762</td>\n",
       "      <td>167</td>\n",
       "      <td>0.219160</td>\n",
       "      <td>34.688976</td>\n",
       "    </tr>\n",
       "    <tr>\n",
       "      <th>AS</th>\n",
       "      <td>1142</td>\n",
       "      <td>393</td>\n",
       "      <td>0.344133</td>\n",
       "      <td>34.079685</td>\n",
       "    </tr>\n",
       "    <tr>\n",
       "      <th>HA</th>\n",
       "      <td>62</td>\n",
       "      <td>22</td>\n",
       "      <td>0.354839</td>\n",
       "      <td>56.580645</td>\n",
       "    </tr>\n",
       "    <tr>\n",
       "      <th>UA</th>\n",
       "      <td>3550</td>\n",
       "      <td>1400</td>\n",
       "      <td>0.394366</td>\n",
       "      <td>38.186479</td>\n",
       "    </tr>\n",
       "  </tbody>\n",
       "</table>\n",
       "</div>"
      ],
      "text/plain": [
       "                             flight_count  delayed_count  percent_delayed  \\\n",
       "Origin_Airport Carrier_Code                                                 \n",
       "PDX            AA                     231             32         0.138528   \n",
       "               AS                    1692            236         0.139480   \n",
       "               HA                      62             15         0.241935   \n",
       "               UA                     425             67         0.157647   \n",
       "SEA            AA                     432             77         0.178241   \n",
       "               AS                    5801           1738         0.299604   \n",
       "               HA                      68             14         0.205882   \n",
       "               UA                     576            101         0.175347   \n",
       "SFO            AA                     762            167         0.219160   \n",
       "               AS                    1142            393         0.344133   \n",
       "               HA                      62             22         0.354839   \n",
       "               UA                    3550           1400         0.394366   \n",
       "\n",
       "                             average_delayed_duration  \n",
       "Origin_Airport Carrier_Code                            \n",
       "PDX            AA                           27.164502  \n",
       "               AS                           17.555556  \n",
       "               HA                           53.661290  \n",
       "               UA                           18.804706  \n",
       "SEA            AA                           40.060185  \n",
       "               AS                           27.823651  \n",
       "               HA                           27.955882  \n",
       "               UA                           25.755208  \n",
       "SFO            AA                           34.688976  \n",
       "               AS                           34.079685  \n",
       "               HA                           56.580645  \n",
       "               UA                           38.186479  "
      ]
     },
     "execution_count": 8,
     "metadata": {},
     "output_type": "execute_result"
    }
   ],
   "source": [
    "# Summarize the delay data by carrier and origin airport\n",
    "df2 = df.groupby([\"Origin_Airport\",\"Carrier_Code\"]).agg(\n",
    "    flight_count = pd.NamedAgg(column = 'Flight_Number', aggfunc = len),\n",
    "    delayed_count = pd.NamedAgg(column = 'Take_Off_Delay_30', aggfunc = sum),\n",
    "    percent_delayed = pd.NamedAgg(column = 'Take_Off_Delay_30', aggfunc = np.mean),\n",
    "    average_delayed_duration = pd.NamedAgg(column = 'Take_Off_Delay_Minutes', aggfunc = np.mean),  \n",
    ")\n",
    "df2"
   ]
  },
  {
   "cell_type": "code",
   "execution_count": 9,
   "metadata": {},
   "outputs": [
    {
     "data": {
      "text/html": [
       "<div>\n",
       "<style scoped>\n",
       "    .dataframe tbody tr th:only-of-type {\n",
       "        vertical-align: middle;\n",
       "    }\n",
       "\n",
       "    .dataframe tbody tr th {\n",
       "        vertical-align: top;\n",
       "    }\n",
       "\n",
       "    .dataframe thead th {\n",
       "        text-align: right;\n",
       "    }\n",
       "</style>\n",
       "<table border=\"1\" class=\"dataframe\">\n",
       "  <thead>\n",
       "    <tr style=\"text-align: right;\">\n",
       "      <th></th>\n",
       "      <th>flight_count</th>\n",
       "      <th>delayed_count</th>\n",
       "      <th>percent_delayed</th>\n",
       "      <th>average_delayed_duration</th>\n",
       "    </tr>\n",
       "    <tr>\n",
       "      <th>Destination_Airport</th>\n",
       "      <th></th>\n",
       "      <th></th>\n",
       "      <th></th>\n",
       "      <th></th>\n",
       "    </tr>\n",
       "  </thead>\n",
       "  <tbody>\n",
       "    <tr>\n",
       "      <th>ABQ</th>\n",
       "      <td>93</td>\n",
       "      <td>29</td>\n",
       "      <td>0.311828</td>\n",
       "      <td>28.430108</td>\n",
       "    </tr>\n",
       "    <tr>\n",
       "      <th>ANC</th>\n",
       "      <td>478</td>\n",
       "      <td>142</td>\n",
       "      <td>0.297071</td>\n",
       "      <td>26.052301</td>\n",
       "    </tr>\n",
       "    <tr>\n",
       "      <th>ATL</th>\n",
       "      <td>98</td>\n",
       "      <td>38</td>\n",
       "      <td>0.387755</td>\n",
       "      <td>33.938776</td>\n",
       "    </tr>\n",
       "    <tr>\n",
       "      <th>AUS</th>\n",
       "      <td>275</td>\n",
       "      <td>88</td>\n",
       "      <td>0.320000</td>\n",
       "      <td>29.509091</td>\n",
       "    </tr>\n",
       "    <tr>\n",
       "      <th>BNA</th>\n",
       "      <td>83</td>\n",
       "      <td>38</td>\n",
       "      <td>0.457831</td>\n",
       "      <td>36.240964</td>\n",
       "    </tr>\n",
       "    <tr>\n",
       "      <th>BOI</th>\n",
       "      <td>63</td>\n",
       "      <td>21</td>\n",
       "      <td>0.333333</td>\n",
       "      <td>23.619048</td>\n",
       "    </tr>\n",
       "    <tr>\n",
       "      <th>BOS</th>\n",
       "      <td>270</td>\n",
       "      <td>107</td>\n",
       "      <td>0.396296</td>\n",
       "      <td>36.462963</td>\n",
       "    </tr>\n",
       "    <tr>\n",
       "      <th>BUR</th>\n",
       "      <td>176</td>\n",
       "      <td>34</td>\n",
       "      <td>0.193182</td>\n",
       "      <td>23.000000</td>\n",
       "    </tr>\n",
       "    <tr>\n",
       "      <th>BWI</th>\n",
       "      <td>62</td>\n",
       "      <td>21</td>\n",
       "      <td>0.338710</td>\n",
       "      <td>34.967742</td>\n",
       "    </tr>\n",
       "    <tr>\n",
       "      <th>BZN</th>\n",
       "      <td>90</td>\n",
       "      <td>36</td>\n",
       "      <td>0.400000</td>\n",
       "      <td>33.566667</td>\n",
       "    </tr>\n",
       "  </tbody>\n",
       "</table>\n",
       "</div>"
      ],
      "text/plain": [
       "                     flight_count  delayed_count  percent_delayed  \\\n",
       "Destination_Airport                                                 \n",
       "ABQ                            93             29         0.311828   \n",
       "ANC                           478            142         0.297071   \n",
       "ATL                            98             38         0.387755   \n",
       "AUS                           275             88         0.320000   \n",
       "BNA                            83             38         0.457831   \n",
       "BOI                            63             21         0.333333   \n",
       "BOS                           270            107         0.396296   \n",
       "BUR                           176             34         0.193182   \n",
       "BWI                            62             21         0.338710   \n",
       "BZN                            90             36         0.400000   \n",
       "\n",
       "                     average_delayed_duration  \n",
       "Destination_Airport                            \n",
       "ABQ                                 28.430108  \n",
       "ANC                                 26.052301  \n",
       "ATL                                 33.938776  \n",
       "AUS                                 29.509091  \n",
       "BNA                                 36.240964  \n",
       "BOI                                 23.619048  \n",
       "BOS                                 36.462963  \n",
       "BUR                                 23.000000  \n",
       "BWI                                 34.967742  \n",
       "BZN                                 33.566667  "
      ]
     },
     "execution_count": 9,
     "metadata": {},
     "output_type": "execute_result"
    }
   ],
   "source": [
    "# Summarize the delay data by destination airport\n",
    "df3 = df.groupby([\"Destination_Airport\"]).agg(\n",
    "    flight_count = pd.NamedAgg(column = 'Flight_Number', aggfunc = len),\n",
    "    delayed_count = pd.NamedAgg(column = 'Take_Off_Delay_30', aggfunc = sum),\n",
    "    percent_delayed = pd.NamedAgg(column = 'Take_Off_Delay_30', aggfunc = np.mean),\n",
    "    average_delayed_duration = pd.NamedAgg(column = 'Take_Off_Delay_Minutes', aggfunc = np.mean),  \n",
    ")\n",
    "df3.head(10)"
   ]
  },
  {
   "cell_type": "markdown",
   "metadata": {},
   "source": [
    "## Add feature lists\n",
    "\n",
    "In this section, add two new feature lists to the dataset uploaded to AI Catalog. This task can be done before or after a project is created. \n",
    "\n",
    "You will use self-joins with the same dataset __four times__. The two feature lists will be called 'Known Features' and 'Self-Join Features'. Adding the feature lists to AI Catalog avoids repeating this step for each of the four joins.\n",
    "\n",
    "In the data dictionary, there are numerous features which are not known at prediction time. This includes the total delay in minutes and all the subcategories for how many minutes of delay came from taxiing, security or waiting for an inbound aircraft, etc. It is very important that these features are not included in the feature list used to run Autopilot. Many of these features may be flagged as having [target leakage](https://docs.datarobot.com/en/docs/data/analyze-data/data-quality.html#target-leakage).\n",
    "\n",
    "At the same time, past values for these features could be very informative and helpful for the model. It is okay for these features to be in the Self-Join Features list because you will be adding a one day gap between the historical data and the prediction data when generating lagged features. __Notice also that the target feature 'Take_Off_Delay_30' is in the list of Self-Join Features__.\n",
    "\n",
    "<p align=\"center\">\n",
    "  <img src=\"https://docs.datarobot.com/en/docs/images/safer-pp-0.png\" alt=\"Alt Text\" />\n",
    "</p>\n",
    "<p align=\"center\">\n",
    "  <em>In this use case, the gap between the cutoff and prediction point is 1 day. </em>\n",
    "</p>\n",
    "\n",
    "For more details, visit the [Feature Discovery Documentation](https://docs.datarobot.com/en/docs/data/transform-data/feature-discovery/fd-time.html#prediction-point-and-time-indexes)"
   ]
  },
  {
   "cell_type": "markdown",
   "metadata": {},
   "source": [
    "### Create new feature lists"
   ]
  },
  {
   "cell_type": "code",
   "execution_count": 10,
   "metadata": {},
   "outputs": [
    {
     "data": {
      "text/plain": [
       "'646c0ea95d283c33054df6c0'"
      ]
     },
     "execution_count": 10,
     "metadata": {},
     "output_type": "execute_result"
    }
   ],
   "source": [
    "self_join_features = ['Carrier_Code','Origin_Airport','Flight_Number','Tail_Number',\n",
    "                      'Destination_Airport','Scheduled_Departure_Time','Take_Off_Delay_Minutes',\n",
    "                      'Take_Off_Delay_30','Taxi_Out_Time','Delay_Carrier','Delay_Weather',\n",
    "                      'Delay_National_Aviation_System','Delay_Security','Delay_Late_Aircraft_Arrival']\n",
    "\n",
    "self_join_features_list = dataset.create_featurelist(name = 'Self_Join_Features', features = self_join_features)\n",
    "\n",
    "self_join_features_list_id = self_join_features_list.id\n",
    "self_join_features_list_id"
   ]
  },
  {
   "cell_type": "code",
   "execution_count": 11,
   "metadata": {},
   "outputs": [
    {
     "data": {
      "text/plain": [
       "'646c0ea91a9478889f450f90'"
      ]
     },
     "execution_count": 11,
     "metadata": {},
     "output_type": "execute_result"
    }
   ],
   "source": [
    "known_features = ['Carrier_Code','Origin_Airport','Flight_Number','Tail_Number',\n",
    "                  'Destination_Airport','Scheduled_Departure_Time']\n",
    "\n",
    "known_features_list = dataset.create_featurelist(name = 'Known_Features', features = known_features)\n",
    "\n",
    "known_features_list_id = known_features_list.id\n",
    "known_features_list_id"
   ]
  },
  {
   "cell_type": "code",
   "execution_count": 12,
   "metadata": {},
   "outputs": [
    {
     "data": {
      "text/plain": [
       "[DatasetFeaturelist(Informative Features),\n",
       " DatasetFeaturelist(universe),\n",
       " DatasetFeaturelist(Raw Features),\n",
       " DatasetFeaturelist(Known_Features),\n",
       " DatasetFeaturelist(Self_Join_Features)]"
      ]
     },
     "execution_count": 12,
     "metadata": {},
     "output_type": "execute_result"
    }
   ],
   "source": [
    "#Check that the newly created feature lists are present\n",
    "dataset.get_featurelists()"
   ]
  },
  {
   "cell_type": "markdown",
   "metadata": {},
   "source": [
    "## Create a project and start modeling\n",
    "\n",
    "To create a project from a dataset in the AI Catalog use `create_from_dataset()`.\n",
    "\n",
    "Start a new project and obtain its ID number for future reference. You can optionally open the DataRobot GUI to see a new project listed after you execute the next cell."
   ]
  },
  {
   "cell_type": "code",
   "execution_count": 13,
   "metadata": {},
   "outputs": [
    {
     "data": {
      "text/plain": [
       "'646c0eaa6c20cb10cb228e16'"
      ]
     },
     "execution_count": 13,
     "metadata": {},
     "output_type": "execute_result"
    }
   ],
   "source": [
    "project = dr.Project.create_from_dataset(dataset.id, project_name='Airline Delays Self Joins Notebook Demo')\n",
    "project.id"
   ]
  },
  {
   "cell_type": "code",
   "execution_count": 14,
   "metadata": {},
   "outputs": [
    {
     "data": {
      "text/plain": [
       "[Featurelist(Raw Features),\n",
       " Featurelist(Informative Features),\n",
       " Featurelist(Known_Features),\n",
       " Featurelist(Self_Join_Features)]"
      ]
     },
     "execution_count": 14,
     "metadata": {},
     "output_type": "execute_result"
    }
   ],
   "source": [
    "# List the feature lists associated with the project\n",
    "\n",
    "feature_lists_for_project = project.get_featurelists()\n",
    "feature_lists_for_project"
   ]
  },
  {
   "cell_type": "code",
   "execution_count": 15,
   "metadata": {},
   "outputs": [
    {
     "data": {
      "text/plain": [
       "'646c0eb5f36ee3670e6e2280'"
      ]
     },
     "execution_count": 15,
     "metadata": {},
     "output_type": "execute_result"
    }
   ],
   "source": [
    "# Extract the known feature list ID for later use\n",
    "primary_featurelist = [flist for flist in feature_lists_for_project if flist.name.find('Known')!=-1][0]\n",
    "primary_featurelist_id = primary_featurelist.id\n",
    "primary_featurelist_id"
   ]
  },
  {
   "cell_type": "markdown",
   "metadata": {},
   "source": [
    "### Define self-join rules\n",
    "\n",
    "In this section you define exactly how the dataset should be joined onto itself. Define four secondary data sets using `dr.DatasetDefinition()` because you want to self-join four times. Then define four relationships using `dr.Relationship()`."
   ]
  },
  {
   "cell_type": "code",
   "execution_count": 16,
   "metadata": {},
   "outputs": [],
   "source": [
    "# Define the relationships and join keys for the four secondary data sets (which are the same primary dataset over and over again)\n",
    "# Note - we are using Self_Join_Features explicitly\n",
    "\n",
    "#Define the secondary dataset named Carrier for Carrier Code\n",
    "cc_secondary = dr.DatasetDefinition(\n",
    "    identifier='Carrier',\n",
    "    catalog_id=dataset.id,\n",
    "    catalog_version_id= dataset.version_id,\n",
    "    primary_temporal_key='Date',\n",
    "    feature_list_id=self_join_features_list_id\n",
    ")\n",
    "\n",
    "#Define the secondary dataset named Origin for Origin Airport\n",
    "oa_secondary = dr.DatasetDefinition(\n",
    "    identifier='Origin',\n",
    "    catalog_id=dataset.id,\n",
    "    catalog_version_id= dataset.version_id,\n",
    "    primary_temporal_key='Date',\n",
    "    feature_list_id=self_join_features_list_id\n",
    ")\n",
    "\n",
    "#Define the secondary dataset named Destination for Destination Airport\n",
    "da_secondary = dr.DatasetDefinition(\n",
    "    identifier='Destination',\n",
    "    catalog_id=dataset.id,\n",
    "    catalog_version_id= dataset.version_id,\n",
    "    primary_temporal_key='Date',\n",
    "    feature_list_id=self_join_features_list_id\n",
    ")\n",
    "\n",
    "#Define the secondary dataset named CCOA for Carrier Code - Origin Airport\n",
    "ccoa_secondary = dr.DatasetDefinition(\n",
    "    identifier='CCOA',\n",
    "    catalog_id=dataset.id,\n",
    "    catalog_version_id= dataset.version_id,\n",
    "    primary_temporal_key='Date',\n",
    "    feature_list_id=self_join_features_list_id\n",
    ")\n",
    "\n"
   ]
  },
  {
   "cell_type": "code",
   "execution_count": 17,
   "metadata": {},
   "outputs": [],
   "source": [
    "# Define the relationship between the primary and Carrier data sets and the feature derivation windows (FDW) to test\n",
    "# In this case, looking back 3 days and a 10 days ('start'), and leaving a 1 day gap between the prediction point ('end') \n",
    "# This FDW is used for three of the secondary datasets and 14-day is used for the fourth dataset\n",
    "# A maximum of three FDWs can be defined for each secondary dataset\n",
    "\n",
    "cc_relationship = dr.Relationship(\n",
    "    dataset2_identifier='Carrier',\n",
    "    dataset1_keys=['Carrier_Code'],\n",
    "    dataset2_keys=['Carrier_Code'],\n",
    "    feature_derivation_windows=[{'start': -3, 'end': -1, 'unit': 'DAY'},\n",
    "                                {'start': -10, 'end': -1, 'unit': 'DAY'}],\n",
    "    prediction_point_rounding=1,\n",
    "    prediction_point_rounding_time_unit='DAY'\n",
    ")\n",
    "\n",
    "# Define the relationship between the primary dataset and Origin\n",
    "oa_relationship = dr.Relationship(\n",
    "    dataset2_identifier='Origin',\n",
    "    dataset1_keys=['Origin_Airport'],\n",
    "    dataset2_keys=['Origin_Airport'],\n",
    "    feature_derivation_windows=[{'start': -3, 'end': -1, 'unit': 'DAY'},\n",
    "                                {'start': -10, 'end': -1, 'unit': 'DAY'}],\n",
    "    prediction_point_rounding=1,\n",
    "    prediction_point_rounding_time_unit='DAY'\n",
    ")\n",
    "\n",
    "# Define the relationship between the primary dataset and Destination\n",
    "da_relationship = dr.Relationship(\n",
    "    dataset2_identifier='Destination',\n",
    "    dataset1_keys=['Destination_Airport'],\n",
    "    dataset2_keys=['Destination_Airport'],\n",
    "    feature_derivation_windows=[{'start': -3, 'end': -1, 'unit': 'DAY'},\n",
    "                                {'start': -10, 'end': -1, 'unit': 'DAY'}],\n",
    "    prediction_point_rounding=1,\n",
    "    prediction_point_rounding_time_unit='DAY'\n",
    ")\n",
    "\n",
    "# Define the relationship between the primary dataset and CCOA\n",
    "ccoa_relationship = dr.Relationship(\n",
    "    dataset2_identifier='CCOA',\n",
    "    dataset1_keys=['Origin_Airport', 'Carrier_Code'],\n",
    "    dataset2_keys=['Origin_Airport', 'Carrier_Code'],\n",
    "    feature_derivation_window_start=-14,\n",
    "    feature_derivation_window_end=-1,\n",
    "    feature_derivation_window_time_unit='DAY',\n",
    "    prediction_point_rounding=1,\n",
    "    prediction_point_rounding_time_unit='DAY'\n",
    ")\n"
   ]
  },
  {
   "cell_type": "markdown",
   "metadata": {},
   "source": [
    "Once all the datasets and relationships are defined they can be put into a list for later use."
   ]
  },
  {
   "cell_type": "code",
   "execution_count": 18,
   "metadata": {},
   "outputs": [],
   "source": [
    "# Put the four data set definitions and four relationships into lists\n",
    "dataset_definitions = [cc_secondary, oa_secondary, da_secondary, ccoa_secondary]\n",
    "relationships = [cc_relationship, oa_relationship, da_relationship, ccoa_relationship]"
   ]
  },
  {
   "cell_type": "markdown",
   "metadata": {},
   "source": [
    "DataRobot offers you control over the types of aggregations that will be performed during feature engineering. Turning off aggregations that don't make sense for the business problem will save time. \n",
    "\n",
    "For example, if you have filled in the 1st of every month as a placeholder for a monthly dataset, then the day of the week is unlikely to be a useful predictor. Or, if you have only names of movies as a text field, the word count in unlikley to be a useful predictor. \n",
    "\n",
    "Use knowledge of the business problem to make appropriate selections. Err on the side of including borderline aggregations. It is possible to ignore unhelpful features later in the modeling stage. But, you cannot go back and generate additional aggregations if you change you mind about an excluded aggregation."
   ]
  },
  {
   "cell_type": "markdown",
   "metadata": {},
   "source": [
    "### Define Feature Discovery settings"
   ]
  },
  {
   "cell_type": "code",
   "execution_count": 19,
   "metadata": {},
   "outputs": [],
   "source": [
    "# Define the aggregations to be created\n",
    "feature_discovery_settings = [{'name': 'enable_days_from_prediction_point', 'value': True},\n",
    " {'name': 'enable_hour', 'value': True},\n",
    " {'name': 'enable_categorical_num_unique', 'value': True},\n",
    " {'name': 'enable_categorical_statistics', 'value': True},\n",
    " {'name': 'enable_numeric_minimum', 'value': True},\n",
    " {'name': 'enable_token_counts', 'value': True},\n",
    " {'name': 'enable_latest_value', 'value': True},\n",
    " {'name': 'enable_numeric_standard_deviation', 'value': True},\n",
    " {'name': 'enable_numeric_skewness', 'value': True},\n",
    " {'name': 'enable_day_of_week', 'value': True},\n",
    " {'name': 'enable_entropy', 'value': True},\n",
    " {'name': 'enable_numeric_median', 'value': True},\n",
    " {'name': 'enable_word_count', 'value': True},\n",
    " {'name': 'enable_pairwise_time_difference', 'value': True},\n",
    " {'name': 'enable_days_since_previous_event', 'value': True},\n",
    " {'name': 'enable_numeric_maximum', 'value': True},\n",
    " {'name': 'enable_numeric_kurtosis', 'value': True},\n",
    " {'name': 'enable_most_frequent', 'value': True},\n",
    " {'name': 'enable_day', 'value': True},\n",
    " {'name': 'enable_numeric_average', 'value': True},\n",
    " {'name': 'enable_summarized_counts', 'value': True},\n",
    " {'name': 'enable_missing_count', 'value': False},\n",
    " {'name': 'enable_record_count', 'value': True},\n",
    " {'name': 'enable_numeric_sum', 'value': True}]"
   ]
  },
  {
   "cell_type": "markdown",
   "metadata": {},
   "source": [
    "### Bring all the Initial Settings Together "
   ]
  },
  {
   "cell_type": "markdown",
   "metadata": {},
   "source": [
    "Next use ```RelationshipsConfiguration.create()``` to pass the four dataset definitions, the four relationships and the feture settings to the project.\n",
    "\n",
    "This is the end of configuring the Self Joins. The rest of the notebook is largely identical to other DataRobot projects. Do notice that the ID corresponding to the full Relationships Configuration is needed for hitting the virtual 'Start' button with ```project.analyze_and_model()```."
   ]
  },
  {
   "cell_type": "code",
   "execution_count": 20,
   "metadata": {},
   "outputs": [],
   "source": [
    "# Create the relationships configuration to define connection between the datasets\n",
    "relationship_config = dr.RelationshipsConfiguration.create(dataset_definitions=dataset_definitions, \n",
    "                                                           relationships=relationships,\n",
    "                                                          feature_discovery_settings=feature_discovery_settings)"
   ]
  },
  {
   "cell_type": "markdown",
   "metadata": {},
   "source": [
    "The steps performed in this notebook are reflected in the DataRobot GUI. At this point the relationship diagram should look like this."
   ]
  },
  {
   "attachments": {
    "Screenshot%20from%202023-05-10%2016-40-56.png": {
     "image/png": "[encoded data removed]"
    }
   },
   "cell_type": "markdown",
   "metadata": {},
   "source": [
    "![Screenshot%20from%202023-05-10%2016-40-56.png](attachment:Screenshot%20from%202023-05-10%2016-40-56.png)"
   ]
  },
  {
   "cell_type": "markdown",
   "metadata": {},
   "source": [
    "### Start modeling\n",
    "\n",
    "The project is ready to be started. There are numerous configurable settings shown in the next two cells which are out of scope for this notebook. Visit the [DataRobot documentation](https://docs.datarobot.com/en/docs/modeling/index.html) to learn more about advanced options, modeling modes, worker counts and selecting an optimization metric."
   ]
  },
  {
   "cell_type": "code",
   "execution_count": 21,
   "metadata": {},
   "outputs": [],
   "source": [
    "# These two advanced options will speed up the Autopilot run\n",
    "# Stop the model competition before creating blenders (also called ensemble models) \n",
    "# Don't require that a model be prepared for deployment until after you examine the results\n",
    "\n",
    "advanced_options = dr.AdvancedOptions(\n",
    "    blend_best_models=False,\n",
    "    prepare_model_for_deployment=False)"
   ]
  },
  {
   "cell_type": "code",
   "execution_count": null,
   "metadata": {},
   "outputs": [],
   "source": [
    "# Start modeling\n",
    "# Once you execute this cell, the initial settings can no longer be changed\n",
    "# Note the inclusion of the correct featurelist_id for only the Known features\n",
    "# Note the inclusion of the relationships_configuration_id\n",
    "\n",
    "project.analyze_and_model(target='Take_Off_Delay_30',\n",
    "                   mode=dr.AUTOPILOT_MODE.FULL_AUTO,\n",
    "                   metric = 'LogLoss',\n",
    "                   featurelist_id = primary_featurelist_id,\n",
    "                   relationships_configuration_id=relationship_config.id,\n",
    "                   feature_engineering_prediction_point='Date', \n",
    "                   advanced_options = advanced_options,\n",
    "                   worker_count=-1) #Entering -1 uses all available workers\n",
    "\n",
    "# Setting timeout=None as the feature engineering and reduction for this dataset is extensive\n",
    "project.wait_for_autopilot(timeout=60*60*4)"
   ]
  },
  {
   "cell_type": "code",
   "execution_count": 24,
   "metadata": {},
   "outputs": [
    {
     "data": {
      "text/plain": [
       "\u001b[0;31mSignature:\u001b[0m\n",
       "\u001b[0mproject\u001b[0m\u001b[0;34m.\u001b[0m\u001b[0mwait_for_autopilot\u001b[0m\u001b[0;34m(\u001b[0m\u001b[0;34m\u001b[0m\n",
       "\u001b[0;34m\u001b[0m    \u001b[0mcheck_interval\u001b[0m\u001b[0;34m:\u001b[0m \u001b[0;34m'Union[float, int]'\u001b[0m \u001b[0;34m=\u001b[0m \u001b[0;36m20.0\u001b[0m\u001b[0;34m,\u001b[0m\u001b[0;34m\u001b[0m\n",
       "\u001b[0;34m\u001b[0m    \u001b[0mtimeout\u001b[0m\u001b[0;34m:\u001b[0m \u001b[0;34m'Optional[Union[float, int]]'\u001b[0m \u001b[0;34m=\u001b[0m \u001b[0;36m86400\u001b[0m\u001b[0;34m,\u001b[0m\u001b[0;34m\u001b[0m\n",
       "\u001b[0;34m\u001b[0m    \u001b[0mverbosity\u001b[0m\u001b[0;34m:\u001b[0m \u001b[0;34m'Union[int, VERBOSITY_LEVEL]'\u001b[0m \u001b[0;34m=\u001b[0m \u001b[0;36m1\u001b[0m\u001b[0;34m,\u001b[0m\u001b[0;34m\u001b[0m\n",
       "\u001b[0;34m\u001b[0m\u001b[0;34m)\u001b[0m \u001b[0;34m->\u001b[0m \u001b[0;34m'None'\u001b[0m\u001b[0;34m\u001b[0m\u001b[0;34m\u001b[0m\u001b[0m\n",
       "\u001b[0;31mDocstring:\u001b[0m\n",
       "Blocks until autopilot is finished. This will raise an exception if the autopilot\n",
       "mode is changed from AUTOPILOT_MODE.FULL_AUTO.\n",
       "\n",
       "It makes API calls to sync the project state with the server and to look at\n",
       "which jobs are enqueued.\n",
       "\n",
       "Parameters\n",
       "----------\n",
       "check_interval : float or int\n",
       "    The maximum time (in seconds) to wait between checks for whether autopilot is finished\n",
       "timeout : float or int or None\n",
       "    After this long (in seconds), we give up. If None, never timeout.\n",
       "verbosity:\n",
       "    This should be VERBOSITY_LEVEL.SILENT or VERBOSITY_LEVEL.VERBOSE.\n",
       "    For VERBOSITY_LEVEL.SILENT, nothing will be displayed about progress.\n",
       "    For VERBOSITY_LEVEL.VERBOSE, the number of jobs in progress or queued is shown.\n",
       "    Note that new jobs are added to the queue along the way.\n",
       "\n",
       "Raises\n",
       "------\n",
       "AsyncTimeoutError\n",
       "    If autopilot does not finished in the amount of time specified\n",
       "RuntimeError\n",
       "    If a condition is detected that indicates that autopilot will not complete\n",
       "    on its own\n",
       "\u001b[0;31mFile:\u001b[0m      /usr/local/lib/python3.9/site-packages/datarobot/models/project.py\n",
       "\u001b[0;31mType:\u001b[0m      method\n"
      ]
     },
     "metadata": {},
     "output_type": "display_data"
    }
   ],
   "source": [
    "?project.wait_for_autopilot"
   ]
  },
  {
   "cell_type": "markdown",
   "metadata": {},
   "source": [
    "## Examine newly created features\n",
    "\n",
    "In this section, retrieve an examine the list of features post feature-engineering."
   ]
  },
  {
   "cell_type": "code",
   "execution_count": 3,
   "metadata": {},
   "outputs": [],
   "source": [
    "# project = dr.Project.get('646c0eaa6c20cb10cb228e16') #since the prior cell could take a long time to run, you might want to re-start from this point by entering an existing project ID"
   ]
  },
  {
   "cell_type": "code",
   "execution_count": 4,
   "metadata": {},
   "outputs": [
    {
     "data": {
      "text/plain": [
       "731"
      ]
     },
     "execution_count": 4,
     "metadata": {},
     "output_type": "execute_result"
    }
   ],
   "source": [
    "# Retrieve all features available at this point and count them\n",
    "all_features = project.get_features()\n",
    "len(all_features)"
   ]
  },
  {
   "cell_type": "code",
   "execution_count": 5,
   "metadata": {},
   "outputs": [
    {
     "name": "stdout",
     "output_type": "stream",
     "text": [
      "Feature(Carrier[Taxi_Out_Time] (2 days avg by Origin_Airport=PDX))\n",
      "Feature(Origin[Take_Off_Delay_Minutes] (9 days kurtosis))\n",
      "Feature(Destination[Carrier_Code] (2 days entropy))\n",
      "Feature(Destination[Delay_Weather] (9 days skewness))\n",
      "Feature(Origin[Take_Off_Delay_Minutes] (9 days max by Carrier_Code=HA))\n",
      "Feature(Origin[Take_Off_Delay_Minutes] (9 days max by Carrier_Code=UA))\n",
      "Feature(Origin[Delay_Carrier] (9 days std))\n",
      "Feature(Carrier[Take_Off_Delay_Minutes] (2 days min))\n",
      "Feature(Carrier[Taxi_Out_Time] (9 days kurtosis))\n",
      "Feature(Carrier[Delay_Carrier] (9 days max by Origin_Airport=SFO))\n",
      "Feature((Origin[Take_Off_Delay_Minutes] (2 days sum by Carrier_Code=HA)) DIVIDED BY (Origin[Take_Off_Delay_Minutes] (9 days sum by Carrier_Code=HA)))\n",
      "Feature(Delay_Late_Aircraft_Arrival)\n",
      "Feature(Carrier[Take_Off_Delay_Minutes] (9 days median))\n",
      "Feature(CCOA[Destination_Airport] (13 days counts))\n",
      "Feature(Destination[Delay_Carrier] (9 days avg by Carrier_Code=UA))\n",
      "Feature(Carrier[Take_Off_Delay_Minutes] (9 days avg by Origin_Airport=SFO))\n",
      "Feature(Carrier[Take_Off_Delay_30] (9 days std))\n",
      "Feature(CCOA[Delay_Weather] (13 days sum))\n",
      "Feature(Carrier[Flight_Number] (9 days median))\n",
      "Feature(Destination[Flight_Number] (2 days sum))\n"
     ]
    }
   ],
   "source": [
    "# Inspect 20 random feature names\n",
    "\n",
    "for x in range(20):\n",
    "    print(random.choice(all_features))    "
   ]
  },
  {
   "cell_type": "markdown",
   "metadata": {},
   "source": [
    "## Analyze accuracy in the top-performing model\n",
    "\n",
    "Retrieve the top model and compare it to a reference model created without the self-join method."
   ]
  },
  {
   "cell_type": "code",
   "execution_count": 6,
   "metadata": {},
   "outputs": [],
   "source": [
    "# Get all the models for the project. The top model for the optimization metric on the validation set is the first one.\n",
    "models = project.get_models()\n",
    "top_model = models[0]"
   ]
  },
  {
   "cell_type": "code",
   "execution_count": 7,
   "metadata": {},
   "outputs": [
    {
     "data": {
      "text/plain": [
       "'The top model is a eXtreme Gradient Boosted Trees Classifier with Early Stopping with a Log Loss of 0.534656 and an AUC of 0.7224519999999999.'"
      ]
     },
     "execution_count": 7,
     "metadata": {},
     "output_type": "execute_result"
    }
   ],
   "source": [
    "# Print the LogLoss and AUC for the top model\n",
    "f\"The top model is a {top_model.model_type} with a Log Loss of {top_model.metrics['LogLoss']['crossValidation']} and an AUC of {top_model.metrics['AUC']['crossValidation']}.\""
   ]
  },
  {
   "cell_type": "markdown",
   "metadata": {},
   "source": [
    "Not shown in this notebook is the creation of the reference project that does not use self-joins. The next cell retrieves the metrics for that project. The version with self-joins is more accurate."
   ]
  },
  {
   "cell_type": "code",
   "execution_count": 9,
   "metadata": {},
   "outputs": [
    {
     "name": "stdout",
     "output_type": "stream",
     "text": [
      "The top model is a RandomForest Classifier (Gini) with a Log Loss of 0.550994 and an AUC of 0.694954.\n"
     ]
    }
   ],
   "source": [
    "# reference_project_id = '645ec3c53459f18e0645122b'\n",
    "# reference_project = dr.Project.get(reference_project_id)\n",
    "# reference_top_model = reference_project.get_top_model(metric=\"LogLoss\")\n",
    "\n",
    "# #Print the LogLoss and AUC for the top model\n",
    "# f\"The top model is a {reference_top_model.model_type} with a Log Loss of {reference_top_model.metrics['LogLoss']['crossValidation']} and an AUC of {reference_top_model.metrics['AUC']['crossValidation']}.\"\n",
    "print('The top model is a RandomForest Classifier (Gini) with a Log Loss of 0.550994 and an AUC of 0.694954.')"
   ]
  },
  {
   "cell_type": "markdown",
   "metadata": {},
   "source": [
    "## Get Feature Impact\n",
    "\n",
    "Look specifically at the top model in the self-joins project to see what features are included. It turns out that almost all the features created are being used in the model which is often undesirable. This notebook offers simple method for reducing the number of features based on a threshold feature impact value. It is noteworthy that 80 different features are contributing 1% or more. \n",
    "\n",
    "Continuing to improve the accuracy of the top model through further feature reduction is out of scope for this notebook, but would be the typical next step."
   ]
  },
  {
   "cell_type": "code",
   "execution_count": 10,
   "metadata": {},
   "outputs": [
    {
     "data": {
      "text/html": [
       "<div>\n",
       "<style scoped>\n",
       "    .dataframe tbody tr th:only-of-type {\n",
       "        vertical-align: middle;\n",
       "    }\n",
       "\n",
       "    .dataframe tbody tr th {\n",
       "        vertical-align: top;\n",
       "    }\n",
       "\n",
       "    .dataframe thead th {\n",
       "        text-align: right;\n",
       "    }\n",
       "</style>\n",
       "<table border=\"1\" class=\"dataframe\">\n",
       "  <thead>\n",
       "    <tr style=\"text-align: right;\">\n",
       "      <th></th>\n",
       "      <th>featureName</th>\n",
       "      <th>impactNormalized</th>\n",
       "      <th>impactUnnormalized</th>\n",
       "      <th>redundantWith</th>\n",
       "    </tr>\n",
       "  </thead>\n",
       "  <tbody>\n",
       "    <tr>\n",
       "      <th>0</th>\n",
       "      <td>Scheduled_Departure_Time</td>\n",
       "      <td>1.000000</td>\n",
       "      <td>0.056544</td>\n",
       "      <td>None</td>\n",
       "    </tr>\n",
       "    <tr>\n",
       "      <th>1</th>\n",
       "      <td>Origin[Tail_Number] (9 days counts)</td>\n",
       "      <td>0.187801</td>\n",
       "      <td>0.010619</td>\n",
       "      <td>None</td>\n",
       "    </tr>\n",
       "    <tr>\n",
       "      <th>2</th>\n",
       "      <td>CCOA[Tail_Number] (13 days counts)</td>\n",
       "      <td>0.143865</td>\n",
       "      <td>0.008135</td>\n",
       "      <td>None</td>\n",
       "    </tr>\n",
       "    <tr>\n",
       "      <th>3</th>\n",
       "      <td>Tail_Number</td>\n",
       "      <td>0.078656</td>\n",
       "      <td>0.004447</td>\n",
       "      <td>None</td>\n",
       "    </tr>\n",
       "    <tr>\n",
       "      <th>4</th>\n",
       "      <td>Origin[Tail_Number] (2 days counts)</td>\n",
       "      <td>0.071728</td>\n",
       "      <td>0.004056</td>\n",
       "      <td>None</td>\n",
       "    </tr>\n",
       "    <tr>\n",
       "      <th>...</th>\n",
       "      <td>...</td>\n",
       "      <td>...</td>\n",
       "      <td>...</td>\n",
       "      <td>...</td>\n",
       "    </tr>\n",
       "    <tr>\n",
       "      <th>715</th>\n",
       "      <td>CCOA[Delay_Security] (13 days counts)</td>\n",
       "      <td>-0.000784</td>\n",
       "      <td>-0.000044</td>\n",
       "      <td>None</td>\n",
       "    </tr>\n",
       "    <tr>\n",
       "      <th>716</th>\n",
       "      <td>Destination[Delay_Carrier] (9 days max)</td>\n",
       "      <td>-0.000828</td>\n",
       "      <td>-0.000047</td>\n",
       "      <td>None</td>\n",
       "    </tr>\n",
       "    <tr>\n",
       "      <th>717</th>\n",
       "      <td>Origin[Take_Off_Delay_Minutes] (9 days max by ...</td>\n",
       "      <td>-0.000833</td>\n",
       "      <td>-0.000047</td>\n",
       "      <td>None</td>\n",
       "    </tr>\n",
       "    <tr>\n",
       "      <th>718</th>\n",
       "      <td>Carrier[Flight_Number] (2 days kurtosis)</td>\n",
       "      <td>-0.001154</td>\n",
       "      <td>-0.000065</td>\n",
       "      <td>None</td>\n",
       "    </tr>\n",
       "    <tr>\n",
       "      <th>719</th>\n",
       "      <td>Destination[Origin_Airport] (2 days count of SEA)</td>\n",
       "      <td>-0.001182</td>\n",
       "      <td>-0.000067</td>\n",
       "      <td>None</td>\n",
       "    </tr>\n",
       "  </tbody>\n",
       "</table>\n",
       "<p>720 rows × 4 columns</p>\n",
       "</div>"
      ],
      "text/plain": [
       "                                           featureName  impactNormalized  \\\n",
       "0                             Scheduled_Departure_Time          1.000000   \n",
       "1                  Origin[Tail_Number] (9 days counts)          0.187801   \n",
       "2                   CCOA[Tail_Number] (13 days counts)          0.143865   \n",
       "3                                          Tail_Number          0.078656   \n",
       "4                  Origin[Tail_Number] (2 days counts)          0.071728   \n",
       "..                                                 ...               ...   \n",
       "715              CCOA[Delay_Security] (13 days counts)         -0.000784   \n",
       "716            Destination[Delay_Carrier] (9 days max)         -0.000828   \n",
       "717  Origin[Take_Off_Delay_Minutes] (9 days max by ...         -0.000833   \n",
       "718           Carrier[Flight_Number] (2 days kurtosis)         -0.001154   \n",
       "719  Destination[Origin_Airport] (2 days count of SEA)         -0.001182   \n",
       "\n",
       "     impactUnnormalized redundantWith  \n",
       "0              0.056544          None  \n",
       "1              0.010619          None  \n",
       "2              0.008135          None  \n",
       "3              0.004447          None  \n",
       "4              0.004056          None  \n",
       "..                  ...           ...  \n",
       "715           -0.000044          None  \n",
       "716           -0.000047          None  \n",
       "717           -0.000047          None  \n",
       "718           -0.000065          None  \n",
       "719           -0.000067          None  \n",
       "\n",
       "[720 rows x 4 columns]"
      ]
     },
     "execution_count": 10,
     "metadata": {},
     "output_type": "execute_result"
    }
   ],
   "source": [
    "# Get Feature Impact for the top model\n",
    "feature_impact = top_model.get_or_request_feature_impact(max_wait=60*60)\n",
    "\n",
    "# Save Feature Impact in the Pandas DataFrame\n",
    "fi_df = pd.DataFrame(feature_impact)\n",
    "\n",
    "fi_df"
   ]
  },
  {
   "cell_type": "code",
   "execution_count": 18,
   "metadata": {},
   "outputs": [
    {
     "data": {
      "text/plain": [
       "'720 of the 731 features are used by the model. Feature reduction techniques will help improve prediction latency and interpretability and are beyond the scope of this notebook'"
      ]
     },
     "execution_count": 18,
     "metadata": {},
     "output_type": "execute_result"
    }
   ],
   "source": [
    "f\"{len(fi_df)} of the {len(all_features)} features are used by the model. Feature reduction techniques will help improve prediction latency and interpretability and are beyond the scope of this notebook\""
   ]
  },
  {
   "cell_type": "markdown",
   "metadata": {},
   "source": [
    "One approach is to use Feature Importance Rank Ensembling (FIRE) which is covered in a different DataRobot AI Accelerator. The FIRE method uses the rank of features across multiple blueprints to identify the ones that are consistently important and is definitely worth learning about. Techniques for reducing long feature lists are out of scope for this notebook. \n",
    "\n",
    "For a quick comparison, we will retrain the top model using features that contribute over 2% to permutation based feature importance."
   ]
  },
  {
   "cell_type": "code",
   "execution_count": 11,
   "metadata": {},
   "outputs": [
    {
     "data": {
      "text/plain": [
       "91"
      ]
     },
     "execution_count": 11,
     "metadata": {},
     "output_type": "execute_result"
    }
   ],
   "source": [
    "# Count how many features contribute 1% or more\n",
    "sum(fi_df['impactNormalized'] > 0.01)"
   ]
  },
  {
   "cell_type": "code",
   "execution_count": 12,
   "metadata": {},
   "outputs": [
    {
     "data": {
      "text/plain": [
       "37"
      ]
     },
     "execution_count": 12,
     "metadata": {},
     "output_type": "execute_result"
    }
   ],
   "source": [
    "# Count how many features contribute 2% or more. We'll use this smaller subset.\n",
    "sum(fi_df['impactNormalized'] > 0.02)"
   ]
  },
  {
   "cell_type": "code",
   "execution_count": 13,
   "metadata": {},
   "outputs": [],
   "source": [
    "# Create a reduced feature list from features with a 2% or greater feature importance and retrain the top model \n",
    "n= sum(fi_df['impactNormalized'] > 0.02)\n",
    "fi = fi_df.head(n) #get feature names of top n features\n",
    "new_fl = project.create_featurelist('M{} top {}'.format(top_model.model_number, n),   #create a new feature list\n",
    "                            fi['featureName'].tolist())\n",
    "reduced_model_job = top_model.retrain(featurelist_id = new_fl.id) #start a retraining job on the top_model with the reduced feature list\n",
    "reduced_model=reduced_model_job.get_result_when_complete(max_wait =60*60)\n",
    "\n",
    "reduced_model.cross_validate() #run cross validation\n"
   ]
  },
  {
   "cell_type": "code",
   "execution_count": 20,
   "metadata": {},
   "outputs": [
    {
     "data": {
      "text/plain": [
       "'The top model with reduced features has a Log Loss of 0.537334 and an AUC of 0.7175459999999999,compared to the full top model with the full feature list and a Log Loss of 0.534656 and an AUC of 0.7224519999999999.'"
      ]
     },
     "execution_count": 20,
     "metadata": {},
     "output_type": "execute_result"
    }
   ],
   "source": [
    "reduced_model = dr.Model.get(project.id, reduced_model.id)\n",
    "f\"The top model with reduced features has a Log Loss of {reduced_model.metrics['LogLoss']['crossValidation']} and an AUC of {reduced_model.metrics['AUC']['crossValidation']},compared to the full top model with the full feature list and a Log Loss of {top_model.metrics['LogLoss']['crossValidation']} and an AUC of {top_model.metrics['AUC']['crossValidation']}.\""
   ]
  },
  {
   "cell_type": "code",
   "execution_count": 22,
   "metadata": {},
   "outputs": [
    {
     "name": "stdout",
     "output_type": "stream",
     "text": [
      "Scheduled_Departure_Time\n",
      "Origin[Tail_Number] (9 days counts)\n",
      "CCOA[Tail_Number] (13 days counts)\n",
      "Tail_Number\n",
      "Origin[Tail_Number] (2 days counts)\n",
      "Destination[Tail_Number] (9 days counts)\n",
      "Destination[Take_Off_Delay_30] (2 days counts)\n",
      "Flight_Number\n",
      "Destination[Taxi_Out_Time] (2 days std)\n",
      "Destination[Delay_National_Aviation_System] (2 days kurtosis)\n",
      "Destination[Tail_Number] (2 days most frequent)\n",
      "Destination[Flight_Number] (2 days min)\n",
      "Destination[Take_Off_Delay_Minutes] (2 days kurtosis)\n",
      "Carrier[Tail_Number] (2 days counts)\n",
      "Destination[Flight_Number] (2 days latest)\n",
      "Destination[Take_Off_Delay_Minutes] (2 days latest)\n",
      "Destination[Date] (days from Destination[Scheduled_Departure_Time]) (2 days std)\n",
      "Destination[Delay_Security] (9 days counts)\n",
      "Destination[Taxi_Out_Time] (2 days latest)\n",
      "Destination[Flight_Number] (9 days skewness)\n"
     ]
    }
   ],
   "source": [
    "# Print the top 20 features\n",
    "for feature in fi_df['featureName'][0:20]:\n",
    "    print(feature)"
   ]
  },
  {
   "cell_type": "markdown",
   "metadata": {},
   "source": [
    "Some of these features are extremely detailed and may be aggregations that the team working on the problem would not have thought of. But, the __real effectiveness of self-joins is in the time saved__. Even if the team did think of all these aggregations, coding each of the 800 features is extremely laborious.\n",
    "\n",
    "If the feature names are hard to decipher, then go to the DataRobot UI for the project where you can see a lineage chart that depicts the origin of each feature.\n",
    "\n",
    "For example:\n",
    "\n",
    "* `Origin[Tail_Number] (9 days counts)` means \"In the last 9 days, which specific planes have been at the origina airport, and how many times\"? (returned as a JSON list)\n",
    "\n",
    "* `Origin[Tail_Number] (9 days most frequent)` means \"In the last 9 days, which specific plane has been at the origina airport the most\"?\n",
    "\n",
    "* `Origin[Take_Off_Delay_Minutes] (2 days avg by Carrier_Code=AA)` means \"In the last two days, what is the avearge total delay in minutes for all American Airlines flights?\"\n",
    "\n",
    "* `Destination[Take_Off_Delay_Minutes] (9 days median)` means \"In the last 9 days, what is the 50th percentile (median) take off delay in minutes associated with the destination airport?\"\n"
   ]
  },
  {
   "cell_type": "markdown",
   "metadata": {},
   "source": [
    "## Conclusion\n",
    "\n",
    "This notebook demonstrates that __self-joins can lead to improved model performance__ and __self joins are easy to set up in DataRobot__.\n",
    "\n",
    "The self-join technique should always be considered when working with panel data that contains observations for the same subject over time.\n",
    "\n",
    "When building predictive models from panel data, the model can often be substantially improved by including engineered features which capture time-based patterns within the panel feature(s). The extent to which this technique will improve accuracy for any specific use case requires experimentation and cannot be known at the outset."
   ]
  }
 ],
 "metadata": {
  "kernelspec": {
   "display_name": "Python 3 (ipykernel)",
   "language": "python",
   "name": "python3"
  },
  "language_info": {
   "codemirror_mode": {
    "name": "ipython",
    "version": 3
   },
   "file_extension": ".py",
   "mimetype": "text/x-python",
   "name": "python",
   "nbconvert_exporter": "python",
   "pygments_lexer": "ipython3",
   "version": "3.7.12"
  },
  "vscode": {
   "interpreter": {
    "hash": "aee8b7b246df8f9039afb4144a1f6fd8d2ca17a180786b69acc140d282b71a49"
   }
  }
 },
 "nbformat": 4,
 "nbformat_minor": 4
}
