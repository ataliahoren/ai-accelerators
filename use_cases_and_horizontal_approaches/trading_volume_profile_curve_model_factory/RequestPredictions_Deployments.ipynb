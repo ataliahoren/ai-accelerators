{
 "cells": [
  {
   "cell_type": "markdown",
   "id": "2cfd5cf4-f891-4e3c-b961-8b3a9ea00645",
   "metadata": {},
   "source": [
    "# Make predictions with the deployment\n",
    "\n",
    "## Setup\n",
    "\n",
    "### Import libraries"
   ]
  },
  {
   "cell_type": "code",
   "execution_count": 1,
   "id": "706e6d6c-86a0-498b-a88e-2ad031279dcc",
   "metadata": {},
   "outputs": [
    {
     "data": {
      "text/plain": [
       "<module 'helper' from '/Users/daniel.straulino/Documents/Coding/VolumePrediction/helper.py'>"
      ]
     },
     "execution_count": 1,
     "metadata": {},
     "output_type": "execute_result"
    }
   ],
   "source": [
    "import time\n",
    "import datetime\n",
    "from datetime import timedelta\n",
    "from os.path import join\n",
    "import matplotlib\n",
    "\n",
    "import datarobot as dr\n",
    "import numpy as np\n",
    "import pandas as pd\n",
    "\n",
    "from importlib import reload\n",
    "import helper\n",
    "reload(helper)"
   ]
  },
  {
   "cell_type": "markdown",
   "id": "cc6c77fe-c82e-4755-83c5-812ab461a6db",
   "metadata": {},
   "source": [
    "### Retrieve and prepare data"
   ]
  },
  {
   "cell_type": "code",
   "execution_count": 2,
   "id": "f8aa89d9-ccd6-494a-9608-0139769a3f83",
   "metadata": {},
   "outputs": [],
   "source": [
    "data = pd.read_csv('https://s3.amazonaws.com/datarobot_public_datasets/ai_accelerators/trading_activity/stock_data.csv')"
   ]
  },
  {
   "cell_type": "code",
   "execution_count": 3,
   "id": "e13a9915-c7d0-4671-bd80-5a8aa31903f2",
   "metadata": {},
   "outputs": [],
   "source": [
    "data = data[['date', 'date_time', 'Symbol', 'minute', 'TradeVolume','TradePrice',\n",
    "       'NumTrades', 'Sector', 'Security_Type','Cap', 'Style', 'Exchange']].copy()"
   ]
  },
  {
   "cell_type": "code",
   "execution_count": 4,
   "id": "b312fc08-55d3-48bc-ab9a-c543d8bb7ed1",
   "metadata": {},
   "outputs": [],
   "source": [
    "end = data.date.max()"
   ]
  },
  {
   "cell_type": "markdown",
   "id": "03ed9c1f-923f-40b5-a70b-ec215a908ad6",
   "metadata": {},
   "source": [
    "Make sure that the prediction data has the same formatting as the training data. Use the same modeling settings from previous steps."
   ]
  },
  {
   "cell_type": "code",
   "execution_count": 5,
   "id": "837bc864-3cd8-4837-9cfd-6fabb72c215f",
   "metadata": {},
   "outputs": [],
   "source": [
    "# Number of minutes in each window\n",
    "window_length = 1\n",
    "# How many windows to look ahead/behind\n",
    "neighbours_radius = 1\n",
    "# Use percentage of volume\n",
    "percentage = True\n",
    "\n",
    "modelling_choice = {'window_length': window_length,\n",
    "                 'window_radius': neighbours_radius,\n",
    "                 'percentage': percentage}"
   ]
  },
  {
   "cell_type": "code",
   "execution_count": 6,
   "id": "7582189e-5474-41b3-830c-40c8c04cdb87",
   "metadata": {},
   "outputs": [],
   "source": [
    "aggregation_dictionary = {'date':'first',\n",
    "                          'minute':'min',\n",
    "                          'TradeVolume':['sum', 'min', 'max','std'],\n",
    "                          'TradePrice':['mean', 'min', 'max','std'],\n",
    "                          'NumTrades':['sum', 'min', 'max','std'],\n",
    "                          }"
   ]
  },
  {
   "cell_type": "code",
   "execution_count": 7,
   "id": "45b09b8d-7f3e-4151-9eef-8b7f473b927d",
   "metadata": {},
   "outputs": [],
   "source": [
    "prediction_data = helper.prepare_data_for_predictions(data, modelling_choice, aggregation_dictionary = aggregation_dictionary)"
   ]
  },
  {
   "cell_type": "markdown",
   "id": "ee2d0bc5-5c0d-4d84-8eba-314004f2bb4c",
   "metadata": {},
   "source": [
    "The next couple of cells should be deleted, because this example only looks at the last 30 minutes."
   ]
  },
  {
   "cell_type": "code",
   "execution_count": 8,
   "id": "9e36c8ae-0829-4e66-a38f-850c2380494e",
   "metadata": {},
   "outputs": [],
   "source": [
    "time_cut = timedelta(hours = 15, minutes = 30)"
   ]
  },
  {
   "cell_type": "code",
   "execution_count": 9,
   "id": "ea990273-daf9-4458-ab8c-400539baf922",
   "metadata": {},
   "outputs": [],
   "source": [
    "prediction_data = prediction_data[prediction_data.minute_min>time_cut]"
   ]
  },
  {
   "cell_type": "code",
   "execution_count": 10,
   "id": "5603a7ae-86fa-4f15-ad37-783774c9a7ee",
   "metadata": {},
   "outputs": [
    {
     "data": {
      "text/plain": [
       "Index(['date_time_', 'Symbol_', 'Sector_', 'Security_Type_', 'Cap_', 'Style_',\n",
       "       'Exchange_', 'date_first', 'minute_min', 'TradeVolume_min',\n",
       "       'TradeVolume_max', 'TradeVolume_std', 'TradePrice_mean',\n",
       "       'TradePrice_min', 'TradePrice_max', 'TradePrice_std', 'NumTrades_sum',\n",
       "       'NumTrades_min', 'NumTrades_max', 'NumTrades_std', 'TradeVolume_sum',\n",
       "       'TradeVolume_min_fwd_1', 'TradeVolume_max_fwd_1',\n",
       "       'TradeVolume_std_fwd_1', 'TradePrice_mean_fwd_1',\n",
       "       'TradePrice_min_fwd_1', 'TradePrice_max_fwd_1', 'TradePrice_std_fwd_1',\n",
       "       'NumTrades_sum_fwd_1', 'NumTrades_min_fwd_1', 'NumTrades_max_fwd_1',\n",
       "       'NumTrades_std_fwd_1', 'TradeVolume_sum_fwd_1', 'TradeVolume_min_bwd_1',\n",
       "       'TradeVolume_max_bwd_1', 'TradeVolume_std_bwd_1',\n",
       "       'TradePrice_mean_bwd_1', 'TradePrice_min_bwd_1', 'TradePrice_max_bwd_1',\n",
       "       'TradePrice_std_bwd_1', 'NumTrades_sum_bwd_1', 'NumTrades_min_bwd_1',\n",
       "       'NumTrades_max_bwd_1', 'NumTrades_std_bwd_1', 'TradeVolume_sum_bwd_1'],\n",
       "      dtype='object')"
      ]
     },
     "execution_count": 10,
     "metadata": {},
     "output_type": "execute_result"
    }
   ],
   "source": [
    "prediction_data.columns"
   ]
  },
  {
   "cell_type": "code",
   "execution_count": 11,
   "id": "2cc494ed-bbd1-4151-be31-2322fba47019",
   "metadata": {},
   "outputs": [
    {
     "data": {
      "text/html": [
       "<div>\n",
       "<style scoped>\n",
       "    .dataframe tbody tr th:only-of-type {\n",
       "        vertical-align: middle;\n",
       "    }\n",
       "\n",
       "    .dataframe tbody tr th {\n",
       "        vertical-align: top;\n",
       "    }\n",
       "\n",
       "    .dataframe thead th {\n",
       "        text-align: right;\n",
       "    }\n",
       "</style>\n",
       "<table border=\"1\" class=\"dataframe\">\n",
       "  <thead>\n",
       "    <tr style=\"text-align: right;\">\n",
       "      <th></th>\n",
       "      <th>date_first</th>\n",
       "      <th>date_time_</th>\n",
       "      <th>Symbol_</th>\n",
       "      <th>minute_min</th>\n",
       "      <th>TradeVolume_sum</th>\n",
       "      <th>Sector_</th>\n",
       "      <th>Security_Type_</th>\n",
       "      <th>Cap_</th>\n",
       "      <th>Style_</th>\n",
       "      <th>Exchange_</th>\n",
       "    </tr>\n",
       "  </thead>\n",
       "  <tbody>\n",
       "    <tr>\n",
       "      <th>148565</th>\n",
       "      <td>2018-06-08</td>\n",
       "      <td>2018-06-08 15:55:00</td>\n",
       "      <td>WMT</td>\n",
       "      <td>0 days 15:55:00</td>\n",
       "      <td></td>\n",
       "      <td>Retail</td>\n",
       "      <td>Common Stock</td>\n",
       "      <td>Large</td>\n",
       "      <td>Value</td>\n",
       "      <td>NYSE</td>\n",
       "    </tr>\n",
       "    <tr>\n",
       "      <th>148566</th>\n",
       "      <td>2018-06-08</td>\n",
       "      <td>2018-06-08 15:56:00</td>\n",
       "      <td>WMT</td>\n",
       "      <td>0 days 15:56:00</td>\n",
       "      <td></td>\n",
       "      <td>Retail</td>\n",
       "      <td>Common Stock</td>\n",
       "      <td>Large</td>\n",
       "      <td>Value</td>\n",
       "      <td>NYSE</td>\n",
       "    </tr>\n",
       "    <tr>\n",
       "      <th>148567</th>\n",
       "      <td>2018-06-08</td>\n",
       "      <td>2018-06-08 15:57:00</td>\n",
       "      <td>WMT</td>\n",
       "      <td>0 days 15:57:00</td>\n",
       "      <td></td>\n",
       "      <td>Retail</td>\n",
       "      <td>Common Stock</td>\n",
       "      <td>Large</td>\n",
       "      <td>Value</td>\n",
       "      <td>NYSE</td>\n",
       "    </tr>\n",
       "    <tr>\n",
       "      <th>148568</th>\n",
       "      <td>2018-06-08</td>\n",
       "      <td>2018-06-08 15:58:00</td>\n",
       "      <td>WMT</td>\n",
       "      <td>0 days 15:58:00</td>\n",
       "      <td></td>\n",
       "      <td>Retail</td>\n",
       "      <td>Common Stock</td>\n",
       "      <td>Large</td>\n",
       "      <td>Value</td>\n",
       "      <td>NYSE</td>\n",
       "    </tr>\n",
       "    <tr>\n",
       "      <th>148569</th>\n",
       "      <td>2018-06-08</td>\n",
       "      <td>2018-06-08 15:59:00</td>\n",
       "      <td>WMT</td>\n",
       "      <td>0 days 15:59:00</td>\n",
       "      <td></td>\n",
       "      <td>Retail</td>\n",
       "      <td>Common Stock</td>\n",
       "      <td>Large</td>\n",
       "      <td>Value</td>\n",
       "      <td>NYSE</td>\n",
       "    </tr>\n",
       "  </tbody>\n",
       "</table>\n",
       "</div>"
      ],
      "text/plain": [
       "       date_first          date_time_ Symbol_      minute_min TradeVolume_sum  \\\n",
       "148565 2018-06-08 2018-06-08 15:55:00     WMT 0 days 15:55:00                   \n",
       "148566 2018-06-08 2018-06-08 15:56:00     WMT 0 days 15:56:00                   \n",
       "148567 2018-06-08 2018-06-08 15:57:00     WMT 0 days 15:57:00                   \n",
       "148568 2018-06-08 2018-06-08 15:58:00     WMT 0 days 15:58:00                   \n",
       "148569 2018-06-08 2018-06-08 15:59:00     WMT 0 days 15:59:00                   \n",
       "\n",
       "       Sector_ Security_Type_   Cap_ Style_ Exchange_  \n",
       "148565  Retail   Common Stock  Large  Value      NYSE  \n",
       "148566  Retail   Common Stock  Large  Value      NYSE  \n",
       "148567  Retail   Common Stock  Large  Value      NYSE  \n",
       "148568  Retail   Common Stock  Large  Value      NYSE  \n",
       "148569  Retail   Common Stock  Large  Value      NYSE  "
      ]
     },
     "execution_count": 11,
     "metadata": {},
     "output_type": "execute_result"
    }
   ],
   "source": [
    "prediction_data[['date_first', 'date_time_', 'Symbol_', 'minute_min', 'TradeVolume_sum', 'Sector_', 'Security_Type_','Cap_', 'Style_', 'Exchange_']].tail()"
   ]
  },
  {
   "cell_type": "markdown",
   "id": "f05d5886-0fd8-4d14-88ac-2174e0de3612",
   "metadata": {},
   "source": [
    "Notice that the rows for which you want predictions need to have all the known in advance features, but not the value to predict."
   ]
  },
  {
   "cell_type": "markdown",
   "id": "67dbac61-b367-4404-aaf1-4decda7b93e1",
   "metadata": {},
   "source": [
    "### Retrieve relevant projects"
   ]
  },
  {
   "cell_type": "code",
   "execution_count": 12,
   "id": "d4e60a82-9ee4-466e-a007-a4b11f037081",
   "metadata": {},
   "outputs": [],
   "source": [
    "projects_df = pd.read_pickle(\"results/VolPred_percentage_each_1min_v_2022-11-14-23-12-28.pkl\")  "
   ]
  },
  {
   "cell_type": "code",
   "execution_count": 13,
   "id": "0249b637-5aa2-4f4f-b25a-f7a4cc367af1",
   "metadata": {},
   "outputs": [
    {
     "data": {
      "text/html": [
       "<div>\n",
       "<style scoped>\n",
       "    .dataframe tbody tr th:only-of-type {\n",
       "        vertical-align: middle;\n",
       "    }\n",
       "\n",
       "    .dataframe tbody tr th {\n",
       "        vertical-align: top;\n",
       "    }\n",
       "\n",
       "    .dataframe thead th {\n",
       "        text-align: right;\n",
       "    }\n",
       "</style>\n",
       "<table border=\"1\" class=\"dataframe\">\n",
       "  <thead>\n",
       "    <tr style=\"text-align: right;\">\n",
       "      <th></th>\n",
       "      <th>project_id</th>\n",
       "      <th>slice</th>\n",
       "      <th>url</th>\n",
       "      <th>project</th>\n",
       "      <th>deployment_id</th>\n",
       "      <th>MASE</th>\n",
       "      <th>model</th>\n",
       "    </tr>\n",
       "  </thead>\n",
       "  <tbody>\n",
       "    <tr>\n",
       "      <th>0</th>\n",
       "      <td>6372796b52dd086a82a4337c</td>\n",
       "      <td>15:31</td>\n",
       "      <td>https://app.datarobot.com/projects/6372796b52d...</td>\n",
       "      <td>Project(VolPred_percentage_each_1min_15:31_v_2...</td>\n",
       "      <td>6372cd615a87f42014e78ea4</td>\n",
       "      <td>0.77930</td>\n",
       "      <td>63727b232bfd63533d45ffb5</td>\n",
       "    </tr>\n",
       "    <tr>\n",
       "      <th>1</th>\n",
       "      <td>63727a1552dd086a82a43383</td>\n",
       "      <td>15:32</td>\n",
       "      <td>https://app.datarobot.com/projects/63727a1552d...</td>\n",
       "      <td>Project(VolPred_percentage_each_1min_15:32_v_2...</td>\n",
       "      <td>6372cd669221ba89ab1c2080</td>\n",
       "      <td>0.75075</td>\n",
       "      <td>63727bc1fdd002317cba0f19</td>\n",
       "    </tr>\n",
       "    <tr>\n",
       "      <th>2</th>\n",
       "      <td>63727abc9ae8e86e8b8942e4</td>\n",
       "      <td>15:33</td>\n",
       "      <td>https://app.datarobot.com/projects/63727abc9ae...</td>\n",
       "      <td>Project(VolPred_percentage_each_1min_15:33_v_2...</td>\n",
       "      <td>6372cd6b5a87f42014e78ebe</td>\n",
       "      <td>0.73442</td>\n",
       "      <td>63727c9d98110b63f2cc1e55</td>\n",
       "    </tr>\n",
       "    <tr>\n",
       "      <th>3</th>\n",
       "      <td>63727b6b9ae8e86e8b8942ff</td>\n",
       "      <td>15:34</td>\n",
       "      <td>https://app.datarobot.com/projects/63727b6b9ae...</td>\n",
       "      <td>Project(VolPred_percentage_each_1min_15:34_v_2...</td>\n",
       "      <td>6372cd701791a5dc46e78c82</td>\n",
       "      <td>0.87725</td>\n",
       "      <td>63727d3117b183a9a051832f</td>\n",
       "    </tr>\n",
       "    <tr>\n",
       "      <th>4</th>\n",
       "      <td>63727c1b2331f284bfa432cd</td>\n",
       "      <td>15:35</td>\n",
       "      <td>https://app.datarobot.com/projects/63727c1b233...</td>\n",
       "      <td>Project(VolPred_percentage_each_1min_15:35_v_2...</td>\n",
       "      <td>6372cd7529a7a77a961c2233</td>\n",
       "      <td>0.88611</td>\n",
       "      <td>63727dea9615530786f73ec4</td>\n",
       "    </tr>\n",
       "  </tbody>\n",
       "</table>\n",
       "</div>"
      ],
      "text/plain": [
       "                 project_id  slice  \\\n",
       "0  6372796b52dd086a82a4337c  15:31   \n",
       "1  63727a1552dd086a82a43383  15:32   \n",
       "2  63727abc9ae8e86e8b8942e4  15:33   \n",
       "3  63727b6b9ae8e86e8b8942ff  15:34   \n",
       "4  63727c1b2331f284bfa432cd  15:35   \n",
       "\n",
       "                                                 url  \\\n",
       "0  https://app.datarobot.com/projects/6372796b52d...   \n",
       "1  https://app.datarobot.com/projects/63727a1552d...   \n",
       "2  https://app.datarobot.com/projects/63727abc9ae...   \n",
       "3  https://app.datarobot.com/projects/63727b6b9ae...   \n",
       "4  https://app.datarobot.com/projects/63727c1b233...   \n",
       "\n",
       "                                             project  \\\n",
       "0  Project(VolPred_percentage_each_1min_15:31_v_2...   \n",
       "1  Project(VolPred_percentage_each_1min_15:32_v_2...   \n",
       "2  Project(VolPred_percentage_each_1min_15:33_v_2...   \n",
       "3  Project(VolPred_percentage_each_1min_15:34_v_2...   \n",
       "4  Project(VolPred_percentage_each_1min_15:35_v_2...   \n",
       "\n",
       "              deployment_id     MASE                     model  \n",
       "0  6372cd615a87f42014e78ea4  0.77930  63727b232bfd63533d45ffb5  \n",
       "1  6372cd669221ba89ab1c2080  0.75075  63727bc1fdd002317cba0f19  \n",
       "2  6372cd6b5a87f42014e78ebe  0.73442  63727c9d98110b63f2cc1e55  \n",
       "3  6372cd701791a5dc46e78c82  0.87725  63727d3117b183a9a051832f  \n",
       "4  6372cd7529a7a77a961c2233  0.88611  63727dea9615530786f73ec4  "
      ]
     },
     "execution_count": 13,
     "metadata": {},
     "output_type": "execute_result"
    }
   ],
   "source": [
    "projects_df.head()"
   ]
  },
  {
   "cell_type": "markdown",
   "id": "8609d911-1c71-44df-b849-95e6c9c385d3",
   "metadata": {},
   "source": [
    "### Connect to DataRobot"
   ]
  },
  {
   "cell_type": "code",
   "execution_count": 14,
   "id": "3ae9105a-17ae-4f0b-9331-4e7c4d1de9aa",
   "metadata": {},
   "outputs": [],
   "source": [
    "# Instantiate the DataRobot connection\n",
    "\n",
    "DATAROBOT_API_TOKEN = \"\" # Get this from the Developer Tools page in the DataRobot UI\n",
    "# Endpoint - This notebook uses the default endpoint for DataRobot Managed AI Cloud (US)\n",
    "DATAROBOT_ENDPOINT = \"https://app.datarobot.com/api/v2\" # This should be the URL you use to access the DataRobot UI\n",
    "\n",
    "client = dr.Client(\n",
    "    token=DATAROBOT_API_TOKEN, \n",
    "    endpoint=DATAROBOT_ENDPOINT,\n",
    "    user_agent_suffix='' #Optional but helps DataRobot improve this workflow\n",
    ")\n",
    "\n",
    "dr.client._global_client = client"
   ]
  },
  {
   "cell_type": "markdown",
   "id": "e99a09c7-ad64-496e-b82e-1b05d8ca1b55",
   "metadata": {},
   "source": [
    "## Get predictions from the deployment"
   ]
  },
  {
   "cell_type": "code",
   "execution_count": 17,
   "id": "6c41e5d9-727f-4198-ae9b-f4c996c2337b",
   "metadata": {
    "tags": []
   },
   "outputs": [
    {
     "name": "stdout",
     "output_type": "stream",
     "text": [
      "Streaming DataFrame as CSV data to DataRobot\n",
      "Created Batch Prediction job ID 6474ac8b53b73155d0e7f21a\n",
      "Waiting for DataRobot to start processing\n",
      "Job has started processing at DataRobot. Streaming results.\n",
      "Streaming DataFrame as CSV data to DataRobot\n",
      "Created Batch Prediction job ID 6474ac9ee0da4c38bc1e1a87\n",
      "Waiting for DataRobot to start processing\n",
      "Job has started processing at DataRobot. Streaming results.\n",
      "Streaming DataFrame as CSV data to DataRobot\n",
      "Created Batch Prediction job ID 6474acb253b73155d0e7f22b\n",
      "Waiting for DataRobot to start processing\n",
      "Job has started processing at DataRobot. Streaming results.\n",
      "Streaming DataFrame as CSV data to DataRobot\n",
      "Created Batch Prediction job ID 6474accf53b73155d0e7f234\n",
      "Waiting for DataRobot to start processing\n",
      "Job has started processing at DataRobot. Streaming results.\n",
      "Streaming DataFrame as CSV data to DataRobot\n",
      "Created Batch Prediction job ID 6474ace55ef37a80a8b7bca1\n",
      "Waiting for DataRobot to start processing\n",
      "Job has started processing at DataRobot. Streaming results.\n",
      "Streaming DataFrame as CSV data to DataRobot\n",
      "Created Batch Prediction job ID 6474acf8e0da4c38bc1e1a90\n",
      "Waiting for DataRobot to start processing\n",
      "Job has started processing at DataRobot. Streaming results.\n",
      "Streaming DataFrame as CSV data to DataRobot\n",
      "Created Batch Prediction job ID 6474ad0d75125d627ae74377\n",
      "Waiting for DataRobot to start processing\n",
      "Job has started processing at DataRobot. Streaming results.\n",
      "Streaming DataFrame as CSV data to DataRobot\n",
      "Created Batch Prediction job ID 6474ad2353b73155d0e7f23f\n",
      "Waiting for DataRobot to start processing\n",
      "Job has started processing at DataRobot. Streaming results.\n",
      "Streaming DataFrame as CSV data to DataRobot\n",
      "Created Batch Prediction job ID 6474ad3f53b73155d0e7f250\n",
      "Waiting for DataRobot to start processing\n",
      "Job has started processing at DataRobot. Streaming results.\n",
      "Streaming DataFrame as CSV data to DataRobot\n",
      "Created Batch Prediction job ID 6474ad551af70b24f8e74d0d\n",
      "Waiting for DataRobot to start processing\n",
      "Job has started processing at DataRobot. Streaming results.\n",
      "Streaming DataFrame as CSV data to DataRobot\n",
      "Created Batch Prediction job ID 6474ad6c22a33768a31e2a9d\n",
      "Waiting for DataRobot to start processing\n",
      "Job has started processing at DataRobot. Streaming results.\n",
      "Streaming DataFrame as CSV data to DataRobot\n",
      "Created Batch Prediction job ID 6474ad8353b73155d0e7f261\n",
      "Waiting for DataRobot to start processing\n",
      "Job has started processing at DataRobot. Streaming results.\n",
      "Streaming DataFrame as CSV data to DataRobot\n",
      "Created Batch Prediction job ID 6474ad9e53b73155d0e7f272\n",
      "Waiting for DataRobot to start processing\n",
      "Job has started processing at DataRobot. Streaming results.\n",
      "Streaming DataFrame as CSV data to DataRobot\n",
      "Created Batch Prediction job ID 6474adb8165f28f3cbb72f25\n",
      "Waiting for DataRobot to start processing\n",
      "Job has started processing at DataRobot. Streaming results.\n",
      "Streaming DataFrame as CSV data to DataRobot\n",
      "Created Batch Prediction job ID 6474add153b73155d0e7f27b\n",
      "Waiting for DataRobot to start processing\n",
      "Job has started processing at DataRobot. Streaming results.\n",
      "Streaming DataFrame as CSV data to DataRobot\n",
      "Created Batch Prediction job ID 6474aded53b73155d0e7f284\n",
      "Waiting for DataRobot to start processing\n",
      "Job has started processing at DataRobot. Streaming results.\n",
      "Streaming DataFrame as CSV data to DataRobot\n",
      "Created Batch Prediction job ID 6474ae0653b73155d0e7f29d\n",
      "Waiting for DataRobot to start processing\n",
      "Job has started processing at DataRobot. Streaming results.\n",
      "Streaming DataFrame as CSV data to DataRobot\n",
      "Created Batch Prediction job ID 6474ae2022a33768a31e2ab8\n",
      "Waiting for DataRobot to start processing\n",
      "Job has started processing at DataRobot. Streaming results.\n",
      "Streaming DataFrame as CSV data to DataRobot\n",
      "Created Batch Prediction job ID 6474ae3c53b73155d0e7f2c2\n",
      "Waiting for DataRobot to start processing\n",
      "Job has started processing at DataRobot. Streaming results.\n",
      "Streaming DataFrame as CSV data to DataRobot\n",
      "Created Batch Prediction job ID 6474ae5679ce61f611e75dc9\n",
      "Waiting for DataRobot to start processing\n",
      "Job has started processing at DataRobot. Streaming results.\n",
      "Streaming DataFrame as CSV data to DataRobot\n",
      "Created Batch Prediction job ID 6474ae6f53b73155d0e7f2cf\n",
      "Waiting for DataRobot to start processing\n",
      "Job has started processing at DataRobot. Streaming results.\n",
      "Streaming DataFrame as CSV data to DataRobot\n",
      "Created Batch Prediction job ID 6474ae8653b73155d0e7f2e0\n",
      "Waiting for DataRobot to start processing\n",
      "Job has started processing at DataRobot. Streaming results.\n",
      "Streaming DataFrame as CSV data to DataRobot\n",
      "Created Batch Prediction job ID 6474ae9fd6e773c4ba1e17a2\n",
      "Waiting for DataRobot to start processing\n",
      "Job has started processing at DataRobot. Streaming results.\n",
      "Streaming DataFrame as CSV data to DataRobot\n",
      "Created Batch Prediction job ID 6474af0a53b73155d0e7f2f1\n",
      "Waiting for DataRobot to start processing\n",
      "Job has started processing at DataRobot. Streaming results.\n",
      "Streaming DataFrame as CSV data to DataRobot\n",
      "Created Batch Prediction job ID 6474af2422a33768a31e2adf\n",
      "Waiting for DataRobot to start processing\n",
      "Job has started processing at DataRobot. Streaming results.\n",
      "Streaming DataFrame as CSV data to DataRobot\n",
      "Created Batch Prediction job ID 6474af3d5ef37a80a8b7bcf8\n",
      "Waiting for DataRobot to start processing\n",
      "Job has started processing at DataRobot. Streaming results.\n",
      "Streaming DataFrame as CSV data to DataRobot\n",
      "Created Batch Prediction job ID 6474af565ef37a80a8b7bd02\n",
      "Waiting for DataRobot to start processing\n",
      "Job has started processing at DataRobot. Streaming results.\n",
      "Streaming DataFrame as CSV data to DataRobot\n",
      "Created Batch Prediction job ID 6474af70e0da4c38bc1e1aab\n",
      "Waiting for DataRobot to start processing\n",
      "Job has started processing at DataRobot. Streaming results.\n",
      "Streaming DataFrame as CSV data to DataRobot\n",
      "Created Batch Prediction job ID 6474af8c5ef37a80a8b7bd0b\n",
      "Waiting for DataRobot to start processing\n",
      "Job has started processing at DataRobot. Streaming results.\n"
     ]
    }
   ],
   "source": [
    "results = []\n",
    "\n",
    "for i, row in projects_df.iterrows():\n",
    "    # Load the data corresponding to the time slice   \n",
    "    # For each deployment you only need to submit the data corresponding to that time slice.\n",
    "    delta = timedelta(hours=int(row.slice.split(':')[0]), minutes=int(row.slice.split(':')[1]))\n",
    "    filtered_data = prediction_data[prediction_data.minute_min == delta]\n",
    "    \n",
    "    # Load deployment\n",
    "    deployment = dr.Deployment.get(projects_df.deployment_id[i])   \n",
    "    \n",
    "    # Request the predictions\n",
    "    # Get back a prediction job object and a dataframe with the results\n",
    "    job, df = dr.BatchPredictionJob.score_pandas(deployment.id, filtered_data)\n",
    "        \n",
    "    results.append(df)   "
   ]
  },
  {
   "cell_type": "code",
   "execution_count": 18,
   "id": "3412091f-3d1c-4bb2-b714-2771cde3a515",
   "metadata": {},
   "outputs": [],
   "source": [
    "results = pd.concat(results)"
   ]
  },
  {
   "cell_type": "code",
   "execution_count": 19,
   "id": "232b4f08-e731-4e9a-be22-070b9464e8d3",
   "metadata": {},
   "outputs": [
    {
     "data": {
      "text/plain": [
       "Index(['date_time__x', 'Symbol__x', 'Sector_', 'Security_Type_', 'Cap_',\n",
       "       'Style_', 'Exchange_', 'date_first', 'minute_min', 'TradeVolume_min',\n",
       "       'TradeVolume_max', 'TradeVolume_std', 'TradePrice_mean',\n",
       "       'TradePrice_min', 'TradePrice_max', 'TradePrice_std', 'NumTrades_sum',\n",
       "       'NumTrades_min', 'NumTrades_max', 'NumTrades_std', 'TradeVolume_sum',\n",
       "       'TradeVolume_min_fwd_1', 'TradeVolume_max_fwd_1',\n",
       "       'TradeVolume_std_fwd_1', 'TradePrice_mean_fwd_1',\n",
       "       'TradePrice_min_fwd_1', 'TradePrice_max_fwd_1', 'TradePrice_std_fwd_1',\n",
       "       'NumTrades_sum_fwd_1', 'NumTrades_min_fwd_1', 'NumTrades_max_fwd_1',\n",
       "       'NumTrades_std_fwd_1', 'TradeVolume_sum_fwd_1', 'TradeVolume_min_bwd_1',\n",
       "       'TradeVolume_max_bwd_1', 'TradeVolume_std_bwd_1',\n",
       "       'TradePrice_mean_bwd_1', 'TradePrice_min_bwd_1', 'TradePrice_max_bwd_1',\n",
       "       'TradePrice_std_bwd_1', 'NumTrades_sum_bwd_1', 'NumTrades_min_bwd_1',\n",
       "       'NumTrades_max_bwd_1', 'NumTrades_std_bwd_1', 'TradeVolume_sum_bwd_1',\n",
       "       'Symbol__y', 'FORECAST_POINT', 'date_time__y', 'FORECAST_DISTANCE',\n",
       "       'TradeVolume_sum (actual)_PREDICTION', 'DEPLOYMENT_APPROVAL_STATUS'],\n",
       "      dtype='object')"
      ]
     },
     "execution_count": 19,
     "metadata": {},
     "output_type": "execute_result"
    }
   ],
   "source": [
    "results.columns"
   ]
  },
  {
   "cell_type": "code",
   "execution_count": 20,
   "id": "34413174-fcaf-4bbf-be5e-0eef3686c3f3",
   "metadata": {},
   "outputs": [],
   "source": [
    "next_day_predictions = results.iloc[:, -6:]"
   ]
  },
  {
   "cell_type": "code",
   "execution_count": 21,
   "id": "f60c0008-5934-4e02-8f91-d8399cd28772",
   "metadata": {},
   "outputs": [
    {
     "data": {
      "text/html": [
       "<div>\n",
       "<style scoped>\n",
       "    .dataframe tbody tr th:only-of-type {\n",
       "        vertical-align: middle;\n",
       "    }\n",
       "\n",
       "    .dataframe tbody tr th {\n",
       "        vertical-align: top;\n",
       "    }\n",
       "\n",
       "    .dataframe thead th {\n",
       "        text-align: right;\n",
       "    }\n",
       "</style>\n",
       "<table border=\"1\" class=\"dataframe\">\n",
       "  <thead>\n",
       "    <tr style=\"text-align: right;\">\n",
       "      <th></th>\n",
       "      <th>Symbol__y</th>\n",
       "      <th>FORECAST_POINT</th>\n",
       "      <th>date_time__y</th>\n",
       "      <th>FORECAST_DISTANCE</th>\n",
       "      <th>TradeVolume_sum (actual)_PREDICTION</th>\n",
       "      <th>DEPLOYMENT_APPROVAL_STATUS</th>\n",
       "    </tr>\n",
       "  </thead>\n",
       "  <tbody>\n",
       "    <tr>\n",
       "      <th>145031</th>\n",
       "      <td>AAPL</td>\n",
       "      <td>2018-06-07T15:31:00Z</td>\n",
       "      <td>2018-06-08T15:31:00.000000Z</td>\n",
       "      <td>1</td>\n",
       "      <td>0.001803</td>\n",
       "      <td>APPROVED</td>\n",
       "    </tr>\n",
       "    <tr>\n",
       "      <th>145421</th>\n",
       "      <td>AMZN</td>\n",
       "      <td>2018-06-07T15:31:00Z</td>\n",
       "      <td>2018-06-08T15:31:00.000000Z</td>\n",
       "      <td>1</td>\n",
       "      <td>0.001225</td>\n",
       "      <td>APPROVED</td>\n",
       "    </tr>\n",
       "    <tr>\n",
       "      <th>145811</th>\n",
       "      <td>DIS</td>\n",
       "      <td>2018-06-07T15:31:00Z</td>\n",
       "      <td>2018-06-08T15:31:00.000000Z</td>\n",
       "      <td>1</td>\n",
       "      <td>0.003521</td>\n",
       "      <td>APPROVED</td>\n",
       "    </tr>\n",
       "    <tr>\n",
       "      <th>146201</th>\n",
       "      <td>F</td>\n",
       "      <td>2018-06-07T15:31:00Z</td>\n",
       "      <td>2018-06-08T15:31:00.000000Z</td>\n",
       "      <td>1</td>\n",
       "      <td>0.002121</td>\n",
       "      <td>APPROVED</td>\n",
       "    </tr>\n",
       "    <tr>\n",
       "      <th>146591</th>\n",
       "      <td>FB</td>\n",
       "      <td>2018-06-07T15:31:00Z</td>\n",
       "      <td>2018-06-08T15:31:00.000000Z</td>\n",
       "      <td>1</td>\n",
       "      <td>0.001572</td>\n",
       "      <td>APPROVED</td>\n",
       "    </tr>\n",
       "  </tbody>\n",
       "</table>\n",
       "</div>"
      ],
      "text/plain": [
       "       Symbol__y        FORECAST_POINT                 date_time__y  \\\n",
       "145031      AAPL  2018-06-07T15:31:00Z  2018-06-08T15:31:00.000000Z   \n",
       "145421      AMZN  2018-06-07T15:31:00Z  2018-06-08T15:31:00.000000Z   \n",
       "145811       DIS  2018-06-07T15:31:00Z  2018-06-08T15:31:00.000000Z   \n",
       "146201         F  2018-06-07T15:31:00Z  2018-06-08T15:31:00.000000Z   \n",
       "146591        FB  2018-06-07T15:31:00Z  2018-06-08T15:31:00.000000Z   \n",
       "\n",
       "        FORECAST_DISTANCE  TradeVolume_sum (actual)_PREDICTION  \\\n",
       "145031                  1                             0.001803   \n",
       "145421                  1                             0.001225   \n",
       "145811                  1                             0.003521   \n",
       "146201                  1                             0.002121   \n",
       "146591                  1                             0.001572   \n",
       "\n",
       "       DEPLOYMENT_APPROVAL_STATUS  \n",
       "145031                   APPROVED  \n",
       "145421                   APPROVED  \n",
       "145811                   APPROVED  \n",
       "146201                   APPROVED  \n",
       "146591                   APPROVED  "
      ]
     },
     "execution_count": 21,
     "metadata": {},
     "output_type": "execute_result"
    }
   ],
   "source": [
    "next_day_predictions.head()"
   ]
  },
  {
   "cell_type": "markdown",
   "id": "c34642a2-66b2-444e-a575-32e243f5b488",
   "metadata": {},
   "source": [
    "### Comparing the predictions to the actuals"
   ]
  },
  {
   "cell_type": "code",
   "execution_count": 22,
   "id": "dbc9631a-da36-475e-9820-d73cb1e92876",
   "metadata": {},
   "outputs": [],
   "source": [
    "next_day_predictions.sort_values(['Symbol__y','date_time__y'], inplace=True)"
   ]
  },
  {
   "cell_type": "code",
   "execution_count": 23,
   "id": "4be86297-77d9-4bd9-8aaa-2b609d845b6f",
   "metadata": {},
   "outputs": [
    {
     "data": {
      "text/html": [
       "<div>\n",
       "<style scoped>\n",
       "    .dataframe tbody tr th:only-of-type {\n",
       "        vertical-align: middle;\n",
       "    }\n",
       "\n",
       "    .dataframe tbody tr th {\n",
       "        vertical-align: top;\n",
       "    }\n",
       "\n",
       "    .dataframe thead th {\n",
       "        text-align: right;\n",
       "    }\n",
       "</style>\n",
       "<table border=\"1\" class=\"dataframe\">\n",
       "  <thead>\n",
       "    <tr style=\"text-align: right;\">\n",
       "      <th></th>\n",
       "      <th>Symbol__y</th>\n",
       "      <th>FORECAST_POINT</th>\n",
       "      <th>date_time__y</th>\n",
       "      <th>FORECAST_DISTANCE</th>\n",
       "      <th>TradeVolume_sum (actual)_PREDICTION</th>\n",
       "      <th>DEPLOYMENT_APPROVAL_STATUS</th>\n",
       "    </tr>\n",
       "  </thead>\n",
       "  <tbody>\n",
       "    <tr>\n",
       "      <th>145031</th>\n",
       "      <td>AAPL</td>\n",
       "      <td>2018-06-07T15:31:00Z</td>\n",
       "      <td>2018-06-08T15:31:00.000000Z</td>\n",
       "      <td>1</td>\n",
       "      <td>0.001803</td>\n",
       "      <td>APPROVED</td>\n",
       "    </tr>\n",
       "    <tr>\n",
       "      <th>145032</th>\n",
       "      <td>AAPL</td>\n",
       "      <td>2018-06-07T15:32:00Z</td>\n",
       "      <td>2018-06-08T15:32:00.000000Z</td>\n",
       "      <td>1</td>\n",
       "      <td>0.002456</td>\n",
       "      <td>APPROVED</td>\n",
       "    </tr>\n",
       "    <tr>\n",
       "      <th>145033</th>\n",
       "      <td>AAPL</td>\n",
       "      <td>2018-06-07T15:33:00Z</td>\n",
       "      <td>2018-06-08T15:33:00.000000Z</td>\n",
       "      <td>1</td>\n",
       "      <td>0.001904</td>\n",
       "      <td>APPROVED</td>\n",
       "    </tr>\n",
       "    <tr>\n",
       "      <th>145034</th>\n",
       "      <td>AAPL</td>\n",
       "      <td>2018-06-07T15:34:00Z</td>\n",
       "      <td>2018-06-08T15:34:00.000000Z</td>\n",
       "      <td>1</td>\n",
       "      <td>0.002101</td>\n",
       "      <td>APPROVED</td>\n",
       "    </tr>\n",
       "    <tr>\n",
       "      <th>145035</th>\n",
       "      <td>AAPL</td>\n",
       "      <td>2018-06-07T15:35:00Z</td>\n",
       "      <td>2018-06-08T15:35:00.000000Z</td>\n",
       "      <td>1</td>\n",
       "      <td>0.003055</td>\n",
       "      <td>APPROVED</td>\n",
       "    </tr>\n",
       "  </tbody>\n",
       "</table>\n",
       "</div>"
      ],
      "text/plain": [
       "       Symbol__y        FORECAST_POINT                 date_time__y  \\\n",
       "145031      AAPL  2018-06-07T15:31:00Z  2018-06-08T15:31:00.000000Z   \n",
       "145032      AAPL  2018-06-07T15:32:00Z  2018-06-08T15:32:00.000000Z   \n",
       "145033      AAPL  2018-06-07T15:33:00Z  2018-06-08T15:33:00.000000Z   \n",
       "145034      AAPL  2018-06-07T15:34:00Z  2018-06-08T15:34:00.000000Z   \n",
       "145035      AAPL  2018-06-07T15:35:00Z  2018-06-08T15:35:00.000000Z   \n",
       "\n",
       "        FORECAST_DISTANCE  TradeVolume_sum (actual)_PREDICTION  \\\n",
       "145031                  1                             0.001803   \n",
       "145032                  1                             0.002456   \n",
       "145033                  1                             0.001904   \n",
       "145034                  1                             0.002101   \n",
       "145035                  1                             0.003055   \n",
       "\n",
       "       DEPLOYMENT_APPROVAL_STATUS  \n",
       "145031                   APPROVED  \n",
       "145032                   APPROVED  \n",
       "145033                   APPROVED  \n",
       "145034                   APPROVED  \n",
       "145035                   APPROVED  "
      ]
     },
     "execution_count": 23,
     "metadata": {},
     "output_type": "execute_result"
    }
   ],
   "source": [
    "next_day_predictions.head(5)"
   ]
  },
  {
   "cell_type": "code",
   "execution_count": 24,
   "id": "6b2e589b-cbea-4c40-8ce8-9d73a274bf3d",
   "metadata": {},
   "outputs": [],
   "source": [
    "next_day_actuals = pd.read_csv('https://s3.amazonaws.com/datarobot_public_datasets/ai_accelerators/trading_activity/data_for_comparison_30min.csv')"
   ]
  },
  {
   "cell_type": "code",
   "execution_count": 25,
   "id": "0196cff8-be2b-4d1c-968a-e128771aa8c0",
   "metadata": {},
   "outputs": [],
   "source": [
    "next_day_actuals.sort_values(['Symbol_','date_time_'], inplace=True)"
   ]
  },
  {
   "cell_type": "code",
   "execution_count": 26,
   "id": "7d19fc62-3177-40c2-b44a-ff094b5e3678",
   "metadata": {},
   "outputs": [],
   "source": [
    "next_day_actuals.date_time_ = pd.to_datetime(next_day_actuals.date_time_).dt.strftime(\"%m/%d/%Y, %H:%M:%S\")"
   ]
  },
  {
   "cell_type": "code",
   "execution_count": 27,
   "id": "3adaefd8-6430-40f8-bcfa-5b2dfe773f6a",
   "metadata": {},
   "outputs": [],
   "source": [
    "next_day_predictions.date_time__y = pd.to_datetime(next_day_predictions.date_time__y).dt.strftime(\"%m/%d/%Y, %H:%M:%S\")"
   ]
  },
  {
   "cell_type": "code",
   "execution_count": 28,
   "id": "e0e02b4e-f418-46be-9c18-c461be26fc2c",
   "metadata": {},
   "outputs": [],
   "source": [
    "df_join = pd.merge(next_day_predictions, next_day_actuals, left_on=  ['date_time__y', 'Symbol__y'],\n",
    "                   right_on= ['date_time_', 'Symbol_'], \n",
    "                   how = 'left')"
   ]
  },
  {
   "cell_type": "code",
   "execution_count": 29,
   "id": "aa151563-3ed7-4e2f-b065-1de12ee78507",
   "metadata": {},
   "outputs": [
    {
     "data": {
      "text/plain": [
       "Index(['Symbol__y', 'FORECAST_POINT', 'date_time__y', 'FORECAST_DISTANCE',\n",
       "       'TradeVolume_sum (actual)_PREDICTION', 'DEPLOYMENT_APPROVAL_STATUS',\n",
       "       'Symbol_', 'date_time_', 'TradeVolume_sum'],\n",
       "      dtype='object')"
      ]
     },
     "execution_count": 29,
     "metadata": {},
     "output_type": "execute_result"
    }
   ],
   "source": [
    "df_join.columns"
   ]
  },
  {
   "cell_type": "code",
   "execution_count": 30,
   "id": "1f07088f-56a7-405c-83b0-a9a83c8c4c53",
   "metadata": {},
   "outputs": [],
   "source": [
    "df_join = df_join[['TradeVolume_sum (actual)_PREDICTION', 'date_time_', 'Symbol_','TradeVolume_sum']]"
   ]
  },
  {
   "cell_type": "markdown",
   "id": "2c68e447-e46f-4001-a3b6-f479225ae8a0",
   "metadata": {},
   "source": [
    "## Chose a symbol to plot"
   ]
  },
  {
   "cell_type": "code",
   "execution_count": 31,
   "id": "478ba9ca-0bb4-4945-9079-3a6d26fc01c6",
   "metadata": {},
   "outputs": [
    {
     "data": {
      "text/plain": [
       "array(['AAPL', 'AMZN', 'DIS', 'F', 'FB', 'NFLX', 'QQQ', 'SPY', 'VZ',\n",
       "       'WMT'], dtype=object)"
      ]
     },
     "execution_count": 31,
     "metadata": {},
     "output_type": "execute_result"
    }
   ],
   "source": [
    "df_join.Symbol_.unique()"
   ]
  },
  {
   "cell_type": "code",
   "execution_count": 32,
   "id": "973d4561-6f34-499b-9b5f-9bcf0039f7e9",
   "metadata": {},
   "outputs": [],
   "source": [
    "symbol = 'AAPL'"
   ]
  },
  {
   "cell_type": "code",
   "execution_count": 33,
   "id": "10c57c6d-9718-4f82-af65-941959b34d91",
   "metadata": {},
   "outputs": [],
   "source": [
    "df = df_join[df_join.Symbol_== symbol]"
   ]
  },
  {
   "cell_type": "code",
   "execution_count": 34,
   "id": "ffd2f50b-730a-4db1-92e2-aa4660e010c5",
   "metadata": {},
   "outputs": [
    {
     "data": {
      "text/plain": [
       "<Axes: xlabel='date_time_'>"
      ]
     },
     "execution_count": 34,
     "metadata": {},
     "output_type": "execute_result"
    },
    {
     "data": {
      "image/png": "[encoded data removed]",
      "text/plain": [
       "<Figure size 640x480 with 1 Axes>"
      ]
     },
     "metadata": {},
     "output_type": "display_data"
    }
   ],
   "source": [
    "df.plot(x=\"date_time_\", y=[\"TradeVolume_sum (actual)_PREDICTION\", \"TradeVolume_sum\"], rot=90)"
   ]
  }
 ],
 "metadata": {
  "kernelspec": {
   "display_name": "Python 3",
   "language": "python",
   "name": "python3"
  },
  "language_info": {
   "codemirror_mode": {
    "name": "ipython",
    "version": 3
   },
   "file_extension": ".py",
   "mimetype": "text/x-python",
   "name": "python",
   "nbconvert_exporter": "python",
   "pygments_lexer": "ipython3",
   "version": "3.8.8"
  },
  "vscode": {
   "interpreter": {
    "hash": "4139383313eaa50e4b906c7fdfab3b08ecbf80927024e83985220804bf526067"
   }
  }
 },
 "nbformat": 4,
 "nbformat_minor": 5
}
