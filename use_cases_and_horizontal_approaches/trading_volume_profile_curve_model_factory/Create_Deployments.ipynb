{
 "cells": [
  {
   "cell_type": "markdown",
   "id": "58f077b4-2a3d-41e3-b03e-b6d1d8d7d751",
   "metadata": {},
   "source": [
    "# Create a deployment\n",
    "\n",
    "## Setup\n",
    "\n",
    "### Import libraries"
   ]
  },
  {
   "cell_type": "code",
   "execution_count": 27,
   "id": "706e6d6c-86a0-498b-a88e-2ad031279dcc",
   "metadata": {},
   "outputs": [],
   "source": [
    "import time\n",
    "import datetime\n",
    "from datetime import timedelta\n",
    "from os.path import join\n",
    "\n",
    "import datarobot as dr\n",
    "import numpy as np\n",
    "import pandas as pd\n",
    "import helper"
   ]
  },
  {
   "cell_type": "markdown",
   "id": "67dbac61-b367-4404-aaf1-4decda7b93e1",
   "metadata": {},
   "source": [
    "### Retrieve relevant projects"
   ]
  },
  {
   "cell_type": "code",
   "execution_count": 28,
   "id": "d4e60a82-9ee4-466e-a007-a4b11f037081",
   "metadata": {},
   "outputs": [],
   "source": [
    "projects_df = pd.read_pickle(\"results/VolPred_percentage_each_1min_v_2022-11-14-23-12-28.pkl\")  \n"
   ]
  },
  {
   "cell_type": "code",
   "execution_count": 29,
   "id": "0249b637-5aa2-4f4f-b25a-f7a4cc367af1",
   "metadata": {},
   "outputs": [
    {
     "data": {
      "text/html": [
       "<div>\n",
       "<style scoped>\n",
       "    .dataframe tbody tr th:only-of-type {\n",
       "        vertical-align: middle;\n",
       "    }\n",
       "\n",
       "    .dataframe tbody tr th {\n",
       "        vertical-align: top;\n",
       "    }\n",
       "\n",
       "    .dataframe thead th {\n",
       "        text-align: right;\n",
       "    }\n",
       "</style>\n",
       "<table border=\"1\" class=\"dataframe\">\n",
       "  <thead>\n",
       "    <tr style=\"text-align: right;\">\n",
       "      <th></th>\n",
       "      <th>project_id</th>\n",
       "      <th>slice</th>\n",
       "      <th>url</th>\n",
       "      <th>project</th>\n",
       "    </tr>\n",
       "  </thead>\n",
       "  <tbody>\n",
       "    <tr>\n",
       "      <th>0</th>\n",
       "      <td>6372796b52dd086a82a4337c</td>\n",
       "      <td>15:31</td>\n",
       "      <td>https://app.datarobot.com/projects/6372796b52d...</td>\n",
       "      <td>Project(VolPred_percentage_each_1min_15:31_v_2...</td>\n",
       "    </tr>\n",
       "    <tr>\n",
       "      <th>1</th>\n",
       "      <td>63727a1552dd086a82a43383</td>\n",
       "      <td>15:32</td>\n",
       "      <td>https://app.datarobot.com/projects/63727a1552d...</td>\n",
       "      <td>Project(VolPred_percentage_each_1min_15:32_v_2...</td>\n",
       "    </tr>\n",
       "    <tr>\n",
       "      <th>2</th>\n",
       "      <td>63727abc9ae8e86e8b8942e4</td>\n",
       "      <td>15:33</td>\n",
       "      <td>https://app.datarobot.com/projects/63727abc9ae...</td>\n",
       "      <td>Project(VolPred_percentage_each_1min_15:33_v_2...</td>\n",
       "    </tr>\n",
       "    <tr>\n",
       "      <th>3</th>\n",
       "      <td>63727b6b9ae8e86e8b8942ff</td>\n",
       "      <td>15:34</td>\n",
       "      <td>https://app.datarobot.com/projects/63727b6b9ae...</td>\n",
       "      <td>Project(VolPred_percentage_each_1min_15:34_v_2...</td>\n",
       "    </tr>\n",
       "    <tr>\n",
       "      <th>4</th>\n",
       "      <td>63727c1b2331f284bfa432cd</td>\n",
       "      <td>15:35</td>\n",
       "      <td>https://app.datarobot.com/projects/63727c1b233...</td>\n",
       "      <td>Project(VolPred_percentage_each_1min_15:35_v_2...</td>\n",
       "    </tr>\n",
       "  </tbody>\n",
       "</table>\n",
       "</div>"
      ],
      "text/plain": [
       "                 project_id  slice  \\\n",
       "0  6372796b52dd086a82a4337c  15:31   \n",
       "1  63727a1552dd086a82a43383  15:32   \n",
       "2  63727abc9ae8e86e8b8942e4  15:33   \n",
       "3  63727b6b9ae8e86e8b8942ff  15:34   \n",
       "4  63727c1b2331f284bfa432cd  15:35   \n",
       "\n",
       "                                                 url  \\\n",
       "0  https://app.datarobot.com/projects/6372796b52d...   \n",
       "1  https://app.datarobot.com/projects/63727a1552d...   \n",
       "2  https://app.datarobot.com/projects/63727abc9ae...   \n",
       "3  https://app.datarobot.com/projects/63727b6b9ae...   \n",
       "4  https://app.datarobot.com/projects/63727c1b233...   \n",
       "\n",
       "                                             project  \n",
       "0  Project(VolPred_percentage_each_1min_15:31_v_2...  \n",
       "1  Project(VolPred_percentage_each_1min_15:32_v_2...  \n",
       "2  Project(VolPred_percentage_each_1min_15:33_v_2...  \n",
       "3  Project(VolPred_percentage_each_1min_15:34_v_2...  \n",
       "4  Project(VolPred_percentage_each_1min_15:35_v_2...  "
      ]
     },
     "execution_count": 29,
     "metadata": {},
     "output_type": "execute_result"
    }
   ],
   "source": [
    "projects_df.head()"
   ]
  },
  {
   "cell_type": "markdown",
   "id": "8609d911-1c71-44df-b849-95e6c9c385d3",
   "metadata": {},
   "source": [
    "### Connect to DataRobot"
   ]
  },
  {
   "cell_type": "code",
   "execution_count": 30,
   "id": "3ae9105a-17ae-4f0b-9331-4e7c4d1de9aa",
   "metadata": {},
   "outputs": [
    {
     "name": "stdout",
     "output_type": "stream",
     "text": [
      "Connection to DataRobot established successfully\n"
     ]
    }
   ],
   "source": [
    "# Instantiate the DataRobot connection\n",
    "\n",
    "DATAROBOT_API_TOKEN = \"\" # Get this from the Developer Tools page in the DataRobot UI\n",
    "# Endpoint - This notebook uses the default endpoint for DataRobot Managed AI Cloud (US)\n",
    "DATAROBOT_ENDPOINT = \"https://app.datarobot.com/api/v2\" # This should be the URL you use to access the DataRobot UI\n",
    "\n",
    "client = dr.Client(\n",
    "    token=DATAROBOT_API_TOKEN, \n",
    "    endpoint=DATAROBOT_ENDPOINT,\n",
    "    user_agent_suffix='' #Optional but helps DataRobot improve this workflow\n",
    ")\n",
    "\n",
    "dr.client._global_client = client"
   ]
  },
  {
   "cell_type": "code",
   "execution_count": 31,
   "id": "78f43657-484a-4073-bd6b-ae15b8c9f093",
   "metadata": {},
   "outputs": [
    {
     "data": {
      "text/plain": [
       "'2022-11-14'"
      ]
     },
     "execution_count": 31,
     "metadata": {},
     "output_type": "execute_result"
    }
   ],
   "source": [
    "today = datetime.datetime.now().strftime('%Y-%m-%d')\n",
    "today"
   ]
  },
  {
   "cell_type": "markdown",
   "id": "e99a09c7-ad64-496e-b82e-1b05d8ca1b55",
   "metadata": {},
   "source": [
    "## Create a deployment for each top model"
   ]
  },
  {
   "cell_type": "markdown",
   "id": "aa2f894b",
   "metadata": {},
   "source": [
    "The goal of this notebook is very simple: you will loop through all of the projects you have created (find them in the \"projects dataframe\") and deploy the top-performing model on the Leaderboard. Then, you will update the \"projects dataframe\", which you can think of as a controller file, with the corresponding deployment ID, model ID, and model peformance (this example uses MASE as the metric)."
   ]
  },
  {
   "cell_type": "code",
   "execution_count": 44,
   "id": "6c41e5d9-727f-4198-ae9b-f4c996c2337b",
   "metadata": {
    "tags": []
   },
   "outputs": [],
   "source": [
    "models = []\n",
    "MASE = []\n",
    "deployments = []\n",
    "prediction_server = dr.PredictionServer.list()[0]\n",
    "\n",
    "for i, row in projects_df.iterrows():\n",
    "    # print(str(i) + '-th job')\n",
    "    # Load the project and get the recommended model\n",
    "    project = dr.Project.get(row.project_id)\n",
    "    recommended_model = project.recommended_model()\n",
    "    \n",
    "    parent = dr.Model.get(project.id,recommended_model.parent_model_id)\n",
    "    metric = parent.metrics['MASE']['validation']\n",
    "    \n",
    "    name = project.project_name\n",
    "    \n",
    "    deployment = dr.Deployment.create_from_learning_model(recommended_model.id, label=name, description='Volume Prediction',default_prediction_server_id=prediction_server.id)\n",
    "    \n",
    "    models.append(recommended_model.id)\n",
    "    deployments.append(deployment.id)\n",
    "    MASE.append(metric)\n",
    "    "
   ]
  },
  {
   "cell_type": "code",
   "execution_count": 51,
   "id": "950eaee0-fa06-4936-a733-91fd1dab0b50",
   "metadata": {},
   "outputs": [],
   "source": [
    "projects_df['model'] = models"
   ]
  },
  {
   "cell_type": "code",
   "execution_count": 45,
   "id": "45591049-691a-4825-a4fe-8cb2670a2e43",
   "metadata": {},
   "outputs": [],
   "source": [
    "projects_df['deployment_id'] = deployments"
   ]
  },
  {
   "cell_type": "code",
   "execution_count": 46,
   "id": "8ec65c7a-c9c8-45ac-9008-3de26167f155",
   "metadata": {},
   "outputs": [],
   "source": [
    "projects_df['MASE'] = MASE"
   ]
  },
  {
   "cell_type": "code",
   "execution_count": 58,
   "id": "0b9f1af8-eb89-4169-b6bc-1ea22ce17aa2",
   "metadata": {},
   "outputs": [
    {
     "data": {
      "text/html": [
       "<div>\n",
       "<style scoped>\n",
       "    .dataframe tbody tr th:only-of-type {\n",
       "        vertical-align: middle;\n",
       "    }\n",
       "\n",
       "    .dataframe tbody tr th {\n",
       "        vertical-align: top;\n",
       "    }\n",
       "\n",
       "    .dataframe thead th {\n",
       "        text-align: right;\n",
       "    }\n",
       "</style>\n",
       "<table border=\"1\" class=\"dataframe\">\n",
       "  <thead>\n",
       "    <tr style=\"text-align: right;\">\n",
       "      <th></th>\n",
       "      <th>project_id</th>\n",
       "      <th>slice</th>\n",
       "      <th>url</th>\n",
       "      <th>project</th>\n",
       "      <th>deployment_id</th>\n",
       "      <th>MASE</th>\n",
       "      <th>model</th>\n",
       "    </tr>\n",
       "  </thead>\n",
       "  <tbody>\n",
       "    <tr>\n",
       "      <th>24</th>\n",
       "      <td>637289a99ae8e86e8b894486</td>\n",
       "      <td>15:55</td>\n",
       "      <td>https://app.datarobot.com/projects/637289a99ae...</td>\n",
       "      <td>Project(VolPred_percentage_each_1min_15:55_v_2...</td>\n",
       "      <td>6372cddc0e6843f9d9dd6eae</td>\n",
       "      <td>0.76610</td>\n",
       "      <td>63728b6d43879a86279e5285</td>\n",
       "    </tr>\n",
       "    <tr>\n",
       "      <th>25</th>\n",
       "      <td>63728a4f2331f284bfa43430</td>\n",
       "      <td>15:56</td>\n",
       "      <td>https://app.datarobot.com/projects/63728a4f233...</td>\n",
       "      <td>Project(VolPred_percentage_each_1min_15:56_v_2...</td>\n",
       "      <td>6372cde01791a5dc46e78d09</td>\n",
       "      <td>0.85318</td>\n",
       "      <td>63728bfbec704547accaf364</td>\n",
       "    </tr>\n",
       "    <tr>\n",
       "      <th>26</th>\n",
       "      <td>63728af7b712e8ad568944b9</td>\n",
       "      <td>15:57</td>\n",
       "      <td>https://app.datarobot.com/projects/63728af7b71...</td>\n",
       "      <td>Project(VolPred_percentage_each_1min_15:57_v_2...</td>\n",
       "      <td>6372cde65a87f42014e78fe0</td>\n",
       "      <td>0.57489</td>\n",
       "      <td>63728ca437dc143b6490865b</td>\n",
       "    </tr>\n",
       "    <tr>\n",
       "      <th>27</th>\n",
       "      <td>63728b9e21b7aeebde893a19</td>\n",
       "      <td>15:58</td>\n",
       "      <td>https://app.datarobot.com/projects/63728b9e21b...</td>\n",
       "      <td>Project(VolPred_percentage_each_1min_15:58_v_2...</td>\n",
       "      <td>6372cdea0e6843f9d9dd6ee7</td>\n",
       "      <td>0.58169</td>\n",
       "      <td>63728d212418c32684f66898</td>\n",
       "    </tr>\n",
       "    <tr>\n",
       "      <th>28</th>\n",
       "      <td>63728c4c21b7aeebde893a25</td>\n",
       "      <td>15:59</td>\n",
       "      <td>https://app.datarobot.com/projects/63728c4c21b...</td>\n",
       "      <td>Project(VolPred_percentage_each_1min_15:59_v_2...</td>\n",
       "      <td>6372cdef29a7a77a961c237e</td>\n",
       "      <td>0.60961</td>\n",
       "      <td>63728e0f12d23f48da94c3e5</td>\n",
       "    </tr>\n",
       "  </tbody>\n",
       "</table>\n",
       "</div>"
      ],
      "text/plain": [
       "                  project_id  slice  \\\n",
       "24  637289a99ae8e86e8b894486  15:55   \n",
       "25  63728a4f2331f284bfa43430  15:56   \n",
       "26  63728af7b712e8ad568944b9  15:57   \n",
       "27  63728b9e21b7aeebde893a19  15:58   \n",
       "28  63728c4c21b7aeebde893a25  15:59   \n",
       "\n",
       "                                                  url  \\\n",
       "24  https://app.datarobot.com/projects/637289a99ae...   \n",
       "25  https://app.datarobot.com/projects/63728a4f233...   \n",
       "26  https://app.datarobot.com/projects/63728af7b71...   \n",
       "27  https://app.datarobot.com/projects/63728b9e21b...   \n",
       "28  https://app.datarobot.com/projects/63728c4c21b...   \n",
       "\n",
       "                                              project  \\\n",
       "24  Project(VolPred_percentage_each_1min_15:55_v_2...   \n",
       "25  Project(VolPred_percentage_each_1min_15:56_v_2...   \n",
       "26  Project(VolPred_percentage_each_1min_15:57_v_2...   \n",
       "27  Project(VolPred_percentage_each_1min_15:58_v_2...   \n",
       "28  Project(VolPred_percentage_each_1min_15:59_v_2...   \n",
       "\n",
       "               deployment_id     MASE                     model  \n",
       "24  6372cddc0e6843f9d9dd6eae  0.76610  63728b6d43879a86279e5285  \n",
       "25  6372cde01791a5dc46e78d09  0.85318  63728bfbec704547accaf364  \n",
       "26  6372cde65a87f42014e78fe0  0.57489  63728ca437dc143b6490865b  \n",
       "27  6372cdea0e6843f9d9dd6ee7  0.58169  63728d212418c32684f66898  \n",
       "28  6372cdef29a7a77a961c237e  0.60961  63728e0f12d23f48da94c3e5  "
      ]
     },
     "execution_count": 58,
     "metadata": {},
     "output_type": "execute_result"
    }
   ],
   "source": [
    "projects_df.tail()"
   ]
  },
  {
   "cell_type": "code",
   "execution_count": 57,
   "id": "241d5826-0116-4d0a-b6cb-d443342b83e9",
   "metadata": {},
   "outputs": [],
   "source": [
    "projects_df.to_pickle('results/VolPred_percentage_each_1min_v_2022-11-14-23-12-28.pkl') "
   ]
  },
  {
   "cell_type": "code",
   "execution_count": 59,
   "id": "955b6ff8-6dc3-426f-9b3f-24662216e9f3",
   "metadata": {},
   "outputs": [
    {
     "data": {
      "text/plain": [
       "'63727b232bfd63533d45ffb5'"
      ]
     },
     "execution_count": 59,
     "metadata": {},
     "output_type": "execute_result"
    }
   ],
   "source": [
    "projects_df.model[0]"
   ]
  },
  {
   "cell_type": "code",
   "execution_count": 62,
   "id": "4e6f269b-8d5e-4e54-8d36-aa673be16ae4",
   "metadata": {},
   "outputs": [],
   "source": [
    "test = dr.Model.get(projects_df.project_id[0], projects_df.model[0])"
   ]
  },
  {
   "cell_type": "code",
   "execution_count": 63,
   "id": "f0db8314-815f-4227-b9de-c7e99791cedd",
   "metadata": {},
   "outputs": [
    {
     "data": {
      "text/plain": [
       "DatetimeModel('RandomForest Regressor')"
      ]
     },
     "execution_count": 63,
     "metadata": {},
     "output_type": "execute_result"
    }
   ],
   "source": [
    "test"
   ]
  }
 ],
 "metadata": {
  "kernelspec": {
   "display_name": "Python 3",
   "language": "python",
   "name": "python3"
  },
  "language_info": {
   "codemirror_mode": {
    "name": "ipython",
    "version": 3
   },
   "file_extension": ".py",
   "mimetype": "text/x-python",
   "name": "python",
   "nbconvert_exporter": "python",
   "pygments_lexer": "ipython3",
   "version": "3.8.8"
  }
 },
 "nbformat": 4,
 "nbformat_minor": 5
}
