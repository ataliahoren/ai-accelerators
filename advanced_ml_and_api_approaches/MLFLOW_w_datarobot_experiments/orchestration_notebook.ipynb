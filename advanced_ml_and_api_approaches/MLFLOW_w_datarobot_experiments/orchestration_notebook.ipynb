{
 "cells": [
  {
   "cell_type": "markdown",
   "metadata": {},
   "source": [
    "# Integrate MLFlow and Papermill to track ML experiments with DataRobot\n",
    "\n",
    "This notebook outlines how to:\n",
    "\n",
    "<ul><li>Use MLFlow with DataRobot API to track and log machine learning experiments\n",
    "<ul><li>Benefit: \n",
    "Consistent comparison of results across experiments</li></ul></li>\n",
    "<li>Use Papermill with DataRobot API to create artifacts from machine learning experiments to reduce effort needed for collaboration\n",
    "<ul><li>Benefit: Automation of experiments to avoid errors and reduce manual effort.</li></ul></li>\n",
    "    <li>Execute Jupyter notebooks with parameters like Python scripts</li>\n",
    "<li>Loop through parameter combinations to run multiple projects; build a Model Factory.</li></ul>\n",
    "\n",
    "This orchestration notebook illustrates the framework to integrate MLFlow and Papermill with the DataRobot API to run the experiment notebook with different parameters per experiment. \n",
    "\n",
    "<font style=\"color:blue\">This notebook will run the `experiment_notebook.ipynb` with different parameters</font><br>\n",
    "\n",
    "Required Python Libraries:\n",
    "<ul>\n",
    "    <li><a href='https://docs.datarobot.com/en/docs/api/api-quickstart/index.html'>datarobot</a></li>\n",
    "    <li><a href='https://mlflow.org/docs/latest/quickstart.html'>mlflow</a></li>\n",
    "    <li><a href='https://papermill.readthedocs.io/en/latest/installation.html'>papermill</a></li>\n",
    "    <li><a href='https://pypi.org/project/permetrics/'>permetrics</a></li>\n",
    "</ul>\n",
    "\n",
    "\n"
   ]
  },
  {
   "cell_type": "markdown",
   "metadata": {},
   "source": [
    "## Setup\n",
    "\n",
    "### Import libraries\n",
    "\n",
    "`uuid` is used to generate unique identifiers for our experimentation.\n",
    "`itertools` is used to generate permutations of all experiments."
   ]
  },
  {
   "cell_type": "code",
   "execution_count": 1,
   "metadata": {},
   "outputs": [],
   "source": [
    "import papermill as pm\n",
    "import uuid\n",
    "import itertools\n",
    "import os"
   ]
  },
  {
   "cell_type": "markdown",
   "metadata": {},
   "source": [
    "Use the snippet below to create requisite folders."
   ]
  },
  {
   "cell_type": "code",
   "execution_count": 2,
   "metadata": {},
   "outputs": [],
   "source": [
    "if(not os.path.isdir('./experiments_bkup')):\n",
    "    os.mkdir('./experiments_bkup')"
   ]
  },
  {
   "cell_type": "markdown",
   "metadata": {},
   "source": [
    "### Configure use case settings \n",
    "\n",
    "These are the basic settings needed to run Time Series projects through the DataRobot API. These settings have to be updated for the intended use case."
   ]
  },
  {
   "cell_type": "code",
   "execution_count": 3,
   "metadata": {},
   "outputs": [],
   "source": [
    "DR_AUTH_YAML_FILE = '~/.config/datarobot/drconfig.yaml' # yaml file with authentication details\n",
    "TRAINING_DATA = './DR_Demo_Sales_Multiseries_training (1).xlsx' # location of training dataset\n",
    "DATE_COL = 'Date' # datetime column\n",
    "TRAINING_STOP_DATE = '01-06-2014' # cutoff date for private holdout for experiments\n",
    "TRAINING_STOP_DATE_FORMAT = '%d-%m-%Y' # datetime format specifier for TRAINING_STOP_DATE \n",
    "TARGET_COL = 'Sales' # target column for the usecase\n",
    "KIA_COLS = ['Marketing', 'Near_Xmas', 'Near_BlackFriday',\n",
    "            'Holiday', 'DestinationEvent'] # known in advance features\n",
    "IS_MULTISERIES = True # does the dataset have multiple time series\n",
    "MULTISERIES_COLS = ['Store'] # if the dataset has multiple ts, columns that uniquely identify a ts."
   ]
  },
  {
   "cell_type": "markdown",
   "metadata": {},
   "source": [
    "### Scenario\n",
    "\n",
    "There are many experiments that need to be tried in Time Series projects. The most basic ones include experimenting with multiple forecast derivation windows and enabling known in advance features. Only these two parameters can result in atleast six different experiments as shown by the example in the cell below;"
   ]
  },
  {
   "cell_type": "markdown",
   "metadata": {},
   "source": [
    "### First experiment series set\n",
    "\n",
    "This example starts with basic set of experiments to identify quickly if the dataset has any signal. You will use a combination of feature derivation windows and known in advance features to do so."
   ]
  },
  {
   "cell_type": "code",
   "execution_count": 4,
   "metadata": {},
   "outputs": [],
   "source": [
    "fdws = [35, 70, 14] # The Time Series feature derivation window parameter values to experiment\n",
    "kias = [False, True] # The known in advance parameter values to experiment with"
   ]
  },
  {
   "cell_type": "markdown",
   "metadata": {},
   "source": [
    "Run multiple projects for all permutations of the values from the above two parameter sets. This can be seen as a <b>\"DataRobot Project Factory\"</b> where you will run multiple projects using Papermill. Papermill allows us to send parameters to a Jupyter notebook and execute if for those parameters. It will also create copies of the notebook execute in a specified folder.   "
   ]
  },
  {
   "cell_type": "code",
   "execution_count": 5,
   "metadata": {},
   "outputs": [
    {
     "data": {
      "application/vnd.jupyter.widget-view+json": {
       "model_id": "10eaa36067274ae5a6fb76ee5ce6d23b",
       "version_major": 2,
       "version_minor": 0
      },
      "text/plain": [
       "Executing:   0%|          | 0/25 [00:00<?, ?cell/s]"
      ]
     },
     "metadata": {},
     "output_type": "display_data"
    },
    {
     "data": {
      "application/vnd.jupyter.widget-view+json": {
       "model_id": "460acb96b22d492fbf6ab8a4ec9c89d8",
       "version_major": 2,
       "version_minor": 0
      },
      "text/plain": [
       "Executing:   0%|          | 0/25 [00:00<?, ?cell/s]"
      ]
     },
     "metadata": {},
     "output_type": "display_data"
    },
    {
     "data": {
      "application/vnd.jupyter.widget-view+json": {
       "model_id": "f58c3c24fa524ce1a049690e6824f505",
       "version_major": 2,
       "version_minor": 0
      },
      "text/plain": [
       "Executing:   0%|          | 0/25 [00:00<?, ?cell/s]"
      ]
     },
     "metadata": {},
     "output_type": "display_data"
    },
    {
     "data": {
      "application/vnd.jupyter.widget-view+json": {
       "model_id": "31e44f34ece344f0b0a78cab9c1a4048",
       "version_major": 2,
       "version_minor": 0
      },
      "text/plain": [
       "Executing:   0%|          | 0/25 [00:00<?, ?cell/s]"
      ]
     },
     "metadata": {},
     "output_type": "display_data"
    },
    {
     "data": {
      "application/vnd.jupyter.widget-view+json": {
       "model_id": "42ad28c431044065bc5f538f2ba24bb9",
       "version_major": 2,
       "version_minor": 0
      },
      "text/plain": [
       "Executing:   0%|          | 0/25 [00:00<?, ?cell/s]"
      ]
     },
     "metadata": {},
     "output_type": "display_data"
    },
    {
     "data": {
      "application/vnd.jupyter.widget-view+json": {
       "model_id": "a53fcba8518f4affb032574035019157",
       "version_major": 2,
       "version_minor": 0
      },
      "text/plain": [
       "Executing:   0%|          | 0/25 [00:00<?, ?cell/s]"
      ]
     },
     "metadata": {},
     "output_type": "display_data"
    }
   ],
   "source": [
    "INPUT_PATH = './experiment_notebook.ipynb'\n",
    "for item in itertools.product(fdws,kias):\n",
    "    UUID = str(uuid.uuid1())\n",
    "    OUTPUT_PATH = './experiments_bkup/experiment_{}.ipynb'.format(UUID)\n",
    "    pm.execute_notebook(input_path=INPUT_PATH,\n",
    "                        output_path=OUTPUT_PATH,\n",
    "                        parameters={'FDW':item[0],\n",
    "                                    'KIA':item[1], \n",
    "                                    'UUID':UUID, \n",
    "                                    'DR_AUTH_YAML_FILE':DR_AUTH_YAML_FILE,\n",
    "                                    'TRAINING_DATA':TRAINING_DATA,\n",
    "                                    'DATE_COL':DATE_COL,\n",
    "                                    'TRAINING_STOP_DATE':TRAINING_STOP_DATE,\n",
    "                                    'TRAINING_STOP_DATE_FORMAT':TRAINING_STOP_DATE_FORMAT,\n",
    "                                    'TARGET_COL':TARGET_COL,\n",
    "                                    'KIA_COLS':KIA_COLS,\n",
    "                                    'IS_MULTISERIES':IS_MULTISERIES,\n",
    "                                    'MULTISERIES_COLS':MULTISERIES_COLS,\n",
    "                                    'REFERENCE_NOTEBOOK':OUTPUT_PATH})"
   ]
  },
  {
   "cell_type": "markdown",
   "metadata": {},
   "source": [
    "### Experiment results\n",
    "\n",
    "After completion of the above set of experiments, MLFlow dashboard can be invoked for perusal of the results. Run the below cell or the contents of the cell in command line to run the MLFlow server and UI. "
   ]
  },
  {
   "cell_type": "code",
   "execution_count": 6,
   "metadata": {},
   "outputs": [
    {
     "name": "stdout",
     "output_type": "stream",
     "text": [
      "[2022-12-07 15:47:24 +0530] [20341] [INFO] Starting gunicorn 20.1.0\n",
      "[2022-12-07 15:47:24 +0530] [20341] [INFO] Listening at: http://127.0.0.1:5000 (20341)\n",
      "[2022-12-07 15:47:24 +0530] [20341] [INFO] Using worker: sync\n",
      "[2022-12-07 15:47:24 +0530] [20345] [INFO] Booting worker with pid: 20345\n",
      "^C\n",
      "[2022-12-07 15:58:55 +0530] [20341] [INFO] Handling signal: int\n",
      "[2022-12-07 15:58:55 +0530] [20345] [INFO] Worker exiting (pid: 20345)\n"
     ]
    }
   ],
   "source": [
    "# Ensure to stop the execution of this cell before running next cells \n",
    "!mlflow ui"
   ]
  },
  {
   "cell_type": "markdown",
   "metadata": {},
   "source": [
    "### Further experimentations\n",
    "\n",
    "Once comfortable with the initial set of experiments and results, you can further expand the experiment combinations as below. The advantage of parameterization of the notebook is that you can run only the experiments that are needed and you can keep building on the experiments you already ran. <br>For example, you can run accuracy optimized blueprints set as \"is false\" by default if you have run that experiment in the prior cells. Time and Compute can be saved by only using the True option for the parameter in subsequent experiments."
   ]
  },
  {
   "cell_type": "code",
   "execution_count": 7,
   "metadata": {},
   "outputs": [],
   "source": [
    "# Import datarobot library for the enums\n",
    "import datarobot as dr"
   ]
  },
  {
   "cell_type": "code",
   "execution_count": 8,
   "metadata": {},
   "outputs": [],
   "source": [
    "fdws = [35, 14] # TS feature derivation window parameter values to experiment\n",
    "kias = [False] # Known in advance parameter values to experiment\n",
    "acc_opt = [True] # Enable accuracy optimized blueprints\n",
    "search_int = [True] # Search for interactions between features \n",
    "mode = [dr.enums.AUTOPILOT_MODE.FULL_AUTO] # Autopilot mode values to experiment"
   ]
  },
  {
   "cell_type": "code",
   "execution_count": 9,
   "metadata": {},
   "outputs": [
    {
     "data": {
      "application/vnd.jupyter.widget-view+json": {
       "model_id": "eac862b56bda4785821d985cb504e17f",
       "version_major": 2,
       "version_minor": 0
      },
      "text/plain": [
       "Executing:   0%|          | 0/25 [00:00<?, ?cell/s]"
      ]
     },
     "metadata": {},
     "output_type": "display_data"
    },
    {
     "data": {
      "application/vnd.jupyter.widget-view+json": {
       "model_id": "59dbdd12d82c4c2089b55501449ba130",
       "version_major": 2,
       "version_minor": 0
      },
      "text/plain": [
       "Executing:   0%|          | 0/25 [00:00<?, ?cell/s]"
      ]
     },
     "metadata": {},
     "output_type": "display_data"
    }
   ],
   "source": [
    "INPUT_PATH = './experiment_notebook.ipynb'\n",
    "for item in itertools.product(*[fdws,kias,acc_opt,search_int,mode]):\n",
    "    UUID = str(uuid.uuid1())\n",
    "    OUTPUT_PATH = './experiments_bkup/experiment_{}.ipynb'.format(UUID)\n",
    "    pm.execute_notebook(input_path=INPUT_PATH,\n",
    "                        output_path=OUTPUT_PATH,\n",
    "                        parameters={'FDW':item[0],\n",
    "                                    'KIA':item[1], \n",
    "                                    'ACC_OPT':item[2], \n",
    "                                    'UUID':UUID,\n",
    "                                    'DR_AUTH_YAML_FILE':DR_AUTH_YAML_FILE,\n",
    "                                    'TRAINING_DATA':TRAINING_DATA,\n",
    "                                    'DATE_COL':DATE_COL,\n",
    "                                    'TRAINING_STOP_DATE':TRAINING_STOP_DATE,\n",
    "                                    'TRAINING_STOP_DATE_FORMAT':TRAINING_STOP_DATE_FORMAT,\n",
    "                                    'TARGET_COL':TARGET_COL,\n",
    "                                    'KIA_COLS':KIA_COLS,\n",
    "                                    'IS_MULTISERIES':IS_MULTISERIES,\n",
    "                                    'MULTISERIES_COLS':MULTISERIES_COLS,\n",
    "                                    'REFERENCE_NOTEBOOK':OUTPUT_PATH})"
   ]
  },
  {
   "cell_type": "code",
   "execution_count": 12,
   "metadata": {},
   "outputs": [
    {
     "name": "stdout",
     "output_type": "stream",
     "text": [
      "[2022-12-07 17:04:35 +0530] [45452] [INFO] Starting gunicorn 20.1.0\n",
      "[2022-12-07 17:04:35 +0530] [45452] [INFO] Listening at: http://127.0.0.1:5000 (45452)\n",
      "[2022-12-07 17:04:35 +0530] [45452] [INFO] Using worker: sync\n",
      "[2022-12-07 17:04:35 +0530] [45457] [INFO] Booting worker with pid: 45457\n",
      "^C\n",
      "[2022-12-07 17:05:36 +0530] [45452] [INFO] Handling signal: int\n",
      "[2022-12-07 17:05:36 +0530] [45457] [INFO] Worker exiting (pid: 45457)\n"
     ]
    }
   ],
   "source": [
    "!mlflow ui"
   ]
  }
 ],
 "metadata": {
  "kernelspec": {
   "display_name": "Python 3",
   "language": "python",
   "name": "python3"
  },
  "language_info": {
   "codemirror_mode": {
    "name": "ipython",
    "version": 3
   },
   "file_extension": ".py",
   "mimetype": "text/x-python",
   "name": "python",
   "nbconvert_exporter": "python",
   "pygments_lexer": "ipython3",
   "version": "3.8.8"
  }
 },
 "nbformat": 4,
 "nbformat_minor": 4
}
