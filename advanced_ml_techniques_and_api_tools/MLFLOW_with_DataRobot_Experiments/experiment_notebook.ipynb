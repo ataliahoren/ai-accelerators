{
 "cells": [
  {
   "cell_type": "markdown",
   "metadata": {},
   "source": [
    "# Use MLFlow with the DataRobot API for experimentation and logging\n",
    "\n",
    "This notebook provides a framework that showcases the integration of MLFlow and Papermill to track machine learning experiments with DataRobot.\n",
    "\n",
    "This frameworks outline how to:\n",
    "\n",
    "<ul><li>Use MLFlow with the DataRobot API to track and log ML experiments\n",
    "<ul><li>Benefit: \n",
    "Consistent comparison of results across experiments</li></ul></li>\n",
    "<li>Use Papermill with the DataRobot API to create artifacts from machine learning experiments to reduce effort needed for collaboration\n",
    "<ul><li>Benefit: Automation of experiments to avoid errors and reduce manual effort</li></ul></li>\n",
    "    <li>Execute jupyter notebooks with parameters like Python scripts</li>\n",
    "<li>Loop through parameter combinations to run multiple projects; build a Model Factory.</li></ul>\n",
    "\n",
    "<font style=\"color:blue\">This notebook is the experimentation notebook for running individual time series experiments. Papermill is used to recieve parameters from the main notebook (<code>orchestration_notebook.ipynb</code>) and run a copy of this notebook for each combination of the parameters.</font>\n",
    "    \n",
    "<font style=\"color:blue\">The experiment notebook doesn't require any updates as the parameters are passed from the main notebook. However, this notebook will be updated for different modeling approach like AutoML, Unsupervised learning, etc.</font>"
   ]
  },
  {
   "cell_type": "markdown",
   "metadata": {},
   "source": [
    "## Setup\n",
    "\n",
    "### Bind inputs"
   ]
  },
  {
   "cell_type": "code",
   "execution_count": 28,
   "metadata": {
    "tags": [
     "parameters"
    ]
   },
   "outputs": [],
   "source": [
    "FDW = 35\n",
    "KIA = False\n",
    "UUID = str('bcf6c090-1899-11ed-a7a1-f018981f05a4')\n",
    "ACC_OPT = False\n",
    "SRCH_INT = False\n",
    "SEGMENTED = False\n",
    "MODE = 'quick'\n",
    "TRAINING_DATA = './DR_Demo_Sales_Multiseries_training (1).xlsx'\n",
    "DATE_COL = 'Date'\n",
    "TRAINING_STOP_DATE = '01-06-2014'\n",
    "TRAINING_STOP_DATE_FORMAT = '%d-%m-%Y'\n",
    "DR_AUTH_YAML_FILE = '~/.config/datarobot/drconfig.yaml'\n",
    "TARGET_COL = 'Sales'\n",
    "KIA_COLS = ['Marketing', 'Near_Xmas', 'Near_BlackFriday',\n",
    "            'Holiday', 'DestinationEvent']\n",
    "IS_MULTISERIES = True\n",
    "MULTISERIES_COLS = ['Store']\n",
    "REFERENCE_NOTEBOOK = './experiments_bkup/experiment_d666bc12-7602-11ed-99f4-f018981f05a4.ipynb'"
   ]
  },
  {
   "cell_type": "markdown",
   "metadata": {},
   "source": [
    "### Import libraries"
   ]
  },
  {
   "cell_type": "code",
   "execution_count": 2,
   "metadata": {},
   "outputs": [],
   "source": [
    "import mlflow\n",
    "import pandas as pd\n",
    "import numpy as np\n",
    "import matplotlib.pyplot as plt\n",
    "from permetrics.regression import RegressionMetric # permetrics library for simplifying metric calculation "
   ]
  },
  {
   "cell_type": "markdown",
   "metadata": {},
   "source": [
    "### Connect to DataRobot\n",
    "\n",
    "Read more about different options for [connecting to DataRobot from the client](https://docs.datarobot.com/en/docs/api/api-quickstart/api-qs.html)."
   ]
  },
  {
   "cell_type": "code",
   "execution_count": 8,
   "metadata": {},
   "outputs": [
    {
     "data": {
      "text/plain": [
       "Project(Repex_bcf6c090-1899-11ed-a7a1-f018981f05a4)"
      ]
     },
     "execution_count": 8,
     "metadata": {},
     "output_type": "execute_result"
    }
   ],
   "source": [
    "# Authenticate in to your DataRobot instance\n",
    "import datarobot as dr \n",
    "import yaml\n",
    "\n",
    "cred_file = open(DR_AUTH_YAML_FILE, 'r') \n",
    "credentials = yaml.safe_load(cred_file)\n",
    " \n",
    "DATAROBOT_API_TOKEN = credentials['token']\n",
    "DATAROBOT_ENDPOINT = credentials['endpoint']\n",
    "\n",
    "client =dr.Client(\n",
    "    token=DATAROBOT_API_TOKEN, \n",
    "    endpoint=DATAROBOT_ENDPOINT,\n",
    "    user_agent_suffix='AIA-AE-MLF-1' #Optional but helps DataRobot improve this workflow\n",
    ")\n",
    "\n",
    "dr.client._global_client = client"
   ]
  },
  {
   "cell_type": "markdown",
   "metadata": {},
   "source": [
    "### Import training data"
   ]
  },
  {
   "cell_type": "code",
   "execution_count": 3,
   "metadata": {},
   "outputs": [
    {
     "name": "stdout",
     "output_type": "stream",
     "text": [
      "<class 'pandas.core.frame.DataFrame'>\n",
      "RangeIndex: 7140 entries, 0 to 7139\n",
      "Data columns (total 17 columns):\n",
      " #   Column            Non-Null Count  Dtype         \n",
      "---  ------            --------------  -----         \n",
      " 0   Store             7140 non-null   object        \n",
      " 1   Date              7140 non-null   datetime64[ns]\n",
      " 2   Sales             7140 non-null   int64         \n",
      " 3   Store_Size        7140 non-null   int64         \n",
      " 4   Num_Employees     7140 non-null   int64         \n",
      " 5   Returns_Pct       7140 non-null   float64       \n",
      " 6   Num_Customers     7140 non-null   int64         \n",
      " 7   Pct_On_Sale       7130 non-null   float64       \n",
      " 8   Marketing         7140 non-null   object        \n",
      " 9   Near_Xmas         7140 non-null   int64         \n",
      " 10  Near_BlackFriday  7140 non-null   int64         \n",
      " 11  Holiday           7140 non-null   object        \n",
      " 12  DestinationEvent  7140 non-null   object        \n",
      " 13  Pct_Promotional   7140 non-null   float64       \n",
      " 14  Econ_ChangeGDP    80 non-null     float64       \n",
      " 15  EconJobsChange    1020 non-null   float64       \n",
      " 16  AnnualizedCPI     240 non-null    float64       \n",
      "dtypes: datetime64[ns](1), float64(6), int64(6), object(4)\n",
      "memory usage: 948.4+ KB\n"
     ]
    }
   ],
   "source": [
    "df = pd.DataFrame()\n",
    "if(TRAINING_DATA.find('.csv')!=-1):\n",
    "    df = pd.read_csv(TRAINING_DATA, parse_dates = [DATE_COL])\n",
    "elif(TRAINING_DATA.find('.xls')!=-1):\n",
    "    df = pd.read_excel(TRAINING_DATA, parse_dates = [DATE_COL])\n",
    "else:\n",
    "    df = pd.DataFrame()\n",
    "df.info()"
   ]
  },
  {
   "cell_type": "markdown",
   "metadata": {},
   "source": [
    "### Private holdout\n",
    "\n",
    "Set a cutoff date for private holdout. This is necessary to enable the same holdout for all experiments irrespective of feature derivation windows and forecast windows. "
   ]
  },
  {
   "cell_type": "code",
   "execution_count": 5,
   "metadata": {},
   "outputs": [],
   "source": [
    "training_stop_date = pd.to_datetime(TRAINING_STOP_DATE,format=TRAINING_STOP_DATE_FORMAT)"
   ]
  },
  {
   "cell_type": "code",
   "execution_count": 6,
   "metadata": {},
   "outputs": [
    {
     "name": "stdout",
     "output_type": "stream",
     "text": [
      "<class 'pandas.core.frame.DataFrame'>\n",
      "Int64Index: 7000 entries, 0 to 7125\n",
      "Data columns (total 17 columns):\n",
      " #   Column            Non-Null Count  Dtype         \n",
      "---  ------            --------------  -----         \n",
      " 0   Store             7000 non-null   object        \n",
      " 1   Date              7000 non-null   datetime64[ns]\n",
      " 2   Sales             7000 non-null   int64         \n",
      " 3   Store_Size        7000 non-null   int64         \n",
      " 4   Num_Employees     7000 non-null   int64         \n",
      " 5   Returns_Pct       7000 non-null   float64       \n",
      " 6   Num_Customers     7000 non-null   int64         \n",
      " 7   Pct_On_Sale       6990 non-null   float64       \n",
      " 8   Marketing         7000 non-null   object        \n",
      " 9   Near_Xmas         7000 non-null   int64         \n",
      " 10  Near_BlackFriday  7000 non-null   int64         \n",
      " 11  Holiday           7000 non-null   object        \n",
      " 12  DestinationEvent  7000 non-null   object        \n",
      " 13  Pct_Promotional   7000 non-null   float64       \n",
      " 14  Econ_ChangeGDP    80 non-null     float64       \n",
      " 15  EconJobsChange    1000 non-null   float64       \n",
      " 16  AnnualizedCPI     230 non-null    float64       \n",
      "dtypes: datetime64[ns](1), float64(6), int64(6), object(4)\n",
      "memory usage: 984.4+ KB\n"
     ]
    }
   ],
   "source": [
    "df_train = df[df[DATE_COL]<training_stop_date]\n",
    "df_train.info()"
   ]
  },
  {
   "cell_type": "markdown",
   "metadata": {},
   "source": [
    "## Modeling\n",
    "\n",
    "### Create a DataRobot project"
   ]
  },
  {
   "cell_type": "code",
   "execution_count": 8,
   "metadata": {},
   "outputs": [
    {
     "data": {
      "text/plain": [
       "Project(Repex_bcf6c090-1899-11ed-a7a1-f018981f05a4)"
      ]
     },
     "execution_count": 8,
     "metadata": {},
     "output_type": "execute_result"
    }
   ],
   "source": [
    "# Upload data and create a new DataRobot project\n",
    "project = dr.Project.create(df_train, project_name='Repex_'+UUID)\n",
    "project"
   ]
  },
  {
   "cell_type": "markdown",
   "metadata": {},
   "source": [
    "### Configure project settings\n",
    "\n",
    "Set up time series settings for the newly created project."
   ]
  },
  {
   "cell_type": "code",
   "execution_count": 9,
   "metadata": {},
   "outputs": [],
   "source": [
    "known_in_advance = KIA_COLS\n",
    "feature_settings = [dr.FeatureSettings(feat_name,\n",
    "                                       known_in_advance=True)\n",
    "                    for feat_name in known_in_advance]\n",
    "\n",
    "time_partition = dr.DatetimePartitioningSpecification(\n",
    "        datetime_partition_column=DATE_COL,\n",
    "        use_time_series=True,\n",
    "        feature_derivation_window_start=-1*FDW,\n",
    "        feature_derivation_window_end=0,\n",
    "        forecast_window_start=1,\n",
    "        forecast_window_end=14,\n",
    "    )\n",
    "\n",
    "if(KIA):\n",
    "    time_partition.feature_settings = feature_settings\n",
    "\n",
    "if(IS_MULTISERIES):\n",
    "    time_partition.multiseries_id_columns = MULTISERIES_COLS\n",
    "\n",
    "advanced_options = dr.AdvancedOptions(accuracy_optimized_mb=ACC_OPT, \n",
    "                                      autopilot_with_feature_discovery=SRCH_INT)"
   ]
  },
  {
   "cell_type": "markdown",
   "metadata": {},
   "source": [
    "### Initiate Autopilot\n",
    "\n",
    "After creating settings objects, Autopilot is started using the `analyze_and_model` function."
   ]
  },
  {
   "cell_type": "code",
   "execution_count": 10,
   "metadata": {},
   "outputs": [
    {
     "name": "stdout",
     "output_type": "stream",
     "text": [
      "https://app.datarobot.com/projects/63902ec8c32fb2b2077f5da1/models\n",
      "In progress: 19, queued: 2 (waited: 0s)\n",
      "In progress: 19, queued: 2 (waited: 1s)\n",
      "In progress: 19, queued: 2 (waited: 3s)\n",
      "In progress: 19, queued: 2 (waited: 5s)\n",
      "In progress: 19, queued: 2 (waited: 7s)\n",
      "In progress: 19, queued: 2 (waited: 10s)\n",
      "In progress: 19, queued: 2 (waited: 14s)\n",
      "In progress: 19, queued: 2 (waited: 21s)\n",
      "In progress: 19, queued: 2 (waited: 35s)\n",
      "In progress: 19, queued: 2 (waited: 56s)\n",
      "In progress: 19, queued: 2 (waited: 78s)\n",
      "In progress: 19, queued: 0 (waited: 99s)\n",
      "In progress: 12, queued: 0 (waited: 120s)\n",
      "In progress: 9, queued: 0 (waited: 141s)\n",
      "In progress: 6, queued: 0 (waited: 162s)\n",
      "In progress: 4, queued: 0 (waited: 184s)\n",
      "In progress: 2, queued: 0 (waited: 205s)\n",
      "In progress: 1, queued: 0 (waited: 226s)\n",
      "In progress: 0, queued: 0 (waited: 247s)\n",
      "In progress: 4, queued: 0 (waited: 268s)\n",
      "In progress: 4, queued: 0 (waited: 289s)\n",
      "In progress: 2, queued: 0 (waited: 310s)\n",
      "In progress: 2, queued: 0 (waited: 331s)\n",
      "In progress: 0, queued: 0 (waited: 352s)\n",
      "In progress: 0, queued: 0 (waited: 373s)\n",
      "In progress: 0, queued: 0 (waited: 395s)\n",
      "In progress: 1, queued: 0 (waited: 416s)\n",
      "In progress: 1, queued: 0 (waited: 437s)\n",
      "In progress: 1, queued: 0 (waited: 458s)\n",
      "In progress: 1, queued: 0 (waited: 479s)\n",
      "In progress: 1, queued: 0 (waited: 500s)\n",
      "In progress: 1, queued: 0 (waited: 521s)\n",
      "In progress: 1, queued: 0 (waited: 542s)\n",
      "In progress: 0, queued: 0 (waited: 564s)\n",
      "In progress: 1, queued: 0 (waited: 585s)\n",
      "In progress: 1, queued: 0 (waited: 606s)\n",
      "In progress: 1, queued: 0 (waited: 627s)\n",
      "In progress: 1, queued: 0 (waited: 648s)\n",
      "In progress: 1, queued: 0 (waited: 669s)\n",
      "In progress: 1, queued: 0 (waited: 690s)\n",
      "In progress: 1, queued: 0 (waited: 711s)\n",
      "In progress: 1, queued: 0 (waited: 732s)\n",
      "In progress: 0, queued: 0 (waited: 754s)\n",
      "In progress: 0, queued: 0 (waited: 775s)\n",
      "In progress: 0, queued: 0 (waited: 796s)\n",
      "In progress: 0, queued: 0 (waited: 817s)\n"
     ]
    }
   ],
   "source": [
    "project.analyze_and_model(\n",
    "        target=TARGET_COL,\n",
    "        partitioning_method=time_partition,\n",
    "        max_wait=3600,\n",
    "        worker_count=-1,\n",
    "        advanced_options=advanced_options,\n",
    "        mode=MODE\n",
    "    )\n",
    "print(project.get_uri())\n",
    "project.wait_for_autopilot()"
   ]
  },
  {
   "cell_type": "markdown",
   "metadata": {},
   "source": [
    "### Get the recommended model\n",
    "\n",
    "After Autopilot completes, get the recommended model from DataRobot"
   ]
  },
  {
   "cell_type": "code",
   "execution_count": 11,
   "metadata": {},
   "outputs": [
    {
     "name": "stdout",
     "output_type": "stream",
     "text": [
      "DatetimeModel('eXtreme Gradient Boosted Trees Regressor with Early Stopping (learning rate =0.3)')\n"
     ]
    }
   ],
   "source": [
    "recommendation = dr.ModelRecommendation.get(project.id)\n",
    "recommended_model = recommendation.get_model()\n",
    "print(recommended_model)"
   ]
  },
  {
   "cell_type": "markdown",
   "metadata": {},
   "source": [
    "### Performance validation\n",
    "\n",
    "Create the private holdout from original dataset and get predictions from DataRobot recommended model. Once predictions are available, the predictions are compared to actuals using regression metrics."
   ]
  },
  {
   "cell_type": "code",
   "execution_count": 12,
   "metadata": {},
   "outputs": [],
   "source": [
    "dataset = project.upload_dataset(df,\n",
    "                                 forecast_point=training_stop_date)\n",
    "pred_job = recommended_model.request_predictions(dataset_id=dataset.id)\n",
    "preds = pred_job.get_result_when_complete()"
   ]
  },
  {
   "cell_type": "code",
   "execution_count": 14,
   "metadata": {},
   "outputs": [
    {
     "name": "stdout",
     "output_type": "stream",
     "text": [
      "<class 'pandas.core.frame.DataFrame'>\n",
      "RangeIndex: 130 entries, 0 to 129\n",
      "Data columns (total 6 columns):\n",
      " #   Column             Non-Null Count  Dtype              \n",
      "---  ------             --------------  -----              \n",
      " 0   row_id             130 non-null    int64              \n",
      " 1   prediction         130 non-null    float64            \n",
      " 2   forecast_distance  130 non-null    int64              \n",
      " 3   forecast_point     130 non-null    object             \n",
      " 4   timestamp          130 non-null    datetime64[ns, UTC]\n",
      " 5   series_id          130 non-null    object             \n",
      "dtypes: datetime64[ns, UTC](1), float64(1), int64(2), object(2)\n",
      "memory usage: 6.2+ KB\n"
     ]
    }
   ],
   "source": [
    "preds['timestamp'] = pd.to_datetime(preds['timestamp'], utc = True)\n",
    "df[DATE_COL] = pd.to_datetime(df[DATE_COL], utc = True)\n",
    "preds.info()"
   ]
  },
  {
   "cell_type": "code",
   "execution_count": 15,
   "metadata": {},
   "outputs": [
    {
     "name": "stdout",
     "output_type": "stream",
     "text": [
      "<class 'pandas.core.frame.DataFrame'>\n",
      "Int64Index: 130 entries, 0 to 129\n",
      "Data columns (total 6 columns):\n",
      " #   Column      Non-Null Count  Dtype              \n",
      "---  ------      --------------  -----              \n",
      " 0   Store       130 non-null    object             \n",
      " 1   Date        130 non-null    datetime64[ns, UTC]\n",
      " 2   Sales       130 non-null    int64              \n",
      " 3   prediction  130 non-null    float64            \n",
      " 4   timestamp   130 non-null    datetime64[ns, UTC]\n",
      " 5   series_id   130 non-null    object             \n",
      "dtypes: datetime64[ns, UTC](2), float64(1), int64(1), object(2)\n",
      "memory usage: 7.1+ KB\n"
     ]
    }
   ],
   "source": [
    "if(IS_MULTISERIES):\n",
    "    df_comparison = df[MULTISERIES_COLS+[DATE_COL,TARGET_COL]].merge(preds[['prediction','timestamp','series_id']],\n",
    "                                                                     left_on=MULTISERIES_COLS+[DATE_COL], \n",
    "                                                                     right_on=['series_id','timestamp'])\n",
    "else:\n",
    "    df_comparison = df[[DATE_COL,TARGET_COL]].merge(preds[['prediction','timestamp']],\n",
    "                                                    left_on=[DATE_COL], \n",
    "                                                    right_on=['timestamp'])\n",
    "assert df_comparison.shape[0]==preds.shape[0]\n",
    "df_comparison.info()"
   ]
  },
  {
   "cell_type": "markdown",
   "metadata": {},
   "source": [
    "Plotting actuals vs predicted for visual verification"
   ]
  },
  {
   "cell_type": "code",
   "execution_count": 24,
   "metadata": {},
   "outputs": [
    {
     "data": {
      "text/plain": [
       "(array([16224., 16226., 16228., 16230., 16232., 16234.]),\n",
       " [Text(0, 0, ''),\n",
       "  Text(0, 0, ''),\n",
       "  Text(0, 0, ''),\n",
       "  Text(0, 0, ''),\n",
       "  Text(0, 0, ''),\n",
       "  Text(0, 0, '')])"
      ]
     },
     "execution_count": 24,
     "metadata": {},
     "output_type": "execute_result"
    },
    {
     "data": {
      "image/png": "[encoded data removed]",
      "text/plain": [
       "<Figure size 432x288 with 1 Axes>"
      ]
     },
     "metadata": {
      "needs_background": "light"
     },
     "output_type": "display_data"
    }
   ],
   "source": [
    "if(not IS_MULTISERIES):\n",
    "    plt.plot(df_comparison['timestamp'], df_comparison['prediction'], label='Prediction', color='red')\n",
    "    plt.plot(df_comparison['timestamp'], df_comparison['Sales'], label='Actuals', color='blue', alpha=0.5)\n",
    "else:\n",
    "    df_viz = df_comparison[df_comparison['series_id']==df_comparison.series_id.unique()[0]]\n",
    "    plt.plot(df_viz['timestamp'], df_viz['prediction'], label='Prediction', color='red')\n",
    "    plt.plot(df_viz['timestamp'], df_viz['Sales'], label='Actuals', color='blue', alpha=0.5)\n",
    "plt.xticks(rotation=90)"
   ]
  },
  {
   "cell_type": "code",
   "execution_count": 17,
   "metadata": {},
   "outputs": [],
   "source": [
    "# Validate experiment performance\n",
    "evaluator = RegressionMetric(df_comparison[TARGET_COL].values, \n",
    "                             df_comparison['prediction'].values)"
   ]
  },
  {
   "cell_type": "markdown",
   "metadata": {},
   "source": [
    "### Tracking and logging experiments\n",
    "\n",
    "Log experiment metrics and parameters for display and comparison on the MLFlow UI."
   ]
  },
  {
   "cell_type": "code",
   "execution_count": 30,
   "metadata": {},
   "outputs": [],
   "source": [
    "with mlflow.start_run():\n",
    "    mlflow.log_param('Project URL',project.get_uri()) # URL for DataRobot Project\n",
    "    mlflow.log_param('Notebook Location',REFERENCE_NOTEBOOK) # location of final notebook for reference\n",
    "    mlflow.log_param('Feature Derivation Window',FDW) # feature derivation used\n",
    "    mlflow.log_param('Enabled Known In Advance features',KIA) # known in advance setting\n",
    "    mlflow.log_param('Ran Accuracy Optimized BPs',ACC_OPT) # accuracy optimized setting\n",
    "    mlflow.log_param('Enabled Search Interactions option',SRCH_INT) # search for interactions setting\n",
    "    mlflow.log_param('Autopilot Mode',MODE) # autopilot mode\n",
    "    \n",
    "    mlflow.log_artifact(REFERENCE_NOTEBOOK) # location of final notebook for reference\n",
    "    \n",
    "    # logging model performance metrics\n",
    "    mlflow.log_metric('MASE',evaluator.MASE())\n",
    "    mlflow.log_metric('MAPE',evaluator.MAPE())\n",
    "    mlflow.log_metric('RMSE',evaluator.RMSE())\n",
    "    mlflow.log_metric('MAE',evaluator.MAE())\n",
    "    mlflow.log_metric('R2',evaluator.R2())\n",
    "    mlflow.log_metric('Support',preds.shape[0])"
   ]
  }
 ],
 "metadata": {
  "celltoolbar": "Tags",
  "kernelspec": {
   "display_name": "Python 3 (ipykernel)",
   "language": "python",
   "name": "python3"
  },
  "language_info": {
   "codemirror_mode": {
    "name": "ipython",
    "version": 3
   },
   "file_extension": ".py",
   "mimetype": "text/x-python",
   "name": "python",
   "nbconvert_exporter": "python",
   "pygments_lexer": "ipython3",
   "version": "3.7.12"
  }
 },
 "nbformat": 4,
 "nbformat_minor": 4
}
