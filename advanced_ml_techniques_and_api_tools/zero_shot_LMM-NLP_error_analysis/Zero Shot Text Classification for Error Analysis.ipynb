{
 "cells": [
  {
   "cell_type": "markdown",
   "id": "228b805d",
   "metadata": {},
   "source": [
    "# Zero-shot text classification for error analysis\n",
    "\n",
    "**Author:** Glen Koundry  \n",
    "**Date:** June 6, 2023  "
   ]
  },
  {
   "cell_type": "markdown",
   "id": "7331ae5a",
   "metadata": {},
   "source": [
    "## Overview\n",
    "\n",
    "This notebook outlines how to use zero-shot text classification with large language models (LLMs), focusing on its application in error analysis of supervised text classification models.\n",
    "\n",
    "This notebook's primary goal is to equip you with practical knowledge of using LLMs for zero-shot text classification and its application in performing error analysis of supervised text classification models. This understanding is becoming an increasingly valuable skill in the era of big data and dynamically evolving categories.\n",
    "\n",
    "### Core concepts\n",
    "\n",
    "**Text Classification** is the process of attributing predefined categories (or labels) to text. For example, identifying emails as spam or not spam is a classic text classification task.\n",
    "\n",
    "**Zero-shot learning** represents an approach in machine learning where a model can tackle a task it hasn't explicitly seen during its training phase. This implies that the text classifier can discern and attribute labels that it hasn't been specifically trained on, a critical ability in real-world situations where labeled data is scarce or when new categories surface post-training.\n",
    "\n",
    "**Error analysis** involves examining and understanding the mistakes made by a supervised learning model. In the context of text classification, this entails identifying the cases where a model has misclassified the text and understanding why those misclassifications occurred. Error analysis can provide insights into how to improve the model, whether by gathering more or different data, modifying the model architecture, or adjusting the training process.\n",
    "\n",
    "Zero-shot classification exploits the power of **large language models (LLMs)** such as GPT-3, GPT-4, and others by OpenAI. These models, trained on extensive and diverse internet text, can produce human-like text, answer queries, translate languages, and more. A collateral benefit of this wide-ranging training is their ability to comprehend context and make intelligent predictions, a quality you can utilize for zero-shot classification and error analysis.\n",
    "\n",
    "### Approaches for zero-shot text classification\n",
    "\n",
    "In this notebook, you will delve into three distinctive approaches for zero-shot text classification using large language models:\n",
    "\n",
    "* Embeddings-based classification: Extract high-dimensional vector representations (embeddings) of both text and labels, then measure their similarity.\n",
    "* Natural Language Inference-based (NLI) Classification: This method capitalizes on the model's capability to ascertain whether a given statement is true or false within a specific context.\n",
    "* Direct classification: This method involves framing the task as a question to a conversational model and interpreting its generated response.\n",
    "\n",
    "Each of these techniques comes with its unique strengths and challenges, and are explored throughout the notebook."
   ]
  },
  {
   "cell_type": "markdown",
   "id": "bfb989ab",
   "metadata": {},
   "source": [
    "## Setup\n",
    "\n",
    "### Import libraries"
   ]
  },
  {
   "cell_type": "code",
   "execution_count": 1,
   "id": "11d97b6b",
   "metadata": {},
   "outputs": [],
   "source": [
    "import datetime\n",
    "import json\n",
    "\n",
    "import datarobot as dr\n",
    "import numpy as np\n",
    "import openai\n",
    "import pandas as pd\n",
    "from datasets import load_dataset\n",
    "from IPython.display import HTML, Markdown, display\n",
    "from openai.embeddings_utils import cosine_similarity, get_embedding\n",
    "from transformers import pipeline"
   ]
  },
  {
   "cell_type": "markdown",
   "id": "4c58a021",
   "metadata": {},
   "source": [
    "### Credentials\n",
    "\n",
    "**IMPORTANT**: Before running this cell, you need to provide your personal DataRobot API key and your OpenAI API key. Read more about different options for [connecting to DataRobot from the client](https://docs.datarobot.com/en/docs/api/api-quickstart/api-qs.html).\n",
    "\n",
    "\n",
    "To find your OpenAI API key, log in to your OpenAI account, click on your name in the upper right corner and select \"View API Keys\".\n",
    "\n",
    "In the cell, replace the existing string within the quotes (`\"your_openapi_api_key\"`) with your personal OpenAI API Key. Be sure to keep your key within the quotes.\n",
    "        \n",
    "Don't forget to keep your API keys secure and avoid sharing them publicly."
   ]
  },
  {
   "cell_type": "code",
   "execution_count": 2,
   "id": "59bc7844",
   "metadata": {},
   "outputs": [],
   "source": [
    "# Place your DataRobot API key and URL here\n",
    "#DATAROBOT_API_KEY = \"<insert DataRobot API key here>\"\n",
    "DATAROBOT_API_ENDPOINT = \"https://app.datarobot.com/api/v2/\"                                                            \n",
    "\n",
    "# Place you OpenAI API key here\n",
    "OPENAI_API_KEY = \"<insert OpenAI API key here>\"\n",
    "openai.api_key = OPENAI_API_KEY\n"
   ]
  },
  {
   "cell_type": "markdown",
   "id": "599fab5a",
   "metadata": {},
   "source": [
    "### Import data\n",
    "\n",
    "For experiments with text classification. use the `financial_phrasebank` dataset from Huggingface. This dataset comprises sentences from financial news, each labeled with a sentiment: negative, neutral, or positive, as determined by human annotators."
   ]
  },
  {
   "cell_type": "code",
   "execution_count": 3,
   "id": "c5cc9c25",
   "metadata": {},
   "outputs": [
    {
     "name": "stderr",
     "output_type": "stream",
     "text": [
      "Found cached dataset financial_phrasebank (/home/glen/.cache/huggingface/datasets/financial_phrasebank/sentences_50agree/1.0.0/550bde12e6c30e2674da973a55f57edde5181d53f5a5a34c1531c53f93b7e141)\n"
     ]
    },
    {
     "data": {
      "text/html": [
       "<div>\n",
       "<style scoped>\n",
       "    .dataframe tbody tr th:only-of-type {\n",
       "        vertical-align: middle;\n",
       "    }\n",
       "\n",
       "    .dataframe tbody tr th {\n",
       "        vertical-align: top;\n",
       "    }\n",
       "\n",
       "    .dataframe thead th {\n",
       "        text-align: right;\n",
       "    }\n",
       "</style>\n",
       "<table border=\"1\" class=\"dataframe\">\n",
       "  <thead>\n",
       "    <tr style=\"text-align: right;\">\n",
       "      <th></th>\n",
       "      <th>sentence</th>\n",
       "      <th>label</th>\n",
       "    </tr>\n",
       "  </thead>\n",
       "  <tbody>\n",
       "    <tr>\n",
       "      <th>0</th>\n",
       "      <td>According to Gran , the company has no plans t...</td>\n",
       "      <td>1</td>\n",
       "    </tr>\n",
       "    <tr>\n",
       "      <th>1</th>\n",
       "      <td>Technopolis plans to develop in stages an area...</td>\n",
       "      <td>1</td>\n",
       "    </tr>\n",
       "    <tr>\n",
       "      <th>2</th>\n",
       "      <td>The international electronic industry company ...</td>\n",
       "      <td>0</td>\n",
       "    </tr>\n",
       "    <tr>\n",
       "      <th>3</th>\n",
       "      <td>With the new production plant the company woul...</td>\n",
       "      <td>2</td>\n",
       "    </tr>\n",
       "    <tr>\n",
       "      <th>4</th>\n",
       "      <td>According to the company 's updated strategy f...</td>\n",
       "      <td>2</td>\n",
       "    </tr>\n",
       "  </tbody>\n",
       "</table>\n",
       "</div>"
      ],
      "text/plain": [
       "                                            sentence  label\n",
       "0  According to Gran , the company has no plans t...      1\n",
       "1  Technopolis plans to develop in stages an area...      1\n",
       "2  The international electronic industry company ...      0\n",
       "3  With the new production plant the company woul...      2\n",
       "4  According to the company 's updated strategy f...      2"
      ]
     },
     "execution_count": 3,
     "metadata": {},
     "output_type": "execute_result"
    }
   ],
   "source": [
    "# Dataset to load from Huggingface dataset hub\n",
    "DATASET_INFO = {\n",
    "    \"path\": \"financial_phrasebank\",\n",
    "    \"name\": \"sentences_50agree\",\n",
    "    \"split\": \"train\",\n",
    "}\n",
    "TEXT_FIELD_NAME = \"sentence\"\n",
    "LABEL_FIELD_NAME = \"label\"\n",
    "\n",
    "dataset = load_dataset(**DATASET_INFO)\n",
    "\n",
    "# Financial phrasebank labels\n",
    "# 0 = negative, 1 = neutral, 2 = positive\n",
    "labels = [                                                                                             \n",
    "    \"negative\",                                                                                        \n",
    "    \"neutral\",                                                                                         \n",
    "    \"positive\",                                                                                        \n",
    "]\n",
    "\n",
    "dataset.select(range(5)).to_pandas()\n"
   ]
  },
  {
   "cell_type": "markdown",
   "id": "8608eb33",
   "metadata": {},
   "source": [
    "### Create a training and testing split\n",
    "\n",
    "Prepare the data for your project. Divide the dataset into two subsets: one for training a supervised model and one for testing its performance. After the model is trained, the test subset will be used to evaluate the model's accuracy and to conduct error analysis, exploring where and why the model makes mistakes."
   ]
  },
  {
   "cell_type": "code",
   "execution_count": 4,
   "id": "6b2ffc9a",
   "metadata": {},
   "outputs": [],
   "source": [
    "TEST_SIZE = 1000   \n",
    "\n",
    "# Create a training/testing split with TEST_SIZE test_split\n",
    "dataset = dataset.train_test_split(test_size=TEST_SIZE)\n",
    "\n",
    "# Make DataFrames from the dataset\n",
    "# `train_df` is only used for DataRobot supervised model training                                        \n",
    "train_df = dataset[\"train\"].to_pandas()                                                                \n",
    "test_df = dataset[\"test\"].to_pandas()"
   ]
  },
  {
   "cell_type": "markdown",
   "id": "019e28e6",
   "metadata": {},
   "source": [
    "## Modeling\n",
    "\n",
    "### Create a project for multi-class supervised learning\n",
    "\n",
    "This code creates and trains a supervised learning model using DataRobot's AutoML functionality. It first establishes a connection to the DataRobot application. It then initiates a project and starts the AutoML process, which automatically selects the best model and retrains it on the full training dataset. Once the best model is identified and trained, the code generates predictions for the test dataset. These predictions are then converted into a more readable format, facilitating subsequent error analysis. This model will serve as the primary tool for understanding the strengths and weaknesses of supervised learning in text classification."
   ]
  },
  {
   "cell_type": "code",
   "execution_count": 5,
   "id": "175d006f",
   "metadata": {
    "scrolled": true
   },
   "outputs": [
    {
     "name": "stdout",
     "output_type": "stream",
     "text": [
      "In progress: 3, queued: 0 (waited: 0s)\n",
      "In progress: 3, queued: 0 (waited: 1s)\n",
      "In progress: 3, queued: 0 (waited: 1s)\n",
      "In progress: 3, queued: 0 (waited: 3s)\n",
      "In progress: 3, queued: 0 (waited: 4s)\n",
      "In progress: 3, queued: 0 (waited: 6s)\n",
      "In progress: 3, queued: 0 (waited: 10s)\n",
      "In progress: 3, queued: 0 (waited: 17s)\n",
      "In progress: 1, queued: 0 (waited: 30s)\n",
      "In progress: 1, queued: 0 (waited: 50s)\n",
      "In progress: 4, queued: 8 (waited: 71s)\n",
      "In progress: 2, queued: 7 (waited: 91s)\n",
      "In progress: 4, queued: 4 (waited: 112s)\n",
      "In progress: 4, queued: 1 (waited: 132s)\n",
      "In progress: 4, queued: 0 (waited: 153s)\n",
      "In progress: 3, queued: 0 (waited: 173s)\n",
      "In progress: 1, queued: 0 (waited: 194s)\n",
      "In progress: 0, queued: 0 (waited: 214s)\n",
      "In progress: 0, queued: 0 (waited: 235s)\n",
      "In progress: 0, queued: 0 (waited: 255s)\n",
      "In progress: 1, queued: 0 (waited: 276s)\n",
      "In progress: 0, queued: 0 (waited: 296s)\n",
      "In progress: 0, queued: 0 (waited: 317s)\n",
      "In progress: 0, queued: 0 (waited: 337s)\n",
      "Best model: Stochastic Gradient Descent Classifier\n",
      "\n"
     ]
    },
    {
     "data": {
      "text/html": [
       "<div>\n",
       "<style scoped>\n",
       "    .dataframe tbody tr th:only-of-type {\n",
       "        vertical-align: middle;\n",
       "    }\n",
       "\n",
       "    .dataframe tbody tr th {\n",
       "        vertical-align: top;\n",
       "    }\n",
       "\n",
       "    .dataframe thead th {\n",
       "        text-align: right;\n",
       "    }\n",
       "</style>\n",
       "<table border=\"1\" class=\"dataframe\">\n",
       "  <thead>\n",
       "    <tr style=\"text-align: right;\">\n",
       "      <th></th>\n",
       "      <th>row_id</th>\n",
       "      <th>prediction</th>\n",
       "      <th>negative</th>\n",
       "      <th>neutral</th>\n",
       "      <th>positive</th>\n",
       "    </tr>\n",
       "  </thead>\n",
       "  <tbody>\n",
       "    <tr>\n",
       "      <th>0</th>\n",
       "      <td>0</td>\n",
       "      <td>2</td>\n",
       "      <td>0.402966</td>\n",
       "      <td>0.179682</td>\n",
       "      <td>0.417352</td>\n",
       "    </tr>\n",
       "    <tr>\n",
       "      <th>1</th>\n",
       "      <td>1</td>\n",
       "      <td>2</td>\n",
       "      <td>0.061204</td>\n",
       "      <td>0.067632</td>\n",
       "      <td>0.871164</td>\n",
       "    </tr>\n",
       "    <tr>\n",
       "      <th>2</th>\n",
       "      <td>2</td>\n",
       "      <td>2</td>\n",
       "      <td>0.202477</td>\n",
       "      <td>0.235605</td>\n",
       "      <td>0.561918</td>\n",
       "    </tr>\n",
       "    <tr>\n",
       "      <th>3</th>\n",
       "      <td>3</td>\n",
       "      <td>1</td>\n",
       "      <td>0.038149</td>\n",
       "      <td>0.884505</td>\n",
       "      <td>0.077346</td>\n",
       "    </tr>\n",
       "    <tr>\n",
       "      <th>4</th>\n",
       "      <td>4</td>\n",
       "      <td>1</td>\n",
       "      <td>0.038980</td>\n",
       "      <td>0.812669</td>\n",
       "      <td>0.148352</td>\n",
       "    </tr>\n",
       "    <tr>\n",
       "      <th>...</th>\n",
       "      <td>...</td>\n",
       "      <td>...</td>\n",
       "      <td>...</td>\n",
       "      <td>...</td>\n",
       "      <td>...</td>\n",
       "    </tr>\n",
       "    <tr>\n",
       "      <th>995</th>\n",
       "      <td>995</td>\n",
       "      <td>1</td>\n",
       "      <td>0.034410</td>\n",
       "      <td>0.904119</td>\n",
       "      <td>0.061471</td>\n",
       "    </tr>\n",
       "    <tr>\n",
       "      <th>996</th>\n",
       "      <td>996</td>\n",
       "      <td>2</td>\n",
       "      <td>0.157924</td>\n",
       "      <td>0.140881</td>\n",
       "      <td>0.701195</td>\n",
       "    </tr>\n",
       "    <tr>\n",
       "      <th>997</th>\n",
       "      <td>997</td>\n",
       "      <td>1</td>\n",
       "      <td>0.044810</td>\n",
       "      <td>0.561261</td>\n",
       "      <td>0.393929</td>\n",
       "    </tr>\n",
       "    <tr>\n",
       "      <th>998</th>\n",
       "      <td>998</td>\n",
       "      <td>1</td>\n",
       "      <td>0.009900</td>\n",
       "      <td>0.833872</td>\n",
       "      <td>0.156229</td>\n",
       "    </tr>\n",
       "    <tr>\n",
       "      <th>999</th>\n",
       "      <td>999</td>\n",
       "      <td>1</td>\n",
       "      <td>0.019914</td>\n",
       "      <td>0.587828</td>\n",
       "      <td>0.392258</td>\n",
       "    </tr>\n",
       "  </tbody>\n",
       "</table>\n",
       "<p>1000 rows × 5 columns</p>\n",
       "</div>"
      ],
      "text/plain": [
       "     row_id  prediction  negative   neutral  positive\n",
       "0         0           2  0.402966  0.179682  0.417352\n",
       "1         1           2  0.061204  0.067632  0.871164\n",
       "2         2           2  0.202477  0.235605  0.561918\n",
       "3         3           1  0.038149  0.884505  0.077346\n",
       "4         4           1  0.038980  0.812669  0.148352\n",
       "..      ...         ...       ...       ...       ...\n",
       "995     995           1  0.034410  0.904119  0.061471\n",
       "996     996           2  0.157924  0.140881  0.701195\n",
       "997     997           1  0.044810  0.561261  0.393929\n",
       "998     998           1  0.009900  0.833872  0.156229\n",
       "999     999           1  0.019914  0.587828  0.392258\n",
       "\n",
       "[1000 rows x 5 columns]"
      ]
     },
     "execution_count": 5,
     "metadata": {},
     "output_type": "execute_result"
    }
   ],
   "source": [
    "# Connect to DataRobot\n",
    "dr.Client(                                                                                             \n",
    "    token=DATAROBOT_API_KEY,                                                                                     \n",
    "    endpoint=DATAROBOT_API_ENDPOINT,                                                                             \n",
    ")\n",
    "\n",
    "# Create a project and start Autopilot\n",
    "project = dr.Project.start(                                                                            \n",
    "    train_df,                                                                                          \n",
    "    target=LABEL_FIELD_NAME,                                                                                    \n",
    "    target_type=\"Multiclass\",                                                                          \n",
    "    project_name=f\"{DATASET_INFO['path']}_{datetime.datetime.now().strftime('%Y-%m-%d %H:%M')}\"                                             \n",
    ")                                                                                                      \n",
    "project.wait_for_autopilot() \n",
    "\n",
    "# Get the best-performing model (highest scoring model retrained on 100% of training data)\n",
    "models = project.get_models()                                                                          \n",
    "final_model = [model for model in models if model.sample_pct == 100][0]\n",
    "print(f\"Best model: {final_model.model_type}\\n\")\n",
    "\n",
    "# Get predictions for the testing dataset\n",
    "predict_job = final_model.request_predictions(dataframe=test_df)                                       \n",
    "prediction_df = predict_job.get_result_when_complete()\n",
    "\n",
    "# Change the label to `int` to make indexing the `labels` list easier\n",
    "prediction_df[\"prediction\"] = prediction_df[\"prediction\"].astype(int)\n",
    "\n",
    "# Show predictions\n",
    "prediction_df = prediction_df.rename(columns={f\"class_{i}\": label for i, label in enumerate(labels)})\n",
    "prediction_df"
   ]
  },
  {
   "cell_type": "markdown",
   "id": "e5dbe6a6",
   "metadata": {},
   "source": [
    "### Supervised learning model results\n",
    "\n",
    "This code evaluates the accuracy of the supervised learning model and collects details about misclassified examples. It first determines the model's accuracy by comparing predictions against actual labels. Then, it creates a list of details about instances where the model's predictions were incorrect. Each entry includes the actual and predicted labels and the text that was misclassified. For demo purposes, this process stops after collecting details for a maximum of ten misclassified instances. This information is crucial for understanding and diagnosing the types of errors our model makes."
   ]
  },
  {
   "cell_type": "code",
   "execution_count": 6,
   "id": "852eaa0e",
   "metadata": {},
   "outputs": [
    {
     "name": "stdout",
     "output_type": "stream",
     "text": [
      "Model accuracy: 791 correct out of 1000\n"
     ]
    }
   ],
   "source": [
    "# Show model accuracy\n",
    "correct_predictions = prediction_df[\"prediction\"].astype(int) == test_df[LABEL_FIELD_NAME]\n",
    "print(f\"Model accuracy: {correct_predictions.sum()} correct out of {correct_predictions.shape[0]}\")\n",
    "\n",
    "# Limit the number of mistakes to classify since this is just a demo\n",
    "MAX_ERRORS = 20\n",
    "\n",
    "# Create list of misclassification details\n",
    "result_df = pd.concat((prediction_df, test_df), axis=1)\n",
    "error_details = []\n",
    "for _, result_row in result_df.iterrows():                                                             \n",
    "    if result_row[LABEL_FIELD_NAME] != result_row[\"prediction\"]:                                \n",
    "        error_details.append(                                                                          \n",
    "            {                                                                                          \n",
    "                \"actual_label\": labels[result_row[LABEL_FIELD_NAME]],                                \n",
    "                \"predicted_label\": labels[result_row[\"prediction\"]],                                           \n",
    "                \"text\": result_row[TEXT_FIELD_NAME],                                                   \n",
    "            }                                                                                          \n",
    "        )  \n",
    "        if len(error_details) == MAX_ERRORS:\n",
    "            break"
   ]
  },
  {
   "cell_type": "markdown",
   "id": "5b3f5f7f",
   "metadata": {},
   "source": [
    "## Error analysis of misclassified text"
   ]
  },
  {
   "cell_type": "markdown",
   "id": "e8c48599",
   "metadata": {},
   "source": [
    "### Define error classes\n",
    "\n",
    "The first step is to decide on what types of misclassification you are interested in. This piece of code declares a list, `error_class_templates`, containing potential classes of errors that may occur during text sentiment classification. These error classes are expressed in the form of descriptive strings:\n",
    "\n",
    "1. \"The sentiment of this statement is ambiguous.\" This error class indicates that the sentiment expressed in the given statement cannot be clearly determined. It could be due to the use of both positive and negative language, sarcasm, or complex language structure.\n",
    "\n",
    "2. \"The sentiment is unclear and requires more context\" - This error class implies that the given statement lacks enough context to make an accurate sentiment classification. This can occur if the statement is too short, vague, or depends heavily on preceding or following information not included in the text.\n",
    "\n",
    "3. \"The sentiment of this statement is not {}\" - This error class represents situations where the classifier incorrectly assigns a sentiment. The `{}` is a placeholder that will be replaced with the actual sentiment label predicted by the classifier, allowing this message to dynamically reflect the specific misclassification that occurred.\n",
    "\n",
    "4. \"The sentiment of this statement is {}\" - This means that the example and label are valid and that\n",
    "the supervised classifier made a mistake.\n",
    "\n",
    "These classes represent common types of errors that the classifier might make, and they serve as a starting point for error analysis. During this analysis, misclassified examples will be categorized according to these templates."
   ]
  },
  {
   "cell_type": "code",
   "execution_count": 7,
   "id": "5aa7831c",
   "metadata": {},
   "outputs": [],
   "source": [
    "# List of possible classification errors. Replace \"{}\" with the actual label.\n",
    "error_class_templates = [\n",
    "    \"The sentiment of this statement is ambiguous.\",\n",
    "    \"The sentiment is unclear and requires more context\",\n",
    "    \"The sentiment of this statement is not {}\",\n",
    "    \"The sentiment of this statement is {}\",\n",
    "]"
   ]
  },
  {
   "cell_type": "markdown",
   "id": "05b714d1",
   "metadata": {},
   "source": [
    "### Helper function for visualizing results\n",
    "\n",
    "This function takes a DataFrame containing the results of the error analysis and displays the results using markdown formatting."
   ]
  },
  {
   "cell_type": "code",
   "execution_count": 8,
   "id": "c96eda43",
   "metadata": {},
   "outputs": [],
   "source": [
    "def show_error_class_results(result_df):\n",
    "    for _, result_row in result_df.iterrows():\n",
    "        display(Markdown(f\"## Sentence\\n{result_row['sentence']}\"))\n",
    "        display(Markdown(f\"**Actual label:** {result_row['actual_label']}\"))\n",
    "        display(Markdown(f\"**Predicted label:** {result_row['predicted_label']}\"))\n",
    "        probabilities = result_row[error_class_templates].tolist()\n",
    "        error_classes = [\n",
    "            class_template.format(result_row['actual_label'])\n",
    "            for class_template in error_class_templates\n",
    "        ]\n",
    "        display(pd.Series(probabilities, index=error_classes).to_frame(name=\"probability\"))    "
   ]
  },
  {
   "cell_type": "markdown",
   "id": "d3fa961d",
   "metadata": {},
   "source": [
    "## Zero-shot classification\n",
    "\n",
    "With a text classification model and list of errors, you can now venture into the exciting domain of zero-shot learning. Zero-shot learning allows you to apply the model to text categories it has never seen before during training, broadening the applicability and versatility of the classifier. In the next sections, explore three distinct methods for implementing zero-shot text classification. These methods are:\n",
    "\n",
    "* Embeddings-based classification. \n",
    "* Natural Language Inference-based (NLI) classification\n",
    "* Direct classification \n",
    "\n",
    "Each technique offers a unique approach to the problem and is based on different principles, with its own benefits and considerations. The aim is to equip you with a variety of tools and perspectives on how to leverage large language models for text classification in a zero-shot setting. Let's delve into each of these techniques and understand how they enhance text classification capabilities."
   ]
  },
  {
   "cell_type": "markdown",
   "id": "f0a36a2a",
   "metadata": {},
   "source": [
    "### Embeddings-based classification\n",
    "\n",
    "Embeddings-based classification is a technique for zero-shot text classification that leverages the semantic representations of text encoded as high-dimensional vectors, also known as embeddings. Large language models (LLMs), like GPT-3, GPT-4, or BERT, are excellent at generating these embeddings as they have been trained on a diverse range of internet text, learning the contextual and semantic nuances of the language in the process.\n",
    "\n",
    "Here's a simplified breakdown of how the process works:\n",
    "\n",
    "1. **Generate embeddings**: For each text input and each possible label, generate embeddings. This is done by passing the text and labels through the LLM. The LLM then produces a high-dimensional vector for each, encapsulating their semantic information.\n",
    "\n",
    "2. **Calculate cosine similarity**: Calculate the cosine similarity between the text's embedding and each of the label embeddings. Cosine similarity is a measure of similarity between two non-zero vectors of an inner product space that measures the cosine of the angle between them. The higher the cosine similarity, the smaller the angle and greater the match between vectors.\n",
    "\n",
    "3. **Classify**: The label whose embedding has the highest cosine similarity to the text's embedding is chosen as the predicted label for that text.\n",
    "\n",
    "The power of this method lies in its ability to capture semantic similarity between text and labels, allowing it to categorize text into labels that it wasn't explicitly trained on. This method is especially useful when you don't have a lot of labeled data for training, a common scenario in real-world applications."
   ]
  },
  {
   "cell_type": "markdown",
   "id": "f3bcc8e7",
   "metadata": {},
   "source": [
    "#### Implement embeddings-based zero-shot classification\n",
    "\n",
    "The cell below performs zero-shot text classification using the embeddings-based method. It starts by importing the necessary functions from OpenAI's `embeddings_utils` module. The `get_embedding` function is used to generate embeddings for each label and sentence in the test dataset using OpenAI's `text-embedding-ada-002` engine.\n",
    "\n",
    "Next, the cosine similarity between the embeddings of each sentence and each label is computed. These similarities are then scaled and converted into pseudo-probabilities representing the likelihood of each label being the correct one for each sentence.\n",
    "\n",
    "Finally, the predictions and pseudo-probabilities are stored in a DataFrame, which is then passed to the `show_error_class_results` function to display the results of the classification.\n"
   ]
  },
  {
   "cell_type": "code",
   "execution_count": 9,
   "id": "534fb87f",
   "metadata": {},
   "outputs": [
    {
     "data": {
      "text/markdown": [
       "## Sentence\n",
       "The sales of the Tiimari segment fell by 4.0 % year-on-year to EUR3 .3 m in June 2010 ."
      ],
      "text/plain": [
       "<IPython.core.display.Markdown object>"
      ]
     },
     "metadata": {},
     "output_type": "display_data"
    },
    {
     "data": {
      "text/markdown": [
       "**Actual label:** negative"
      ],
      "text/plain": [
       "<IPython.core.display.Markdown object>"
      ]
     },
     "metadata": {},
     "output_type": "display_data"
    },
    {
     "data": {
      "text/markdown": [
       "**Predicted label:** positive"
      ],
      "text/plain": [
       "<IPython.core.display.Markdown object>"
      ]
     },
     "metadata": {},
     "output_type": "display_data"
    },
    {
     "data": {
      "text/html": [
       "<div>\n",
       "<style scoped>\n",
       "    .dataframe tbody tr th:only-of-type {\n",
       "        vertical-align: middle;\n",
       "    }\n",
       "\n",
       "    .dataframe tbody tr th {\n",
       "        vertical-align: top;\n",
       "    }\n",
       "\n",
       "    .dataframe thead th {\n",
       "        text-align: right;\n",
       "    }\n",
       "</style>\n",
       "<table border=\"1\" class=\"dataframe\">\n",
       "  <thead>\n",
       "    <tr style=\"text-align: right;\">\n",
       "      <th></th>\n",
       "      <th>probability</th>\n",
       "    </tr>\n",
       "  </thead>\n",
       "  <tbody>\n",
       "    <tr>\n",
       "      <th>The sentiment of this statement is ambiguous.</th>\n",
       "      <td>0.224257</td>\n",
       "    </tr>\n",
       "    <tr>\n",
       "      <th>The sentiment is unclear and requires more context</th>\n",
       "      <td>0.182567</td>\n",
       "    </tr>\n",
       "    <tr>\n",
       "      <th>The sentiment of this statement is not negative</th>\n",
       "      <td>0.201853</td>\n",
       "    </tr>\n",
       "    <tr>\n",
       "      <th>The sentiment of this statement is negative</th>\n",
       "      <td>0.391323</td>\n",
       "    </tr>\n",
       "  </tbody>\n",
       "</table>\n",
       "</div>"
      ],
      "text/plain": [
       "                                                    probability\n",
       "The sentiment of this statement is ambiguous.          0.224257\n",
       "The sentiment is unclear and requires more context     0.182567\n",
       "The sentiment of this statement is not negative        0.201853\n",
       "The sentiment of this statement is negative            0.391323"
      ]
     },
     "metadata": {},
     "output_type": "display_data"
    },
    {
     "data": {
      "text/markdown": [
       "## Sentence\n",
       "At 1411 CET , ArcelorMittal had lost 7.26 % to EUR 17.38 on Euronext Paris , coming at the lead of the blue-chip fallers ."
      ],
      "text/plain": [
       "<IPython.core.display.Markdown object>"
      ]
     },
     "metadata": {},
     "output_type": "display_data"
    },
    {
     "data": {
      "text/markdown": [
       "**Actual label:** negative"
      ],
      "text/plain": [
       "<IPython.core.display.Markdown object>"
      ]
     },
     "metadata": {},
     "output_type": "display_data"
    },
    {
     "data": {
      "text/markdown": [
       "**Predicted label:** neutral"
      ],
      "text/plain": [
       "<IPython.core.display.Markdown object>"
      ]
     },
     "metadata": {},
     "output_type": "display_data"
    },
    {
     "data": {
      "text/html": [
       "<div>\n",
       "<style scoped>\n",
       "    .dataframe tbody tr th:only-of-type {\n",
       "        vertical-align: middle;\n",
       "    }\n",
       "\n",
       "    .dataframe tbody tr th {\n",
       "        vertical-align: top;\n",
       "    }\n",
       "\n",
       "    .dataframe thead th {\n",
       "        text-align: right;\n",
       "    }\n",
       "</style>\n",
       "<table border=\"1\" class=\"dataframe\">\n",
       "  <thead>\n",
       "    <tr style=\"text-align: right;\">\n",
       "      <th></th>\n",
       "      <th>probability</th>\n",
       "    </tr>\n",
       "  </thead>\n",
       "  <tbody>\n",
       "    <tr>\n",
       "      <th>The sentiment of this statement is ambiguous.</th>\n",
       "      <td>0.178610</td>\n",
       "    </tr>\n",
       "    <tr>\n",
       "      <th>The sentiment is unclear and requires more context</th>\n",
       "      <td>0.264658</td>\n",
       "    </tr>\n",
       "    <tr>\n",
       "      <th>The sentiment of this statement is not negative</th>\n",
       "      <td>0.199378</td>\n",
       "    </tr>\n",
       "    <tr>\n",
       "      <th>The sentiment of this statement is negative</th>\n",
       "      <td>0.357354</td>\n",
       "    </tr>\n",
       "  </tbody>\n",
       "</table>\n",
       "</div>"
      ],
      "text/plain": [
       "                                                    probability\n",
       "The sentiment of this statement is ambiguous.          0.178610\n",
       "The sentiment is unclear and requires more context     0.264658\n",
       "The sentiment of this statement is not negative        0.199378\n",
       "The sentiment of this statement is negative            0.357354"
      ]
     },
     "metadata": {},
     "output_type": "display_data"
    },
    {
     "data": {
      "text/markdown": [
       "## Sentence\n",
       "The liquidity providing was interrupted on May 11 , 2007 when Aspocomp Group Oyj 's shares traded below 0.50 cent ( Aspocomp 's stock exchange release 11.5.2007 ) ."
      ],
      "text/plain": [
       "<IPython.core.display.Markdown object>"
      ]
     },
     "metadata": {},
     "output_type": "display_data"
    },
    {
     "data": {
      "text/markdown": [
       "**Actual label:** negative"
      ],
      "text/plain": [
       "<IPython.core.display.Markdown object>"
      ]
     },
     "metadata": {},
     "output_type": "display_data"
    },
    {
     "data": {
      "text/markdown": [
       "**Predicted label:** neutral"
      ],
      "text/plain": [
       "<IPython.core.display.Markdown object>"
      ]
     },
     "metadata": {},
     "output_type": "display_data"
    },
    {
     "data": {
      "text/html": [
       "<div>\n",
       "<style scoped>\n",
       "    .dataframe tbody tr th:only-of-type {\n",
       "        vertical-align: middle;\n",
       "    }\n",
       "\n",
       "    .dataframe tbody tr th {\n",
       "        vertical-align: top;\n",
       "    }\n",
       "\n",
       "    .dataframe thead th {\n",
       "        text-align: right;\n",
       "    }\n",
       "</style>\n",
       "<table border=\"1\" class=\"dataframe\">\n",
       "  <thead>\n",
       "    <tr style=\"text-align: right;\">\n",
       "      <th></th>\n",
       "      <th>probability</th>\n",
       "    </tr>\n",
       "  </thead>\n",
       "  <tbody>\n",
       "    <tr>\n",
       "      <th>The sentiment of this statement is ambiguous.</th>\n",
       "      <td>0.284236</td>\n",
       "    </tr>\n",
       "    <tr>\n",
       "      <th>The sentiment is unclear and requires more context</th>\n",
       "      <td>0.326175</td>\n",
       "    </tr>\n",
       "    <tr>\n",
       "      <th>The sentiment of this statement is not negative</th>\n",
       "      <td>0.128053</td>\n",
       "    </tr>\n",
       "    <tr>\n",
       "      <th>The sentiment of this statement is negative</th>\n",
       "      <td>0.261536</td>\n",
       "    </tr>\n",
       "  </tbody>\n",
       "</table>\n",
       "</div>"
      ],
      "text/plain": [
       "                                                    probability\n",
       "The sentiment of this statement is ambiguous.          0.284236\n",
       "The sentiment is unclear and requires more context     0.326175\n",
       "The sentiment of this statement is not negative        0.128053\n",
       "The sentiment of this statement is negative            0.261536"
      ]
     },
     "metadata": {},
     "output_type": "display_data"
    },
    {
     "data": {
      "text/markdown": [
       "## Sentence\n",
       "At 10.58 am , Outokumpu declined 2.74 pct to 24.87 eur , while the OMX Helsinki 25 was 0.55 pct higher at 2,825.14 and the OMX Helsinki added 0.64 pct to 9,386.89 ."
      ],
      "text/plain": [
       "<IPython.core.display.Markdown object>"
      ]
     },
     "metadata": {},
     "output_type": "display_data"
    },
    {
     "data": {
      "text/markdown": [
       "**Actual label:** neutral"
      ],
      "text/plain": [
       "<IPython.core.display.Markdown object>"
      ]
     },
     "metadata": {},
     "output_type": "display_data"
    },
    {
     "data": {
      "text/markdown": [
       "**Predicted label:** negative"
      ],
      "text/plain": [
       "<IPython.core.display.Markdown object>"
      ]
     },
     "metadata": {},
     "output_type": "display_data"
    },
    {
     "data": {
      "text/html": [
       "<div>\n",
       "<style scoped>\n",
       "    .dataframe tbody tr th:only-of-type {\n",
       "        vertical-align: middle;\n",
       "    }\n",
       "\n",
       "    .dataframe tbody tr th {\n",
       "        vertical-align: top;\n",
       "    }\n",
       "\n",
       "    .dataframe thead th {\n",
       "        text-align: right;\n",
       "    }\n",
       "</style>\n",
       "<table border=\"1\" class=\"dataframe\">\n",
       "  <thead>\n",
       "    <tr style=\"text-align: right;\">\n",
       "      <th></th>\n",
       "      <th>probability</th>\n",
       "    </tr>\n",
       "  </thead>\n",
       "  <tbody>\n",
       "    <tr>\n",
       "      <th>The sentiment of this statement is ambiguous.</th>\n",
       "      <td>0.213051</td>\n",
       "    </tr>\n",
       "    <tr>\n",
       "      <th>The sentiment is unclear and requires more context</th>\n",
       "      <td>0.286119</td>\n",
       "    </tr>\n",
       "    <tr>\n",
       "      <th>The sentiment of this statement is not neutral</th>\n",
       "      <td>0.232696</td>\n",
       "    </tr>\n",
       "    <tr>\n",
       "      <th>The sentiment of this statement is neutral</th>\n",
       "      <td>0.268134</td>\n",
       "    </tr>\n",
       "  </tbody>\n",
       "</table>\n",
       "</div>"
      ],
      "text/plain": [
       "                                                    probability\n",
       "The sentiment of this statement is ambiguous.          0.213051\n",
       "The sentiment is unclear and requires more context     0.286119\n",
       "The sentiment of this statement is not neutral         0.232696\n",
       "The sentiment of this statement is neutral             0.268134"
      ]
     },
     "metadata": {},
     "output_type": "display_data"
    },
    {
     "data": {
      "text/markdown": [
       "## Sentence\n",
       "A new production line is being completed for the contract production of hormone treatments ."
      ],
      "text/plain": [
       "<IPython.core.display.Markdown object>"
      ]
     },
     "metadata": {},
     "output_type": "display_data"
    },
    {
     "data": {
      "text/markdown": [
       "**Actual label:** positive"
      ],
      "text/plain": [
       "<IPython.core.display.Markdown object>"
      ]
     },
     "metadata": {},
     "output_type": "display_data"
    },
    {
     "data": {
      "text/markdown": [
       "**Predicted label:** neutral"
      ],
      "text/plain": [
       "<IPython.core.display.Markdown object>"
      ]
     },
     "metadata": {},
     "output_type": "display_data"
    },
    {
     "data": {
      "text/html": [
       "<div>\n",
       "<style scoped>\n",
       "    .dataframe tbody tr th:only-of-type {\n",
       "        vertical-align: middle;\n",
       "    }\n",
       "\n",
       "    .dataframe tbody tr th {\n",
       "        vertical-align: top;\n",
       "    }\n",
       "\n",
       "    .dataframe thead th {\n",
       "        text-align: right;\n",
       "    }\n",
       "</style>\n",
       "<table border=\"1\" class=\"dataframe\">\n",
       "  <thead>\n",
       "    <tr style=\"text-align: right;\">\n",
       "      <th></th>\n",
       "      <th>probability</th>\n",
       "    </tr>\n",
       "  </thead>\n",
       "  <tbody>\n",
       "    <tr>\n",
       "      <th>The sentiment of this statement is ambiguous.</th>\n",
       "      <td>0.157480</td>\n",
       "    </tr>\n",
       "    <tr>\n",
       "      <th>The sentiment is unclear and requires more context</th>\n",
       "      <td>0.167685</td>\n",
       "    </tr>\n",
       "    <tr>\n",
       "      <th>The sentiment of this statement is not positive</th>\n",
       "      <td>0.275202</td>\n",
       "    </tr>\n",
       "    <tr>\n",
       "      <th>The sentiment of this statement is positive</th>\n",
       "      <td>0.399633</td>\n",
       "    </tr>\n",
       "  </tbody>\n",
       "</table>\n",
       "</div>"
      ],
      "text/plain": [
       "                                                    probability\n",
       "The sentiment of this statement is ambiguous.          0.157480\n",
       "The sentiment is unclear and requires more context     0.167685\n",
       "The sentiment of this statement is not positive        0.275202\n",
       "The sentiment of this statement is positive            0.399633"
      ]
     },
     "metadata": {},
     "output_type": "display_data"
    },
    {
     "data": {
      "text/markdown": [
       "## Sentence\n",
       "The company intends to raise production capacity in 2006 ."
      ],
      "text/plain": [
       "<IPython.core.display.Markdown object>"
      ]
     },
     "metadata": {},
     "output_type": "display_data"
    },
    {
     "data": {
      "text/markdown": [
       "**Actual label:** positive"
      ],
      "text/plain": [
       "<IPython.core.display.Markdown object>"
      ]
     },
     "metadata": {},
     "output_type": "display_data"
    },
    {
     "data": {
      "text/markdown": [
       "**Predicted label:** neutral"
      ],
      "text/plain": [
       "<IPython.core.display.Markdown object>"
      ]
     },
     "metadata": {},
     "output_type": "display_data"
    },
    {
     "data": {
      "text/html": [
       "<div>\n",
       "<style scoped>\n",
       "    .dataframe tbody tr th:only-of-type {\n",
       "        vertical-align: middle;\n",
       "    }\n",
       "\n",
       "    .dataframe tbody tr th {\n",
       "        vertical-align: top;\n",
       "    }\n",
       "\n",
       "    .dataframe thead th {\n",
       "        text-align: right;\n",
       "    }\n",
       "</style>\n",
       "<table border=\"1\" class=\"dataframe\">\n",
       "  <thead>\n",
       "    <tr style=\"text-align: right;\">\n",
       "      <th></th>\n",
       "      <th>probability</th>\n",
       "    </tr>\n",
       "  </thead>\n",
       "  <tbody>\n",
       "    <tr>\n",
       "      <th>The sentiment of this statement is ambiguous.</th>\n",
       "      <td>0.200621</td>\n",
       "    </tr>\n",
       "    <tr>\n",
       "      <th>The sentiment is unclear and requires more context</th>\n",
       "      <td>0.206832</td>\n",
       "    </tr>\n",
       "    <tr>\n",
       "      <th>The sentiment of this statement is not positive</th>\n",
       "      <td>0.190040</td>\n",
       "    </tr>\n",
       "    <tr>\n",
       "      <th>The sentiment of this statement is positive</th>\n",
       "      <td>0.402506</td>\n",
       "    </tr>\n",
       "  </tbody>\n",
       "</table>\n",
       "</div>"
      ],
      "text/plain": [
       "                                                    probability\n",
       "The sentiment of this statement is ambiguous.          0.200621\n",
       "The sentiment is unclear and requires more context     0.206832\n",
       "The sentiment of this statement is not positive        0.190040\n",
       "The sentiment of this statement is positive            0.402506"
      ]
     },
     "metadata": {},
     "output_type": "display_data"
    },
    {
     "data": {
      "text/markdown": [
       "## Sentence\n",
       "A & euro ; 4.8 million investment in 13.6 % of Lewa netted Deutsche Beteiligungs & euro ; 21 million ."
      ],
      "text/plain": [
       "<IPython.core.display.Markdown object>"
      ]
     },
     "metadata": {},
     "output_type": "display_data"
    },
    {
     "data": {
      "text/markdown": [
       "**Actual label:** positive"
      ],
      "text/plain": [
       "<IPython.core.display.Markdown object>"
      ]
     },
     "metadata": {},
     "output_type": "display_data"
    },
    {
     "data": {
      "text/markdown": [
       "**Predicted label:** neutral"
      ],
      "text/plain": [
       "<IPython.core.display.Markdown object>"
      ]
     },
     "metadata": {},
     "output_type": "display_data"
    },
    {
     "data": {
      "text/html": [
       "<div>\n",
       "<style scoped>\n",
       "    .dataframe tbody tr th:only-of-type {\n",
       "        vertical-align: middle;\n",
       "    }\n",
       "\n",
       "    .dataframe tbody tr th {\n",
       "        vertical-align: top;\n",
       "    }\n",
       "\n",
       "    .dataframe thead th {\n",
       "        text-align: right;\n",
       "    }\n",
       "</style>\n",
       "<table border=\"1\" class=\"dataframe\">\n",
       "  <thead>\n",
       "    <tr style=\"text-align: right;\">\n",
       "      <th></th>\n",
       "      <th>probability</th>\n",
       "    </tr>\n",
       "  </thead>\n",
       "  <tbody>\n",
       "    <tr>\n",
       "      <th>The sentiment of this statement is ambiguous.</th>\n",
       "      <td>0.197793</td>\n",
       "    </tr>\n",
       "    <tr>\n",
       "      <th>The sentiment is unclear and requires more context</th>\n",
       "      <td>0.249004</td>\n",
       "    </tr>\n",
       "    <tr>\n",
       "      <th>The sentiment of this statement is not positive</th>\n",
       "      <td>0.231761</td>\n",
       "    </tr>\n",
       "    <tr>\n",
       "      <th>The sentiment of this statement is positive</th>\n",
       "      <td>0.321442</td>\n",
       "    </tr>\n",
       "  </tbody>\n",
       "</table>\n",
       "</div>"
      ],
      "text/plain": [
       "                                                    probability\n",
       "The sentiment of this statement is ambiguous.          0.197793\n",
       "The sentiment is unclear and requires more context     0.249004\n",
       "The sentiment of this statement is not positive        0.231761\n",
       "The sentiment of this statement is positive            0.321442"
      ]
     },
     "metadata": {},
     "output_type": "display_data"
    },
    {
     "data": {
      "text/markdown": [
       "## Sentence\n",
       "`` Several growth initiatives in the chosen geographic areas are already ongoing , '' it continued , noting Lindex opened its first store in the Czech Republic this autumn in Brno ."
      ],
      "text/plain": [
       "<IPython.core.display.Markdown object>"
      ]
     },
     "metadata": {},
     "output_type": "display_data"
    },
    {
     "data": {
      "text/markdown": [
       "**Actual label:** positive"
      ],
      "text/plain": [
       "<IPython.core.display.Markdown object>"
      ]
     },
     "metadata": {},
     "output_type": "display_data"
    },
    {
     "data": {
      "text/markdown": [
       "**Predicted label:** neutral"
      ],
      "text/plain": [
       "<IPython.core.display.Markdown object>"
      ]
     },
     "metadata": {},
     "output_type": "display_data"
    },
    {
     "data": {
      "text/html": [
       "<div>\n",
       "<style scoped>\n",
       "    .dataframe tbody tr th:only-of-type {\n",
       "        vertical-align: middle;\n",
       "    }\n",
       "\n",
       "    .dataframe tbody tr th {\n",
       "        vertical-align: top;\n",
       "    }\n",
       "\n",
       "    .dataframe thead th {\n",
       "        text-align: right;\n",
       "    }\n",
       "</style>\n",
       "<table border=\"1\" class=\"dataframe\">\n",
       "  <thead>\n",
       "    <tr style=\"text-align: right;\">\n",
       "      <th></th>\n",
       "      <th>probability</th>\n",
       "    </tr>\n",
       "  </thead>\n",
       "  <tbody>\n",
       "    <tr>\n",
       "      <th>The sentiment of this statement is ambiguous.</th>\n",
       "      <td>0.190319</td>\n",
       "    </tr>\n",
       "    <tr>\n",
       "      <th>The sentiment is unclear and requires more context</th>\n",
       "      <td>0.213648</td>\n",
       "    </tr>\n",
       "    <tr>\n",
       "      <th>The sentiment of this statement is not positive</th>\n",
       "      <td>0.216760</td>\n",
       "    </tr>\n",
       "    <tr>\n",
       "      <th>The sentiment of this statement is positive</th>\n",
       "      <td>0.379273</td>\n",
       "    </tr>\n",
       "  </tbody>\n",
       "</table>\n",
       "</div>"
      ],
      "text/plain": [
       "                                                    probability\n",
       "The sentiment of this statement is ambiguous.          0.190319\n",
       "The sentiment is unclear and requires more context     0.213648\n",
       "The sentiment of this statement is not positive        0.216760\n",
       "The sentiment of this statement is positive            0.379273"
      ]
     },
     "metadata": {},
     "output_type": "display_data"
    },
    {
     "data": {
      "text/markdown": [
       "## Sentence\n",
       "We offer our clients integrated management consulting , total solutions for complex projects and efficient , best-in-class design and supervision ."
      ],
      "text/plain": [
       "<IPython.core.display.Markdown object>"
      ]
     },
     "metadata": {},
     "output_type": "display_data"
    },
    {
     "data": {
      "text/markdown": [
       "**Actual label:** neutral"
      ],
      "text/plain": [
       "<IPython.core.display.Markdown object>"
      ]
     },
     "metadata": {},
     "output_type": "display_data"
    },
    {
     "data": {
      "text/markdown": [
       "**Predicted label:** positive"
      ],
      "text/plain": [
       "<IPython.core.display.Markdown object>"
      ]
     },
     "metadata": {},
     "output_type": "display_data"
    },
    {
     "data": {
      "text/html": [
       "<div>\n",
       "<style scoped>\n",
       "    .dataframe tbody tr th:only-of-type {\n",
       "        vertical-align: middle;\n",
       "    }\n",
       "\n",
       "    .dataframe tbody tr th {\n",
       "        vertical-align: top;\n",
       "    }\n",
       "\n",
       "    .dataframe thead th {\n",
       "        text-align: right;\n",
       "    }\n",
       "</style>\n",
       "<table border=\"1\" class=\"dataframe\">\n",
       "  <thead>\n",
       "    <tr style=\"text-align: right;\">\n",
       "      <th></th>\n",
       "      <th>probability</th>\n",
       "    </tr>\n",
       "  </thead>\n",
       "  <tbody>\n",
       "    <tr>\n",
       "      <th>The sentiment of this statement is ambiguous.</th>\n",
       "      <td>0.292363</td>\n",
       "    </tr>\n",
       "    <tr>\n",
       "      <th>The sentiment is unclear and requires more context</th>\n",
       "      <td>0.290439</td>\n",
       "    </tr>\n",
       "    <tr>\n",
       "      <th>The sentiment of this statement is not neutral</th>\n",
       "      <td>0.194760</td>\n",
       "    </tr>\n",
       "    <tr>\n",
       "      <th>The sentiment of this statement is neutral</th>\n",
       "      <td>0.222438</td>\n",
       "    </tr>\n",
       "  </tbody>\n",
       "</table>\n",
       "</div>"
      ],
      "text/plain": [
       "                                                    probability\n",
       "The sentiment of this statement is ambiguous.          0.292363\n",
       "The sentiment is unclear and requires more context     0.290439\n",
       "The sentiment of this statement is not neutral         0.194760\n",
       "The sentiment of this statement is neutral             0.222438"
      ]
     },
     "metadata": {},
     "output_type": "display_data"
    },
    {
     "data": {
      "text/markdown": [
       "## Sentence\n",
       "Finnish automation solutions developer Cencorp Corporation ( OMX Helsinki : CNC1V ) said on Friday ( 27 June ) that it has completed employee negotiations regarding a reorganisation of its operations ."
      ],
      "text/plain": [
       "<IPython.core.display.Markdown object>"
      ]
     },
     "metadata": {},
     "output_type": "display_data"
    },
    {
     "data": {
      "text/markdown": [
       "**Actual label:** positive"
      ],
      "text/plain": [
       "<IPython.core.display.Markdown object>"
      ]
     },
     "metadata": {},
     "output_type": "display_data"
    },
    {
     "data": {
      "text/markdown": [
       "**Predicted label:** neutral"
      ],
      "text/plain": [
       "<IPython.core.display.Markdown object>"
      ]
     },
     "metadata": {},
     "output_type": "display_data"
    },
    {
     "data": {
      "text/html": [
       "<div>\n",
       "<style scoped>\n",
       "    .dataframe tbody tr th:only-of-type {\n",
       "        vertical-align: middle;\n",
       "    }\n",
       "\n",
       "    .dataframe tbody tr th {\n",
       "        vertical-align: top;\n",
       "    }\n",
       "\n",
       "    .dataframe thead th {\n",
       "        text-align: right;\n",
       "    }\n",
       "</style>\n",
       "<table border=\"1\" class=\"dataframe\">\n",
       "  <thead>\n",
       "    <tr style=\"text-align: right;\">\n",
       "      <th></th>\n",
       "      <th>probability</th>\n",
       "    </tr>\n",
       "  </thead>\n",
       "  <tbody>\n",
       "    <tr>\n",
       "      <th>The sentiment of this statement is ambiguous.</th>\n",
       "      <td>0.206098</td>\n",
       "    </tr>\n",
       "    <tr>\n",
       "      <th>The sentiment is unclear and requires more context</th>\n",
       "      <td>0.223982</td>\n",
       "    </tr>\n",
       "    <tr>\n",
       "      <th>The sentiment of this statement is not positive</th>\n",
       "      <td>0.242336</td>\n",
       "    </tr>\n",
       "    <tr>\n",
       "      <th>The sentiment of this statement is positive</th>\n",
       "      <td>0.327584</td>\n",
       "    </tr>\n",
       "  </tbody>\n",
       "</table>\n",
       "</div>"
      ],
      "text/plain": [
       "                                                    probability\n",
       "The sentiment of this statement is ambiguous.          0.206098\n",
       "The sentiment is unclear and requires more context     0.223982\n",
       "The sentiment of this statement is not positive        0.242336\n",
       "The sentiment of this statement is positive            0.327584"
      ]
     },
     "metadata": {},
     "output_type": "display_data"
    },
    {
     "data": {
      "text/markdown": [
       "## Sentence\n",
       "Employing 112 in Finland and 280 abroad , the unit recorded first-quarter 2007 sales of 8.6 mln eur , with an operating loss of 1.6 mln eur ."
      ],
      "text/plain": [
       "<IPython.core.display.Markdown object>"
      ]
     },
     "metadata": {},
     "output_type": "display_data"
    },
    {
     "data": {
      "text/markdown": [
       "**Actual label:** negative"
      ],
      "text/plain": [
       "<IPython.core.display.Markdown object>"
      ]
     },
     "metadata": {},
     "output_type": "display_data"
    },
    {
     "data": {
      "text/markdown": [
       "**Predicted label:** neutral"
      ],
      "text/plain": [
       "<IPython.core.display.Markdown object>"
      ]
     },
     "metadata": {},
     "output_type": "display_data"
    },
    {
     "data": {
      "text/html": [
       "<div>\n",
       "<style scoped>\n",
       "    .dataframe tbody tr th:only-of-type {\n",
       "        vertical-align: middle;\n",
       "    }\n",
       "\n",
       "    .dataframe tbody tr th {\n",
       "        vertical-align: top;\n",
       "    }\n",
       "\n",
       "    .dataframe thead th {\n",
       "        text-align: right;\n",
       "    }\n",
       "</style>\n",
       "<table border=\"1\" class=\"dataframe\">\n",
       "  <thead>\n",
       "    <tr style=\"text-align: right;\">\n",
       "      <th></th>\n",
       "      <th>probability</th>\n",
       "    </tr>\n",
       "  </thead>\n",
       "  <tbody>\n",
       "    <tr>\n",
       "      <th>The sentiment of this statement is ambiguous.</th>\n",
       "      <td>0.235814</td>\n",
       "    </tr>\n",
       "    <tr>\n",
       "      <th>The sentiment is unclear and requires more context</th>\n",
       "      <td>0.207490</td>\n",
       "    </tr>\n",
       "    <tr>\n",
       "      <th>The sentiment of this statement is not negative</th>\n",
       "      <td>0.225702</td>\n",
       "    </tr>\n",
       "    <tr>\n",
       "      <th>The sentiment of this statement is negative</th>\n",
       "      <td>0.330994</td>\n",
       "    </tr>\n",
       "  </tbody>\n",
       "</table>\n",
       "</div>"
      ],
      "text/plain": [
       "                                                    probability\n",
       "The sentiment of this statement is ambiguous.          0.235814\n",
       "The sentiment is unclear and requires more context     0.207490\n",
       "The sentiment of this statement is not negative        0.225702\n",
       "The sentiment of this statement is negative            0.330994"
      ]
     },
     "metadata": {},
     "output_type": "display_data"
    },
    {
     "data": {
      "text/markdown": [
       "## Sentence\n",
       "Kesko pursues a strategy of healthy , focused growth concentrating on sales and services to consumer-customers ."
      ],
      "text/plain": [
       "<IPython.core.display.Markdown object>"
      ]
     },
     "metadata": {},
     "output_type": "display_data"
    },
    {
     "data": {
      "text/markdown": [
       "**Actual label:** positive"
      ],
      "text/plain": [
       "<IPython.core.display.Markdown object>"
      ]
     },
     "metadata": {},
     "output_type": "display_data"
    },
    {
     "data": {
      "text/markdown": [
       "**Predicted label:** neutral"
      ],
      "text/plain": [
       "<IPython.core.display.Markdown object>"
      ]
     },
     "metadata": {},
     "output_type": "display_data"
    },
    {
     "data": {
      "text/html": [
       "<div>\n",
       "<style scoped>\n",
       "    .dataframe tbody tr th:only-of-type {\n",
       "        vertical-align: middle;\n",
       "    }\n",
       "\n",
       "    .dataframe tbody tr th {\n",
       "        vertical-align: top;\n",
       "    }\n",
       "\n",
       "    .dataframe thead th {\n",
       "        text-align: right;\n",
       "    }\n",
       "</style>\n",
       "<table border=\"1\" class=\"dataframe\">\n",
       "  <thead>\n",
       "    <tr style=\"text-align: right;\">\n",
       "      <th></th>\n",
       "      <th>probability</th>\n",
       "    </tr>\n",
       "  </thead>\n",
       "  <tbody>\n",
       "    <tr>\n",
       "      <th>The sentiment of this statement is ambiguous.</th>\n",
       "      <td>0.190971</td>\n",
       "    </tr>\n",
       "    <tr>\n",
       "      <th>The sentiment is unclear and requires more context</th>\n",
       "      <td>0.188719</td>\n",
       "    </tr>\n",
       "    <tr>\n",
       "      <th>The sentiment of this statement is not positive</th>\n",
       "      <td>0.199270</td>\n",
       "    </tr>\n",
       "    <tr>\n",
       "      <th>The sentiment of this statement is positive</th>\n",
       "      <td>0.421041</td>\n",
       "    </tr>\n",
       "  </tbody>\n",
       "</table>\n",
       "</div>"
      ],
      "text/plain": [
       "                                                    probability\n",
       "The sentiment of this statement is ambiguous.          0.190971\n",
       "The sentiment is unclear and requires more context     0.188719\n",
       "The sentiment of this statement is not positive        0.199270\n",
       "The sentiment of this statement is positive            0.421041"
      ]
     },
     "metadata": {},
     "output_type": "display_data"
    },
    {
     "data": {
      "text/markdown": [
       "## Sentence\n",
       "The new technology improves the glass quality and consistency while increasing throughput ."
      ],
      "text/plain": [
       "<IPython.core.display.Markdown object>"
      ]
     },
     "metadata": {},
     "output_type": "display_data"
    },
    {
     "data": {
      "text/markdown": [
       "**Actual label:** positive"
      ],
      "text/plain": [
       "<IPython.core.display.Markdown object>"
      ]
     },
     "metadata": {},
     "output_type": "display_data"
    },
    {
     "data": {
      "text/markdown": [
       "**Predicted label:** neutral"
      ],
      "text/plain": [
       "<IPython.core.display.Markdown object>"
      ]
     },
     "metadata": {},
     "output_type": "display_data"
    },
    {
     "data": {
      "text/html": [
       "<div>\n",
       "<style scoped>\n",
       "    .dataframe tbody tr th:only-of-type {\n",
       "        vertical-align: middle;\n",
       "    }\n",
       "\n",
       "    .dataframe tbody tr th {\n",
       "        vertical-align: top;\n",
       "    }\n",
       "\n",
       "    .dataframe thead th {\n",
       "        text-align: right;\n",
       "    }\n",
       "</style>\n",
       "<table border=\"1\" class=\"dataframe\">\n",
       "  <thead>\n",
       "    <tr style=\"text-align: right;\">\n",
       "      <th></th>\n",
       "      <th>probability</th>\n",
       "    </tr>\n",
       "  </thead>\n",
       "  <tbody>\n",
       "    <tr>\n",
       "      <th>The sentiment of this statement is ambiguous.</th>\n",
       "      <td>0.168874</td>\n",
       "    </tr>\n",
       "    <tr>\n",
       "      <th>The sentiment is unclear and requires more context</th>\n",
       "      <td>0.172209</td>\n",
       "    </tr>\n",
       "    <tr>\n",
       "      <th>The sentiment of this statement is not positive</th>\n",
       "      <td>0.168540</td>\n",
       "    </tr>\n",
       "    <tr>\n",
       "      <th>The sentiment of this statement is positive</th>\n",
       "      <td>0.490377</td>\n",
       "    </tr>\n",
       "  </tbody>\n",
       "</table>\n",
       "</div>"
      ],
      "text/plain": [
       "                                                    probability\n",
       "The sentiment of this statement is ambiguous.          0.168874\n",
       "The sentiment is unclear and requires more context     0.172209\n",
       "The sentiment of this statement is not positive        0.168540\n",
       "The sentiment of this statement is positive            0.490377"
      ]
     },
     "metadata": {},
     "output_type": "display_data"
    },
    {
     "data": {
      "text/markdown": [
       "## Sentence\n",
       "After the reporting period , BioTie North American licensing partner Somaxon Pharmaceuticals announced positive results with nalmefene in a pilot Phase 2 clinical trial for smoking cessation ."
      ],
      "text/plain": [
       "<IPython.core.display.Markdown object>"
      ]
     },
     "metadata": {},
     "output_type": "display_data"
    },
    {
     "data": {
      "text/markdown": [
       "**Actual label:** positive"
      ],
      "text/plain": [
       "<IPython.core.display.Markdown object>"
      ]
     },
     "metadata": {},
     "output_type": "display_data"
    },
    {
     "data": {
      "text/markdown": [
       "**Predicted label:** neutral"
      ],
      "text/plain": [
       "<IPython.core.display.Markdown object>"
      ]
     },
     "metadata": {},
     "output_type": "display_data"
    },
    {
     "data": {
      "text/html": [
       "<div>\n",
       "<style scoped>\n",
       "    .dataframe tbody tr th:only-of-type {\n",
       "        vertical-align: middle;\n",
       "    }\n",
       "\n",
       "    .dataframe tbody tr th {\n",
       "        vertical-align: top;\n",
       "    }\n",
       "\n",
       "    .dataframe thead th {\n",
       "        text-align: right;\n",
       "    }\n",
       "</style>\n",
       "<table border=\"1\" class=\"dataframe\">\n",
       "  <thead>\n",
       "    <tr style=\"text-align: right;\">\n",
       "      <th></th>\n",
       "      <th>probability</th>\n",
       "    </tr>\n",
       "  </thead>\n",
       "  <tbody>\n",
       "    <tr>\n",
       "      <th>The sentiment of this statement is ambiguous.</th>\n",
       "      <td>0.206888</td>\n",
       "    </tr>\n",
       "    <tr>\n",
       "      <th>The sentiment is unclear and requires more context</th>\n",
       "      <td>0.193635</td>\n",
       "    </tr>\n",
       "    <tr>\n",
       "      <th>The sentiment of this statement is not positive</th>\n",
       "      <td>0.237860</td>\n",
       "    </tr>\n",
       "    <tr>\n",
       "      <th>The sentiment of this statement is positive</th>\n",
       "      <td>0.361617</td>\n",
       "    </tr>\n",
       "  </tbody>\n",
       "</table>\n",
       "</div>"
      ],
      "text/plain": [
       "                                                    probability\n",
       "The sentiment of this statement is ambiguous.          0.206888\n",
       "The sentiment is unclear and requires more context     0.193635\n",
       "The sentiment of this statement is not positive        0.237860\n",
       "The sentiment of this statement is positive            0.361617"
      ]
     },
     "metadata": {},
     "output_type": "display_data"
    },
    {
     "data": {
      "text/markdown": [
       "## Sentence\n",
       "- The Group -¦ s result before taxes was a loss of EUR 0.6 ( +0.6 ) million ."
      ],
      "text/plain": [
       "<IPython.core.display.Markdown object>"
      ]
     },
     "metadata": {},
     "output_type": "display_data"
    },
    {
     "data": {
      "text/markdown": [
       "**Actual label:** neutral"
      ],
      "text/plain": [
       "<IPython.core.display.Markdown object>"
      ]
     },
     "metadata": {},
     "output_type": "display_data"
    },
    {
     "data": {
      "text/markdown": [
       "**Predicted label:** negative"
      ],
      "text/plain": [
       "<IPython.core.display.Markdown object>"
      ]
     },
     "metadata": {},
     "output_type": "display_data"
    },
    {
     "data": {
      "text/html": [
       "<div>\n",
       "<style scoped>\n",
       "    .dataframe tbody tr th:only-of-type {\n",
       "        vertical-align: middle;\n",
       "    }\n",
       "\n",
       "    .dataframe tbody tr th {\n",
       "        vertical-align: top;\n",
       "    }\n",
       "\n",
       "    .dataframe thead th {\n",
       "        text-align: right;\n",
       "    }\n",
       "</style>\n",
       "<table border=\"1\" class=\"dataframe\">\n",
       "  <thead>\n",
       "    <tr style=\"text-align: right;\">\n",
       "      <th></th>\n",
       "      <th>probability</th>\n",
       "    </tr>\n",
       "  </thead>\n",
       "  <tbody>\n",
       "    <tr>\n",
       "      <th>The sentiment of this statement is ambiguous.</th>\n",
       "      <td>0.181527</td>\n",
       "    </tr>\n",
       "    <tr>\n",
       "      <th>The sentiment is unclear and requires more context</th>\n",
       "      <td>0.266386</td>\n",
       "    </tr>\n",
       "    <tr>\n",
       "      <th>The sentiment of this statement is not neutral</th>\n",
       "      <td>0.232033</td>\n",
       "    </tr>\n",
       "    <tr>\n",
       "      <th>The sentiment of this statement is neutral</th>\n",
       "      <td>0.320054</td>\n",
       "    </tr>\n",
       "  </tbody>\n",
       "</table>\n",
       "</div>"
      ],
      "text/plain": [
       "                                                    probability\n",
       "The sentiment of this statement is ambiguous.          0.181527\n",
       "The sentiment is unclear and requires more context     0.266386\n",
       "The sentiment of this statement is not neutral         0.232033\n",
       "The sentiment of this statement is neutral             0.320054"
      ]
     },
     "metadata": {},
     "output_type": "display_data"
    },
    {
     "data": {
      "text/markdown": [
       "## Sentence\n",
       "( ADPnews ) - May 4 , 2010 - Finnish cutlery and hand tools maker Fiskars Oyj Abp ( HEL : FISAS ) said today its net profit declined to EUR 12.9 million ( USD 17m ) in the first quarter of 2010 from EUR 17 million in the correspond"
      ],
      "text/plain": [
       "<IPython.core.display.Markdown object>"
      ]
     },
     "metadata": {},
     "output_type": "display_data"
    },
    {
     "data": {
      "text/markdown": [
       "**Actual label:** negative"
      ],
      "text/plain": [
       "<IPython.core.display.Markdown object>"
      ]
     },
     "metadata": {},
     "output_type": "display_data"
    },
    {
     "data": {
      "text/markdown": [
       "**Predicted label:** positive"
      ],
      "text/plain": [
       "<IPython.core.display.Markdown object>"
      ]
     },
     "metadata": {},
     "output_type": "display_data"
    },
    {
     "data": {
      "text/html": [
       "<div>\n",
       "<style scoped>\n",
       "    .dataframe tbody tr th:only-of-type {\n",
       "        vertical-align: middle;\n",
       "    }\n",
       "\n",
       "    .dataframe tbody tr th {\n",
       "        vertical-align: top;\n",
       "    }\n",
       "\n",
       "    .dataframe thead th {\n",
       "        text-align: right;\n",
       "    }\n",
       "</style>\n",
       "<table border=\"1\" class=\"dataframe\">\n",
       "  <thead>\n",
       "    <tr style=\"text-align: right;\">\n",
       "      <th></th>\n",
       "      <th>probability</th>\n",
       "    </tr>\n",
       "  </thead>\n",
       "  <tbody>\n",
       "    <tr>\n",
       "      <th>The sentiment of this statement is ambiguous.</th>\n",
       "      <td>0.193569</td>\n",
       "    </tr>\n",
       "    <tr>\n",
       "      <th>The sentiment is unclear and requires more context</th>\n",
       "      <td>0.253255</td>\n",
       "    </tr>\n",
       "    <tr>\n",
       "      <th>The sentiment of this statement is not negative</th>\n",
       "      <td>0.228240</td>\n",
       "    </tr>\n",
       "    <tr>\n",
       "      <th>The sentiment of this statement is negative</th>\n",
       "      <td>0.324935</td>\n",
       "    </tr>\n",
       "  </tbody>\n",
       "</table>\n",
       "</div>"
      ],
      "text/plain": [
       "                                                    probability\n",
       "The sentiment of this statement is ambiguous.          0.193569\n",
       "The sentiment is unclear and requires more context     0.253255\n",
       "The sentiment of this statement is not negative        0.228240\n",
       "The sentiment of this statement is negative            0.324935"
      ]
     },
     "metadata": {},
     "output_type": "display_data"
    },
    {
     "data": {
      "text/markdown": [
       "## Sentence\n",
       "The brokerage said 2006 has seen a ` true turning point ' in European steel base prices , with better pricing seen carrying through the second quarter of 2006 ."
      ],
      "text/plain": [
       "<IPython.core.display.Markdown object>"
      ]
     },
     "metadata": {},
     "output_type": "display_data"
    },
    {
     "data": {
      "text/markdown": [
       "**Actual label:** positive"
      ],
      "text/plain": [
       "<IPython.core.display.Markdown object>"
      ]
     },
     "metadata": {},
     "output_type": "display_data"
    },
    {
     "data": {
      "text/markdown": [
       "**Predicted label:** neutral"
      ],
      "text/plain": [
       "<IPython.core.display.Markdown object>"
      ]
     },
     "metadata": {},
     "output_type": "display_data"
    },
    {
     "data": {
      "text/html": [
       "<div>\n",
       "<style scoped>\n",
       "    .dataframe tbody tr th:only-of-type {\n",
       "        vertical-align: middle;\n",
       "    }\n",
       "\n",
       "    .dataframe tbody tr th {\n",
       "        vertical-align: top;\n",
       "    }\n",
       "\n",
       "    .dataframe thead th {\n",
       "        text-align: right;\n",
       "    }\n",
       "</style>\n",
       "<table border=\"1\" class=\"dataframe\">\n",
       "  <thead>\n",
       "    <tr style=\"text-align: right;\">\n",
       "      <th></th>\n",
       "      <th>probability</th>\n",
       "    </tr>\n",
       "  </thead>\n",
       "  <tbody>\n",
       "    <tr>\n",
       "      <th>The sentiment of this statement is ambiguous.</th>\n",
       "      <td>0.172948</td>\n",
       "    </tr>\n",
       "    <tr>\n",
       "      <th>The sentiment is unclear and requires more context</th>\n",
       "      <td>0.177072</td>\n",
       "    </tr>\n",
       "    <tr>\n",
       "      <th>The sentiment of this statement is not positive</th>\n",
       "      <td>0.225208</td>\n",
       "    </tr>\n",
       "    <tr>\n",
       "      <th>The sentiment of this statement is positive</th>\n",
       "      <td>0.424773</td>\n",
       "    </tr>\n",
       "  </tbody>\n",
       "</table>\n",
       "</div>"
      ],
      "text/plain": [
       "                                                    probability\n",
       "The sentiment of this statement is ambiguous.          0.172948\n",
       "The sentiment is unclear and requires more context     0.177072\n",
       "The sentiment of this statement is not positive        0.225208\n",
       "The sentiment of this statement is positive            0.424773"
      ]
     },
     "metadata": {},
     "output_type": "display_data"
    },
    {
     "data": {
      "text/markdown": [
       "## Sentence\n",
       "Other carriers and handset makers spin it as a positive event that will raise interest for higher-end phones and pricier data plans ."
      ],
      "text/plain": [
       "<IPython.core.display.Markdown object>"
      ]
     },
     "metadata": {},
     "output_type": "display_data"
    },
    {
     "data": {
      "text/markdown": [
       "**Actual label:** positive"
      ],
      "text/plain": [
       "<IPython.core.display.Markdown object>"
      ]
     },
     "metadata": {},
     "output_type": "display_data"
    },
    {
     "data": {
      "text/markdown": [
       "**Predicted label:** neutral"
      ],
      "text/plain": [
       "<IPython.core.display.Markdown object>"
      ]
     },
     "metadata": {},
     "output_type": "display_data"
    },
    {
     "data": {
      "text/html": [
       "<div>\n",
       "<style scoped>\n",
       "    .dataframe tbody tr th:only-of-type {\n",
       "        vertical-align: middle;\n",
       "    }\n",
       "\n",
       "    .dataframe tbody tr th {\n",
       "        vertical-align: top;\n",
       "    }\n",
       "\n",
       "    .dataframe thead th {\n",
       "        text-align: right;\n",
       "    }\n",
       "</style>\n",
       "<table border=\"1\" class=\"dataframe\">\n",
       "  <thead>\n",
       "    <tr style=\"text-align: right;\">\n",
       "      <th></th>\n",
       "      <th>probability</th>\n",
       "    </tr>\n",
       "  </thead>\n",
       "  <tbody>\n",
       "    <tr>\n",
       "      <th>The sentiment of this statement is ambiguous.</th>\n",
       "      <td>0.168415</td>\n",
       "    </tr>\n",
       "    <tr>\n",
       "      <th>The sentiment is unclear and requires more context</th>\n",
       "      <td>0.145042</td>\n",
       "    </tr>\n",
       "    <tr>\n",
       "      <th>The sentiment of this statement is not positive</th>\n",
       "      <td>0.221896</td>\n",
       "    </tr>\n",
       "    <tr>\n",
       "      <th>The sentiment of this statement is positive</th>\n",
       "      <td>0.464647</td>\n",
       "    </tr>\n",
       "  </tbody>\n",
       "</table>\n",
       "</div>"
      ],
      "text/plain": [
       "                                                    probability\n",
       "The sentiment of this statement is ambiguous.          0.168415\n",
       "The sentiment is unclear and requires more context     0.145042\n",
       "The sentiment of this statement is not positive        0.221896\n",
       "The sentiment of this statement is positive            0.464647"
      ]
     },
     "metadata": {},
     "output_type": "display_data"
    },
    {
     "data": {
      "text/markdown": [
       "## Sentence\n",
       "One of the challenges in the oil production in the North Sea is scale formation that can plug pipelines and halt production ."
      ],
      "text/plain": [
       "<IPython.core.display.Markdown object>"
      ]
     },
     "metadata": {},
     "output_type": "display_data"
    },
    {
     "data": {
      "text/markdown": [
       "**Actual label:** negative"
      ],
      "text/plain": [
       "<IPython.core.display.Markdown object>"
      ]
     },
     "metadata": {},
     "output_type": "display_data"
    },
    {
     "data": {
      "text/markdown": [
       "**Predicted label:** neutral"
      ],
      "text/plain": [
       "<IPython.core.display.Markdown object>"
      ]
     },
     "metadata": {},
     "output_type": "display_data"
    },
    {
     "data": {
      "text/html": [
       "<div>\n",
       "<style scoped>\n",
       "    .dataframe tbody tr th:only-of-type {\n",
       "        vertical-align: middle;\n",
       "    }\n",
       "\n",
       "    .dataframe tbody tr th {\n",
       "        vertical-align: top;\n",
       "    }\n",
       "\n",
       "    .dataframe thead th {\n",
       "        text-align: right;\n",
       "    }\n",
       "</style>\n",
       "<table border=\"1\" class=\"dataframe\">\n",
       "  <thead>\n",
       "    <tr style=\"text-align: right;\">\n",
       "      <th></th>\n",
       "      <th>probability</th>\n",
       "    </tr>\n",
       "  </thead>\n",
       "  <tbody>\n",
       "    <tr>\n",
       "      <th>The sentiment of this statement is ambiguous.</th>\n",
       "      <td>0.244714</td>\n",
       "    </tr>\n",
       "    <tr>\n",
       "      <th>The sentiment is unclear and requires more context</th>\n",
       "      <td>0.284396</td>\n",
       "    </tr>\n",
       "    <tr>\n",
       "      <th>The sentiment of this statement is not negative</th>\n",
       "      <td>0.144763</td>\n",
       "    </tr>\n",
       "    <tr>\n",
       "      <th>The sentiment of this statement is negative</th>\n",
       "      <td>0.326127</td>\n",
       "    </tr>\n",
       "  </tbody>\n",
       "</table>\n",
       "</div>"
      ],
      "text/plain": [
       "                                                    probability\n",
       "The sentiment of this statement is ambiguous.          0.244714\n",
       "The sentiment is unclear and requires more context     0.284396\n",
       "The sentiment of this statement is not negative        0.144763\n",
       "The sentiment of this statement is negative            0.326127"
      ]
     },
     "metadata": {},
     "output_type": "display_data"
    },
    {
     "data": {
      "text/markdown": [
       "## Sentence\n",
       "F-Secure reported that : - The first half of 2008 has seen a growing number of targeted malware attacks on individuals , companies , and organizations ."
      ],
      "text/plain": [
       "<IPython.core.display.Markdown object>"
      ]
     },
     "metadata": {},
     "output_type": "display_data"
    },
    {
     "data": {
      "text/markdown": [
       "**Actual label:** neutral"
      ],
      "text/plain": [
       "<IPython.core.display.Markdown object>"
      ]
     },
     "metadata": {},
     "output_type": "display_data"
    },
    {
     "data": {
      "text/markdown": [
       "**Predicted label:** negative"
      ],
      "text/plain": [
       "<IPython.core.display.Markdown object>"
      ]
     },
     "metadata": {},
     "output_type": "display_data"
    },
    {
     "data": {
      "text/html": [
       "<div>\n",
       "<style scoped>\n",
       "    .dataframe tbody tr th:only-of-type {\n",
       "        vertical-align: middle;\n",
       "    }\n",
       "\n",
       "    .dataframe tbody tr th {\n",
       "        vertical-align: top;\n",
       "    }\n",
       "\n",
       "    .dataframe thead th {\n",
       "        text-align: right;\n",
       "    }\n",
       "</style>\n",
       "<table border=\"1\" class=\"dataframe\">\n",
       "  <thead>\n",
       "    <tr style=\"text-align: right;\">\n",
       "      <th></th>\n",
       "      <th>probability</th>\n",
       "    </tr>\n",
       "  </thead>\n",
       "  <tbody>\n",
       "    <tr>\n",
       "      <th>The sentiment of this statement is ambiguous.</th>\n",
       "      <td>0.332050</td>\n",
       "    </tr>\n",
       "    <tr>\n",
       "      <th>The sentiment is unclear and requires more context</th>\n",
       "      <td>0.271678</td>\n",
       "    </tr>\n",
       "    <tr>\n",
       "      <th>The sentiment of this statement is not neutral</th>\n",
       "      <td>0.211004</td>\n",
       "    </tr>\n",
       "    <tr>\n",
       "      <th>The sentiment of this statement is neutral</th>\n",
       "      <td>0.185268</td>\n",
       "    </tr>\n",
       "  </tbody>\n",
       "</table>\n",
       "</div>"
      ],
      "text/plain": [
       "                                                    probability\n",
       "The sentiment of this statement is ambiguous.          0.332050\n",
       "The sentiment is unclear and requires more context     0.271678\n",
       "The sentiment of this statement is not neutral         0.211004\n",
       "The sentiment of this statement is neutral             0.185268"
      ]
     },
     "metadata": {},
     "output_type": "display_data"
    }
   ],
   "source": [
    "# This method doesn't estimate probabilities but you can approximate them by using a scaled softmax\n",
    "CS_SCALE = 32                                                                                      \n",
    "\n",
    "embedding_results = []\n",
    "for error_detail in error_details:\n",
    "    # Get embeddings for the misclassified examples\n",
    "    sentence_embedding = get_embedding(error_detail[\"text\"], engine=\"text-embedding-ada-002\")\n",
    "\n",
    "    # Add the label to \"{}\" fields in error class templates\n",
    "    error_classes = [\n",
    "        error_class_template.format(error_detail[\"actual_label\"]) \n",
    "        for error_class_template in error_class_templates\n",
    "    ]\n",
    "    \n",
    "    # Get embeddings for each error class\n",
    "    label_embeddings = [\n",
    "        get_embedding(error_class, engine=\"text-embedding-ada-002\") \n",
    "        for error_class in error_classes\n",
    "    ]\n",
    "\n",
    "    # Compute the similarity of the sentence with each label\n",
    "    similarities = [                                                                                           \n",
    "        cosine_similarity(sentence_embedding, label_embedding)                                           \n",
    "        for label_embedding in label_embeddings                                                      \n",
    "    ]\n",
    "    \n",
    "    # Make pseudo-probabilities from similarity scores\n",
    "    probs = np.exp(CS_SCALE * np.array(similarities))                                                          \n",
    "    probs = probs / probs.sum()\n",
    "    \n",
    "    embedding_results.append(\n",
    "        dict(\n",
    "            sentence=error_detail[\"text\"],\n",
    "            actual_label=error_detail[\"actual_label\"],\n",
    "            predicted_label=error_detail[\"predicted_label\"],\n",
    "            **dict(zip(error_class_templates, probs)),\n",
    "        )\n",
    "    )\n",
    "\n",
    "embedding_results_df = pd.DataFrame(embedding_results)\n",
    "show_error_class_results(embedding_results_df)"
   ]
  },
  {
   "cell_type": "markdown",
   "id": "c0d38973",
   "metadata": {},
   "source": [
    "### Use an Natural Language Inference (NLI) model\n",
    "\n",
    "Zero-shot classification using a Natural Language Inference (NLI) model is a method where the model is not trained directly to predict the desired classes. Instead, the task is framed as an inference problem. For example, if you want to classify a sentence into one of several categories, you would pair the sentence with a category in the form of a hypothesis (e.g., \"The sentiment of this sentence is positive\"). The NLI model then predicts whether this hypothesis is true or false. You repeat this for each category, essentially asking the model to infer the most likely category. This is a powerful technique that allows you to classify text into categories that the model was never explicitly trained on, hence the term \"zero-shot\"."
   ]
  },
  {
   "cell_type": "markdown",
   "id": "6becac8b",
   "metadata": {},
   "source": [
    "#### Implement Natural Language Inference (NLI) zero-shot classification\n",
    "\n",
    "This code performs error analysis on misclassified instances using a Natural Language Inference (NLI) model. It creates an NLI-based classifier using the HuggingFace transformers library. For each misclassified example, it generates custom error classes using the actual label and error class templates. The NLI model is then used to determine the probabilities of each error class given the misclassified text. Finally, the code displays the sentence, actual label, predicted label, and a table of probabilities for each error class. This analysis helps in understanding why a particular misclassification occurred."
   ]
  },
  {
   "cell_type": "code",
   "execution_count": 15,
   "id": "4cd3c1fe",
   "metadata": {
    "scrolled": true
   },
   "outputs": [
    {
     "data": {
      "text/markdown": [
       "## Sentence\n",
       "The sales of the Tiimari segment fell by 4.0 % year-on-year to EUR3 .3 m in June 2010 ."
      ],
      "text/plain": [
       "<IPython.core.display.Markdown object>"
      ]
     },
     "metadata": {},
     "output_type": "display_data"
    },
    {
     "data": {
      "text/markdown": [
       "**Actual label:** negative"
      ],
      "text/plain": [
       "<IPython.core.display.Markdown object>"
      ]
     },
     "metadata": {},
     "output_type": "display_data"
    },
    {
     "data": {
      "text/markdown": [
       "**Predicted label:** positive"
      ],
      "text/plain": [
       "<IPython.core.display.Markdown object>"
      ]
     },
     "metadata": {},
     "output_type": "display_data"
    },
    {
     "data": {
      "text/html": [
       "<div>\n",
       "<style scoped>\n",
       "    .dataframe tbody tr th:only-of-type {\n",
       "        vertical-align: middle;\n",
       "    }\n",
       "\n",
       "    .dataframe tbody tr th {\n",
       "        vertical-align: top;\n",
       "    }\n",
       "\n",
       "    .dataframe thead th {\n",
       "        text-align: right;\n",
       "    }\n",
       "</style>\n",
       "<table border=\"1\" class=\"dataframe\">\n",
       "  <thead>\n",
       "    <tr style=\"text-align: right;\">\n",
       "      <th></th>\n",
       "      <th>probability</th>\n",
       "    </tr>\n",
       "  </thead>\n",
       "  <tbody>\n",
       "    <tr>\n",
       "      <th>The sentiment of this statement is ambiguous.</th>\n",
       "      <td>0.142118</td>\n",
       "    </tr>\n",
       "    <tr>\n",
       "      <th>The sentiment is unclear and requires more context</th>\n",
       "      <td>0.287853</td>\n",
       "    </tr>\n",
       "    <tr>\n",
       "      <th>The sentiment of this statement is not negative</th>\n",
       "      <td>0.083798</td>\n",
       "    </tr>\n",
       "    <tr>\n",
       "      <th>The sentiment of this statement is negative</th>\n",
       "      <td>0.486231</td>\n",
       "    </tr>\n",
       "  </tbody>\n",
       "</table>\n",
       "</div>"
      ],
      "text/plain": [
       "                                                    probability\n",
       "The sentiment of this statement is ambiguous.          0.142118\n",
       "The sentiment is unclear and requires more context     0.287853\n",
       "The sentiment of this statement is not negative        0.083798\n",
       "The sentiment of this statement is negative            0.486231"
      ]
     },
     "metadata": {},
     "output_type": "display_data"
    },
    {
     "data": {
      "text/markdown": [
       "## Sentence\n",
       "At 1411 CET , ArcelorMittal had lost 7.26 % to EUR 17.38 on Euronext Paris , coming at the lead of the blue-chip fallers ."
      ],
      "text/plain": [
       "<IPython.core.display.Markdown object>"
      ]
     },
     "metadata": {},
     "output_type": "display_data"
    },
    {
     "data": {
      "text/markdown": [
       "**Actual label:** negative"
      ],
      "text/plain": [
       "<IPython.core.display.Markdown object>"
      ]
     },
     "metadata": {},
     "output_type": "display_data"
    },
    {
     "data": {
      "text/markdown": [
       "**Predicted label:** neutral"
      ],
      "text/plain": [
       "<IPython.core.display.Markdown object>"
      ]
     },
     "metadata": {},
     "output_type": "display_data"
    },
    {
     "data": {
      "text/html": [
       "<div>\n",
       "<style scoped>\n",
       "    .dataframe tbody tr th:only-of-type {\n",
       "        vertical-align: middle;\n",
       "    }\n",
       "\n",
       "    .dataframe tbody tr th {\n",
       "        vertical-align: top;\n",
       "    }\n",
       "\n",
       "    .dataframe thead th {\n",
       "        text-align: right;\n",
       "    }\n",
       "</style>\n",
       "<table border=\"1\" class=\"dataframe\">\n",
       "  <thead>\n",
       "    <tr style=\"text-align: right;\">\n",
       "      <th></th>\n",
       "      <th>probability</th>\n",
       "    </tr>\n",
       "  </thead>\n",
       "  <tbody>\n",
       "    <tr>\n",
       "      <th>The sentiment of this statement is ambiguous.</th>\n",
       "      <td>0.158349</td>\n",
       "    </tr>\n",
       "    <tr>\n",
       "      <th>The sentiment is unclear and requires more context</th>\n",
       "      <td>0.274411</td>\n",
       "    </tr>\n",
       "    <tr>\n",
       "      <th>The sentiment of this statement is not negative</th>\n",
       "      <td>0.075550</td>\n",
       "    </tr>\n",
       "    <tr>\n",
       "      <th>The sentiment of this statement is negative</th>\n",
       "      <td>0.491691</td>\n",
       "    </tr>\n",
       "  </tbody>\n",
       "</table>\n",
       "</div>"
      ],
      "text/plain": [
       "                                                    probability\n",
       "The sentiment of this statement is ambiguous.          0.158349\n",
       "The sentiment is unclear and requires more context     0.274411\n",
       "The sentiment of this statement is not negative        0.075550\n",
       "The sentiment of this statement is negative            0.491691"
      ]
     },
     "metadata": {},
     "output_type": "display_data"
    },
    {
     "data": {
      "text/markdown": [
       "## Sentence\n",
       "The liquidity providing was interrupted on May 11 , 2007 when Aspocomp Group Oyj 's shares traded below 0.50 cent ( Aspocomp 's stock exchange release 11.5.2007 ) ."
      ],
      "text/plain": [
       "<IPython.core.display.Markdown object>"
      ]
     },
     "metadata": {},
     "output_type": "display_data"
    },
    {
     "data": {
      "text/markdown": [
       "**Actual label:** negative"
      ],
      "text/plain": [
       "<IPython.core.display.Markdown object>"
      ]
     },
     "metadata": {},
     "output_type": "display_data"
    },
    {
     "data": {
      "text/markdown": [
       "**Predicted label:** neutral"
      ],
      "text/plain": [
       "<IPython.core.display.Markdown object>"
      ]
     },
     "metadata": {},
     "output_type": "display_data"
    },
    {
     "data": {
      "text/html": [
       "<div>\n",
       "<style scoped>\n",
       "    .dataframe tbody tr th:only-of-type {\n",
       "        vertical-align: middle;\n",
       "    }\n",
       "\n",
       "    .dataframe tbody tr th {\n",
       "        vertical-align: top;\n",
       "    }\n",
       "\n",
       "    .dataframe thead th {\n",
       "        text-align: right;\n",
       "    }\n",
       "</style>\n",
       "<table border=\"1\" class=\"dataframe\">\n",
       "  <thead>\n",
       "    <tr style=\"text-align: right;\">\n",
       "      <th></th>\n",
       "      <th>probability</th>\n",
       "    </tr>\n",
       "  </thead>\n",
       "  <tbody>\n",
       "    <tr>\n",
       "      <th>The sentiment of this statement is ambiguous.</th>\n",
       "      <td>0.205035</td>\n",
       "    </tr>\n",
       "    <tr>\n",
       "      <th>The sentiment is unclear and requires more context</th>\n",
       "      <td>0.426099</td>\n",
       "    </tr>\n",
       "    <tr>\n",
       "      <th>The sentiment of this statement is not negative</th>\n",
       "      <td>0.101476</td>\n",
       "    </tr>\n",
       "    <tr>\n",
       "      <th>The sentiment of this statement is negative</th>\n",
       "      <td>0.267389</td>\n",
       "    </tr>\n",
       "  </tbody>\n",
       "</table>\n",
       "</div>"
      ],
      "text/plain": [
       "                                                    probability\n",
       "The sentiment of this statement is ambiguous.          0.205035\n",
       "The sentiment is unclear and requires more context     0.426099\n",
       "The sentiment of this statement is not negative        0.101476\n",
       "The sentiment of this statement is negative            0.267389"
      ]
     },
     "metadata": {},
     "output_type": "display_data"
    },
    {
     "data": {
      "text/markdown": [
       "## Sentence\n",
       "At 10.58 am , Outokumpu declined 2.74 pct to 24.87 eur , while the OMX Helsinki 25 was 0.55 pct higher at 2,825.14 and the OMX Helsinki added 0.64 pct to 9,386.89 ."
      ],
      "text/plain": [
       "<IPython.core.display.Markdown object>"
      ]
     },
     "metadata": {},
     "output_type": "display_data"
    },
    {
     "data": {
      "text/markdown": [
       "**Actual label:** neutral"
      ],
      "text/plain": [
       "<IPython.core.display.Markdown object>"
      ]
     },
     "metadata": {},
     "output_type": "display_data"
    },
    {
     "data": {
      "text/markdown": [
       "**Predicted label:** negative"
      ],
      "text/plain": [
       "<IPython.core.display.Markdown object>"
      ]
     },
     "metadata": {},
     "output_type": "display_data"
    },
    {
     "data": {
      "text/html": [
       "<div>\n",
       "<style scoped>\n",
       "    .dataframe tbody tr th:only-of-type {\n",
       "        vertical-align: middle;\n",
       "    }\n",
       "\n",
       "    .dataframe tbody tr th {\n",
       "        vertical-align: top;\n",
       "    }\n",
       "\n",
       "    .dataframe thead th {\n",
       "        text-align: right;\n",
       "    }\n",
       "</style>\n",
       "<table border=\"1\" class=\"dataframe\">\n",
       "  <thead>\n",
       "    <tr style=\"text-align: right;\">\n",
       "      <th></th>\n",
       "      <th>probability</th>\n",
       "    </tr>\n",
       "  </thead>\n",
       "  <tbody>\n",
       "    <tr>\n",
       "      <th>The sentiment of this statement is ambiguous.</th>\n",
       "      <td>0.202095</td>\n",
       "    </tr>\n",
       "    <tr>\n",
       "      <th>The sentiment is unclear and requires more context</th>\n",
       "      <td>0.299777</td>\n",
       "    </tr>\n",
       "    <tr>\n",
       "      <th>The sentiment of this statement is not neutral</th>\n",
       "      <td>0.404149</td>\n",
       "    </tr>\n",
       "    <tr>\n",
       "      <th>The sentiment of this statement is neutral</th>\n",
       "      <td>0.093979</td>\n",
       "    </tr>\n",
       "  </tbody>\n",
       "</table>\n",
       "</div>"
      ],
      "text/plain": [
       "                                                    probability\n",
       "The sentiment of this statement is ambiguous.          0.202095\n",
       "The sentiment is unclear and requires more context     0.299777\n",
       "The sentiment of this statement is not neutral         0.404149\n",
       "The sentiment of this statement is neutral             0.093979"
      ]
     },
     "metadata": {},
     "output_type": "display_data"
    },
    {
     "data": {
      "text/markdown": [
       "## Sentence\n",
       "A new production line is being completed for the contract production of hormone treatments ."
      ],
      "text/plain": [
       "<IPython.core.display.Markdown object>"
      ]
     },
     "metadata": {},
     "output_type": "display_data"
    },
    {
     "data": {
      "text/markdown": [
       "**Actual label:** positive"
      ],
      "text/plain": [
       "<IPython.core.display.Markdown object>"
      ]
     },
     "metadata": {},
     "output_type": "display_data"
    },
    {
     "data": {
      "text/markdown": [
       "**Predicted label:** neutral"
      ],
      "text/plain": [
       "<IPython.core.display.Markdown object>"
      ]
     },
     "metadata": {},
     "output_type": "display_data"
    },
    {
     "data": {
      "text/html": [
       "<div>\n",
       "<style scoped>\n",
       "    .dataframe tbody tr th:only-of-type {\n",
       "        vertical-align: middle;\n",
       "    }\n",
       "\n",
       "    .dataframe tbody tr th {\n",
       "        vertical-align: top;\n",
       "    }\n",
       "\n",
       "    .dataframe thead th {\n",
       "        text-align: right;\n",
       "    }\n",
       "</style>\n",
       "<table border=\"1\" class=\"dataframe\">\n",
       "  <thead>\n",
       "    <tr style=\"text-align: right;\">\n",
       "      <th></th>\n",
       "      <th>probability</th>\n",
       "    </tr>\n",
       "  </thead>\n",
       "  <tbody>\n",
       "    <tr>\n",
       "      <th>The sentiment of this statement is ambiguous.</th>\n",
       "      <td>0.165696</td>\n",
       "    </tr>\n",
       "    <tr>\n",
       "      <th>The sentiment is unclear and requires more context</th>\n",
       "      <td>0.294062</td>\n",
       "    </tr>\n",
       "    <tr>\n",
       "      <th>The sentiment of this statement is not positive</th>\n",
       "      <td>0.257409</td>\n",
       "    </tr>\n",
       "    <tr>\n",
       "      <th>The sentiment of this statement is positive</th>\n",
       "      <td>0.282833</td>\n",
       "    </tr>\n",
       "  </tbody>\n",
       "</table>\n",
       "</div>"
      ],
      "text/plain": [
       "                                                    probability\n",
       "The sentiment of this statement is ambiguous.          0.165696\n",
       "The sentiment is unclear and requires more context     0.294062\n",
       "The sentiment of this statement is not positive        0.257409\n",
       "The sentiment of this statement is positive            0.282833"
      ]
     },
     "metadata": {},
     "output_type": "display_data"
    },
    {
     "data": {
      "text/markdown": [
       "## Sentence\n",
       "The company intends to raise production capacity in 2006 ."
      ],
      "text/plain": [
       "<IPython.core.display.Markdown object>"
      ]
     },
     "metadata": {},
     "output_type": "display_data"
    },
    {
     "data": {
      "text/markdown": [
       "**Actual label:** positive"
      ],
      "text/plain": [
       "<IPython.core.display.Markdown object>"
      ]
     },
     "metadata": {},
     "output_type": "display_data"
    },
    {
     "data": {
      "text/markdown": [
       "**Predicted label:** neutral"
      ],
      "text/plain": [
       "<IPython.core.display.Markdown object>"
      ]
     },
     "metadata": {},
     "output_type": "display_data"
    },
    {
     "data": {
      "text/html": [
       "<div>\n",
       "<style scoped>\n",
       "    .dataframe tbody tr th:only-of-type {\n",
       "        vertical-align: middle;\n",
       "    }\n",
       "\n",
       "    .dataframe tbody tr th {\n",
       "        vertical-align: top;\n",
       "    }\n",
       "\n",
       "    .dataframe thead th {\n",
       "        text-align: right;\n",
       "    }\n",
       "</style>\n",
       "<table border=\"1\" class=\"dataframe\">\n",
       "  <thead>\n",
       "    <tr style=\"text-align: right;\">\n",
       "      <th></th>\n",
       "      <th>probability</th>\n",
       "    </tr>\n",
       "  </thead>\n",
       "  <tbody>\n",
       "    <tr>\n",
       "      <th>The sentiment of this statement is ambiguous.</th>\n",
       "      <td>0.173354</td>\n",
       "    </tr>\n",
       "    <tr>\n",
       "      <th>The sentiment is unclear and requires more context</th>\n",
       "      <td>0.205780</td>\n",
       "    </tr>\n",
       "    <tr>\n",
       "      <th>The sentiment of this statement is not positive</th>\n",
       "      <td>0.214386</td>\n",
       "    </tr>\n",
       "    <tr>\n",
       "      <th>The sentiment of this statement is positive</th>\n",
       "      <td>0.406480</td>\n",
       "    </tr>\n",
       "  </tbody>\n",
       "</table>\n",
       "</div>"
      ],
      "text/plain": [
       "                                                    probability\n",
       "The sentiment of this statement is ambiguous.          0.173354\n",
       "The sentiment is unclear and requires more context     0.205780\n",
       "The sentiment of this statement is not positive        0.214386\n",
       "The sentiment of this statement is positive            0.406480"
      ]
     },
     "metadata": {},
     "output_type": "display_data"
    },
    {
     "data": {
      "text/markdown": [
       "## Sentence\n",
       "A & euro ; 4.8 million investment in 13.6 % of Lewa netted Deutsche Beteiligungs & euro ; 21 million ."
      ],
      "text/plain": [
       "<IPython.core.display.Markdown object>"
      ]
     },
     "metadata": {},
     "output_type": "display_data"
    },
    {
     "data": {
      "text/markdown": [
       "**Actual label:** positive"
      ],
      "text/plain": [
       "<IPython.core.display.Markdown object>"
      ]
     },
     "metadata": {},
     "output_type": "display_data"
    },
    {
     "data": {
      "text/markdown": [
       "**Predicted label:** neutral"
      ],
      "text/plain": [
       "<IPython.core.display.Markdown object>"
      ]
     },
     "metadata": {},
     "output_type": "display_data"
    },
    {
     "data": {
      "text/html": [
       "<div>\n",
       "<style scoped>\n",
       "    .dataframe tbody tr th:only-of-type {\n",
       "        vertical-align: middle;\n",
       "    }\n",
       "\n",
       "    .dataframe tbody tr th {\n",
       "        vertical-align: top;\n",
       "    }\n",
       "\n",
       "    .dataframe thead th {\n",
       "        text-align: right;\n",
       "    }\n",
       "</style>\n",
       "<table border=\"1\" class=\"dataframe\">\n",
       "  <thead>\n",
       "    <tr style=\"text-align: right;\">\n",
       "      <th></th>\n",
       "      <th>probability</th>\n",
       "    </tr>\n",
       "  </thead>\n",
       "  <tbody>\n",
       "    <tr>\n",
       "      <th>The sentiment of this statement is ambiguous.</th>\n",
       "      <td>0.210959</td>\n",
       "    </tr>\n",
       "    <tr>\n",
       "      <th>The sentiment is unclear and requires more context</th>\n",
       "      <td>0.275693</td>\n",
       "    </tr>\n",
       "    <tr>\n",
       "      <th>The sentiment of this statement is not positive</th>\n",
       "      <td>0.299492</td>\n",
       "    </tr>\n",
       "    <tr>\n",
       "      <th>The sentiment of this statement is positive</th>\n",
       "      <td>0.213856</td>\n",
       "    </tr>\n",
       "  </tbody>\n",
       "</table>\n",
       "</div>"
      ],
      "text/plain": [
       "                                                    probability\n",
       "The sentiment of this statement is ambiguous.          0.210959\n",
       "The sentiment is unclear and requires more context     0.275693\n",
       "The sentiment of this statement is not positive        0.299492\n",
       "The sentiment of this statement is positive            0.213856"
      ]
     },
     "metadata": {},
     "output_type": "display_data"
    },
    {
     "data": {
      "text/markdown": [
       "## Sentence\n",
       "`` Several growth initiatives in the chosen geographic areas are already ongoing , '' it continued , noting Lindex opened its first store in the Czech Republic this autumn in Brno ."
      ],
      "text/plain": [
       "<IPython.core.display.Markdown object>"
      ]
     },
     "metadata": {},
     "output_type": "display_data"
    },
    {
     "data": {
      "text/markdown": [
       "**Actual label:** positive"
      ],
      "text/plain": [
       "<IPython.core.display.Markdown object>"
      ]
     },
     "metadata": {},
     "output_type": "display_data"
    },
    {
     "data": {
      "text/markdown": [
       "**Predicted label:** neutral"
      ],
      "text/plain": [
       "<IPython.core.display.Markdown object>"
      ]
     },
     "metadata": {},
     "output_type": "display_data"
    },
    {
     "data": {
      "text/html": [
       "<div>\n",
       "<style scoped>\n",
       "    .dataframe tbody tr th:only-of-type {\n",
       "        vertical-align: middle;\n",
       "    }\n",
       "\n",
       "    .dataframe tbody tr th {\n",
       "        vertical-align: top;\n",
       "    }\n",
       "\n",
       "    .dataframe thead th {\n",
       "        text-align: right;\n",
       "    }\n",
       "</style>\n",
       "<table border=\"1\" class=\"dataframe\">\n",
       "  <thead>\n",
       "    <tr style=\"text-align: right;\">\n",
       "      <th></th>\n",
       "      <th>probability</th>\n",
       "    </tr>\n",
       "  </thead>\n",
       "  <tbody>\n",
       "    <tr>\n",
       "      <th>The sentiment of this statement is ambiguous.</th>\n",
       "      <td>0.276161</td>\n",
       "    </tr>\n",
       "    <tr>\n",
       "      <th>The sentiment is unclear and requires more context</th>\n",
       "      <td>0.324903</td>\n",
       "    </tr>\n",
       "    <tr>\n",
       "      <th>The sentiment of this statement is not positive</th>\n",
       "      <td>0.081254</td>\n",
       "    </tr>\n",
       "    <tr>\n",
       "      <th>The sentiment of this statement is positive</th>\n",
       "      <td>0.317682</td>\n",
       "    </tr>\n",
       "  </tbody>\n",
       "</table>\n",
       "</div>"
      ],
      "text/plain": [
       "                                                    probability\n",
       "The sentiment of this statement is ambiguous.          0.276161\n",
       "The sentiment is unclear and requires more context     0.324903\n",
       "The sentiment of this statement is not positive        0.081254\n",
       "The sentiment of this statement is positive            0.317682"
      ]
     },
     "metadata": {},
     "output_type": "display_data"
    },
    {
     "data": {
      "text/markdown": [
       "## Sentence\n",
       "We offer our clients integrated management consulting , total solutions for complex projects and efficient , best-in-class design and supervision ."
      ],
      "text/plain": [
       "<IPython.core.display.Markdown object>"
      ]
     },
     "metadata": {},
     "output_type": "display_data"
    },
    {
     "data": {
      "text/markdown": [
       "**Actual label:** neutral"
      ],
      "text/plain": [
       "<IPython.core.display.Markdown object>"
      ]
     },
     "metadata": {},
     "output_type": "display_data"
    },
    {
     "data": {
      "text/markdown": [
       "**Predicted label:** positive"
      ],
      "text/plain": [
       "<IPython.core.display.Markdown object>"
      ]
     },
     "metadata": {},
     "output_type": "display_data"
    },
    {
     "data": {
      "text/html": [
       "<div>\n",
       "<style scoped>\n",
       "    .dataframe tbody tr th:only-of-type {\n",
       "        vertical-align: middle;\n",
       "    }\n",
       "\n",
       "    .dataframe tbody tr th {\n",
       "        vertical-align: top;\n",
       "    }\n",
       "\n",
       "    .dataframe thead th {\n",
       "        text-align: right;\n",
       "    }\n",
       "</style>\n",
       "<table border=\"1\" class=\"dataframe\">\n",
       "  <thead>\n",
       "    <tr style=\"text-align: right;\">\n",
       "      <th></th>\n",
       "      <th>probability</th>\n",
       "    </tr>\n",
       "  </thead>\n",
       "  <tbody>\n",
       "    <tr>\n",
       "      <th>The sentiment of this statement is ambiguous.</th>\n",
       "      <td>0.102444</td>\n",
       "    </tr>\n",
       "    <tr>\n",
       "      <th>The sentiment is unclear and requires more context</th>\n",
       "      <td>0.269746</td>\n",
       "    </tr>\n",
       "    <tr>\n",
       "      <th>The sentiment of this statement is not neutral</th>\n",
       "      <td>0.551713</td>\n",
       "    </tr>\n",
       "    <tr>\n",
       "      <th>The sentiment of this statement is neutral</th>\n",
       "      <td>0.076097</td>\n",
       "    </tr>\n",
       "  </tbody>\n",
       "</table>\n",
       "</div>"
      ],
      "text/plain": [
       "                                                    probability\n",
       "The sentiment of this statement is ambiguous.          0.102444\n",
       "The sentiment is unclear and requires more context     0.269746\n",
       "The sentiment of this statement is not neutral         0.551713\n",
       "The sentiment of this statement is neutral             0.076097"
      ]
     },
     "metadata": {},
     "output_type": "display_data"
    },
    {
     "data": {
      "text/markdown": [
       "## Sentence\n",
       "Finnish automation solutions developer Cencorp Corporation ( OMX Helsinki : CNC1V ) said on Friday ( 27 June ) that it has completed employee negotiations regarding a reorganisation of its operations ."
      ],
      "text/plain": [
       "<IPython.core.display.Markdown object>"
      ]
     },
     "metadata": {},
     "output_type": "display_data"
    },
    {
     "data": {
      "text/markdown": [
       "**Actual label:** positive"
      ],
      "text/plain": [
       "<IPython.core.display.Markdown object>"
      ]
     },
     "metadata": {},
     "output_type": "display_data"
    },
    {
     "data": {
      "text/markdown": [
       "**Predicted label:** neutral"
      ],
      "text/plain": [
       "<IPython.core.display.Markdown object>"
      ]
     },
     "metadata": {},
     "output_type": "display_data"
    },
    {
     "data": {
      "text/html": [
       "<div>\n",
       "<style scoped>\n",
       "    .dataframe tbody tr th:only-of-type {\n",
       "        vertical-align: middle;\n",
       "    }\n",
       "\n",
       "    .dataframe tbody tr th {\n",
       "        vertical-align: top;\n",
       "    }\n",
       "\n",
       "    .dataframe thead th {\n",
       "        text-align: right;\n",
       "    }\n",
       "</style>\n",
       "<table border=\"1\" class=\"dataframe\">\n",
       "  <thead>\n",
       "    <tr style=\"text-align: right;\">\n",
       "      <th></th>\n",
       "      <th>probability</th>\n",
       "    </tr>\n",
       "  </thead>\n",
       "  <tbody>\n",
       "    <tr>\n",
       "      <th>The sentiment of this statement is ambiguous.</th>\n",
       "      <td>0.260757</td>\n",
       "    </tr>\n",
       "    <tr>\n",
       "      <th>The sentiment is unclear and requires more context</th>\n",
       "      <td>0.415549</td>\n",
       "    </tr>\n",
       "    <tr>\n",
       "      <th>The sentiment of this statement is not positive</th>\n",
       "      <td>0.183352</td>\n",
       "    </tr>\n",
       "    <tr>\n",
       "      <th>The sentiment of this statement is positive</th>\n",
       "      <td>0.140342</td>\n",
       "    </tr>\n",
       "  </tbody>\n",
       "</table>\n",
       "</div>"
      ],
      "text/plain": [
       "                                                    probability\n",
       "The sentiment of this statement is ambiguous.          0.260757\n",
       "The sentiment is unclear and requires more context     0.415549\n",
       "The sentiment of this statement is not positive        0.183352\n",
       "The sentiment of this statement is positive            0.140342"
      ]
     },
     "metadata": {},
     "output_type": "display_data"
    },
    {
     "data": {
      "text/markdown": [
       "## Sentence\n",
       "Employing 112 in Finland and 280 abroad , the unit recorded first-quarter 2007 sales of 8.6 mln eur , with an operating loss of 1.6 mln eur ."
      ],
      "text/plain": [
       "<IPython.core.display.Markdown object>"
      ]
     },
     "metadata": {},
     "output_type": "display_data"
    },
    {
     "data": {
      "text/markdown": [
       "**Actual label:** negative"
      ],
      "text/plain": [
       "<IPython.core.display.Markdown object>"
      ]
     },
     "metadata": {},
     "output_type": "display_data"
    },
    {
     "data": {
      "text/markdown": [
       "**Predicted label:** neutral"
      ],
      "text/plain": [
       "<IPython.core.display.Markdown object>"
      ]
     },
     "metadata": {},
     "output_type": "display_data"
    },
    {
     "data": {
      "text/html": [
       "<div>\n",
       "<style scoped>\n",
       "    .dataframe tbody tr th:only-of-type {\n",
       "        vertical-align: middle;\n",
       "    }\n",
       "\n",
       "    .dataframe tbody tr th {\n",
       "        vertical-align: top;\n",
       "    }\n",
       "\n",
       "    .dataframe thead th {\n",
       "        text-align: right;\n",
       "    }\n",
       "</style>\n",
       "<table border=\"1\" class=\"dataframe\">\n",
       "  <thead>\n",
       "    <tr style=\"text-align: right;\">\n",
       "      <th></th>\n",
       "      <th>probability</th>\n",
       "    </tr>\n",
       "  </thead>\n",
       "  <tbody>\n",
       "    <tr>\n",
       "      <th>The sentiment of this statement is ambiguous.</th>\n",
       "      <td>0.185393</td>\n",
       "    </tr>\n",
       "    <tr>\n",
       "      <th>The sentiment is unclear and requires more context</th>\n",
       "      <td>0.414636</td>\n",
       "    </tr>\n",
       "    <tr>\n",
       "      <th>The sentiment of this statement is not negative</th>\n",
       "      <td>0.189526</td>\n",
       "    </tr>\n",
       "    <tr>\n",
       "      <th>The sentiment of this statement is negative</th>\n",
       "      <td>0.210445</td>\n",
       "    </tr>\n",
       "  </tbody>\n",
       "</table>\n",
       "</div>"
      ],
      "text/plain": [
       "                                                    probability\n",
       "The sentiment of this statement is ambiguous.          0.185393\n",
       "The sentiment is unclear and requires more context     0.414636\n",
       "The sentiment of this statement is not negative        0.189526\n",
       "The sentiment of this statement is negative            0.210445"
      ]
     },
     "metadata": {},
     "output_type": "display_data"
    },
    {
     "data": {
      "text/markdown": [
       "## Sentence\n",
       "Kesko pursues a strategy of healthy , focused growth concentrating on sales and services to consumer-customers ."
      ],
      "text/plain": [
       "<IPython.core.display.Markdown object>"
      ]
     },
     "metadata": {},
     "output_type": "display_data"
    },
    {
     "data": {
      "text/markdown": [
       "**Actual label:** positive"
      ],
      "text/plain": [
       "<IPython.core.display.Markdown object>"
      ]
     },
     "metadata": {},
     "output_type": "display_data"
    },
    {
     "data": {
      "text/markdown": [
       "**Predicted label:** neutral"
      ],
      "text/plain": [
       "<IPython.core.display.Markdown object>"
      ]
     },
     "metadata": {},
     "output_type": "display_data"
    },
    {
     "data": {
      "text/html": [
       "<div>\n",
       "<style scoped>\n",
       "    .dataframe tbody tr th:only-of-type {\n",
       "        vertical-align: middle;\n",
       "    }\n",
       "\n",
       "    .dataframe tbody tr th {\n",
       "        vertical-align: top;\n",
       "    }\n",
       "\n",
       "    .dataframe thead th {\n",
       "        text-align: right;\n",
       "    }\n",
       "</style>\n",
       "<table border=\"1\" class=\"dataframe\">\n",
       "  <thead>\n",
       "    <tr style=\"text-align: right;\">\n",
       "      <th></th>\n",
       "      <th>probability</th>\n",
       "    </tr>\n",
       "  </thead>\n",
       "  <tbody>\n",
       "    <tr>\n",
       "      <th>The sentiment of this statement is ambiguous.</th>\n",
       "      <td>0.074584</td>\n",
       "    </tr>\n",
       "    <tr>\n",
       "      <th>The sentiment is unclear and requires more context</th>\n",
       "      <td>0.154676</td>\n",
       "    </tr>\n",
       "    <tr>\n",
       "      <th>The sentiment of this statement is not positive</th>\n",
       "      <td>0.126356</td>\n",
       "    </tr>\n",
       "    <tr>\n",
       "      <th>The sentiment of this statement is positive</th>\n",
       "      <td>0.644385</td>\n",
       "    </tr>\n",
       "  </tbody>\n",
       "</table>\n",
       "</div>"
      ],
      "text/plain": [
       "                                                    probability\n",
       "The sentiment of this statement is ambiguous.          0.074584\n",
       "The sentiment is unclear and requires more context     0.154676\n",
       "The sentiment of this statement is not positive        0.126356\n",
       "The sentiment of this statement is positive            0.644385"
      ]
     },
     "metadata": {},
     "output_type": "display_data"
    },
    {
     "data": {
      "text/markdown": [
       "## Sentence\n",
       "The new technology improves the glass quality and consistency while increasing throughput ."
      ],
      "text/plain": [
       "<IPython.core.display.Markdown object>"
      ]
     },
     "metadata": {},
     "output_type": "display_data"
    },
    {
     "data": {
      "text/markdown": [
       "**Actual label:** positive"
      ],
      "text/plain": [
       "<IPython.core.display.Markdown object>"
      ]
     },
     "metadata": {},
     "output_type": "display_data"
    },
    {
     "data": {
      "text/markdown": [
       "**Predicted label:** neutral"
      ],
      "text/plain": [
       "<IPython.core.display.Markdown object>"
      ]
     },
     "metadata": {},
     "output_type": "display_data"
    },
    {
     "data": {
      "text/html": [
       "<div>\n",
       "<style scoped>\n",
       "    .dataframe tbody tr th:only-of-type {\n",
       "        vertical-align: middle;\n",
       "    }\n",
       "\n",
       "    .dataframe tbody tr th {\n",
       "        vertical-align: top;\n",
       "    }\n",
       "\n",
       "    .dataframe thead th {\n",
       "        text-align: right;\n",
       "    }\n",
       "</style>\n",
       "<table border=\"1\" class=\"dataframe\">\n",
       "  <thead>\n",
       "    <tr style=\"text-align: right;\">\n",
       "      <th></th>\n",
       "      <th>probability</th>\n",
       "    </tr>\n",
       "  </thead>\n",
       "  <tbody>\n",
       "    <tr>\n",
       "      <th>The sentiment of this statement is ambiguous.</th>\n",
       "      <td>0.077865</td>\n",
       "    </tr>\n",
       "    <tr>\n",
       "      <th>The sentiment is unclear and requires more context</th>\n",
       "      <td>0.211917</td>\n",
       "    </tr>\n",
       "    <tr>\n",
       "      <th>The sentiment of this statement is not positive</th>\n",
       "      <td>0.131065</td>\n",
       "    </tr>\n",
       "    <tr>\n",
       "      <th>The sentiment of this statement is positive</th>\n",
       "      <td>0.579153</td>\n",
       "    </tr>\n",
       "  </tbody>\n",
       "</table>\n",
       "</div>"
      ],
      "text/plain": [
       "                                                    probability\n",
       "The sentiment of this statement is ambiguous.          0.077865\n",
       "The sentiment is unclear and requires more context     0.211917\n",
       "The sentiment of this statement is not positive        0.131065\n",
       "The sentiment of this statement is positive            0.579153"
      ]
     },
     "metadata": {},
     "output_type": "display_data"
    },
    {
     "data": {
      "text/markdown": [
       "## Sentence\n",
       "After the reporting period , BioTie North American licensing partner Somaxon Pharmaceuticals announced positive results with nalmefene in a pilot Phase 2 clinical trial for smoking cessation ."
      ],
      "text/plain": [
       "<IPython.core.display.Markdown object>"
      ]
     },
     "metadata": {},
     "output_type": "display_data"
    },
    {
     "data": {
      "text/markdown": [
       "**Actual label:** positive"
      ],
      "text/plain": [
       "<IPython.core.display.Markdown object>"
      ]
     },
     "metadata": {},
     "output_type": "display_data"
    },
    {
     "data": {
      "text/markdown": [
       "**Predicted label:** neutral"
      ],
      "text/plain": [
       "<IPython.core.display.Markdown object>"
      ]
     },
     "metadata": {},
     "output_type": "display_data"
    },
    {
     "data": {
      "text/html": [
       "<div>\n",
       "<style scoped>\n",
       "    .dataframe tbody tr th:only-of-type {\n",
       "        vertical-align: middle;\n",
       "    }\n",
       "\n",
       "    .dataframe tbody tr th {\n",
       "        vertical-align: top;\n",
       "    }\n",
       "\n",
       "    .dataframe thead th {\n",
       "        text-align: right;\n",
       "    }\n",
       "</style>\n",
       "<table border=\"1\" class=\"dataframe\">\n",
       "  <thead>\n",
       "    <tr style=\"text-align: right;\">\n",
       "      <th></th>\n",
       "      <th>probability</th>\n",
       "    </tr>\n",
       "  </thead>\n",
       "  <tbody>\n",
       "    <tr>\n",
       "      <th>The sentiment of this statement is ambiguous.</th>\n",
       "      <td>0.059610</td>\n",
       "    </tr>\n",
       "    <tr>\n",
       "      <th>The sentiment is unclear and requires more context</th>\n",
       "      <td>0.121080</td>\n",
       "    </tr>\n",
       "    <tr>\n",
       "      <th>The sentiment of this statement is not positive</th>\n",
       "      <td>0.021794</td>\n",
       "    </tr>\n",
       "    <tr>\n",
       "      <th>The sentiment of this statement is positive</th>\n",
       "      <td>0.797517</td>\n",
       "    </tr>\n",
       "  </tbody>\n",
       "</table>\n",
       "</div>"
      ],
      "text/plain": [
       "                                                    probability\n",
       "The sentiment of this statement is ambiguous.          0.059610\n",
       "The sentiment is unclear and requires more context     0.121080\n",
       "The sentiment of this statement is not positive        0.021794\n",
       "The sentiment of this statement is positive            0.797517"
      ]
     },
     "metadata": {},
     "output_type": "display_data"
    },
    {
     "data": {
      "text/markdown": [
       "## Sentence\n",
       "- The Group -¦ s result before taxes was a loss of EUR 0.6 ( +0.6 ) million ."
      ],
      "text/plain": [
       "<IPython.core.display.Markdown object>"
      ]
     },
     "metadata": {},
     "output_type": "display_data"
    },
    {
     "data": {
      "text/markdown": [
       "**Actual label:** neutral"
      ],
      "text/plain": [
       "<IPython.core.display.Markdown object>"
      ]
     },
     "metadata": {},
     "output_type": "display_data"
    },
    {
     "data": {
      "text/markdown": [
       "**Predicted label:** negative"
      ],
      "text/plain": [
       "<IPython.core.display.Markdown object>"
      ]
     },
     "metadata": {},
     "output_type": "display_data"
    },
    {
     "data": {
      "text/html": [
       "<div>\n",
       "<style scoped>\n",
       "    .dataframe tbody tr th:only-of-type {\n",
       "        vertical-align: middle;\n",
       "    }\n",
       "\n",
       "    .dataframe tbody tr th {\n",
       "        vertical-align: top;\n",
       "    }\n",
       "\n",
       "    .dataframe thead th {\n",
       "        text-align: right;\n",
       "    }\n",
       "</style>\n",
       "<table border=\"1\" class=\"dataframe\">\n",
       "  <thead>\n",
       "    <tr style=\"text-align: right;\">\n",
       "      <th></th>\n",
       "      <th>probability</th>\n",
       "    </tr>\n",
       "  </thead>\n",
       "  <tbody>\n",
       "    <tr>\n",
       "      <th>The sentiment of this statement is ambiguous.</th>\n",
       "      <td>0.186486</td>\n",
       "    </tr>\n",
       "    <tr>\n",
       "      <th>The sentiment is unclear and requires more context</th>\n",
       "      <td>0.229859</td>\n",
       "    </tr>\n",
       "    <tr>\n",
       "      <th>The sentiment of this statement is not neutral</th>\n",
       "      <td>0.458099</td>\n",
       "    </tr>\n",
       "    <tr>\n",
       "      <th>The sentiment of this statement is neutral</th>\n",
       "      <td>0.125555</td>\n",
       "    </tr>\n",
       "  </tbody>\n",
       "</table>\n",
       "</div>"
      ],
      "text/plain": [
       "                                                    probability\n",
       "The sentiment of this statement is ambiguous.          0.186486\n",
       "The sentiment is unclear and requires more context     0.229859\n",
       "The sentiment of this statement is not neutral         0.458099\n",
       "The sentiment of this statement is neutral             0.125555"
      ]
     },
     "metadata": {},
     "output_type": "display_data"
    },
    {
     "data": {
      "text/markdown": [
       "## Sentence\n",
       "( ADPnews ) - May 4 , 2010 - Finnish cutlery and hand tools maker Fiskars Oyj Abp ( HEL : FISAS ) said today its net profit declined to EUR 12.9 million ( USD 17m ) in the first quarter of 2010 from EUR 17 million in the correspond"
      ],
      "text/plain": [
       "<IPython.core.display.Markdown object>"
      ]
     },
     "metadata": {},
     "output_type": "display_data"
    },
    {
     "data": {
      "text/markdown": [
       "**Actual label:** negative"
      ],
      "text/plain": [
       "<IPython.core.display.Markdown object>"
      ]
     },
     "metadata": {},
     "output_type": "display_data"
    },
    {
     "data": {
      "text/markdown": [
       "**Predicted label:** positive"
      ],
      "text/plain": [
       "<IPython.core.display.Markdown object>"
      ]
     },
     "metadata": {},
     "output_type": "display_data"
    },
    {
     "data": {
      "text/html": [
       "<div>\n",
       "<style scoped>\n",
       "    .dataframe tbody tr th:only-of-type {\n",
       "        vertical-align: middle;\n",
       "    }\n",
       "\n",
       "    .dataframe tbody tr th {\n",
       "        vertical-align: top;\n",
       "    }\n",
       "\n",
       "    .dataframe thead th {\n",
       "        text-align: right;\n",
       "    }\n",
       "</style>\n",
       "<table border=\"1\" class=\"dataframe\">\n",
       "  <thead>\n",
       "    <tr style=\"text-align: right;\">\n",
       "      <th></th>\n",
       "      <th>probability</th>\n",
       "    </tr>\n",
       "  </thead>\n",
       "  <tbody>\n",
       "    <tr>\n",
       "      <th>The sentiment of this statement is ambiguous.</th>\n",
       "      <td>0.236957</td>\n",
       "    </tr>\n",
       "    <tr>\n",
       "      <th>The sentiment is unclear and requires more context</th>\n",
       "      <td>0.408623</td>\n",
       "    </tr>\n",
       "    <tr>\n",
       "      <th>The sentiment of this statement is not negative</th>\n",
       "      <td>0.099079</td>\n",
       "    </tr>\n",
       "    <tr>\n",
       "      <th>The sentiment of this statement is negative</th>\n",
       "      <td>0.255341</td>\n",
       "    </tr>\n",
       "  </tbody>\n",
       "</table>\n",
       "</div>"
      ],
      "text/plain": [
       "                                                    probability\n",
       "The sentiment of this statement is ambiguous.          0.236957\n",
       "The sentiment is unclear and requires more context     0.408623\n",
       "The sentiment of this statement is not negative        0.099079\n",
       "The sentiment of this statement is negative            0.255341"
      ]
     },
     "metadata": {},
     "output_type": "display_data"
    },
    {
     "data": {
      "text/markdown": [
       "## Sentence\n",
       "The brokerage said 2006 has seen a ` true turning point ' in European steel base prices , with better pricing seen carrying through the second quarter of 2006 ."
      ],
      "text/plain": [
       "<IPython.core.display.Markdown object>"
      ]
     },
     "metadata": {},
     "output_type": "display_data"
    },
    {
     "data": {
      "text/markdown": [
       "**Actual label:** positive"
      ],
      "text/plain": [
       "<IPython.core.display.Markdown object>"
      ]
     },
     "metadata": {},
     "output_type": "display_data"
    },
    {
     "data": {
      "text/markdown": [
       "**Predicted label:** neutral"
      ],
      "text/plain": [
       "<IPython.core.display.Markdown object>"
      ]
     },
     "metadata": {},
     "output_type": "display_data"
    },
    {
     "data": {
      "text/html": [
       "<div>\n",
       "<style scoped>\n",
       "    .dataframe tbody tr th:only-of-type {\n",
       "        vertical-align: middle;\n",
       "    }\n",
       "\n",
       "    .dataframe tbody tr th {\n",
       "        vertical-align: top;\n",
       "    }\n",
       "\n",
       "    .dataframe thead th {\n",
       "        text-align: right;\n",
       "    }\n",
       "</style>\n",
       "<table border=\"1\" class=\"dataframe\">\n",
       "  <thead>\n",
       "    <tr style=\"text-align: right;\">\n",
       "      <th></th>\n",
       "      <th>probability</th>\n",
       "    </tr>\n",
       "  </thead>\n",
       "  <tbody>\n",
       "    <tr>\n",
       "      <th>The sentiment of this statement is ambiguous.</th>\n",
       "      <td>0.057389</td>\n",
       "    </tr>\n",
       "    <tr>\n",
       "      <th>The sentiment is unclear and requires more context</th>\n",
       "      <td>0.078691</td>\n",
       "    </tr>\n",
       "    <tr>\n",
       "      <th>The sentiment of this statement is not positive</th>\n",
       "      <td>0.041785</td>\n",
       "    </tr>\n",
       "    <tr>\n",
       "      <th>The sentiment of this statement is positive</th>\n",
       "      <td>0.822135</td>\n",
       "    </tr>\n",
       "  </tbody>\n",
       "</table>\n",
       "</div>"
      ],
      "text/plain": [
       "                                                    probability\n",
       "The sentiment of this statement is ambiguous.          0.057389\n",
       "The sentiment is unclear and requires more context     0.078691\n",
       "The sentiment of this statement is not positive        0.041785\n",
       "The sentiment of this statement is positive            0.822135"
      ]
     },
     "metadata": {},
     "output_type": "display_data"
    },
    {
     "data": {
      "text/markdown": [
       "## Sentence\n",
       "Other carriers and handset makers spin it as a positive event that will raise interest for higher-end phones and pricier data plans ."
      ],
      "text/plain": [
       "<IPython.core.display.Markdown object>"
      ]
     },
     "metadata": {},
     "output_type": "display_data"
    },
    {
     "data": {
      "text/markdown": [
       "**Actual label:** positive"
      ],
      "text/plain": [
       "<IPython.core.display.Markdown object>"
      ]
     },
     "metadata": {},
     "output_type": "display_data"
    },
    {
     "data": {
      "text/markdown": [
       "**Predicted label:** neutral"
      ],
      "text/plain": [
       "<IPython.core.display.Markdown object>"
      ]
     },
     "metadata": {},
     "output_type": "display_data"
    },
    {
     "data": {
      "text/html": [
       "<div>\n",
       "<style scoped>\n",
       "    .dataframe tbody tr th:only-of-type {\n",
       "        vertical-align: middle;\n",
       "    }\n",
       "\n",
       "    .dataframe tbody tr th {\n",
       "        vertical-align: top;\n",
       "    }\n",
       "\n",
       "    .dataframe thead th {\n",
       "        text-align: right;\n",
       "    }\n",
       "</style>\n",
       "<table border=\"1\" class=\"dataframe\">\n",
       "  <thead>\n",
       "    <tr style=\"text-align: right;\">\n",
       "      <th></th>\n",
       "      <th>probability</th>\n",
       "    </tr>\n",
       "  </thead>\n",
       "  <tbody>\n",
       "    <tr>\n",
       "      <th>The sentiment of this statement is ambiguous.</th>\n",
       "      <td>0.032126</td>\n",
       "    </tr>\n",
       "    <tr>\n",
       "      <th>The sentiment is unclear and requires more context</th>\n",
       "      <td>0.025707</td>\n",
       "    </tr>\n",
       "    <tr>\n",
       "      <th>The sentiment of this statement is not positive</th>\n",
       "      <td>0.010454</td>\n",
       "    </tr>\n",
       "    <tr>\n",
       "      <th>The sentiment of this statement is positive</th>\n",
       "      <td>0.931713</td>\n",
       "    </tr>\n",
       "  </tbody>\n",
       "</table>\n",
       "</div>"
      ],
      "text/plain": [
       "                                                    probability\n",
       "The sentiment of this statement is ambiguous.          0.032126\n",
       "The sentiment is unclear and requires more context     0.025707\n",
       "The sentiment of this statement is not positive        0.010454\n",
       "The sentiment of this statement is positive            0.931713"
      ]
     },
     "metadata": {},
     "output_type": "display_data"
    },
    {
     "data": {
      "text/markdown": [
       "## Sentence\n",
       "One of the challenges in the oil production in the North Sea is scale formation that can plug pipelines and halt production ."
      ],
      "text/plain": [
       "<IPython.core.display.Markdown object>"
      ]
     },
     "metadata": {},
     "output_type": "display_data"
    },
    {
     "data": {
      "text/markdown": [
       "**Actual label:** negative"
      ],
      "text/plain": [
       "<IPython.core.display.Markdown object>"
      ]
     },
     "metadata": {},
     "output_type": "display_data"
    },
    {
     "data": {
      "text/markdown": [
       "**Predicted label:** neutral"
      ],
      "text/plain": [
       "<IPython.core.display.Markdown object>"
      ]
     },
     "metadata": {},
     "output_type": "display_data"
    },
    {
     "data": {
      "text/html": [
       "<div>\n",
       "<style scoped>\n",
       "    .dataframe tbody tr th:only-of-type {\n",
       "        vertical-align: middle;\n",
       "    }\n",
       "\n",
       "    .dataframe tbody tr th {\n",
       "        vertical-align: top;\n",
       "    }\n",
       "\n",
       "    .dataframe thead th {\n",
       "        text-align: right;\n",
       "    }\n",
       "</style>\n",
       "<table border=\"1\" class=\"dataframe\">\n",
       "  <thead>\n",
       "    <tr style=\"text-align: right;\">\n",
       "      <th></th>\n",
       "      <th>probability</th>\n",
       "    </tr>\n",
       "  </thead>\n",
       "  <tbody>\n",
       "    <tr>\n",
       "      <th>The sentiment of this statement is ambiguous.</th>\n",
       "      <td>0.134883</td>\n",
       "    </tr>\n",
       "    <tr>\n",
       "      <th>The sentiment is unclear and requires more context</th>\n",
       "      <td>0.442526</td>\n",
       "    </tr>\n",
       "    <tr>\n",
       "      <th>The sentiment of this statement is not negative</th>\n",
       "      <td>0.178965</td>\n",
       "    </tr>\n",
       "    <tr>\n",
       "      <th>The sentiment of this statement is negative</th>\n",
       "      <td>0.243626</td>\n",
       "    </tr>\n",
       "  </tbody>\n",
       "</table>\n",
       "</div>"
      ],
      "text/plain": [
       "                                                    probability\n",
       "The sentiment of this statement is ambiguous.          0.134883\n",
       "The sentiment is unclear and requires more context     0.442526\n",
       "The sentiment of this statement is not negative        0.178965\n",
       "The sentiment of this statement is negative            0.243626"
      ]
     },
     "metadata": {},
     "output_type": "display_data"
    },
    {
     "data": {
      "text/markdown": [
       "## Sentence\n",
       "F-Secure reported that : - The first half of 2008 has seen a growing number of targeted malware attacks on individuals , companies , and organizations ."
      ],
      "text/plain": [
       "<IPython.core.display.Markdown object>"
      ]
     },
     "metadata": {},
     "output_type": "display_data"
    },
    {
     "data": {
      "text/markdown": [
       "**Actual label:** neutral"
      ],
      "text/plain": [
       "<IPython.core.display.Markdown object>"
      ]
     },
     "metadata": {},
     "output_type": "display_data"
    },
    {
     "data": {
      "text/markdown": [
       "**Predicted label:** negative"
      ],
      "text/plain": [
       "<IPython.core.display.Markdown object>"
      ]
     },
     "metadata": {},
     "output_type": "display_data"
    },
    {
     "data": {
      "text/html": [
       "<div>\n",
       "<style scoped>\n",
       "    .dataframe tbody tr th:only-of-type {\n",
       "        vertical-align: middle;\n",
       "    }\n",
       "\n",
       "    .dataframe tbody tr th {\n",
       "        vertical-align: top;\n",
       "    }\n",
       "\n",
       "    .dataframe thead th {\n",
       "        text-align: right;\n",
       "    }\n",
       "</style>\n",
       "<table border=\"1\" class=\"dataframe\">\n",
       "  <thead>\n",
       "    <tr style=\"text-align: right;\">\n",
       "      <th></th>\n",
       "      <th>probability</th>\n",
       "    </tr>\n",
       "  </thead>\n",
       "  <tbody>\n",
       "    <tr>\n",
       "      <th>The sentiment of this statement is ambiguous.</th>\n",
       "      <td>0.113098</td>\n",
       "    </tr>\n",
       "    <tr>\n",
       "      <th>The sentiment is unclear and requires more context</th>\n",
       "      <td>0.196593</td>\n",
       "    </tr>\n",
       "    <tr>\n",
       "      <th>The sentiment of this statement is not neutral</th>\n",
       "      <td>0.643474</td>\n",
       "    </tr>\n",
       "    <tr>\n",
       "      <th>The sentiment of this statement is neutral</th>\n",
       "      <td>0.046835</td>\n",
       "    </tr>\n",
       "  </tbody>\n",
       "</table>\n",
       "</div>"
      ],
      "text/plain": [
       "                                                    probability\n",
       "The sentiment of this statement is ambiguous.          0.113098\n",
       "The sentiment is unclear and requires more context     0.196593\n",
       "The sentiment of this statement is not neutral         0.643474\n",
       "The sentiment of this statement is neutral             0.046835"
      ]
     },
     "metadata": {},
     "output_type": "display_data"
    }
   ],
   "source": [
    "# Create the classifier using HuggingFace's zero-shot-classification pipeline\n",
    "# NOTE: Change `device=0` to `device=-1` if you do not have a GPU\n",
    "nli_classifier = pipeline(                                                                           \n",
    "    \"zero-shot-classification\", model=\"facebook/bart-large-mnli\", device=0                            \n",
    ")\n",
    "\n",
    "nli_results = []\n",
    "for error_detail in error_details:\n",
    "    # Add actual label to \"{}\" fields in error class templates\n",
    "    error_classes = [\n",
    "        error_class_template.format(error_detail[\"actual_label\"]) \n",
    "        for error_class_template in error_class_templates\n",
    "    ]\n",
    "    \n",
    "    # Suppress warnings from the pipeline\n",
    "    nli_classifier.call_count = 0\n",
    "    \n",
    "    # Get error class probabilities\n",
    "    predictions = nli_classifier(error_detail[\"text\"], error_classes)\n",
    "    \n",
    "    # Get probabilities and change the order to match error class order\n",
    "    probabilites = pd.Series(\n",
    "        predictions[\"scores\"],\n",
    "        index=[error_classes.index(error_class) for error_class in predictions[\"labels\"]],\n",
    "    ).sort_index()\n",
    "    \n",
    "    nli_results.append(\n",
    "        dict(\n",
    "            sentence=error_detail[\"text\"],\n",
    "            actual_label=error_detail[\"actual_label\"],\n",
    "            predicted_label=error_detail[\"predicted_label\"],\n",
    "            **dict(zip(error_class_templates, probabilites)),\n",
    "        )\n",
    "    )\n",
    "\n",
    "nli_results_df = pd.DataFrame(nli_results)\n",
    "show_error_class_results(nli_results_df)"
   ]
  },
  {
   "cell_type": "markdown",
   "id": "69e9f7e6",
   "metadata": {},
   "source": [
    "### Conversational model prompting\n",
    "\n",
    "Zero-shot classification using a conversational model is a method in which you frame the classification task as a question and answer conversation. Instead of providing an explicit label, the input text is presented to the model in the form of a question, and the model generates a response. \n",
    "\n",
    "For example, if you want to classify a piece of text as either 'positive', 'negative', or 'neutral', you can ask the model a question like \"What is the sentiment of this text?\" The model will then generate a response based on its understanding of the text and the question, predicting one of the classes 'positive', 'negative', or 'neutral'. \n",
    "\n",
    "This approach leverages the ability of conversational models to understand and generate human-like text. As these models have been trained on diverse and vast amounts of data, they can often generate surprisingly accurate predictions for classes they were not explicitly trained on, hence the term \"zero-shot\"."
   ]
  },
  {
   "cell_type": "markdown",
   "id": "b11d99c0",
   "metadata": {},
   "source": [
    "#### Implement conversational model prompting\n",
    "\n",
    "This code analyzes misclassification errors using a conversational AI model. For each error, it provides the AI model with a set of instructions to assess why the error might have occurred based on four possible reasons. The AI model is then asked to assign a probability to each reason for the given misclassified statement. The model's response is processed and displayed as a DataFrame, providing insights into the potential causes of misclassification. By incorporating human-like understanding and context awareness, this method provides an additional layer of depth to your error analysis."
   ]
  },
  {
   "cell_type": "code",
   "execution_count": 20,
   "id": "3ac58dd0",
   "metadata": {},
   "outputs": [
    {
     "data": {
      "text/markdown": [
       "## Sentence\n",
       "The sales of the Tiimari segment fell by 4.0 % year-on-year to EUR3 .3 m in June 2010 ."
      ],
      "text/plain": [
       "<IPython.core.display.Markdown object>"
      ]
     },
     "metadata": {},
     "output_type": "display_data"
    },
    {
     "data": {
      "text/markdown": [
       "**Actual label:** negative"
      ],
      "text/plain": [
       "<IPython.core.display.Markdown object>"
      ]
     },
     "metadata": {},
     "output_type": "display_data"
    },
    {
     "data": {
      "text/markdown": [
       "**Predicted label:** positive"
      ],
      "text/plain": [
       "<IPython.core.display.Markdown object>"
      ]
     },
     "metadata": {},
     "output_type": "display_data"
    },
    {
     "data": {
      "text/html": [
       "<div>\n",
       "<style scoped>\n",
       "    .dataframe tbody tr th:only-of-type {\n",
       "        vertical-align: middle;\n",
       "    }\n",
       "\n",
       "    .dataframe tbody tr th {\n",
       "        vertical-align: top;\n",
       "    }\n",
       "\n",
       "    .dataframe thead th {\n",
       "        text-align: right;\n",
       "    }\n",
       "</style>\n",
       "<table border=\"1\" class=\"dataframe\">\n",
       "  <thead>\n",
       "    <tr style=\"text-align: right;\">\n",
       "      <th></th>\n",
       "      <th>probability</th>\n",
       "    </tr>\n",
       "  </thead>\n",
       "  <tbody>\n",
       "    <tr>\n",
       "      <th>The sentiment of this statement is ambiguous.</th>\n",
       "      <td>0.6</td>\n",
       "    </tr>\n",
       "    <tr>\n",
       "      <th>The sentiment is unclear and requires more context</th>\n",
       "      <td>0.2</td>\n",
       "    </tr>\n",
       "    <tr>\n",
       "      <th>The sentiment of this statement is not negative</th>\n",
       "      <td>0.2</td>\n",
       "    </tr>\n",
       "    <tr>\n",
       "      <th>The sentiment of this statement is negative</th>\n",
       "      <td>0.0</td>\n",
       "    </tr>\n",
       "  </tbody>\n",
       "</table>\n",
       "</div>"
      ],
      "text/plain": [
       "                                                    probability\n",
       "The sentiment of this statement is ambiguous.               0.6\n",
       "The sentiment is unclear and requires more context          0.2\n",
       "The sentiment of this statement is not negative             0.2\n",
       "The sentiment of this statement is negative                 0.0"
      ]
     },
     "metadata": {},
     "output_type": "display_data"
    },
    {
     "data": {
      "text/markdown": [
       "## Sentence\n",
       "At 1411 CET , ArcelorMittal had lost 7.26 % to EUR 17.38 on Euronext Paris , coming at the lead of the blue-chip fallers ."
      ],
      "text/plain": [
       "<IPython.core.display.Markdown object>"
      ]
     },
     "metadata": {},
     "output_type": "display_data"
    },
    {
     "data": {
      "text/markdown": [
       "**Actual label:** negative"
      ],
      "text/plain": [
       "<IPython.core.display.Markdown object>"
      ]
     },
     "metadata": {},
     "output_type": "display_data"
    },
    {
     "data": {
      "text/markdown": [
       "**Predicted label:** neutral"
      ],
      "text/plain": [
       "<IPython.core.display.Markdown object>"
      ]
     },
     "metadata": {},
     "output_type": "display_data"
    },
    {
     "data": {
      "text/html": [
       "<div>\n",
       "<style scoped>\n",
       "    .dataframe tbody tr th:only-of-type {\n",
       "        vertical-align: middle;\n",
       "    }\n",
       "\n",
       "    .dataframe tbody tr th {\n",
       "        vertical-align: top;\n",
       "    }\n",
       "\n",
       "    .dataframe thead th {\n",
       "        text-align: right;\n",
       "    }\n",
       "</style>\n",
       "<table border=\"1\" class=\"dataframe\">\n",
       "  <thead>\n",
       "    <tr style=\"text-align: right;\">\n",
       "      <th></th>\n",
       "      <th>probability</th>\n",
       "    </tr>\n",
       "  </thead>\n",
       "  <tbody>\n",
       "    <tr>\n",
       "      <th>The sentiment of this statement is ambiguous.</th>\n",
       "      <td>0.6</td>\n",
       "    </tr>\n",
       "    <tr>\n",
       "      <th>The sentiment is unclear and requires more context</th>\n",
       "      <td>0.3</td>\n",
       "    </tr>\n",
       "    <tr>\n",
       "      <th>The sentiment of this statement is not negative</th>\n",
       "      <td>0.1</td>\n",
       "    </tr>\n",
       "    <tr>\n",
       "      <th>The sentiment of this statement is negative</th>\n",
       "      <td>0.0</td>\n",
       "    </tr>\n",
       "  </tbody>\n",
       "</table>\n",
       "</div>"
      ],
      "text/plain": [
       "                                                    probability\n",
       "The sentiment of this statement is ambiguous.               0.6\n",
       "The sentiment is unclear and requires more context          0.3\n",
       "The sentiment of this statement is not negative             0.1\n",
       "The sentiment of this statement is negative                 0.0"
      ]
     },
     "metadata": {},
     "output_type": "display_data"
    },
    {
     "data": {
      "text/markdown": [
       "## Sentence\n",
       "The liquidity providing was interrupted on May 11 , 2007 when Aspocomp Group Oyj 's shares traded below 0.50 cent ( Aspocomp 's stock exchange release 11.5.2007 ) ."
      ],
      "text/plain": [
       "<IPython.core.display.Markdown object>"
      ]
     },
     "metadata": {},
     "output_type": "display_data"
    },
    {
     "data": {
      "text/markdown": [
       "**Actual label:** negative"
      ],
      "text/plain": [
       "<IPython.core.display.Markdown object>"
      ]
     },
     "metadata": {},
     "output_type": "display_data"
    },
    {
     "data": {
      "text/markdown": [
       "**Predicted label:** neutral"
      ],
      "text/plain": [
       "<IPython.core.display.Markdown object>"
      ]
     },
     "metadata": {},
     "output_type": "display_data"
    },
    {
     "data": {
      "text/html": [
       "<div>\n",
       "<style scoped>\n",
       "    .dataframe tbody tr th:only-of-type {\n",
       "        vertical-align: middle;\n",
       "    }\n",
       "\n",
       "    .dataframe tbody tr th {\n",
       "        vertical-align: top;\n",
       "    }\n",
       "\n",
       "    .dataframe thead th {\n",
       "        text-align: right;\n",
       "    }\n",
       "</style>\n",
       "<table border=\"1\" class=\"dataframe\">\n",
       "  <thead>\n",
       "    <tr style=\"text-align: right;\">\n",
       "      <th></th>\n",
       "      <th>probability</th>\n",
       "    </tr>\n",
       "  </thead>\n",
       "  <tbody>\n",
       "    <tr>\n",
       "      <th>The sentiment of this statement is ambiguous.</th>\n",
       "      <td>0.8</td>\n",
       "    </tr>\n",
       "    <tr>\n",
       "      <th>The sentiment is unclear and requires more context</th>\n",
       "      <td>0.2</td>\n",
       "    </tr>\n",
       "    <tr>\n",
       "      <th>The sentiment of this statement is not negative</th>\n",
       "      <td>0.0</td>\n",
       "    </tr>\n",
       "    <tr>\n",
       "      <th>The sentiment of this statement is negative</th>\n",
       "      <td>0.0</td>\n",
       "    </tr>\n",
       "  </tbody>\n",
       "</table>\n",
       "</div>"
      ],
      "text/plain": [
       "                                                    probability\n",
       "The sentiment of this statement is ambiguous.               0.8\n",
       "The sentiment is unclear and requires more context          0.2\n",
       "The sentiment of this statement is not negative             0.0\n",
       "The sentiment of this statement is negative                 0.0"
      ]
     },
     "metadata": {},
     "output_type": "display_data"
    },
    {
     "data": {
      "text/markdown": [
       "## Sentence\n",
       "At 10.58 am , Outokumpu declined 2.74 pct to 24.87 eur , while the OMX Helsinki 25 was 0.55 pct higher at 2,825.14 and the OMX Helsinki added 0.64 pct to 9,386.89 ."
      ],
      "text/plain": [
       "<IPython.core.display.Markdown object>"
      ]
     },
     "metadata": {},
     "output_type": "display_data"
    },
    {
     "data": {
      "text/markdown": [
       "**Actual label:** neutral"
      ],
      "text/plain": [
       "<IPython.core.display.Markdown object>"
      ]
     },
     "metadata": {},
     "output_type": "display_data"
    },
    {
     "data": {
      "text/markdown": [
       "**Predicted label:** negative"
      ],
      "text/plain": [
       "<IPython.core.display.Markdown object>"
      ]
     },
     "metadata": {},
     "output_type": "display_data"
    },
    {
     "data": {
      "text/html": [
       "<div>\n",
       "<style scoped>\n",
       "    .dataframe tbody tr th:only-of-type {\n",
       "        vertical-align: middle;\n",
       "    }\n",
       "\n",
       "    .dataframe tbody tr th {\n",
       "        vertical-align: top;\n",
       "    }\n",
       "\n",
       "    .dataframe thead th {\n",
       "        text-align: right;\n",
       "    }\n",
       "</style>\n",
       "<table border=\"1\" class=\"dataframe\">\n",
       "  <thead>\n",
       "    <tr style=\"text-align: right;\">\n",
       "      <th></th>\n",
       "      <th>probability</th>\n",
       "    </tr>\n",
       "  </thead>\n",
       "  <tbody>\n",
       "    <tr>\n",
       "      <th>The sentiment of this statement is ambiguous.</th>\n",
       "      <td>0.8</td>\n",
       "    </tr>\n",
       "    <tr>\n",
       "      <th>The sentiment is unclear and requires more context</th>\n",
       "      <td>0.2</td>\n",
       "    </tr>\n",
       "    <tr>\n",
       "      <th>The sentiment of this statement is not neutral</th>\n",
       "      <td>0.0</td>\n",
       "    </tr>\n",
       "    <tr>\n",
       "      <th>The sentiment of this statement is neutral</th>\n",
       "      <td>0.0</td>\n",
       "    </tr>\n",
       "  </tbody>\n",
       "</table>\n",
       "</div>"
      ],
      "text/plain": [
       "                                                    probability\n",
       "The sentiment of this statement is ambiguous.               0.8\n",
       "The sentiment is unclear and requires more context          0.2\n",
       "The sentiment of this statement is not neutral              0.0\n",
       "The sentiment of this statement is neutral                  0.0"
      ]
     },
     "metadata": {},
     "output_type": "display_data"
    },
    {
     "data": {
      "text/markdown": [
       "## Sentence\n",
       "A new production line is being completed for the contract production of hormone treatments ."
      ],
      "text/plain": [
       "<IPython.core.display.Markdown object>"
      ]
     },
     "metadata": {},
     "output_type": "display_data"
    },
    {
     "data": {
      "text/markdown": [
       "**Actual label:** positive"
      ],
      "text/plain": [
       "<IPython.core.display.Markdown object>"
      ]
     },
     "metadata": {},
     "output_type": "display_data"
    },
    {
     "data": {
      "text/markdown": [
       "**Predicted label:** neutral"
      ],
      "text/plain": [
       "<IPython.core.display.Markdown object>"
      ]
     },
     "metadata": {},
     "output_type": "display_data"
    },
    {
     "data": {
      "text/html": [
       "<div>\n",
       "<style scoped>\n",
       "    .dataframe tbody tr th:only-of-type {\n",
       "        vertical-align: middle;\n",
       "    }\n",
       "\n",
       "    .dataframe tbody tr th {\n",
       "        vertical-align: top;\n",
       "    }\n",
       "\n",
       "    .dataframe thead th {\n",
       "        text-align: right;\n",
       "    }\n",
       "</style>\n",
       "<table border=\"1\" class=\"dataframe\">\n",
       "  <thead>\n",
       "    <tr style=\"text-align: right;\">\n",
       "      <th></th>\n",
       "      <th>probability</th>\n",
       "    </tr>\n",
       "  </thead>\n",
       "  <tbody>\n",
       "    <tr>\n",
       "      <th>The sentiment of this statement is ambiguous.</th>\n",
       "      <td>0.6</td>\n",
       "    </tr>\n",
       "    <tr>\n",
       "      <th>The sentiment is unclear and requires more context</th>\n",
       "      <td>0.3</td>\n",
       "    </tr>\n",
       "    <tr>\n",
       "      <th>The sentiment of this statement is not positive</th>\n",
       "      <td>0.1</td>\n",
       "    </tr>\n",
       "    <tr>\n",
       "      <th>The sentiment of this statement is positive</th>\n",
       "      <td>0.0</td>\n",
       "    </tr>\n",
       "  </tbody>\n",
       "</table>\n",
       "</div>"
      ],
      "text/plain": [
       "                                                    probability\n",
       "The sentiment of this statement is ambiguous.               0.6\n",
       "The sentiment is unclear and requires more context          0.3\n",
       "The sentiment of this statement is not positive             0.1\n",
       "The sentiment of this statement is positive                 0.0"
      ]
     },
     "metadata": {},
     "output_type": "display_data"
    },
    {
     "data": {
      "text/markdown": [
       "## Sentence\n",
       "The company intends to raise production capacity in 2006 ."
      ],
      "text/plain": [
       "<IPython.core.display.Markdown object>"
      ]
     },
     "metadata": {},
     "output_type": "display_data"
    },
    {
     "data": {
      "text/markdown": [
       "**Actual label:** positive"
      ],
      "text/plain": [
       "<IPython.core.display.Markdown object>"
      ]
     },
     "metadata": {},
     "output_type": "display_data"
    },
    {
     "data": {
      "text/markdown": [
       "**Predicted label:** neutral"
      ],
      "text/plain": [
       "<IPython.core.display.Markdown object>"
      ]
     },
     "metadata": {},
     "output_type": "display_data"
    },
    {
     "data": {
      "text/html": [
       "<div>\n",
       "<style scoped>\n",
       "    .dataframe tbody tr th:only-of-type {\n",
       "        vertical-align: middle;\n",
       "    }\n",
       "\n",
       "    .dataframe tbody tr th {\n",
       "        vertical-align: top;\n",
       "    }\n",
       "\n",
       "    .dataframe thead th {\n",
       "        text-align: right;\n",
       "    }\n",
       "</style>\n",
       "<table border=\"1\" class=\"dataframe\">\n",
       "  <thead>\n",
       "    <tr style=\"text-align: right;\">\n",
       "      <th></th>\n",
       "      <th>probability</th>\n",
       "    </tr>\n",
       "  </thead>\n",
       "  <tbody>\n",
       "    <tr>\n",
       "      <th>The sentiment of this statement is ambiguous.</th>\n",
       "      <td>0.6</td>\n",
       "    </tr>\n",
       "    <tr>\n",
       "      <th>The sentiment is unclear and requires more context</th>\n",
       "      <td>0.3</td>\n",
       "    </tr>\n",
       "    <tr>\n",
       "      <th>The sentiment of this statement is not positive</th>\n",
       "      <td>0.1</td>\n",
       "    </tr>\n",
       "    <tr>\n",
       "      <th>The sentiment of this statement is positive</th>\n",
       "      <td>0.0</td>\n",
       "    </tr>\n",
       "  </tbody>\n",
       "</table>\n",
       "</div>"
      ],
      "text/plain": [
       "                                                    probability\n",
       "The sentiment of this statement is ambiguous.               0.6\n",
       "The sentiment is unclear and requires more context          0.3\n",
       "The sentiment of this statement is not positive             0.1\n",
       "The sentiment of this statement is positive                 0.0"
      ]
     },
     "metadata": {},
     "output_type": "display_data"
    },
    {
     "data": {
      "text/markdown": [
       "## Sentence\n",
       "A & euro ; 4.8 million investment in 13.6 % of Lewa netted Deutsche Beteiligungs & euro ; 21 million ."
      ],
      "text/plain": [
       "<IPython.core.display.Markdown object>"
      ]
     },
     "metadata": {},
     "output_type": "display_data"
    },
    {
     "data": {
      "text/markdown": [
       "**Actual label:** positive"
      ],
      "text/plain": [
       "<IPython.core.display.Markdown object>"
      ]
     },
     "metadata": {},
     "output_type": "display_data"
    },
    {
     "data": {
      "text/markdown": [
       "**Predicted label:** neutral"
      ],
      "text/plain": [
       "<IPython.core.display.Markdown object>"
      ]
     },
     "metadata": {},
     "output_type": "display_data"
    },
    {
     "data": {
      "text/html": [
       "<div>\n",
       "<style scoped>\n",
       "    .dataframe tbody tr th:only-of-type {\n",
       "        vertical-align: middle;\n",
       "    }\n",
       "\n",
       "    .dataframe tbody tr th {\n",
       "        vertical-align: top;\n",
       "    }\n",
       "\n",
       "    .dataframe thead th {\n",
       "        text-align: right;\n",
       "    }\n",
       "</style>\n",
       "<table border=\"1\" class=\"dataframe\">\n",
       "  <thead>\n",
       "    <tr style=\"text-align: right;\">\n",
       "      <th></th>\n",
       "      <th>probability</th>\n",
       "    </tr>\n",
       "  </thead>\n",
       "  <tbody>\n",
       "    <tr>\n",
       "      <th>The sentiment of this statement is ambiguous.</th>\n",
       "      <td>0.8</td>\n",
       "    </tr>\n",
       "    <tr>\n",
       "      <th>The sentiment is unclear and requires more context</th>\n",
       "      <td>0.2</td>\n",
       "    </tr>\n",
       "    <tr>\n",
       "      <th>The sentiment of this statement is not positive</th>\n",
       "      <td>0.0</td>\n",
       "    </tr>\n",
       "    <tr>\n",
       "      <th>The sentiment of this statement is positive</th>\n",
       "      <td>0.0</td>\n",
       "    </tr>\n",
       "  </tbody>\n",
       "</table>\n",
       "</div>"
      ],
      "text/plain": [
       "                                                    probability\n",
       "The sentiment of this statement is ambiguous.               0.8\n",
       "The sentiment is unclear and requires more context          0.2\n",
       "The sentiment of this statement is not positive             0.0\n",
       "The sentiment of this statement is positive                 0.0"
      ]
     },
     "metadata": {},
     "output_type": "display_data"
    },
    {
     "data": {
      "text/markdown": [
       "## Sentence\n",
       "`` Several growth initiatives in the chosen geographic areas are already ongoing , '' it continued , noting Lindex opened its first store in the Czech Republic this autumn in Brno ."
      ],
      "text/plain": [
       "<IPython.core.display.Markdown object>"
      ]
     },
     "metadata": {},
     "output_type": "display_data"
    },
    {
     "data": {
      "text/markdown": [
       "**Actual label:** positive"
      ],
      "text/plain": [
       "<IPython.core.display.Markdown object>"
      ]
     },
     "metadata": {},
     "output_type": "display_data"
    },
    {
     "data": {
      "text/markdown": [
       "**Predicted label:** neutral"
      ],
      "text/plain": [
       "<IPython.core.display.Markdown object>"
      ]
     },
     "metadata": {},
     "output_type": "display_data"
    },
    {
     "data": {
      "text/html": [
       "<div>\n",
       "<style scoped>\n",
       "    .dataframe tbody tr th:only-of-type {\n",
       "        vertical-align: middle;\n",
       "    }\n",
       "\n",
       "    .dataframe tbody tr th {\n",
       "        vertical-align: top;\n",
       "    }\n",
       "\n",
       "    .dataframe thead th {\n",
       "        text-align: right;\n",
       "    }\n",
       "</style>\n",
       "<table border=\"1\" class=\"dataframe\">\n",
       "  <thead>\n",
       "    <tr style=\"text-align: right;\">\n",
       "      <th></th>\n",
       "      <th>probability</th>\n",
       "    </tr>\n",
       "  </thead>\n",
       "  <tbody>\n",
       "    <tr>\n",
       "      <th>The sentiment of this statement is ambiguous.</th>\n",
       "      <td>0.7</td>\n",
       "    </tr>\n",
       "    <tr>\n",
       "      <th>The sentiment is unclear and requires more context</th>\n",
       "      <td>0.3</td>\n",
       "    </tr>\n",
       "    <tr>\n",
       "      <th>The sentiment of this statement is not positive</th>\n",
       "      <td>0.0</td>\n",
       "    </tr>\n",
       "    <tr>\n",
       "      <th>The sentiment of this statement is positive</th>\n",
       "      <td>0.0</td>\n",
       "    </tr>\n",
       "  </tbody>\n",
       "</table>\n",
       "</div>"
      ],
      "text/plain": [
       "                                                    probability\n",
       "The sentiment of this statement is ambiguous.               0.7\n",
       "The sentiment is unclear and requires more context          0.3\n",
       "The sentiment of this statement is not positive             0.0\n",
       "The sentiment of this statement is positive                 0.0"
      ]
     },
     "metadata": {},
     "output_type": "display_data"
    },
    {
     "data": {
      "text/markdown": [
       "## Sentence\n",
       "We offer our clients integrated management consulting , total solutions for complex projects and efficient , best-in-class design and supervision ."
      ],
      "text/plain": [
       "<IPython.core.display.Markdown object>"
      ]
     },
     "metadata": {},
     "output_type": "display_data"
    },
    {
     "data": {
      "text/markdown": [
       "**Actual label:** neutral"
      ],
      "text/plain": [
       "<IPython.core.display.Markdown object>"
      ]
     },
     "metadata": {},
     "output_type": "display_data"
    },
    {
     "data": {
      "text/markdown": [
       "**Predicted label:** positive"
      ],
      "text/plain": [
       "<IPython.core.display.Markdown object>"
      ]
     },
     "metadata": {},
     "output_type": "display_data"
    },
    {
     "data": {
      "text/html": [
       "<div>\n",
       "<style scoped>\n",
       "    .dataframe tbody tr th:only-of-type {\n",
       "        vertical-align: middle;\n",
       "    }\n",
       "\n",
       "    .dataframe tbody tr th {\n",
       "        vertical-align: top;\n",
       "    }\n",
       "\n",
       "    .dataframe thead th {\n",
       "        text-align: right;\n",
       "    }\n",
       "</style>\n",
       "<table border=\"1\" class=\"dataframe\">\n",
       "  <thead>\n",
       "    <tr style=\"text-align: right;\">\n",
       "      <th></th>\n",
       "      <th>probability</th>\n",
       "    </tr>\n",
       "  </thead>\n",
       "  <tbody>\n",
       "    <tr>\n",
       "      <th>The sentiment of this statement is ambiguous.</th>\n",
       "      <td>0.2</td>\n",
       "    </tr>\n",
       "    <tr>\n",
       "      <th>The sentiment is unclear and requires more context</th>\n",
       "      <td>0.3</td>\n",
       "    </tr>\n",
       "    <tr>\n",
       "      <th>The sentiment of this statement is not neutral</th>\n",
       "      <td>0.1</td>\n",
       "    </tr>\n",
       "    <tr>\n",
       "      <th>The sentiment of this statement is neutral</th>\n",
       "      <td>0.4</td>\n",
       "    </tr>\n",
       "  </tbody>\n",
       "</table>\n",
       "</div>"
      ],
      "text/plain": [
       "                                                    probability\n",
       "The sentiment of this statement is ambiguous.               0.2\n",
       "The sentiment is unclear and requires more context          0.3\n",
       "The sentiment of this statement is not neutral              0.1\n",
       "The sentiment of this statement is neutral                  0.4"
      ]
     },
     "metadata": {},
     "output_type": "display_data"
    },
    {
     "data": {
      "text/markdown": [
       "## Sentence\n",
       "Finnish automation solutions developer Cencorp Corporation ( OMX Helsinki : CNC1V ) said on Friday ( 27 June ) that it has completed employee negotiations regarding a reorganisation of its operations ."
      ],
      "text/plain": [
       "<IPython.core.display.Markdown object>"
      ]
     },
     "metadata": {},
     "output_type": "display_data"
    },
    {
     "data": {
      "text/markdown": [
       "**Actual label:** positive"
      ],
      "text/plain": [
       "<IPython.core.display.Markdown object>"
      ]
     },
     "metadata": {},
     "output_type": "display_data"
    },
    {
     "data": {
      "text/markdown": [
       "**Predicted label:** neutral"
      ],
      "text/plain": [
       "<IPython.core.display.Markdown object>"
      ]
     },
     "metadata": {},
     "output_type": "display_data"
    },
    {
     "data": {
      "text/html": [
       "<div>\n",
       "<style scoped>\n",
       "    .dataframe tbody tr th:only-of-type {\n",
       "        vertical-align: middle;\n",
       "    }\n",
       "\n",
       "    .dataframe tbody tr th {\n",
       "        vertical-align: top;\n",
       "    }\n",
       "\n",
       "    .dataframe thead th {\n",
       "        text-align: right;\n",
       "    }\n",
       "</style>\n",
       "<table border=\"1\" class=\"dataframe\">\n",
       "  <thead>\n",
       "    <tr style=\"text-align: right;\">\n",
       "      <th></th>\n",
       "      <th>probability</th>\n",
       "    </tr>\n",
       "  </thead>\n",
       "  <tbody>\n",
       "    <tr>\n",
       "      <th>The sentiment of this statement is ambiguous.</th>\n",
       "      <td>0.80</td>\n",
       "    </tr>\n",
       "    <tr>\n",
       "      <th>The sentiment is unclear and requires more context</th>\n",
       "      <td>0.10</td>\n",
       "    </tr>\n",
       "    <tr>\n",
       "      <th>The sentiment of this statement is not positive</th>\n",
       "      <td>0.05</td>\n",
       "    </tr>\n",
       "    <tr>\n",
       "      <th>The sentiment of this statement is positive</th>\n",
       "      <td>0.05</td>\n",
       "    </tr>\n",
       "  </tbody>\n",
       "</table>\n",
       "</div>"
      ],
      "text/plain": [
       "                                                    probability\n",
       "The sentiment of this statement is ambiguous.              0.80\n",
       "The sentiment is unclear and requires more context         0.10\n",
       "The sentiment of this statement is not positive            0.05\n",
       "The sentiment of this statement is positive                0.05"
      ]
     },
     "metadata": {},
     "output_type": "display_data"
    },
    {
     "data": {
      "text/markdown": [
       "## Sentence\n",
       "Employing 112 in Finland and 280 abroad , the unit recorded first-quarter 2007 sales of 8.6 mln eur , with an operating loss of 1.6 mln eur ."
      ],
      "text/plain": [
       "<IPython.core.display.Markdown object>"
      ]
     },
     "metadata": {},
     "output_type": "display_data"
    },
    {
     "data": {
      "text/markdown": [
       "**Actual label:** negative"
      ],
      "text/plain": [
       "<IPython.core.display.Markdown object>"
      ]
     },
     "metadata": {},
     "output_type": "display_data"
    },
    {
     "data": {
      "text/markdown": [
       "**Predicted label:** neutral"
      ],
      "text/plain": [
       "<IPython.core.display.Markdown object>"
      ]
     },
     "metadata": {},
     "output_type": "display_data"
    },
    {
     "data": {
      "text/html": [
       "<div>\n",
       "<style scoped>\n",
       "    .dataframe tbody tr th:only-of-type {\n",
       "        vertical-align: middle;\n",
       "    }\n",
       "\n",
       "    .dataframe tbody tr th {\n",
       "        vertical-align: top;\n",
       "    }\n",
       "\n",
       "    .dataframe thead th {\n",
       "        text-align: right;\n",
       "    }\n",
       "</style>\n",
       "<table border=\"1\" class=\"dataframe\">\n",
       "  <thead>\n",
       "    <tr style=\"text-align: right;\">\n",
       "      <th></th>\n",
       "      <th>probability</th>\n",
       "    </tr>\n",
       "  </thead>\n",
       "  <tbody>\n",
       "    <tr>\n",
       "      <th>The sentiment of this statement is ambiguous.</th>\n",
       "      <td>0.8</td>\n",
       "    </tr>\n",
       "    <tr>\n",
       "      <th>The sentiment is unclear and requires more context</th>\n",
       "      <td>0.2</td>\n",
       "    </tr>\n",
       "    <tr>\n",
       "      <th>The sentiment of this statement is not negative</th>\n",
       "      <td>0.0</td>\n",
       "    </tr>\n",
       "    <tr>\n",
       "      <th>The sentiment of this statement is negative</th>\n",
       "      <td>0.0</td>\n",
       "    </tr>\n",
       "  </tbody>\n",
       "</table>\n",
       "</div>"
      ],
      "text/plain": [
       "                                                    probability\n",
       "The sentiment of this statement is ambiguous.               0.8\n",
       "The sentiment is unclear and requires more context          0.2\n",
       "The sentiment of this statement is not negative             0.0\n",
       "The sentiment of this statement is negative                 0.0"
      ]
     },
     "metadata": {},
     "output_type": "display_data"
    },
    {
     "data": {
      "text/markdown": [
       "## Sentence\n",
       "Kesko pursues a strategy of healthy , focused growth concentrating on sales and services to consumer-customers ."
      ],
      "text/plain": [
       "<IPython.core.display.Markdown object>"
      ]
     },
     "metadata": {},
     "output_type": "display_data"
    },
    {
     "data": {
      "text/markdown": [
       "**Actual label:** positive"
      ],
      "text/plain": [
       "<IPython.core.display.Markdown object>"
      ]
     },
     "metadata": {},
     "output_type": "display_data"
    },
    {
     "data": {
      "text/markdown": [
       "**Predicted label:** neutral"
      ],
      "text/plain": [
       "<IPython.core.display.Markdown object>"
      ]
     },
     "metadata": {},
     "output_type": "display_data"
    },
    {
     "data": {
      "text/html": [
       "<div>\n",
       "<style scoped>\n",
       "    .dataframe tbody tr th:only-of-type {\n",
       "        vertical-align: middle;\n",
       "    }\n",
       "\n",
       "    .dataframe tbody tr th {\n",
       "        vertical-align: top;\n",
       "    }\n",
       "\n",
       "    .dataframe thead th {\n",
       "        text-align: right;\n",
       "    }\n",
       "</style>\n",
       "<table border=\"1\" class=\"dataframe\">\n",
       "  <thead>\n",
       "    <tr style=\"text-align: right;\">\n",
       "      <th></th>\n",
       "      <th>probability</th>\n",
       "    </tr>\n",
       "  </thead>\n",
       "  <tbody>\n",
       "    <tr>\n",
       "      <th>The sentiment of this statement is ambiguous.</th>\n",
       "      <td>0.2</td>\n",
       "    </tr>\n",
       "    <tr>\n",
       "      <th>The sentiment is unclear and requires more context</th>\n",
       "      <td>0.7</td>\n",
       "    </tr>\n",
       "    <tr>\n",
       "      <th>The sentiment of this statement is not positive</th>\n",
       "      <td>0.1</td>\n",
       "    </tr>\n",
       "    <tr>\n",
       "      <th>The sentiment of this statement is positive</th>\n",
       "      <td>0.0</td>\n",
       "    </tr>\n",
       "  </tbody>\n",
       "</table>\n",
       "</div>"
      ],
      "text/plain": [
       "                                                    probability\n",
       "The sentiment of this statement is ambiguous.               0.2\n",
       "The sentiment is unclear and requires more context          0.7\n",
       "The sentiment of this statement is not positive             0.1\n",
       "The sentiment of this statement is positive                 0.0"
      ]
     },
     "metadata": {},
     "output_type": "display_data"
    },
    {
     "data": {
      "text/markdown": [
       "## Sentence\n",
       "The new technology improves the glass quality and consistency while increasing throughput ."
      ],
      "text/plain": [
       "<IPython.core.display.Markdown object>"
      ]
     },
     "metadata": {},
     "output_type": "display_data"
    },
    {
     "data": {
      "text/markdown": [
       "**Actual label:** positive"
      ],
      "text/plain": [
       "<IPython.core.display.Markdown object>"
      ]
     },
     "metadata": {},
     "output_type": "display_data"
    },
    {
     "data": {
      "text/markdown": [
       "**Predicted label:** neutral"
      ],
      "text/plain": [
       "<IPython.core.display.Markdown object>"
      ]
     },
     "metadata": {},
     "output_type": "display_data"
    },
    {
     "data": {
      "text/html": [
       "<div>\n",
       "<style scoped>\n",
       "    .dataframe tbody tr th:only-of-type {\n",
       "        vertical-align: middle;\n",
       "    }\n",
       "\n",
       "    .dataframe tbody tr th {\n",
       "        vertical-align: top;\n",
       "    }\n",
       "\n",
       "    .dataframe thead th {\n",
       "        text-align: right;\n",
       "    }\n",
       "</style>\n",
       "<table border=\"1\" class=\"dataframe\">\n",
       "  <thead>\n",
       "    <tr style=\"text-align: right;\">\n",
       "      <th></th>\n",
       "      <th>probability</th>\n",
       "    </tr>\n",
       "  </thead>\n",
       "  <tbody>\n",
       "    <tr>\n",
       "      <th>The sentiment of this statement is ambiguous.</th>\n",
       "      <td>0.2</td>\n",
       "    </tr>\n",
       "    <tr>\n",
       "      <th>The sentiment is unclear and requires more context</th>\n",
       "      <td>0.3</td>\n",
       "    </tr>\n",
       "    <tr>\n",
       "      <th>The sentiment of this statement is not positive</th>\n",
       "      <td>0.1</td>\n",
       "    </tr>\n",
       "    <tr>\n",
       "      <th>The sentiment of this statement is positive</th>\n",
       "      <td>0.4</td>\n",
       "    </tr>\n",
       "  </tbody>\n",
       "</table>\n",
       "</div>"
      ],
      "text/plain": [
       "                                                    probability\n",
       "The sentiment of this statement is ambiguous.               0.2\n",
       "The sentiment is unclear and requires more context          0.3\n",
       "The sentiment of this statement is not positive             0.1\n",
       "The sentiment of this statement is positive                 0.4"
      ]
     },
     "metadata": {},
     "output_type": "display_data"
    },
    {
     "data": {
      "text/markdown": [
       "## Sentence\n",
       "After the reporting period , BioTie North American licensing partner Somaxon Pharmaceuticals announced positive results with nalmefene in a pilot Phase 2 clinical trial for smoking cessation ."
      ],
      "text/plain": [
       "<IPython.core.display.Markdown object>"
      ]
     },
     "metadata": {},
     "output_type": "display_data"
    },
    {
     "data": {
      "text/markdown": [
       "**Actual label:** positive"
      ],
      "text/plain": [
       "<IPython.core.display.Markdown object>"
      ]
     },
     "metadata": {},
     "output_type": "display_data"
    },
    {
     "data": {
      "text/markdown": [
       "**Predicted label:** neutral"
      ],
      "text/plain": [
       "<IPython.core.display.Markdown object>"
      ]
     },
     "metadata": {},
     "output_type": "display_data"
    },
    {
     "data": {
      "text/html": [
       "<div>\n",
       "<style scoped>\n",
       "    .dataframe tbody tr th:only-of-type {\n",
       "        vertical-align: middle;\n",
       "    }\n",
       "\n",
       "    .dataframe tbody tr th {\n",
       "        vertical-align: top;\n",
       "    }\n",
       "\n",
       "    .dataframe thead th {\n",
       "        text-align: right;\n",
       "    }\n",
       "</style>\n",
       "<table border=\"1\" class=\"dataframe\">\n",
       "  <thead>\n",
       "    <tr style=\"text-align: right;\">\n",
       "      <th></th>\n",
       "      <th>probability</th>\n",
       "    </tr>\n",
       "  </thead>\n",
       "  <tbody>\n",
       "    <tr>\n",
       "      <th>The sentiment of this statement is ambiguous.</th>\n",
       "      <td>0.6</td>\n",
       "    </tr>\n",
       "    <tr>\n",
       "      <th>The sentiment is unclear and requires more context</th>\n",
       "      <td>0.2</td>\n",
       "    </tr>\n",
       "    <tr>\n",
       "      <th>The sentiment of this statement is not positive</th>\n",
       "      <td>0.0</td>\n",
       "    </tr>\n",
       "    <tr>\n",
       "      <th>The sentiment of this statement is positive</th>\n",
       "      <td>0.2</td>\n",
       "    </tr>\n",
       "  </tbody>\n",
       "</table>\n",
       "</div>"
      ],
      "text/plain": [
       "                                                    probability\n",
       "The sentiment of this statement is ambiguous.               0.6\n",
       "The sentiment is unclear and requires more context          0.2\n",
       "The sentiment of this statement is not positive             0.0\n",
       "The sentiment of this statement is positive                 0.2"
      ]
     },
     "metadata": {},
     "output_type": "display_data"
    },
    {
     "data": {
      "text/markdown": [
       "## Sentence\n",
       "- The Group -¦ s result before taxes was a loss of EUR 0.6 ( +0.6 ) million ."
      ],
      "text/plain": [
       "<IPython.core.display.Markdown object>"
      ]
     },
     "metadata": {},
     "output_type": "display_data"
    },
    {
     "data": {
      "text/markdown": [
       "**Actual label:** neutral"
      ],
      "text/plain": [
       "<IPython.core.display.Markdown object>"
      ]
     },
     "metadata": {},
     "output_type": "display_data"
    },
    {
     "data": {
      "text/markdown": [
       "**Predicted label:** negative"
      ],
      "text/plain": [
       "<IPython.core.display.Markdown object>"
      ]
     },
     "metadata": {},
     "output_type": "display_data"
    },
    {
     "data": {
      "text/html": [
       "<div>\n",
       "<style scoped>\n",
       "    .dataframe tbody tr th:only-of-type {\n",
       "        vertical-align: middle;\n",
       "    }\n",
       "\n",
       "    .dataframe tbody tr th {\n",
       "        vertical-align: top;\n",
       "    }\n",
       "\n",
       "    .dataframe thead th {\n",
       "        text-align: right;\n",
       "    }\n",
       "</style>\n",
       "<table border=\"1\" class=\"dataframe\">\n",
       "  <thead>\n",
       "    <tr style=\"text-align: right;\">\n",
       "      <th></th>\n",
       "      <th>probability</th>\n",
       "    </tr>\n",
       "  </thead>\n",
       "  <tbody>\n",
       "    <tr>\n",
       "      <th>The sentiment of this statement is ambiguous.</th>\n",
       "      <td>0.70</td>\n",
       "    </tr>\n",
       "    <tr>\n",
       "      <th>The sentiment is unclear and requires more context</th>\n",
       "      <td>0.20</td>\n",
       "    </tr>\n",
       "    <tr>\n",
       "      <th>The sentiment of this statement is not neutral</th>\n",
       "      <td>0.05</td>\n",
       "    </tr>\n",
       "    <tr>\n",
       "      <th>The sentiment of this statement is neutral</th>\n",
       "      <td>0.05</td>\n",
       "    </tr>\n",
       "  </tbody>\n",
       "</table>\n",
       "</div>"
      ],
      "text/plain": [
       "                                                    probability\n",
       "The sentiment of this statement is ambiguous.              0.70\n",
       "The sentiment is unclear and requires more context         0.20\n",
       "The sentiment of this statement is not neutral             0.05\n",
       "The sentiment of this statement is neutral                 0.05"
      ]
     },
     "metadata": {},
     "output_type": "display_data"
    },
    {
     "data": {
      "text/markdown": [
       "## Sentence\n",
       "( ADPnews ) - May 4 , 2010 - Finnish cutlery and hand tools maker Fiskars Oyj Abp ( HEL : FISAS ) said today its net profit declined to EUR 12.9 million ( USD 17m ) in the first quarter of 2010 from EUR 17 million in the correspond"
      ],
      "text/plain": [
       "<IPython.core.display.Markdown object>"
      ]
     },
     "metadata": {},
     "output_type": "display_data"
    },
    {
     "data": {
      "text/markdown": [
       "**Actual label:** negative"
      ],
      "text/plain": [
       "<IPython.core.display.Markdown object>"
      ]
     },
     "metadata": {},
     "output_type": "display_data"
    },
    {
     "data": {
      "text/markdown": [
       "**Predicted label:** positive"
      ],
      "text/plain": [
       "<IPython.core.display.Markdown object>"
      ]
     },
     "metadata": {},
     "output_type": "display_data"
    },
    {
     "data": {
      "text/html": [
       "<div>\n",
       "<style scoped>\n",
       "    .dataframe tbody tr th:only-of-type {\n",
       "        vertical-align: middle;\n",
       "    }\n",
       "\n",
       "    .dataframe tbody tr th {\n",
       "        vertical-align: top;\n",
       "    }\n",
       "\n",
       "    .dataframe thead th {\n",
       "        text-align: right;\n",
       "    }\n",
       "</style>\n",
       "<table border=\"1\" class=\"dataframe\">\n",
       "  <thead>\n",
       "    <tr style=\"text-align: right;\">\n",
       "      <th></th>\n",
       "      <th>probability</th>\n",
       "    </tr>\n",
       "  </thead>\n",
       "  <tbody>\n",
       "    <tr>\n",
       "      <th>The sentiment of this statement is ambiguous.</th>\n",
       "      <td>0.6</td>\n",
       "    </tr>\n",
       "    <tr>\n",
       "      <th>The sentiment is unclear and requires more context</th>\n",
       "      <td>0.2</td>\n",
       "    </tr>\n",
       "    <tr>\n",
       "      <th>The sentiment of this statement is not negative</th>\n",
       "      <td>0.1</td>\n",
       "    </tr>\n",
       "    <tr>\n",
       "      <th>The sentiment of this statement is negative</th>\n",
       "      <td>0.1</td>\n",
       "    </tr>\n",
       "  </tbody>\n",
       "</table>\n",
       "</div>"
      ],
      "text/plain": [
       "                                                    probability\n",
       "The sentiment of this statement is ambiguous.               0.6\n",
       "The sentiment is unclear and requires more context          0.2\n",
       "The sentiment of this statement is not negative             0.1\n",
       "The sentiment of this statement is negative                 0.1"
      ]
     },
     "metadata": {},
     "output_type": "display_data"
    },
    {
     "data": {
      "text/markdown": [
       "## Sentence\n",
       "The brokerage said 2006 has seen a ` true turning point ' in European steel base prices , with better pricing seen carrying through the second quarter of 2006 ."
      ],
      "text/plain": [
       "<IPython.core.display.Markdown object>"
      ]
     },
     "metadata": {},
     "output_type": "display_data"
    },
    {
     "data": {
      "text/markdown": [
       "**Actual label:** positive"
      ],
      "text/plain": [
       "<IPython.core.display.Markdown object>"
      ]
     },
     "metadata": {},
     "output_type": "display_data"
    },
    {
     "data": {
      "text/markdown": [
       "**Predicted label:** neutral"
      ],
      "text/plain": [
       "<IPython.core.display.Markdown object>"
      ]
     },
     "metadata": {},
     "output_type": "display_data"
    },
    {
     "data": {
      "text/html": [
       "<div>\n",
       "<style scoped>\n",
       "    .dataframe tbody tr th:only-of-type {\n",
       "        vertical-align: middle;\n",
       "    }\n",
       "\n",
       "    .dataframe tbody tr th {\n",
       "        vertical-align: top;\n",
       "    }\n",
       "\n",
       "    .dataframe thead th {\n",
       "        text-align: right;\n",
       "    }\n",
       "</style>\n",
       "<table border=\"1\" class=\"dataframe\">\n",
       "  <thead>\n",
       "    <tr style=\"text-align: right;\">\n",
       "      <th></th>\n",
       "      <th>probability</th>\n",
       "    </tr>\n",
       "  </thead>\n",
       "  <tbody>\n",
       "    <tr>\n",
       "      <th>The sentiment of this statement is ambiguous.</th>\n",
       "      <td>0.4</td>\n",
       "    </tr>\n",
       "    <tr>\n",
       "      <th>The sentiment is unclear and requires more context</th>\n",
       "      <td>0.3</td>\n",
       "    </tr>\n",
       "    <tr>\n",
       "      <th>The sentiment of this statement is not positive</th>\n",
       "      <td>0.1</td>\n",
       "    </tr>\n",
       "    <tr>\n",
       "      <th>The sentiment of this statement is positive</th>\n",
       "      <td>0.2</td>\n",
       "    </tr>\n",
       "  </tbody>\n",
       "</table>\n",
       "</div>"
      ],
      "text/plain": [
       "                                                    probability\n",
       "The sentiment of this statement is ambiguous.               0.4\n",
       "The sentiment is unclear and requires more context          0.3\n",
       "The sentiment of this statement is not positive             0.1\n",
       "The sentiment of this statement is positive                 0.2"
      ]
     },
     "metadata": {},
     "output_type": "display_data"
    },
    {
     "data": {
      "text/markdown": [
       "## Sentence\n",
       "Other carriers and handset makers spin it as a positive event that will raise interest for higher-end phones and pricier data plans ."
      ],
      "text/plain": [
       "<IPython.core.display.Markdown object>"
      ]
     },
     "metadata": {},
     "output_type": "display_data"
    },
    {
     "data": {
      "text/markdown": [
       "**Actual label:** positive"
      ],
      "text/plain": [
       "<IPython.core.display.Markdown object>"
      ]
     },
     "metadata": {},
     "output_type": "display_data"
    },
    {
     "data": {
      "text/markdown": [
       "**Predicted label:** neutral"
      ],
      "text/plain": [
       "<IPython.core.display.Markdown object>"
      ]
     },
     "metadata": {},
     "output_type": "display_data"
    },
    {
     "data": {
      "text/html": [
       "<div>\n",
       "<style scoped>\n",
       "    .dataframe tbody tr th:only-of-type {\n",
       "        vertical-align: middle;\n",
       "    }\n",
       "\n",
       "    .dataframe tbody tr th {\n",
       "        vertical-align: top;\n",
       "    }\n",
       "\n",
       "    .dataframe thead th {\n",
       "        text-align: right;\n",
       "    }\n",
       "</style>\n",
       "<table border=\"1\" class=\"dataframe\">\n",
       "  <thead>\n",
       "    <tr style=\"text-align: right;\">\n",
       "      <th></th>\n",
       "      <th>probability</th>\n",
       "    </tr>\n",
       "  </thead>\n",
       "  <tbody>\n",
       "    <tr>\n",
       "      <th>The sentiment of this statement is ambiguous.</th>\n",
       "      <td>0.2</td>\n",
       "    </tr>\n",
       "    <tr>\n",
       "      <th>The sentiment is unclear and requires more context</th>\n",
       "      <td>0.3</td>\n",
       "    </tr>\n",
       "    <tr>\n",
       "      <th>The sentiment of this statement is not positive</th>\n",
       "      <td>0.1</td>\n",
       "    </tr>\n",
       "    <tr>\n",
       "      <th>The sentiment of this statement is positive</th>\n",
       "      <td>0.4</td>\n",
       "    </tr>\n",
       "  </tbody>\n",
       "</table>\n",
       "</div>"
      ],
      "text/plain": [
       "                                                    probability\n",
       "The sentiment of this statement is ambiguous.               0.2\n",
       "The sentiment is unclear and requires more context          0.3\n",
       "The sentiment of this statement is not positive             0.1\n",
       "The sentiment of this statement is positive                 0.4"
      ]
     },
     "metadata": {},
     "output_type": "display_data"
    },
    {
     "data": {
      "text/markdown": [
       "## Sentence\n",
       "One of the challenges in the oil production in the North Sea is scale formation that can plug pipelines and halt production ."
      ],
      "text/plain": [
       "<IPython.core.display.Markdown object>"
      ]
     },
     "metadata": {},
     "output_type": "display_data"
    },
    {
     "data": {
      "text/markdown": [
       "**Actual label:** negative"
      ],
      "text/plain": [
       "<IPython.core.display.Markdown object>"
      ]
     },
     "metadata": {},
     "output_type": "display_data"
    },
    {
     "data": {
      "text/markdown": [
       "**Predicted label:** neutral"
      ],
      "text/plain": [
       "<IPython.core.display.Markdown object>"
      ]
     },
     "metadata": {},
     "output_type": "display_data"
    },
    {
     "data": {
      "text/html": [
       "<div>\n",
       "<style scoped>\n",
       "    .dataframe tbody tr th:only-of-type {\n",
       "        vertical-align: middle;\n",
       "    }\n",
       "\n",
       "    .dataframe tbody tr th {\n",
       "        vertical-align: top;\n",
       "    }\n",
       "\n",
       "    .dataframe thead th {\n",
       "        text-align: right;\n",
       "    }\n",
       "</style>\n",
       "<table border=\"1\" class=\"dataframe\">\n",
       "  <thead>\n",
       "    <tr style=\"text-align: right;\">\n",
       "      <th></th>\n",
       "      <th>probability</th>\n",
       "    </tr>\n",
       "  </thead>\n",
       "  <tbody>\n",
       "    <tr>\n",
       "      <th>The sentiment of this statement is ambiguous.</th>\n",
       "      <td>0.60</td>\n",
       "    </tr>\n",
       "    <tr>\n",
       "      <th>The sentiment is unclear and requires more context</th>\n",
       "      <td>0.30</td>\n",
       "    </tr>\n",
       "    <tr>\n",
       "      <th>The sentiment of this statement is not negative</th>\n",
       "      <td>0.05</td>\n",
       "    </tr>\n",
       "    <tr>\n",
       "      <th>The sentiment of this statement is negative</th>\n",
       "      <td>0.05</td>\n",
       "    </tr>\n",
       "  </tbody>\n",
       "</table>\n",
       "</div>"
      ],
      "text/plain": [
       "                                                    probability\n",
       "The sentiment of this statement is ambiguous.              0.60\n",
       "The sentiment is unclear and requires more context         0.30\n",
       "The sentiment of this statement is not negative            0.05\n",
       "The sentiment of this statement is negative                0.05"
      ]
     },
     "metadata": {},
     "output_type": "display_data"
    },
    {
     "data": {
      "text/markdown": [
       "## Sentence\n",
       "F-Secure reported that : - The first half of 2008 has seen a growing number of targeted malware attacks on individuals , companies , and organizations ."
      ],
      "text/plain": [
       "<IPython.core.display.Markdown object>"
      ]
     },
     "metadata": {},
     "output_type": "display_data"
    },
    {
     "data": {
      "text/markdown": [
       "**Actual label:** neutral"
      ],
      "text/plain": [
       "<IPython.core.display.Markdown object>"
      ]
     },
     "metadata": {},
     "output_type": "display_data"
    },
    {
     "data": {
      "text/markdown": [
       "**Predicted label:** negative"
      ],
      "text/plain": [
       "<IPython.core.display.Markdown object>"
      ]
     },
     "metadata": {},
     "output_type": "display_data"
    },
    {
     "data": {
      "text/html": [
       "<div>\n",
       "<style scoped>\n",
       "    .dataframe tbody tr th:only-of-type {\n",
       "        vertical-align: middle;\n",
       "    }\n",
       "\n",
       "    .dataframe tbody tr th {\n",
       "        vertical-align: top;\n",
       "    }\n",
       "\n",
       "    .dataframe thead th {\n",
       "        text-align: right;\n",
       "    }\n",
       "</style>\n",
       "<table border=\"1\" class=\"dataframe\">\n",
       "  <thead>\n",
       "    <tr style=\"text-align: right;\">\n",
       "      <th></th>\n",
       "      <th>probability</th>\n",
       "    </tr>\n",
       "  </thead>\n",
       "  <tbody>\n",
       "    <tr>\n",
       "      <th>The sentiment of this statement is ambiguous.</th>\n",
       "      <td>0.6</td>\n",
       "    </tr>\n",
       "    <tr>\n",
       "      <th>The sentiment is unclear and requires more context</th>\n",
       "      <td>0.2</td>\n",
       "    </tr>\n",
       "    <tr>\n",
       "      <th>The sentiment of this statement is not neutral</th>\n",
       "      <td>0.1</td>\n",
       "    </tr>\n",
       "    <tr>\n",
       "      <th>The sentiment of this statement is neutral</th>\n",
       "      <td>0.1</td>\n",
       "    </tr>\n",
       "  </tbody>\n",
       "</table>\n",
       "</div>"
      ],
      "text/plain": [
       "                                                    probability\n",
       "The sentiment of this statement is ambiguous.               0.6\n",
       "The sentiment is unclear and requires more context          0.2\n",
       "The sentiment of this statement is not neutral              0.1\n",
       "The sentiment of this statement is neutral                  0.1"
      ]
     },
     "metadata": {},
     "output_type": "display_data"
    }
   ],
   "source": [
    "# Instructions for the conversational model\n",
    "# Note that the instructions ask for JSON formatted output so you can have Python process the results\n",
    "system_prompt_template = (                                                                                      \n",
    "    \"ChatGPT, I would like you to analyze a series of misclassified statements from a financial \"\n",
    "    \"news sentiment classification model and estimate the probabilites of reasons for the misclassification. \"\n",
    "    \"Please review each statement, and based on your understanding, determine whether the misclassification \"\n",
    "    \"likely occurred because:\\n\"\n",
    "    \"    1. There was not enough context to accurately determine the sentiment.\\n\"\n",
    "    \"    2. The statement itself is ambiguous, making it hard to assign a clear sentiment.\\n\"\n",
    "    \"    3. The sentiment label ({label}) provided in the dataset is incorrect.\\n\"\n",
    "    \"    4. The sentiment label ({label}) provided in the dataset is correct and the model is wrong.\\n\"\n",
    "    \"Remember, your task is to analyze the statement and give your best guess for the probability \"\n",
    "    \"of each misclassification reason from the above four numbered options.\\n\"\n",
    "    \"Please respond in JSON format with only the reason numbers and probability estimates. \"\n",
    "    \"Use the numbers (1, 2, 3 and 4) for the reasons.\\n\"\n",
    "    \"IMPORTANT: Don't include any explanations or anything that cannot be parsed as JSON.\"\n",
    ")                                                                                                      \n",
    "\n",
    "chat_results = []\n",
    "for error_detail in error_details:\n",
    "    # Create message with the instructions and the text you want to classify\n",
    "    messages = [\n",
    "        {\n",
    "            \"role\": \"system\",\n",
    "            \"content\": system_prompt_template.format(label=error_detail[\"actual_label\"]),\n",
    "        },\n",
    "        {\n",
    "            \"role\": \"user\",\n",
    "            \"content\": (\n",
    "                f'Statement: \"{error_detail[\"text\"]}\"\\n'\n",
    "                f'Correct Sentiment: {error_detail[\"actual_label\"]}\\n'\n",
    "                f'Predicted Sentiment: {error_detail[\"predicted_label\"]}'\n",
    "            ),\n",
    "        },\n",
    "    ]\n",
    "    \n",
    "    # Send your request to a conversational model (GPT3.5)\n",
    "    completion = openai.ChatCompletion.create(                                                         \n",
    "        model=\"gpt-3.5-turbo\", messages=messages, temperature=0                                        \n",
    "    )\n",
    "    \n",
    "    # Turn ChatGPT response into a DataFrame\n",
    "    result = completion.choices[0].message.content.strip()\n",
    "    result_json = json.loads(result)\n",
    "    \n",
    "    # Get probabilities and make sure order matches error class order\n",
    "    probabilities = pd.Series(result_json.values(), index=result_json.keys()).sort_index()\n",
    "\n",
    "    chat_results.append(\n",
    "        dict(\n",
    "            sentence=error_detail[\"text\"],\n",
    "            actual_label=error_detail[\"actual_label\"],\n",
    "            predicted_label=error_detail[\"predicted_label\"],\n",
    "            **dict(zip(error_class_templates, probabilities)),\n",
    "        )\n",
    "    )\n",
    "\n",
    "# Convert results to DataFrame and set missing probabilities to zero\n",
    "chat_results_df = pd.DataFrame(chat_results).fillna(0)\n",
    "\n",
    "show_error_class_results(chat_results_df)"
   ]
  },
  {
   "cell_type": "markdown",
   "id": "a0d7cc09",
   "metadata": {},
   "source": [
    "## Compare results from error analysis methods\n",
    "\n",
    "### Create a table of results for the three methods\n",
    "\n",
    "This following cell synthesizes the results of the three zero-shot learning methods – embedding-based, NLI-based, and chat-based – to analyze misclassified examples from the supervised model. It assigns simplified labels to the most probable error class for each method, resulting in a clear and concise summary. This information is then used to create a comparison table, presenting a side-by-side view of each sentence and the respective error analyses from each zero-shot method. The table provides an intuitive way to understand and compare the insights gained from different techniques."
   ]
  },
  {
   "cell_type": "code",
   "execution_count": 22,
   "id": "8bbed395",
   "metadata": {},
   "outputs": [
    {
     "data": {
      "text/html": [
       "<table><tr><th>Sentence</th><th>Embedding</th><th>NLI</th><th>Chat</th></tr><tr><td>The sales of the Tiimari segment fell by 4.0 % year-on-year to EUR3 .3 m in June 2010 .</td><td>Model Misclassification</td><td>Model Misclassification</td><td>Ambiguous</td></tr><tr><td>At 1411 CET , ArcelorMittal had lost 7.26 % to EUR 17.38 on Euronext Paris , coming at the lead of the blue-chip fallers .</td><td>Model Misclassification</td><td>Model Misclassification</td><td>Ambiguous</td></tr><tr><td>The liquidity providing was interrupted on May 11 , 2007 when Aspocomp Group Oyj 's shares traded below 0.50 cent ( Aspocomp 's stock exchange release 11.5.2007 ) .</td><td>No Context</td><td>No Context</td><td>Ambiguous</td></tr><tr><td>At 10.58 am , Outokumpu declined 2.74 pct to 24.87 eur , while the OMX Helsinki 25 was 0.55 pct higher at 2,825.14 and the OMX Helsinki added 0.64 pct to 9,386.89 .</td><td>No Context</td><td>Mislabeled</td><td>Ambiguous</td></tr><tr><td>A new production line is being completed for the contract production of hormone treatments .</td><td>Model Misclassification</td><td>No Context</td><td>Ambiguous</td></tr><tr><td>The company intends to raise production capacity in 2006 .</td><td>Model Misclassification</td><td>Model Misclassification</td><td>Ambiguous</td></tr><tr><td>A & euro ; 4.8 million investment in 13.6 % of Lewa netted Deutsche Beteiligungs & euro ; 21 million .</td><td>Model Misclassification</td><td>Mislabeled</td><td>Ambiguous</td></tr><tr><td>`` Several growth initiatives in the chosen geographic areas are already ongoing , '' it continued , noting Lindex opened its first store in the Czech Republic this autumn in Brno .</td><td>Model Misclassification</td><td>No Context</td><td>Ambiguous</td></tr><tr><td>We offer our clients integrated management consulting , total solutions for complex projects and efficient , best-in-class design and supervision .</td><td>Ambiguous</td><td>Mislabeled</td><td>Model Misclassification</td></tr><tr><td>Finnish automation solutions developer Cencorp Corporation ( OMX Helsinki : CNC1V ) said on Friday ( 27 June ) that it has completed employee negotiations regarding a reorganisation of its operations .</td><td>Model Misclassification</td><td>No Context</td><td>Ambiguous</td></tr><tr><td>Employing 112 in Finland and 280 abroad , the unit recorded first-quarter 2007 sales of 8.6 mln eur , with an operating loss of 1.6 mln eur .</td><td>Model Misclassification</td><td>No Context</td><td>Ambiguous</td></tr><tr><td>Kesko pursues a strategy of healthy , focused growth concentrating on sales and services to consumer-customers .</td><td>Model Misclassification</td><td>Model Misclassification</td><td>No Context</td></tr><tr><td>The new technology improves the glass quality and consistency while increasing throughput .</td><td>Model Misclassification</td><td>Model Misclassification</td><td>Model Misclassification</td></tr><tr><td>After the reporting period , BioTie North American licensing partner Somaxon Pharmaceuticals announced positive results with nalmefene in a pilot Phase 2 clinical trial for smoking cessation .</td><td>Model Misclassification</td><td>Model Misclassification</td><td>Ambiguous</td></tr><tr><td>- The Group -¦ s result before taxes was a loss of EUR 0.6 ( +0.6 ) million .</td><td>Model Misclassification</td><td>Mislabeled</td><td>Ambiguous</td></tr><tr><td>( ADPnews ) - May 4 , 2010 - Finnish cutlery and hand tools maker Fiskars Oyj Abp ( HEL : FISAS ) said today its net profit declined to EUR 12.9 million ( USD 17m ) in the first quarter of 2010 from EUR 17 million in the correspond</td><td>Model Misclassification</td><td>No Context</td><td>Ambiguous</td></tr><tr><td>The brokerage said 2006 has seen a ` true turning point ' in European steel base prices , with better pricing seen carrying through the second quarter of 2006 .</td><td>Model Misclassification</td><td>Model Misclassification</td><td>Ambiguous</td></tr><tr><td>Other carriers and handset makers spin it as a positive event that will raise interest for higher-end phones and pricier data plans .</td><td>Model Misclassification</td><td>Model Misclassification</td><td>Model Misclassification</td></tr><tr><td>One of the challenges in the oil production in the North Sea is scale formation that can plug pipelines and halt production .</td><td>Model Misclassification</td><td>No Context</td><td>Ambiguous</td></tr><tr><td>F-Secure reported that : - The first half of 2008 has seen a growing number of targeted malware attacks on individuals , companies , and organizations .</td><td>Ambiguous</td><td>Mislabeled</td><td>Ambiguous</td></tr></table>"
      ],
      "text/plain": [
       "<IPython.core.display.HTML object>"
      ]
     },
     "metadata": {},
     "output_type": "display_data"
    }
   ],
   "source": [
    "# Short names to use as column headers\n",
    "short_error_classes = [\"Ambiguous\", \"No Context\", \"Mislabeled\", \"Model Misclassification\"]\n",
    "\n",
    "# For each method, get the highest probability and assign a short label\n",
    "embedding_results_short = [\n",
    "    short_error_classes[error_class]\n",
    "    for error_class in np.argmax(embedding_results_df[error_class_templates].values, axis=1)\n",
    "]\n",
    "nli_results_short = [\n",
    "    short_error_classes[error_class]\n",
    "    for error_class in np.argmax(nli_results_df[error_class_templates].values, axis=1)\n",
    "]\n",
    "chat_results_short = [\n",
    "    short_error_classes[error_class]\n",
    "    for error_class in np.argmax(chat_results_df[error_class_templates].values, axis=1)\n",
    "]\n",
    "\n",
    "# Show summary of results in a table\n",
    "html = \"<table><tr><th>Sentence</th><th>Embedding</th><th>NLI</th><th>Chat</th></tr>\"\n",
    "for sentence, embedding_error_class, nli_error_class, chat_error_class in zip(\n",
    "    embedding_results_df[\"sentence\"],\n",
    "    embedding_results_short,\n",
    "    nli_results_short,\n",
    "    chat_results_short,\n",
    "):\n",
    "    html += (\n",
    "        f\"<tr><td>{sentence}</td><td>{embedding_error_class}</td><td>{nli_error_class}</td>\"\n",
    "        f\"<td>{chat_error_class}</td></tr>\"\n",
    "    )\n",
    "display(HTML(html+\"</table>\"))"
   ]
  },
  {
   "cell_type": "markdown",
   "id": "d0d59dcb",
   "metadata": {},
   "source": [
    "### Compare Zero-Shot Techniques\n",
    "\n",
    "The table presents a comparative analysis of the outcomes from three different methods of zero-shot classification— Embeddings-based, Natural Language Inference (NLI), and Conversational model prompting (Chat)—applied on a set of sentences. The goal is to identify the primary cause of misclassification for each sentence as determined by the prior trained model. The potential error classes include \"Ambiguous\", \"No Context\", \"Mislabeled\", and \"Model Misclassification\".\n",
    "\n",
    "One key observation from the results is the variability in error classification among the three methods. Each method often interprets and analyzes the same sentence differently, leading to diverse classifications of the source of the error. This indicates that the choice of method can significantly influence the outcomes and subsequent interpretation of error analysis.\n",
    "\n",
    "However, there are instances where all three methods agree on the error classification for a sentence. These instances can provide robust evidence for a particular type of misclassification, suggesting that these might be areas where the original supervised model struggled most.\n",
    "\n",
    "Conversely, sentences that elicit widely varied error classifications across the three methods might indicate particularly challenging instances for automatic text classification. These cases could provide valuable insights into potential areas for improvement in model training or data annotation."
   ]
  },
  {
   "cell_type": "markdown",
   "id": "e8bdcf1e",
   "metadata": {},
   "source": [
    "## Conclusion\n",
    "\n",
    "This notebook demonstrates the use of zero-shot text classification for error analysis in a supervised learning model. After training the model and identifying its errors, you employed various zero-shot techniques, such as embeddings-based, NLI-based, and conversational AI models, to analyze these misclassifications.\n",
    "\n",
    "Through this approach, you gained valuable insights into the reasons behind the model's mistakes, helping to understand its limitations and potential areas of improvement. This showcases how zero-shot classification can enrich the error analysis process, ultimately leading to more robust and accurate models."
   ]
  }
 ],
 "metadata": {
  "kernelspec": {
   "display_name": "Python 3",
   "language": "python",
   "name": "python3"
  },
  "language_info": {
   "codemirror_mode": {
    "name": "ipython",
    "version": 3
   },
   "file_extension": ".py",
   "mimetype": "text/x-python",
   "name": "python",
   "nbconvert_exporter": "python",
   "pygments_lexer": "ipython3",
   "version": "3.8.8"
  }
 },
 "nbformat": 4,
 "nbformat_minor": 5
}
