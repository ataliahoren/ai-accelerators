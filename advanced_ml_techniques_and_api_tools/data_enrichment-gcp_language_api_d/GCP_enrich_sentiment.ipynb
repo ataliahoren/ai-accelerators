{
  "cells": [
    {
      "cell_type": "code",
      "execution_count": null,
      "metadata": {},
      "outputs": [],
      "source": []
    },
    {
      "cell_type": "markdown",
      "metadata": {
        "id": "cnvzR8TQWWl7"
      },
      "source": [
        "# GCP API based enrichment of modeling datasets\n",
        "\n",
        "Authors: Asli Sabanci Demiroz, Shu Li\n",
        "\n",
        "Version Date: 2023-03-20\n",
        "\n",
        "<div>\n",
        "<img src=\"https://storage.googleapis.com/public-artifacts-datarobot/e2e_logos/DR%20and%20GCP%20Better%20Together.svg\" width=200>\n",
        "</div>\n",
        "\n",
        "## Summary\n",
        "Text data is a valuable source of information for Machine Learning (ML) models, as it allows algorithms to extract insights from large volumes of unstructured text data. Text data can be obtained from various sources, such as social media, news articles, and customer feedback. The benefits of using text data in ML models include its ability to provide valuable insights, such as sentiment analysis, and topic modeling, which can help organizations make informed decisions. However, using text data in ML models can be challenging due to several factors, such as the complexity of natural language, the presence of bias and noise, and the lack of standardization in text data. Additionally, text data requires significant preprocessing and feature engineering to ensure that it can be effectively used in ML models.\n",
        "\n",
        "## Demo use case\n",
        "One common application of text mining is sentiment analysis, where a numerical value is assigned representing whether the text carries a positive, neutral, or negative sentiment. While DataRobot can help efficiently build such models, the training requires large corpuses that have been accurately labeled, making it a challenging task for users lacking such training dataset. \n",
        "\n",
        "In this notebook, we demo the usage of the [Google Cloud Natural Language API for sentiment analysis](https://cloud.google.com/natural-language/docs/analyzing-sentiment) to enrich a customer churn dataset. The sentiment scores from the Google API helps improve the model performance in predicting the likelihood of churn for each customer, without requiring the user to train their own sentiment models.\n",
        "\n",
        "\n"
      ]
    },
    {
      "cell_type": "code",
      "execution_count": null,
      "metadata": {
        "id": "x29ZQ56gWCgm"
      },
      "outputs": [],
      "source": [
        "!pip install google-cloud-language \n",
        "!pip install google-cloud-aiplatform\n",
        "!pip install datarobot"
      ]
    },
    {
      "cell_type": "markdown",
      "metadata": {
        "id": "Gx3q3mogWVtk"
      },
      "source": [
        "## Environment variables\n",
        "\n",
        "### Google credentials\n",
        "The `GOOGLE_APPLICATION_CREDENTIALS` environment variable can be utilized to authenticate for access to the Google Cloud APIs among [other approaches](https://cloud.google.com/docs/authentication/application-default-credentials).\n",
        "\n",
        "### DR credentials\n",
        "\n",
        "In a local environment, a `drconfig.yaml` file stored under `~/.config/datarobot/` can be used to authenticate for access to the DataRobot client among [other approaches](https://docs.datarobot.com/en/docs/api/api-quickstart/index.html)"
      ]
    },
    {
      "cell_type": "code",
      "execution_count": null,
      "metadata": {
        "colab": {
          "base_uri": "https://localhost:8080/"
        },
        "id": "R9m1It8xWeRg",
        "outputId": "908a8973-07cf-4b55-f9e7-9bcdb062b391"
      },
      "outputs": [
        {
          "name": "stdout",
          "output_type": "stream",
          "text": [
            "Mounted at /content/drive\n"
          ]
        }
      ],
      "source": [
        "import os\n",
        "import yaml\n",
        "from google.colab import drive\n",
        "drive.mount('/content/drive')\n",
        "os.environ[\"GOOGLE_APPLICATION_CREDENTIALS\"] = \"/content/drive/MyDrive/creds/mlops-testing-a1b6500353ac.json\"\n",
        "with open('/content/drive/MyDrive/creds/drconfig.yaml', 'r') as f:\n",
        "  data = yaml.safe_load(f)\n",
        "DATAROBOT_ENDPOINT = data['endpoint']\n",
        "DATAROBOT_API_KEY = data['token']"
      ]
    },
    {
      "cell_type": "markdown",
      "metadata": {
        "id": "TEhJsGDvZ46O"
      },
      "source": [
        "## Setup\n",
        "\n",
        "### Important libraries"
      ]
    },
    {
      "cell_type": "code",
      "execution_count": null,
      "metadata": {
        "id": "nGOOqko2WjqA"
      },
      "outputs": [],
      "source": [
        "import numpy as np\n",
        "import pandas as pd\n",
        "import datarobot as dr\n",
        "from google.cloud import language_v1"
      ]
    },
    {
      "cell_type": "code",
      "execution_count": null,
      "metadata": {
        "id": "bfRku8lVW1P6"
      },
      "outputs": [],
      "source": [
        "raw_fpath = \"/content/drive/MyDrive/experiments/nlp/input\"\n",
        "raw_fname = \"churn_dataset.csv\"\n",
        "enriched_fpath = \"/content/drive/MyDrive/experiments/nlp/output\"\n",
        "enriched_fname = \"churn_dataset_enriched.csv\""
      ]
    },
    {
      "cell_type": "markdown",
      "metadata": {
        "id": "fh1Xp5TDaCbK"
      },
      "source": [
        "## Customer churn dataset\n",
        "Besides customer profile data such as tenure, state, current plans, and usage, the `chat_log` column includes the text data of the call transcript between customers and service agents, which we will enrich with a numerical sentiment score."
      ]
    },
    {
      "cell_type": "code",
      "execution_count": null,
      "metadata": {
        "colab": {
          "base_uri": "https://localhost:8080/"
        },
        "id": "iiPoP0ULZZ-U",
        "outputId": "71cd02e8-4531-4752-a036-60d5598f84db"
      },
      "outputs": [
        {
          "data": {
            "text/plain": [
              "(3333, 21)"
            ]
          },
          "execution_count": 5,
          "metadata": {},
          "output_type": "execute_result"
        }
      ],
      "source": [
        "df = pd.read_csv(f\"{raw_fpath}/{raw_fname}\")\n",
        "df.shape"
      ]
    },
    {
      "cell_type": "code",
      "execution_count": null,
      "metadata": {
        "colab": {
          "base_uri": "https://localhost:8080/",
          "height": 456
        },
        "id": "HnvG9qMQZauZ",
        "outputId": "ecf3d34f-ab9a-4ff1-8709-0f3dbc88ef69"
      },
      "outputs": [
        {
          "data": {
            "text/html": [
              "\n",
              "  <div id=\"df-db282a0f-9e47-4e43-96b3-79fe2cdf61be\">\n",
              "    <div class=\"colab-df-container\">\n",
              "      <div>\n",
              "<style scoped>\n",
              "    .dataframe tbody tr th:only-of-type {\n",
              "        vertical-align: middle;\n",
              "    }\n",
              "\n",
              "    .dataframe tbody tr th {\n",
              "        vertical-align: top;\n",
              "    }\n",
              "\n",
              "    .dataframe thead th {\n",
              "        text-align: right;\n",
              "    }\n",
              "</style>\n",
              "<table border=\"1\" class=\"dataframe\">\n",
              "  <thead>\n",
              "    <tr style=\"text-align: right;\">\n",
              "      <th></th>\n",
              "      <th>churn</th>\n",
              "      <th>chat_log</th>\n",
              "      <th>state</th>\n",
              "      <th>account_length</th>\n",
              "      <th>area_code</th>\n",
              "      <th>international_plan</th>\n",
              "      <th>voice_mail_plan</th>\n",
              "      <th>number_vmail_messages</th>\n",
              "      <th>total_day_minutes</th>\n",
              "      <th>total_day_calls</th>\n",
              "      <th>...</th>\n",
              "      <th>total_eve_minutes</th>\n",
              "      <th>total_eve_calls</th>\n",
              "      <th>total_eve_charge</th>\n",
              "      <th>total_night_minutes</th>\n",
              "      <th>total_night_calls</th>\n",
              "      <th>total_night_charge</th>\n",
              "      <th>total_intl_minutes</th>\n",
              "      <th>total_intl_calls</th>\n",
              "      <th>total_intl_charge</th>\n",
              "      <th>number_customer_service_calls</th>\n",
              "    </tr>\n",
              "  </thead>\n",
              "  <tbody>\n",
              "    <tr>\n",
              "      <th>0</th>\n",
              "      <td>no</td>\n",
              "      <td>NaN</td>\n",
              "      <td>DC</td>\n",
              "      <td>73</td>\n",
              "      <td>area_code_408</td>\n",
              "      <td>no</td>\n",
              "      <td>no</td>\n",
              "      <td>0</td>\n",
              "      <td>122.0</td>\n",
              "      <td>92</td>\n",
              "      <td>...</td>\n",
              "      <td>138.3</td>\n",
              "      <td>114</td>\n",
              "      <td>11.76</td>\n",
              "      <td>224.2</td>\n",
              "      <td>128</td>\n",
              "      <td>10.09</td>\n",
              "      <td>5.8</td>\n",
              "      <td>5</td>\n",
              "      <td>1.57</td>\n",
              "      <td>1</td>\n",
              "    </tr>\n",
              "    <tr>\n",
              "      <th>1</th>\n",
              "      <td>no</td>\n",
              "      <td>NaN</td>\n",
              "      <td>OH</td>\n",
              "      <td>114</td>\n",
              "      <td>area_code_415</td>\n",
              "      <td>no</td>\n",
              "      <td>no</td>\n",
              "      <td>0</td>\n",
              "      <td>191.5</td>\n",
              "      <td>88</td>\n",
              "      <td>...</td>\n",
              "      <td>175.2</td>\n",
              "      <td>78</td>\n",
              "      <td>14.89</td>\n",
              "      <td>220.3</td>\n",
              "      <td>118</td>\n",
              "      <td>9.91</td>\n",
              "      <td>0.0</td>\n",
              "      <td>0</td>\n",
              "      <td>0.00</td>\n",
              "      <td>0</td>\n",
              "    </tr>\n",
              "    <tr>\n",
              "      <th>2</th>\n",
              "      <td>yes</td>\n",
              "      <td>Customer: I just received an early termination...</td>\n",
              "      <td>MS</td>\n",
              "      <td>65</td>\n",
              "      <td>area_code_415</td>\n",
              "      <td>yes</td>\n",
              "      <td>no</td>\n",
              "      <td>0</td>\n",
              "      <td>277.9</td>\n",
              "      <td>123</td>\n",
              "      <td>...</td>\n",
              "      <td>155.8</td>\n",
              "      <td>112</td>\n",
              "      <td>13.24</td>\n",
              "      <td>256.9</td>\n",
              "      <td>71</td>\n",
              "      <td>11.56</td>\n",
              "      <td>9.2</td>\n",
              "      <td>10</td>\n",
              "      <td>2.48</td>\n",
              "      <td>0</td>\n",
              "    </tr>\n",
              "    <tr>\n",
              "      <th>3</th>\n",
              "      <td>no</td>\n",
              "      <td>Customer: I would like to upgrade my contract ...</td>\n",
              "      <td>WY</td>\n",
              "      <td>126</td>\n",
              "      <td>area_code_408</td>\n",
              "      <td>yes</td>\n",
              "      <td>no</td>\n",
              "      <td>0</td>\n",
              "      <td>197.6</td>\n",
              "      <td>126</td>\n",
              "      <td>...</td>\n",
              "      <td>246.5</td>\n",
              "      <td>112</td>\n",
              "      <td>20.95</td>\n",
              "      <td>285.3</td>\n",
              "      <td>104</td>\n",
              "      <td>12.84</td>\n",
              "      <td>12.5</td>\n",
              "      <td>8</td>\n",
              "      <td>3.38</td>\n",
              "      <td>2</td>\n",
              "    </tr>\n",
              "    <tr>\n",
              "      <th>4</th>\n",
              "      <td>no</td>\n",
              "      <td>Customer: Voice, text and data.\\nTelCom Agent:...</td>\n",
              "      <td>WY</td>\n",
              "      <td>54</td>\n",
              "      <td>area_code_408</td>\n",
              "      <td>no</td>\n",
              "      <td>yes</td>\n",
              "      <td>39</td>\n",
              "      <td>143.9</td>\n",
              "      <td>73</td>\n",
              "      <td>...</td>\n",
              "      <td>210.3</td>\n",
              "      <td>117</td>\n",
              "      <td>17.88</td>\n",
              "      <td>129.2</td>\n",
              "      <td>117</td>\n",
              "      <td>5.81</td>\n",
              "      <td>12.5</td>\n",
              "      <td>8</td>\n",
              "      <td>3.38</td>\n",
              "      <td>2</td>\n",
              "    </tr>\n",
              "  </tbody>\n",
              "</table>\n",
              "<p>5 rows × 21 columns</p>\n",
              "</div>\n",
              "      <button class=\"colab-df-convert\" onclick=\"convertToInteractive('df-db282a0f-9e47-4e43-96b3-79fe2cdf61be')\"\n",
              "              title=\"Convert this dataframe to an interactive table.\"\n",
              "              style=\"display:none;\">\n",
              "        \n",
              "  <svg xmlns=\"http://www.w3.org/2000/svg\" height=\"24px\"viewBox=\"0 0 24 24\"\n",
              "       width=\"24px\">\n",
              "    <path d=\"M0 0h24v24H0V0z\" fill=\"none\"/>\n",
              "    <path d=\"M18.56 5.44l.94 2.06.94-2.06 2.06-.94-2.06-.94-.94-2.06-.94 2.06-2.06.94zm-11 1L8.5 8.5l.94-2.06 2.06-.94-2.06-.94L8.5 2.5l-.94 2.06-2.06.94zm10 10l.94 2.06.94-2.06 2.06-.94-2.06-.94-.94-2.06-.94 2.06-2.06.94z\"/><path d=\"M17.41 7.96l-1.37-1.37c-.4-.4-.92-.59-1.43-.59-.52 0-1.04.2-1.43.59L10.3 9.45l-7.72 7.72c-.78.78-.78 2.05 0 2.83L4 21.41c.39.39.9.59 1.41.59.51 0 1.02-.2 1.41-.59l7.78-7.78 2.81-2.81c.8-.78.8-2.07 0-2.86zM5.41 20L4 18.59l7.72-7.72 1.47 1.35L5.41 20z\"/>\n",
              "  </svg>\n",
              "      </button>\n",
              "      \n",
              "  <style>\n",
              "    .colab-df-container {\n",
              "      display:flex;\n",
              "      flex-wrap:wrap;\n",
              "      gap: 12px;\n",
              "    }\n",
              "\n",
              "    .colab-df-convert {\n",
              "      background-color: #E8F0FE;\n",
              "      border: none;\n",
              "      border-radius: 50%;\n",
              "      cursor: pointer;\n",
              "      display: none;\n",
              "      fill: #1967D2;\n",
              "      height: 32px;\n",
              "      padding: 0 0 0 0;\n",
              "      width: 32px;\n",
              "    }\n",
              "\n",
              "    .colab-df-convert:hover {\n",
              "      background-color: #E2EBFA;\n",
              "      box-shadow: 0px 1px 2px rgba(60, 64, 67, 0.3), 0px 1px 3px 1px rgba(60, 64, 67, 0.15);\n",
              "      fill: #174EA6;\n",
              "    }\n",
              "\n",
              "    [theme=dark] .colab-df-convert {\n",
              "      background-color: #3B4455;\n",
              "      fill: #D2E3FC;\n",
              "    }\n",
              "\n",
              "    [theme=dark] .colab-df-convert:hover {\n",
              "      background-color: #434B5C;\n",
              "      box-shadow: 0px 1px 3px 1px rgba(0, 0, 0, 0.15);\n",
              "      filter: drop-shadow(0px 1px 2px rgba(0, 0, 0, 0.3));\n",
              "      fill: #FFFFFF;\n",
              "    }\n",
              "  </style>\n",
              "\n",
              "      <script>\n",
              "        const buttonEl =\n",
              "          document.querySelector('#df-db282a0f-9e47-4e43-96b3-79fe2cdf61be button.colab-df-convert');\n",
              "        buttonEl.style.display =\n",
              "          google.colab.kernel.accessAllowed ? 'block' : 'none';\n",
              "\n",
              "        async function convertToInteractive(key) {\n",
              "          const element = document.querySelector('#df-db282a0f-9e47-4e43-96b3-79fe2cdf61be');\n",
              "          const dataTable =\n",
              "            await google.colab.kernel.invokeFunction('convertToInteractive',\n",
              "                                                     [key], {});\n",
              "          if (!dataTable) return;\n",
              "\n",
              "          const docLinkHtml = 'Like what you see? Visit the ' +\n",
              "            '<a target=\"_blank\" href=https://colab.research.google.com/notebooks/data_table.ipynb>data table notebook</a>'\n",
              "            + ' to learn more about interactive tables.';\n",
              "          element.innerHTML = '';\n",
              "          dataTable['output_type'] = 'display_data';\n",
              "          await google.colab.output.renderOutput(dataTable, element);\n",
              "          const docLink = document.createElement('div');\n",
              "          docLink.innerHTML = docLinkHtml;\n",
              "          element.appendChild(docLink);\n",
              "        }\n",
              "      </script>\n",
              "    </div>\n",
              "  </div>\n",
              "  "
            ],
            "text/plain": [
              "  churn                                           chat_log state  \\\n",
              "0    no                                                NaN    DC   \n",
              "1    no                                                NaN    OH   \n",
              "2   yes  Customer: I just received an early termination...    MS   \n",
              "3    no  Customer: I would like to upgrade my contract ...    WY   \n",
              "4    no  Customer: Voice, text and data.\\nTelCom Agent:...    WY   \n",
              "\n",
              "   account_length      area_code international_plan voice_mail_plan  \\\n",
              "0              73  area_code_408                 no              no   \n",
              "1             114  area_code_415                 no              no   \n",
              "2              65  area_code_415                yes              no   \n",
              "3             126  area_code_408                yes              no   \n",
              "4              54  area_code_408                 no             yes   \n",
              "\n",
              "   number_vmail_messages  total_day_minutes  total_day_calls  ...  \\\n",
              "0                      0              122.0               92  ...   \n",
              "1                      0              191.5               88  ...   \n",
              "2                      0              277.9              123  ...   \n",
              "3                      0              197.6              126  ...   \n",
              "4                     39              143.9               73  ...   \n",
              "\n",
              "   total_eve_minutes  total_eve_calls  total_eve_charge  total_night_minutes  \\\n",
              "0              138.3              114             11.76                224.2   \n",
              "1              175.2               78             14.89                220.3   \n",
              "2              155.8              112             13.24                256.9   \n",
              "3              246.5              112             20.95                285.3   \n",
              "4              210.3              117             17.88                129.2   \n",
              "\n",
              "   total_night_calls  total_night_charge  total_intl_minutes  \\\n",
              "0                128               10.09                 5.8   \n",
              "1                118                9.91                 0.0   \n",
              "2                 71               11.56                 9.2   \n",
              "3                104               12.84                12.5   \n",
              "4                117                5.81                12.5   \n",
              "\n",
              "   total_intl_calls  total_intl_charge  number_customer_service_calls  \n",
              "0                 5               1.57                              1  \n",
              "1                 0               0.00                              0  \n",
              "2                10               2.48                              0  \n",
              "3                 8               3.38                              2  \n",
              "4                 8               3.38                              2  \n",
              "\n",
              "[5 rows x 21 columns]"
            ]
          },
          "execution_count": 6,
          "metadata": {},
          "output_type": "execute_result"
        }
      ],
      "source": [
        "df.head()"
      ]
    },
    {
      "cell_type": "markdown",
      "metadata": {
        "id": "817Jp6NghIxR"
      },
      "source": [
        "## Enrichment of the `chat_log` column using the GCP API for sentiment analysis\n",
        "\n",
        "Helper function `analyze_sentiment()` scores each row, which is then processed by `extract_sentiment()` to extract the min and max scores among other metrics that may be of interest for experimentation."
      ]
    },
    {
      "cell_type": "code",
      "execution_count": null,
      "metadata": {
        "id": "VTSHIaJ8djag"
      },
      "outputs": [],
      "source": [
        "def analyze_sentiment(text_content):\n",
        "    client = language_v1.LanguageServiceClient()\n",
        "    type_ = language_v1.Document.Type.PLAIN_TEXT\n",
        "    document = {\"content\": text_content, \"type_\": type_}\n",
        "    encoding_type = language_v1.EncodingType.UTF8\n",
        "    try:\n",
        "        response = client.analyze_sentiment(request = {'document': document, 'encoding_type': encoding_type})\n",
        "        return response\n",
        "    except Exception as e:\n",
        "        print(f\"Got a GCP exception!: {e}\")\n",
        "        return None\n",
        "\n",
        "def extract_sentiment(annotations):\n",
        "    score = annotations.document_sentiment.score\n",
        "    magnitude = annotations.document_sentiment.magnitude\n",
        "    max_sentiment = -float('inf')\n",
        "    min_sentiment = float('inf')\n",
        "    sentence_sentiment = []\n",
        "    weighted_sentence_sentiment = []\n",
        "    for index, sentence in enumerate(annotations.sentences):\n",
        "        sentence_sentiment.append(sentence.sentiment.score)\n",
        "        weighted_sentence_sentiment.append(sentence.sentiment.score*sentence.sentiment.magnitude)\n",
        "    min_sentiment = min(sentence_sentiment)\n",
        "    max_sentiment = max(sentence_sentiment)\n",
        "    mean_sentiment = np.mean(sentence_sentiment)\n",
        "    std_sentiment = np.std(sentence_sentiment)\n",
        "    min_weighted_sentiment = min(weighted_sentence_sentiment)\n",
        "    max_weighted_sentiment = max(weighted_sentence_sentiment)\n",
        "    mean_weighted_sentiment = np.mean(weighted_sentence_sentiment)\n",
        "    std_weighted_sentiment = np.std(weighted_sentence_sentiment)\n",
        "    return {\n",
        "        'document_score':score,\n",
        "        'magnitude':magnitude,\n",
        "        'max_score':max_sentiment,\n",
        "        'min_score':min_sentiment,\n",
        "        'mean_score':mean_sentiment,\n",
        "        'std_score':std_sentiment,\n",
        "        'max_weighted_score':max_weighted_sentiment,\n",
        "        'min_weighted_score':min_weighted_sentiment,\n",
        "        'mean_weighted_score':mean_weighted_sentiment,\n",
        "        'std_weighted_score':std_weighted_sentiment,\n",
        "    }"
      ]
    },
    {
      "cell_type": "markdown",
      "metadata": {
        "id": "cK8AE228h3WD"
      },
      "source": [
        "### Score the `chat_log` column and concat to the original raw dataset\n",
        "The GCP API provides scores for each sentence within a given transcript, as well as a document level score, which we summarize into `min_score`, `max_score`, `document_score`, etc."
      ]
    },
    {
      "cell_type": "code",
      "execution_count": null,
      "metadata": {
        "colab": {
          "base_uri": "https://localhost:8080/",
          "height": 456
        },
        "id": "Sr6X9vg9hYur",
        "outputId": "16f03261-e118-449d-f2dd-570120736859"
      },
      "outputs": [
        {
          "data": {
            "text/html": [
              "\n",
              "  <div id=\"df-5c8e2db3-4854-4bea-93aa-5f2af33775e3\">\n",
              "    <div class=\"colab-df-container\">\n",
              "      <div>\n",
              "<style scoped>\n",
              "    .dataframe tbody tr th:only-of-type {\n",
              "        vertical-align: middle;\n",
              "    }\n",
              "\n",
              "    .dataframe tbody tr th {\n",
              "        vertical-align: top;\n",
              "    }\n",
              "\n",
              "    .dataframe thead th {\n",
              "        text-align: right;\n",
              "    }\n",
              "</style>\n",
              "<table border=\"1\" class=\"dataframe\">\n",
              "  <thead>\n",
              "    <tr style=\"text-align: right;\">\n",
              "      <th></th>\n",
              "      <th>churn</th>\n",
              "      <th>chat_log</th>\n",
              "      <th>state</th>\n",
              "      <th>account_length</th>\n",
              "      <th>area_code</th>\n",
              "      <th>international_plan</th>\n",
              "      <th>voice_mail_plan</th>\n",
              "      <th>number_vmail_messages</th>\n",
              "      <th>total_day_minutes</th>\n",
              "      <th>total_day_calls</th>\n",
              "      <th>...</th>\n",
              "      <th>document_score</th>\n",
              "      <th>magnitude</th>\n",
              "      <th>max_score</th>\n",
              "      <th>min_score</th>\n",
              "      <th>mean_score</th>\n",
              "      <th>std_score</th>\n",
              "      <th>max_weighted_score</th>\n",
              "      <th>min_weighted_score</th>\n",
              "      <th>mean_weighted_score</th>\n",
              "      <th>std_weighted_score</th>\n",
              "    </tr>\n",
              "  </thead>\n",
              "  <tbody>\n",
              "    <tr>\n",
              "      <th>0</th>\n",
              "      <td>no</td>\n",
              "      <td>NaN</td>\n",
              "      <td>DC</td>\n",
              "      <td>73</td>\n",
              "      <td>area_code_408</td>\n",
              "      <td>no</td>\n",
              "      <td>no</td>\n",
              "      <td>0</td>\n",
              "      <td>122.0</td>\n",
              "      <td>92</td>\n",
              "      <td>...</td>\n",
              "      <td>NaN</td>\n",
              "      <td>NaN</td>\n",
              "      <td>NaN</td>\n",
              "      <td>NaN</td>\n",
              "      <td>NaN</td>\n",
              "      <td>NaN</td>\n",
              "      <td>NaN</td>\n",
              "      <td>NaN</td>\n",
              "      <td>NaN</td>\n",
              "      <td>NaN</td>\n",
              "    </tr>\n",
              "    <tr>\n",
              "      <th>1</th>\n",
              "      <td>no</td>\n",
              "      <td>NaN</td>\n",
              "      <td>OH</td>\n",
              "      <td>114</td>\n",
              "      <td>area_code_415</td>\n",
              "      <td>no</td>\n",
              "      <td>no</td>\n",
              "      <td>0</td>\n",
              "      <td>191.5</td>\n",
              "      <td>88</td>\n",
              "      <td>...</td>\n",
              "      <td>NaN</td>\n",
              "      <td>NaN</td>\n",
              "      <td>NaN</td>\n",
              "      <td>NaN</td>\n",
              "      <td>NaN</td>\n",
              "      <td>NaN</td>\n",
              "      <td>NaN</td>\n",
              "      <td>NaN</td>\n",
              "      <td>NaN</td>\n",
              "      <td>NaN</td>\n",
              "    </tr>\n",
              "    <tr>\n",
              "      <th>2</th>\n",
              "      <td>yes</td>\n",
              "      <td>Customer: I just received an early termination...</td>\n",
              "      <td>MS</td>\n",
              "      <td>65</td>\n",
              "      <td>area_code_415</td>\n",
              "      <td>yes</td>\n",
              "      <td>no</td>\n",
              "      <td>0</td>\n",
              "      <td>277.9</td>\n",
              "      <td>123</td>\n",
              "      <td>...</td>\n",
              "      <td>-0.3</td>\n",
              "      <td>3.1</td>\n",
              "      <td>0.0</td>\n",
              "      <td>-0.6</td>\n",
              "      <td>-0.288889</td>\n",
              "      <td>0.237788</td>\n",
              "      <td>0.00</td>\n",
              "      <td>-0.36</td>\n",
              "      <td>-0.140000</td>\n",
              "      <td>0.141657</td>\n",
              "    </tr>\n",
              "    <tr>\n",
              "      <th>3</th>\n",
              "      <td>no</td>\n",
              "      <td>Customer: I would like to upgrade my contract ...</td>\n",
              "      <td>WY</td>\n",
              "      <td>126</td>\n",
              "      <td>area_code_408</td>\n",
              "      <td>yes</td>\n",
              "      <td>no</td>\n",
              "      <td>0</td>\n",
              "      <td>197.6</td>\n",
              "      <td>126</td>\n",
              "      <td>...</td>\n",
              "      <td>0.1</td>\n",
              "      <td>2.3</td>\n",
              "      <td>0.5</td>\n",
              "      <td>-0.2</td>\n",
              "      <td>0.171429</td>\n",
              "      <td>0.281396</td>\n",
              "      <td>0.25</td>\n",
              "      <td>-0.04</td>\n",
              "      <td>0.085714</td>\n",
              "      <td>0.115246</td>\n",
              "    </tr>\n",
              "    <tr>\n",
              "      <th>4</th>\n",
              "      <td>no</td>\n",
              "      <td>Customer: Voice, text and data.\\nTelCom Agent:...</td>\n",
              "      <td>WY</td>\n",
              "      <td>54</td>\n",
              "      <td>area_code_408</td>\n",
              "      <td>no</td>\n",
              "      <td>yes</td>\n",
              "      <td>39</td>\n",
              "      <td>143.9</td>\n",
              "      <td>73</td>\n",
              "      <td>...</td>\n",
              "      <td>0.0</td>\n",
              "      <td>2.8</td>\n",
              "      <td>0.4</td>\n",
              "      <td>-0.3</td>\n",
              "      <td>0.066667</td>\n",
              "      <td>0.239212</td>\n",
              "      <td>0.16</td>\n",
              "      <td>-0.09</td>\n",
              "      <td>0.031667</td>\n",
              "      <td>0.081326</td>\n",
              "    </tr>\n",
              "  </tbody>\n",
              "</table>\n",
              "<p>5 rows × 31 columns</p>\n",
              "</div>\n",
              "      <button class=\"colab-df-convert\" onclick=\"convertToInteractive('df-5c8e2db3-4854-4bea-93aa-5f2af33775e3')\"\n",
              "              title=\"Convert this dataframe to an interactive table.\"\n",
              "              style=\"display:none;\">\n",
              "        \n",
              "  <svg xmlns=\"http://www.w3.org/2000/svg\" height=\"24px\"viewBox=\"0 0 24 24\"\n",
              "       width=\"24px\">\n",
              "    <path d=\"M0 0h24v24H0V0z\" fill=\"none\"/>\n",
              "    <path d=\"M18.56 5.44l.94 2.06.94-2.06 2.06-.94-2.06-.94-.94-2.06-.94 2.06-2.06.94zm-11 1L8.5 8.5l.94-2.06 2.06-.94-2.06-.94L8.5 2.5l-.94 2.06-2.06.94zm10 10l.94 2.06.94-2.06 2.06-.94-2.06-.94-.94-2.06-.94 2.06-2.06.94z\"/><path d=\"M17.41 7.96l-1.37-1.37c-.4-.4-.92-.59-1.43-.59-.52 0-1.04.2-1.43.59L10.3 9.45l-7.72 7.72c-.78.78-.78 2.05 0 2.83L4 21.41c.39.39.9.59 1.41.59.51 0 1.02-.2 1.41-.59l7.78-7.78 2.81-2.81c.8-.78.8-2.07 0-2.86zM5.41 20L4 18.59l7.72-7.72 1.47 1.35L5.41 20z\"/>\n",
              "  </svg>\n",
              "      </button>\n",
              "      \n",
              "  <style>\n",
              "    .colab-df-container {\n",
              "      display:flex;\n",
              "      flex-wrap:wrap;\n",
              "      gap: 12px;\n",
              "    }\n",
              "\n",
              "    .colab-df-convert {\n",
              "      background-color: #E8F0FE;\n",
              "      border: none;\n",
              "      border-radius: 50%;\n",
              "      cursor: pointer;\n",
              "      display: none;\n",
              "      fill: #1967D2;\n",
              "      height: 32px;\n",
              "      padding: 0 0 0 0;\n",
              "      width: 32px;\n",
              "    }\n",
              "\n",
              "    .colab-df-convert:hover {\n",
              "      background-color: #E2EBFA;\n",
              "      box-shadow: 0px 1px 2px rgba(60, 64, 67, 0.3), 0px 1px 3px 1px rgba(60, 64, 67, 0.15);\n",
              "      fill: #174EA6;\n",
              "    }\n",
              "\n",
              "    [theme=dark] .colab-df-convert {\n",
              "      background-color: #3B4455;\n",
              "      fill: #D2E3FC;\n",
              "    }\n",
              "\n",
              "    [theme=dark] .colab-df-convert:hover {\n",
              "      background-color: #434B5C;\n",
              "      box-shadow: 0px 1px 3px 1px rgba(0, 0, 0, 0.15);\n",
              "      filter: drop-shadow(0px 1px 2px rgba(0, 0, 0, 0.3));\n",
              "      fill: #FFFFFF;\n",
              "    }\n",
              "  </style>\n",
              "\n",
              "      <script>\n",
              "        const buttonEl =\n",
              "          document.querySelector('#df-5c8e2db3-4854-4bea-93aa-5f2af33775e3 button.colab-df-convert');\n",
              "        buttonEl.style.display =\n",
              "          google.colab.kernel.accessAllowed ? 'block' : 'none';\n",
              "\n",
              "        async function convertToInteractive(key) {\n",
              "          const element = document.querySelector('#df-5c8e2db3-4854-4bea-93aa-5f2af33775e3');\n",
              "          const dataTable =\n",
              "            await google.colab.kernel.invokeFunction('convertToInteractive',\n",
              "                                                     [key], {});\n",
              "          if (!dataTable) return;\n",
              "\n",
              "          const docLinkHtml = 'Like what you see? Visit the ' +\n",
              "            '<a target=\"_blank\" href=https://colab.research.google.com/notebooks/data_table.ipynb>data table notebook</a>'\n",
              "            + ' to learn more about interactive tables.';\n",
              "          element.innerHTML = '';\n",
              "          dataTable['output_type'] = 'display_data';\n",
              "          await google.colab.output.renderOutput(dataTable, element);\n",
              "          const docLink = document.createElement('div');\n",
              "          docLink.innerHTML = docLinkHtml;\n",
              "          element.appendChild(docLink);\n",
              "        }\n",
              "      </script>\n",
              "    </div>\n",
              "  </div>\n",
              "  "
            ],
            "text/plain": [
              "  churn                                           chat_log state  \\\n",
              "0    no                                                NaN    DC   \n",
              "1    no                                                NaN    OH   \n",
              "2   yes  Customer: I just received an early termination...    MS   \n",
              "3    no  Customer: I would like to upgrade my contract ...    WY   \n",
              "4    no  Customer: Voice, text and data.\\nTelCom Agent:...    WY   \n",
              "\n",
              "   account_length      area_code international_plan voice_mail_plan  \\\n",
              "0              73  area_code_408                 no              no   \n",
              "1             114  area_code_415                 no              no   \n",
              "2              65  area_code_415                yes              no   \n",
              "3             126  area_code_408                yes              no   \n",
              "4              54  area_code_408                 no             yes   \n",
              "\n",
              "   number_vmail_messages  total_day_minutes  total_day_calls  ...  \\\n",
              "0                      0              122.0               92  ...   \n",
              "1                      0              191.5               88  ...   \n",
              "2                      0              277.9              123  ...   \n",
              "3                      0              197.6              126  ...   \n",
              "4                     39              143.9               73  ...   \n",
              "\n",
              "   document_score  magnitude  max_score  min_score  mean_score  std_score  \\\n",
              "0             NaN        NaN        NaN        NaN         NaN        NaN   \n",
              "1             NaN        NaN        NaN        NaN         NaN        NaN   \n",
              "2            -0.3        3.1        0.0       -0.6   -0.288889   0.237788   \n",
              "3             0.1        2.3        0.5       -0.2    0.171429   0.281396   \n",
              "4             0.0        2.8        0.4       -0.3    0.066667   0.239212   \n",
              "\n",
              "   max_weighted_score  min_weighted_score  mean_weighted_score  \\\n",
              "0                 NaN                 NaN                  NaN   \n",
              "1                 NaN                 NaN                  NaN   \n",
              "2                0.00               -0.36            -0.140000   \n",
              "3                0.25               -0.04             0.085714   \n",
              "4                0.16               -0.09             0.031667   \n",
              "\n",
              "   std_weighted_score  \n",
              "0                 NaN  \n",
              "1                 NaN  \n",
              "2            0.141657  \n",
              "3            0.115246  \n",
              "4            0.081326  \n",
              "\n",
              "[5 rows x 31 columns]"
            ]
          },
          "execution_count": 12,
          "metadata": {},
          "output_type": "execute_result"
        }
      ],
      "source": [
        "enrichment = []\n",
        "for _, row in df.iterrows():\n",
        "    if not pd.isna(row['chat_log']):\n",
        "        scores = analyze_sentiment(row[\"chat_log\"])\n",
        "        enrichment.append(extract_sentiment(scores))\n",
        "    else:\n",
        "        enrichment.append(\n",
        "            {\n",
        "                'document_score':None,\n",
        "                'magnitude':None,\n",
        "                'max_score':None,\n",
        "                'min_score':None,\n",
        "                'mean_score':None,\n",
        "                'std_score':None,\n",
        "             }\n",
        "        )\n",
        "df_enrichment = pd.DataFrame(enrichment)\n",
        "df_enriched = pd.concat([df, df_enrichment], axis=1)\n",
        "df_enriched.head()"
      ]
    },
    {
      "cell_type": "markdown",
      "metadata": {
        "id": "JRCmBUgtiS3B"
      },
      "source": [
        "### Save the output dataset for record"
      ]
    },
    {
      "cell_type": "code",
      "execution_count": null,
      "metadata": {
        "id": "LJPq6KariRX7"
      },
      "outputs": [],
      "source": [
        "df_enriched.to_csv(f'{enriched_fpath}/{enriched_fname}')"
      ]
    },
    {
      "cell_type": "markdown",
      "metadata": {
        "id": "3EP_FyBWiZdw"
      },
      "source": [
        "## Connect to DataRobot and create DataRobot project\n",
        "\n",
        "### Read more about different options for [connecting to DataRobot from the client](https://docs.datarobot.com/en/docs/api/api-quickstart/index.html)."
      ]
    },
    {
      "cell_type": "code",
      "execution_count": null,
      "metadata": {
        "colab": {
          "base_uri": "https://localhost:8080/"
        },
        "id": "iZSTgB_fiYj1",
        "outputId": "f06b381a-6125-4e21-ae37-69114da12fba"
      },
      "outputs": [
        {
          "data": {
            "text/plain": [
              "Project(churn_enriched_data)"
            ]
          },
          "execution_count": 10,
          "metadata": {},
          "output_type": "execute_result"
        }
      ],
      "source": [
        "dr.Client(DATAROBOT_API_KEY, DATAROBOT_ENDPOINT)\n",
        "project = dr.Project.create(df_enriched, project_name='churn_enriched_data')\n",
        "project.analyze_and_model(target='churn', positive_class='yes', worker_count=-1)"
      ]
    },
    {
      "cell_type": "markdown",
      "metadata": {
        "id": "8HTgN18JVkXO"
      },
      "source": [
        "## Create a feature list that's limited to the raw features in the original dataset, and run Autopilot with the feature list"
      ]
    },
    {
      "cell_type": "code",
      "execution_count": null,
      "metadata": {
        "id": "BkUE9VU7_em6"
      },
      "outputs": [],
      "source": [
        "raw_features = list(df.columns.values)\n",
        "raw_feature_list = project.create_featurelist(name='no sentiment', features=raw_features)\n",
        "project.start_autopilot(featurelist_id=raw_feature_list.id, mode='comprehensive')"
      ]
    },
    {
      "cell_type": "markdown",
      "metadata": {
        "id": "JWJiDT_LV8CG"
      },
      "source": [
        "## Create a feature list that appends the min sentiment score to the raw features, and run Autopilot with the feature list"
      ]
    },
    {
      "cell_type": "code",
      "execution_count": null,
      "metadata": {
        "id": "dMTwTdzZZmkk"
      },
      "outputs": [],
      "source": [
        "enriched_features = raw_features + ['min_score']\n",
        "enriched_feature_list = project.create_featurelist(name='min sentiment', features=enriched_features)\n",
        "project.start_autopilot(featurelist_id=enriched_feature_list.id, mode='comprehensive')"
      ]
    },
    {
      "cell_type": "code",
      "execution_count": null,
      "metadata": {
        "colab": {
          "base_uri": "https://localhost:8080/"
        },
        "id": "uPzAcM9LQWge",
        "outputId": "df6a774c-8f12-4a3c-bae5-eb8d106704e4"
      },
      "outputs": [
        {
          "data": {
            "text/plain": [
              "Project(churn_enriched_data)"
            ]
          },
          "execution_count": 20,
          "metadata": {},
          "output_type": "execute_result"
        }
      ],
      "source": [
        "project.wait_for_autopilot()\n",
        "project.unlock_holdout()"
      ]
    },
    {
      "cell_type": "markdown",
      "metadata": {
        "id": "faVtolwMWVAd"
      },
      "source": [
        "### Retrain the top models for each feature list with 100% samples"
      ]
    },
    {
      "cell_type": "code",
      "execution_count": null,
      "metadata": {
        "id": "MkC6CnDvuC6e"
      },
      "outputs": [],
      "source": [
        "best_model_no_sentiment = [m for m in project.get_models() if m.featurelist_name == 'no sentiment'][0]\n",
        "best_model_min_sentiment = [m for m in project.get_models() if m.featurelist_name == 'min sentiment'][0]"
      ]
    },
    {
      "cell_type": "code",
      "execution_count": null,
      "metadata": {
        "colab": {
          "base_uri": "https://localhost:8080/",
          "height": 35
        },
        "id": "wun8XX0SZvj7",
        "outputId": "04ea900e-32d9-406f-8e4e-41b87523b7ec"
      },
      "outputs": [
        {
          "data": {
            "application/vnd.google.colaboratory.intrinsic+json": {
              "type": "string"
            },
            "text/plain": [
              "'250'"
            ]
          },
          "execution_count": 24,
          "metadata": {},
          "output_type": "execute_result"
        }
      ],
      "source": [
        "best_model_no_sentiment.train(sample_pct=100)\n",
        "best_model_min_sentiment.train(sample_pct=100)"
      ]
    },
    {
      "cell_type": "markdown",
      "metadata": {
        "id": "t9oNujO4WJIM"
      },
      "source": [
        "### Retrieve the leaderboard"
      ]
    },
    {
      "cell_type": "code",
      "execution_count": null,
      "metadata": {
        "id": "12d48h0YdKNn"
      },
      "outputs": [],
      "source": [
        "models = []\n",
        "featurelists = []\n",
        "logloss_cv = []\n",
        "logloss_holdout = []\n",
        "for m in project.get_models():\n",
        "  models.append(m)\n",
        "  featurelists.append(m.featurelist_name)\n",
        "  logloss_cv.append(m.metrics['LogLoss']['crossValidation'])\n",
        "  logloss_holdout.append(m.metrics['LogLoss']['holdout'])\n",
        "df_leaderboard = pd.DataFrame({'model':models, 'feature list':featurelists, 'Cross Validation':logloss_cv, 'Holdout':logloss_holdout})"
      ]
    },
    {
      "cell_type": "code",
      "execution_count": null,
      "metadata": {
        "colab": {
          "base_uri": "https://localhost:8080/",
          "height": 206
        },
        "id": "f0PqghJPnzdO",
        "outputId": "169fd049-370b-4fed-febd-e385072bc727"
      },
      "outputs": [
        {
          "data": {
            "text/html": [
              "\n",
              "  <div id=\"df-989c50f0-bb26-4b95-a857-adc35b5f5054\">\n",
              "    <div class=\"colab-df-container\">\n",
              "      <div>\n",
              "<style scoped>\n",
              "    .dataframe tbody tr th:only-of-type {\n",
              "        vertical-align: middle;\n",
              "    }\n",
              "\n",
              "    .dataframe tbody tr th {\n",
              "        vertical-align: top;\n",
              "    }\n",
              "\n",
              "    .dataframe thead th {\n",
              "        text-align: right;\n",
              "    }\n",
              "</style>\n",
              "<table border=\"1\" class=\"dataframe\">\n",
              "  <thead>\n",
              "    <tr style=\"text-align: right;\">\n",
              "      <th></th>\n",
              "      <th>model</th>\n",
              "      <th>feature list</th>\n",
              "      <th>Cross Validation</th>\n",
              "      <th>Holdout</th>\n",
              "    </tr>\n",
              "  </thead>\n",
              "  <tbody>\n",
              "    <tr>\n",
              "      <th>1</th>\n",
              "      <td>Model('eXtreme Gradient Boosted Trees Classifi...</td>\n",
              "      <td>min sentiment</td>\n",
              "      <td>0.057110</td>\n",
              "      <td>0.04583</td>\n",
              "    </tr>\n",
              "    <tr>\n",
              "      <th>3</th>\n",
              "      <td>Model('RandomForest Classifier (Entropy)')</td>\n",
              "      <td>no sentiment</td>\n",
              "      <td>0.062130</td>\n",
              "      <td>0.05112</td>\n",
              "    </tr>\n",
              "    <tr>\n",
              "      <th>6</th>\n",
              "      <td>Model('eXtreme Gradient Boosted Trees Classifi...</td>\n",
              "      <td>min sentiment</td>\n",
              "      <td>0.062966</td>\n",
              "      <td>0.04449</td>\n",
              "    </tr>\n",
              "    <tr>\n",
              "      <th>5</th>\n",
              "      <td>Model('AVG Blender')</td>\n",
              "      <td>min sentiment</td>\n",
              "      <td>0.063570</td>\n",
              "      <td>0.05697</td>\n",
              "    </tr>\n",
              "    <tr>\n",
              "      <th>0</th>\n",
              "      <td>Model('Gradient Boosted Trees Classifier')</td>\n",
              "      <td>no sentiment</td>\n",
              "      <td>0.063806</td>\n",
              "      <td>0.04644</td>\n",
              "    </tr>\n",
              "  </tbody>\n",
              "</table>\n",
              "</div>\n",
              "      <button class=\"colab-df-convert\" onclick=\"convertToInteractive('df-989c50f0-bb26-4b95-a857-adc35b5f5054')\"\n",
              "              title=\"Convert this dataframe to an interactive table.\"\n",
              "              style=\"display:none;\">\n",
              "        \n",
              "  <svg xmlns=\"http://www.w3.org/2000/svg\" height=\"24px\"viewBox=\"0 0 24 24\"\n",
              "       width=\"24px\">\n",
              "    <path d=\"M0 0h24v24H0V0z\" fill=\"none\"/>\n",
              "    <path d=\"M18.56 5.44l.94 2.06.94-2.06 2.06-.94-2.06-.94-.94-2.06-.94 2.06-2.06.94zm-11 1L8.5 8.5l.94-2.06 2.06-.94-2.06-.94L8.5 2.5l-.94 2.06-2.06.94zm10 10l.94 2.06.94-2.06 2.06-.94-2.06-.94-.94-2.06-.94 2.06-2.06.94z\"/><path d=\"M17.41 7.96l-1.37-1.37c-.4-.4-.92-.59-1.43-.59-.52 0-1.04.2-1.43.59L10.3 9.45l-7.72 7.72c-.78.78-.78 2.05 0 2.83L4 21.41c.39.39.9.59 1.41.59.51 0 1.02-.2 1.41-.59l7.78-7.78 2.81-2.81c.8-.78.8-2.07 0-2.86zM5.41 20L4 18.59l7.72-7.72 1.47 1.35L5.41 20z\"/>\n",
              "  </svg>\n",
              "      </button>\n",
              "      \n",
              "  <style>\n",
              "    .colab-df-container {\n",
              "      display:flex;\n",
              "      flex-wrap:wrap;\n",
              "      gap: 12px;\n",
              "    }\n",
              "\n",
              "    .colab-df-convert {\n",
              "      background-color: #E8F0FE;\n",
              "      border: none;\n",
              "      border-radius: 50%;\n",
              "      cursor: pointer;\n",
              "      display: none;\n",
              "      fill: #1967D2;\n",
              "      height: 32px;\n",
              "      padding: 0 0 0 0;\n",
              "      width: 32px;\n",
              "    }\n",
              "\n",
              "    .colab-df-convert:hover {\n",
              "      background-color: #E2EBFA;\n",
              "      box-shadow: 0px 1px 2px rgba(60, 64, 67, 0.3), 0px 1px 3px 1px rgba(60, 64, 67, 0.15);\n",
              "      fill: #174EA6;\n",
              "    }\n",
              "\n",
              "    [theme=dark] .colab-df-convert {\n",
              "      background-color: #3B4455;\n",
              "      fill: #D2E3FC;\n",
              "    }\n",
              "\n",
              "    [theme=dark] .colab-df-convert:hover {\n",
              "      background-color: #434B5C;\n",
              "      box-shadow: 0px 1px 3px 1px rgba(0, 0, 0, 0.15);\n",
              "      filter: drop-shadow(0px 1px 2px rgba(0, 0, 0, 0.3));\n",
              "      fill: #FFFFFF;\n",
              "    }\n",
              "  </style>\n",
              "\n",
              "      <script>\n",
              "        const buttonEl =\n",
              "          document.querySelector('#df-989c50f0-bb26-4b95-a857-adc35b5f5054 button.colab-df-convert');\n",
              "        buttonEl.style.display =\n",
              "          google.colab.kernel.accessAllowed ? 'block' : 'none';\n",
              "\n",
              "        async function convertToInteractive(key) {\n",
              "          const element = document.querySelector('#df-989c50f0-bb26-4b95-a857-adc35b5f5054');\n",
              "          const dataTable =\n",
              "            await google.colab.kernel.invokeFunction('convertToInteractive',\n",
              "                                                     [key], {});\n",
              "          if (!dataTable) return;\n",
              "\n",
              "          const docLinkHtml = 'Like what you see? Visit the ' +\n",
              "            '<a target=\"_blank\" href=https://colab.research.google.com/notebooks/data_table.ipynb>data table notebook</a>'\n",
              "            + ' to learn more about interactive tables.';\n",
              "          element.innerHTML = '';\n",
              "          dataTable['output_type'] = 'display_data';\n",
              "          await google.colab.output.renderOutput(dataTable, element);\n",
              "          const docLink = document.createElement('div');\n",
              "          docLink.innerHTML = docLinkHtml;\n",
              "          element.appendChild(docLink);\n",
              "        }\n",
              "      </script>\n",
              "    </div>\n",
              "  </div>\n",
              "  "
            ],
            "text/plain": [
              "                                               model   feature list  \\\n",
              "1  Model('eXtreme Gradient Boosted Trees Classifi...  min sentiment   \n",
              "3         Model('RandomForest Classifier (Entropy)')   no sentiment   \n",
              "6  Model('eXtreme Gradient Boosted Trees Classifi...  min sentiment   \n",
              "5                               Model('AVG Blender')  min sentiment   \n",
              "0         Model('Gradient Boosted Trees Classifier')   no sentiment   \n",
              "\n",
              "   Cross Validation  Holdout  \n",
              "1          0.057110  0.04583  \n",
              "3          0.062130  0.05112  \n",
              "6          0.062966  0.04449  \n",
              "5          0.063570  0.05697  \n",
              "0          0.063806  0.04644  "
            ]
          },
          "execution_count": 33,
          "metadata": {},
          "output_type": "execute_result"
        }
      ],
      "source": [
        "df_leaderboard.sort_values(by='Cross Validation')[:5]"
      ]
    },
    {
      "cell_type": "markdown",
      "metadata": {
        "id": "vm6OmkKxWg9L"
      },
      "source": [
        "## Conclusion\n",
        "\n",
        "Without the challenge of training a reliable sentiment model, we demonstrate the simplicity by leveraging the Google API to enrich a dataset, and improve the performance of a classification model built with DataRobot. While the notebook showed the use of only the min sentiment score for modeling, the enriched dataset includes others such as the mean, max, and weighted by magnitude scores as well for the readers to experiment. In some cases, the sentiment scores from the Google API can bring higher lift than the NLTK or TextBlob sentiment featurizers, especially if the problem is more sentiment oriented, such as the churn use case that we demo, so experiments are highly encouraged if the readers have access to the Google API.\n",
        "\n",
        "As a reference, below is a table showing the more extensive tests that we've experimented with the other enriched sentiment features."
      ]
    },
    {
      "cell_type": "markdown",
      "metadata": {
        "id": "f-RI2afvPp37"
      },
      "source": [
        "| Metric LogLoss, Sample size 100% | Cross Validation | Holdout |\n",
        "|---|---|---|\n",
        "| Informative features + just min sentence sentiment | 0.0571 | 0.0458 |\n",
        "| Informative features + just min & max sentence sentiment | 0.0585 | 0.0464 |\n",
        "| Informative features + just overall doc sentiment | 0.0645 | 0.0532 |\n",
        "| Informative features (without sentiment) | 0.0617 | 0.0589 |\n",
        "| Informative features + overall & min & max sentence sentiment, dropping chat_log | 0.1168 | 0.1243 |\n",
        "\n"
      ]
    }
  ],
  "metadata": {
    "colab": {
      "provenance": []
    },
    "kernelspec": {
      "display_name": "Python 3",
      "name": "python3"
    },
    "language_info": {
      "name": "python"
    }
  },
  "nbformat": 4,
  "nbformat_minor": 0
}
