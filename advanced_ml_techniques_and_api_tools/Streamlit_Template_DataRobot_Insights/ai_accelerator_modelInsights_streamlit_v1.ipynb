{
 "cells": [
  {
   "cell_type": "markdown",
   "id": "06a4539f",
   "metadata": {},
   "source": [
    "**Author - Disha Dubey**\n",
    "\n",
    "**Version - V1 - 02/23/2022**\n",
    "\n",
    "Relevant documentation: \n",
    "1. [Datarobot batch prediction API](https://docs.datarobot.com/en/docs/api/reference/batch-prediction-api/index.html)\n",
    "2. [Streamlit](https://docs.streamlit.io/)\n",
    "\n",
    "Prerequisite:\n",
    "1. To use this workflow for your own use case, you should have created and deployed a model using Datarobot. A short tour is available here at [Build and deploy AI models](https://www.datarobot.com/tours/) \n",
    "2. Have the deployment id for your deployment\n",
    "3. Have the scoring dataset ready for making predcitions/ fetch prediction explanations\n",
    "\n",
    "To learn and test how the app would look like , just follow this notebook and you can use the example prediction dataset here for churn prediction\n",
    "\n",
    "**Instructions to use this workflow for your usecase:**\n",
    "1. Enter your Datarobot API token and end point in the \"Connect to Datarobot section\"\n",
    "2. Enter your deployment id in \"Fetch information about your deployment\" section\n",
    "3. Load the dataset on which you want to make predictions\n",
    "4. Export the predictions obtained in step \"Request predictions\"\n",
    "5. Modify the relevant sections in the streamlit_app.py file\n"
   ]
  },
  {
   "cell_type": "markdown",
   "id": "dc64bea3",
   "metadata": {},
   "source": [
    "## Summary"
   ]
  },
  {
   "cell_type": "markdown",
   "id": "9c518ae7",
   "metadata": {},
   "source": [
    "This notebook shows how to build an app presenting Datarobot predictions and explanation for your business stakeholders. This workflow uses churn prediction use case as an example to build an app using prediction output.\n",
    "Summary of usecase can be found [here](https://pathfinder.datarobot.com/use-case/subscription-based-churn?tab=overview)\n",
    "\n",
    "Overview of steps:\n",
    "1. Fetch predictions and prediction explanation from a datarobot deployment (Notebook)\n",
    "2. Save the output of the prediciton as a csv which can then be used as a backend for the streamlit app (Please note that an alternate approach would be to directly request predicitons to DR prediction API and generate predictions on the fly in the app)\n",
    "3. Streamlit_app.py file contains code to generate the frontend of the app which helps user access the churn prediction score and provides information of top churn reason for the population selected by the user"
   ]
  },
  {
   "cell_type": "markdown",
   "id": "e7ec79de",
   "metadata": {},
   "source": [
    "### Import libraries"
   ]
  },
  {
   "cell_type": "code",
   "execution_count": 1,
   "id": "9ffed930",
   "metadata": {},
   "outputs": [],
   "source": [
    "import pandas as pd\n",
    "import numpy as np\n",
    "import datarobot as dr\n",
    "import streamlit as st\n",
    "import requests\n",
    "import json\n"
   ]
  },
  {
   "cell_type": "markdown",
   "id": "3be5674e",
   "metadata": {},
   "source": [
    "### Connect to datarobot"
   ]
  },
  {
   "cell_type": "markdown",
   "id": "ea7e466f",
   "metadata": {},
   "source": [
    "1. In DataRobot, navigate to Developer Tools by clicking on the user icon in the top-right corner. From here you can generate a API Key that you will use to authenticate to DataRobot. You can find more details on creating an API key in the [DataRobot documentation](https://app.datarobot.com/docs/api/api-quickstart/index.html#create-a-datarobot-api-key)\n",
    "\n",
    "2. Determine your DataRobot API Endpoint: the API endpoint will be the same as your DataRobot UI root. Replace {datarobot.example.com} with your deployment endpoint.\n",
    "\n",
    "API endpoint root: https://{datarobot.example.com}/api/v2\n",
    "\n",
    "For users of the AI Cloud platform, the endpoint is https://app.datarobot.com/api/v2\n",
    "\n"
   ]
  },
  {
   "cell_type": "code",
   "execution_count": null,
   "id": "b133da56",
   "metadata": {},
   "outputs": [],
   "source": [
    "DATAROBOT_API_TOKEN = '[ENTER YOUR API KEY]'\n",
    "DATAROBOT_ENDPOINT = '[https://{datarobot.example.com}/api/v2]'\n",
    "dr.Client(token=DATAROBOT_API_TOKEN, endpoint=DATAROBOT_ENDPOINT)"
   ]
  },
  {
   "cell_type": "markdown",
   "id": "e0cda22f",
   "metadata": {},
   "source": [
    "## Fetch information about your deployment to make predictions "
   ]
  },
  {
   "cell_type": "markdown",
   "id": "2a34f2b4",
   "metadata": {},
   "source": [
    "To generate predictions on new data using the Prediction API, you need:\n",
    "\n",
    "The model's deployment ID. You can find the ID in the sample code output of the [Deployments > Predictions > Prediction API](https://app.datarobot.com/docs/predictions/realtime/code-py.html) tab (with Interface set to \"API Client\").\n"
   ]
  },
  {
   "cell_type": "code",
   "execution_count": 4,
   "id": "9df022a3",
   "metadata": {},
   "outputs": [],
   "source": [
    "#Get this information from prediction>real time tab of your deployment\n",
    "DEPLOYMENT_ID = 'ENTER YOUR DEPLOYMENT_ID'"
   ]
  },
  {
   "cell_type": "markdown",
   "id": "5e33545f",
   "metadata": {},
   "source": [
    "## Load the scoring data"
   ]
  },
  {
   "cell_type": "markdown",
   "id": "f75a3e6c",
   "metadata": {},
   "source": [
    "This workflow assumes that you have the data to be scored as a csv file saved on your computer"
   ]
  },
  {
   "cell_type": "code",
   "execution_count": 4,
   "id": "5d7ed3b0",
   "metadata": {},
   "outputs": [],
   "source": [
    "#import the scoring file \n",
    "scoring_data = pd.read_csv('prediction_data_SHAP.csv')"
   ]
  },
  {
   "cell_type": "code",
   "execution_count": 5,
   "id": "18fc7854",
   "metadata": {},
   "outputs": [
    {
     "data": {
      "text/html": [
       "<div>\n",
       "<style scoped>\n",
       "    .dataframe tbody tr th:only-of-type {\n",
       "        vertical-align: middle;\n",
       "    }\n",
       "\n",
       "    .dataframe tbody tr th {\n",
       "        vertical-align: top;\n",
       "    }\n",
       "\n",
       "    .dataframe thead th {\n",
       "        text-align: right;\n",
       "    }\n",
       "</style>\n",
       "<table border=\"1\" class=\"dataframe\">\n",
       "  <thead>\n",
       "    <tr style=\"text-align: right;\">\n",
       "      <th></th>\n",
       "      <th>Customer_ID</th>\n",
       "      <th>Dependents</th>\n",
       "      <th>Number_of_Referrals</th>\n",
       "      <th>Tenure_in_Months</th>\n",
       "      <th>Internet_Type</th>\n",
       "      <th>Internet_Service</th>\n",
       "      <th>Contract</th>\n",
       "      <th>Paperless_Billing</th>\n",
       "      <th>Payment_Method</th>\n",
       "      <th>Monthly_Charge</th>\n",
       "      <th>Zip_Code</th>\n",
       "      <th>Lat_Long</th>\n",
       "      <th>Latitude</th>\n",
       "      <th>Longitude</th>\n",
       "    </tr>\n",
       "  </thead>\n",
       "  <tbody>\n",
       "    <tr>\n",
       "      <th>0</th>\n",
       "      <td>8779-QRDMV</td>\n",
       "      <td>No</td>\n",
       "      <td>0</td>\n",
       "      <td>1</td>\n",
       "      <td>DSL</td>\n",
       "      <td>Yes</td>\n",
       "      <td>Month-to-Month</td>\n",
       "      <td>Yes</td>\n",
       "      <td>Bank Withdrawal</td>\n",
       "      <td>39.65</td>\n",
       "      <td>90022</td>\n",
       "      <td>34.02381, -118.156582</td>\n",
       "      <td>34.023810</td>\n",
       "      <td>-118.156582</td>\n",
       "    </tr>\n",
       "    <tr>\n",
       "      <th>1</th>\n",
       "      <td>7495-OOKFY</td>\n",
       "      <td>Yes</td>\n",
       "      <td>1</td>\n",
       "      <td>8</td>\n",
       "      <td>Fiber Optic</td>\n",
       "      <td>Yes</td>\n",
       "      <td>Month-to-Month</td>\n",
       "      <td>Yes</td>\n",
       "      <td>Credit Card</td>\n",
       "      <td>80.65</td>\n",
       "      <td>90063</td>\n",
       "      <td>34.044271, -118.185237</td>\n",
       "      <td>34.044271</td>\n",
       "      <td>-118.185237</td>\n",
       "    </tr>\n",
       "    <tr>\n",
       "      <th>2</th>\n",
       "      <td>1658-BYGOY</td>\n",
       "      <td>Yes</td>\n",
       "      <td>0</td>\n",
       "      <td>18</td>\n",
       "      <td>Fiber Optic</td>\n",
       "      <td>Yes</td>\n",
       "      <td>Month-to-Month</td>\n",
       "      <td>Yes</td>\n",
       "      <td>Bank Withdrawal</td>\n",
       "      <td>95.45</td>\n",
       "      <td>90065</td>\n",
       "      <td>34.108833, -118.229715</td>\n",
       "      <td>34.108833</td>\n",
       "      <td>-118.229715</td>\n",
       "    </tr>\n",
       "    <tr>\n",
       "      <th>3</th>\n",
       "      <td>4598-XLKNJ</td>\n",
       "      <td>Yes</td>\n",
       "      <td>1</td>\n",
       "      <td>25</td>\n",
       "      <td>Fiber Optic</td>\n",
       "      <td>Yes</td>\n",
       "      <td>Month-to-Month</td>\n",
       "      <td>Yes</td>\n",
       "      <td>Bank Withdrawal</td>\n",
       "      <td>98.50</td>\n",
       "      <td>90303</td>\n",
       "      <td>33.936291, -118.332639</td>\n",
       "      <td>33.936291</td>\n",
       "      <td>-118.332639</td>\n",
       "    </tr>\n",
       "    <tr>\n",
       "      <th>4</th>\n",
       "      <td>4846-WHAFZ</td>\n",
       "      <td>Yes</td>\n",
       "      <td>1</td>\n",
       "      <td>37</td>\n",
       "      <td>Fiber Optic</td>\n",
       "      <td>Yes</td>\n",
       "      <td>Month-to-Month</td>\n",
       "      <td>Yes</td>\n",
       "      <td>Bank Withdrawal</td>\n",
       "      <td>76.50</td>\n",
       "      <td>90602</td>\n",
       "      <td>33.972119, -118.020188</td>\n",
       "      <td>33.972119</td>\n",
       "      <td>-118.020188</td>\n",
       "    </tr>\n",
       "  </tbody>\n",
       "</table>\n",
       "</div>"
      ],
      "text/plain": [
       "  Customer_ID Dependents  Number_of_Referrals  Tenure_in_Months Internet_Type  \\\n",
       "0  8779-QRDMV         No                    0                 1           DSL   \n",
       "1  7495-OOKFY        Yes                    1                 8   Fiber Optic   \n",
       "2  1658-BYGOY        Yes                    0                18   Fiber Optic   \n",
       "3  4598-XLKNJ        Yes                    1                25   Fiber Optic   \n",
       "4  4846-WHAFZ        Yes                    1                37   Fiber Optic   \n",
       "\n",
       "  Internet_Service        Contract Paperless_Billing   Payment_Method  \\\n",
       "0              Yes  Month-to-Month               Yes  Bank Withdrawal   \n",
       "1              Yes  Month-to-Month               Yes      Credit Card   \n",
       "2              Yes  Month-to-Month               Yes  Bank Withdrawal   \n",
       "3              Yes  Month-to-Month               Yes  Bank Withdrawal   \n",
       "4              Yes  Month-to-Month               Yes  Bank Withdrawal   \n",
       "\n",
       "   Monthly_Charge  Zip_Code                Lat_Long   Latitude   Longitude  \n",
       "0           39.65     90022   34.02381, -118.156582  34.023810 -118.156582  \n",
       "1           80.65     90063  34.044271, -118.185237  34.044271 -118.185237  \n",
       "2           95.45     90065  34.108833, -118.229715  34.108833 -118.229715  \n",
       "3           98.50     90303  33.936291, -118.332639  33.936291 -118.332639  \n",
       "4           76.50     90602  33.972119, -118.020188  33.972119 -118.020188  "
      ]
     },
     "execution_count": 5,
     "metadata": {},
     "output_type": "execute_result"
    }
   ],
   "source": [
    "#display rows\n",
    "scoring_data.head()"
   ]
  },
  {
   "cell_type": "markdown",
   "id": "22e8638b",
   "metadata": {},
   "source": [
    "## Request predictions "
   ]
  },
  {
   "cell_type": "code",
   "execution_count": 6,
   "id": "b955d25a",
   "metadata": {},
   "outputs": [
    {
     "name": "stdout",
     "output_type": "stream",
     "text": [
      "Streaming DataFrame as CSV data to DataRobot\n",
      "Created Batch Prediction job ID 63f44acb42a1b29724edc262\n",
      "Waiting for DataRobot to start processing\n",
      "Job has started processing at DataRobot. Streaming results.\n"
     ]
    }
   ],
   "source": [
    "#Create a batch prediction job to get predicitons and explanations\n",
    "job, df = dr.BatchPredictionJob.score_pandas(DEPLOYMENT_ID, scoring_data,max_explanations = 5, passthrough_columns= ['Customer_ID'])"
   ]
  },
  {
   "cell_type": "markdown",
   "id": "ad285179",
   "metadata": {},
   "source": [
    "## Export the predicted file as a csv"
   ]
  },
  {
   "cell_type": "code",
   "execution_count": 8,
   "id": "b9bf3f6d",
   "metadata": {},
   "outputs": [],
   "source": [
    "df.to_csv('prediction_output_SHAP.csv', index=False)"
   ]
  },
  {
   "cell_type": "markdown",
   "id": "3889bc33",
   "metadata": {},
   "source": [
    "## Use the prediction output obtained from Datarobot ('prediction_output_SHAP.csv') as backend data for your streamlit app"
   ]
  },
  {
   "cell_type": "markdown",
   "id": "30b95399",
   "metadata": {},
   "source": [
    "At this point you will navigate to the streamlit_app.py file to make modifications based on your prediction dataset and then run the streamlit code below to test your app"
   ]
  },
  {
   "cell_type": "code",
   "execution_count": null,
   "id": "80bf98e1",
   "metadata": {},
   "outputs": [],
   "source": [
    "!streamlit run streamlit_app.py --theme.base 'dark'"
   ]
  }
 ],
 "metadata": {
  "kernelspec": {
   "display_name": "Python 3",
   "language": "python",
   "name": "python3"
  },
  "language_info": {
   "codemirror_mode": {
    "name": "ipython",
    "version": 3
   },
   "file_extension": ".py",
   "mimetype": "text/x-python",
   "name": "python",
   "nbconvert_exporter": "python",
   "pygments_lexer": "ipython3",
   "version": "3.8.8"
  }
 },
 "nbformat": 4,
 "nbformat_minor": 5
}
