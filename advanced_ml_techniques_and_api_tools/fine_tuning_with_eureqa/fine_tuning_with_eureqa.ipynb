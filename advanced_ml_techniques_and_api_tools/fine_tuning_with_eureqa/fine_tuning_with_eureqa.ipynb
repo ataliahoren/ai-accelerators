{
 "cells": [
  {
   "cell_type": "markdown",
   "id": "2c12160f-888b-48ec-b266-d9f80d1392ef",
   "metadata": {},
   "source": [
    "# Fine-tune models with Eureqa"
   ]
  },
  {
   "cell_type": "markdown",
   "id": "7dc127f2-1ca4-4c50-a3a6-af3f340479d4",
   "metadata": {},
   "source": [
    "## Summary\n",
    "\n",
    "[Eureqa](https://docs.datarobot.com/en/docs/modeling/analyze-models/describe/eureqa.html) is a symbolic regression algorithm that searches the space of mathematical expressions to find the best fit for a given dataset, while minimizing both error and complexity. Eureqa came out of Cornell's AI Lab in 2009, developed into a company called Nutonian, and then was acquired by DataRobot in 2017. Eureqa now lives as a blueprint within DataRobot.\n",
    "\n",
    "### Why use Eureqa?\n",
    "\n",
    "1. Eureqa returns human-readable and interpretable analytic expressions, which are easily reviewed by subject matter experts.\n",
    "\n",
    "2. Eureqa excels at feature selection; the algorithm is forced to reduce complexity during the model building process. For example, if the dataset has 20 different features used to predict the target variable, then the search for a simple expression would result in an expression that only uses the strongest predictors.\n",
    "\n",
    "3. Eureqa works well with small datasets, so it's very popular with scientific researchers who gather data from physical experiments that don’t produce massive amounts of data.\n",
    "\n",
    "4. Eureqa provides an easy way to incorporate domain knowledge. If you know the underlying relationship in the system that you're modeling, you can give Eureqa a \"hint\" (for example, the formula for heat transfer or how house prices work in a particular neighborhood) as a building block or a starting point to learn from. Eureqa will build machine learning corrections from there."
   ]
  },
  {
   "cell_type": "markdown",
   "id": "d00516c1-f9b4-44c6-85c8-88782df8efa6",
   "metadata": {},
   "source": [
    "### Background"
   ]
  },
  {
   "cell_type": "markdown",
   "id": "b20752a7-6c1f-4669-b832-1dd76ebbccdd",
   "metadata": {},
   "source": [
    "In classical Newtonian mechanics, it is possible to derive that the behavior (position, velocity, and acceleration) of a [double pendulum](https://en.wikipedia.org/wiki/Double_pendulum) is exactly modeled by the following equation:\n",
    "\n",
    "`a2 = v1<sup>2</sup> * sin(x1 - x2) - a1 * cos(x2 - x1) - g * sin(x2)`\n",
    "\n",
    "Where `g` is the gravitational constant – approximately 9.81 or 9.82 m/s<sup>2</sup> on the surface of the Earth, depending on your latitude, longitude, and altitude. Assume that the two pendulums are both of unit length; otherwise additional length coefficients are involved.\n",
    "\n",
    "You can use DataRobot to predict the acceleration of the second pendulum (`a2`)."
   ]
  },
  {
   "cell_type": "markdown",
   "id": "df1f8322-621c-4a3f-9ca9-377112450b78",
   "metadata": {},
   "source": [
    "## Setup\n",
    "\n",
    "### Import libraries"
   ]
  },
  {
   "cell_type": "code",
   "execution_count": 1,
   "id": "5f09b058-7ac4-451e-bef4-674c6b32427d",
   "metadata": {},
   "outputs": [],
   "source": [
    "import os\n",
    "import sys\n",
    "import time\n",
    "import warnings\n",
    "\n",
    "import datarobot as dr\n",
    "import pandas as pd\n",
    "import requests\n",
    "\n",
    "warnings.filterwarnings(\"ignore\")\n",
    "\n",
    "# wider .head()s\n",
    "pd.options.display.width = 0\n",
    "pd.options.display.max_columns = 200\n",
    "pd.options.display.max_rows = 2000\n",
    "\n",
    "RANDOM_SEED = 321"
   ]
  },
  {
   "cell_type": "markdown",
   "id": "da5d0952-b26d-4940-87f4-127a5a11b7ab",
   "metadata": {},
   "source": [
    "### Connect to DataRobot\n",
    "\n",
    "Read more about different options for [connecting to DataRobot from the client](https://docs.datarobot.com/en/docs/api/api-quickstart/api-qs.html)."
   ]
  },
  {
   "cell_type": "code",
   "execution_count": 4,
   "id": "a0e36a74-df3c-4378-b15c-094fd22e916e",
   "metadata": {},
   "outputs": [],
   "source": [
    "# The URL may vary depending on your hosting preference, this example is for DataRobot Managed AI Cloud\n",
    "DATAROBOT_ENDPOINT = \"https://app.datarobot.com/api/v2\"\n",
    "\n",
    "# The API Token can be found by clicking the avatar icon and then </> Developer Tools\n",
    "DATAROBOT_API_TOKEN = \"<INSERT YOUR DataRobot API Token>\"\n",
    "\n",
    "client =dr.Client(\n",
    "    token=DATAROBOT_API_TOKEN, \n",
    "    endpoint=DATAROBOT_ENDPOINT,\n",
    "    user_agent_suffix='AIA-AE-EUQ-110' #Optional but helps DataRobot improve this workflow\n",
    ")\n",
    "\n",
    "dr.client._global_client = client"
   ]
  },
  {
   "cell_type": "markdown",
   "id": "b0b2efea-ffc6-445f-aa8c-9e74afb753cf",
   "metadata": {},
   "source": [
    "### Import data\n",
    "\n",
    "Data dictionary:\n",
    "* _t_: Timestep (seconds)\n",
    "* _x1_: Position (m) of the first pendulum\n",
    "* _x2_: Position (m) of the second pendulum\n",
    "* _v1_: Velocity (m/s) of the first pendulum\n",
    "* _v2_: Velocity (m/s) of the second pendulum\n",
    "* _a1_: Acceleration (m/$s^2$) of the first pendulum\n",
    "* _a2_: Accerlation (m/$s^2$) of the second pendulum"
   ]
  },
  {
   "cell_type": "code",
   "execution_count": 2,
   "id": "17faac52-6b9b-4903-8a29-45efd996e109",
   "metadata": {},
   "outputs": [
    {
     "data": {
      "text/html": [
       "<div>\n",
       "<style scoped>\n",
       "    .dataframe tbody tr th:only-of-type {\n",
       "        vertical-align: middle;\n",
       "    }\n",
       "\n",
       "    .dataframe tbody tr th {\n",
       "        vertical-align: top;\n",
       "    }\n",
       "\n",
       "    .dataframe thead th {\n",
       "        text-align: right;\n",
       "    }\n",
       "</style>\n",
       "<table border=\"1\" class=\"dataframe\">\n",
       "  <thead>\n",
       "    <tr style=\"text-align: right;\">\n",
       "      <th></th>\n",
       "      <th>t</th>\n",
       "      <th>x1</th>\n",
       "      <th>x2</th>\n",
       "      <th>v1</th>\n",
       "      <th>v2</th>\n",
       "      <th>a1</th>\n",
       "      <th>a2</th>\n",
       "    </tr>\n",
       "  </thead>\n",
       "  <tbody>\n",
       "    <tr>\n",
       "      <th>0</th>\n",
       "      <td>0.000000</td>\n",
       "      <td>2.36</td>\n",
       "      <td>3.14</td>\n",
       "      <td>-0.0100</td>\n",
       "      <td>-0.01000</td>\n",
       "      <td>-9.24</td>\n",
       "      <td>6.53</td>\n",
       "    </tr>\n",
       "    <tr>\n",
       "      <th>1</th>\n",
       "      <td>0.000862</td>\n",
       "      <td>2.36</td>\n",
       "      <td>3.14</td>\n",
       "      <td>-0.0180</td>\n",
       "      <td>-0.00437</td>\n",
       "      <td>-9.24</td>\n",
       "      <td>6.53</td>\n",
       "    </tr>\n",
       "    <tr>\n",
       "      <th>2</th>\n",
       "      <td>0.001720</td>\n",
       "      <td>2.36</td>\n",
       "      <td>3.14</td>\n",
       "      <td>-0.0259</td>\n",
       "      <td>0.00126</td>\n",
       "      <td>-9.24</td>\n",
       "      <td>6.53</td>\n",
       "    </tr>\n",
       "    <tr>\n",
       "      <th>3</th>\n",
       "      <td>0.002590</td>\n",
       "      <td>2.36</td>\n",
       "      <td>3.14</td>\n",
       "      <td>-0.0339</td>\n",
       "      <td>0.00689</td>\n",
       "      <td>-9.24</td>\n",
       "      <td>6.53</td>\n",
       "    </tr>\n",
       "    <tr>\n",
       "      <th>4</th>\n",
       "      <td>0.003450</td>\n",
       "      <td>2.36</td>\n",
       "      <td>3.14</td>\n",
       "      <td>-0.0418</td>\n",
       "      <td>0.01250</td>\n",
       "      <td>-9.24</td>\n",
       "      <td>6.53</td>\n",
       "    </tr>\n",
       "  </tbody>\n",
       "</table>\n",
       "</div>"
      ],
      "text/plain": [
       "          t    x1    x2      v1       v2    a1    a2\n",
       "0  0.000000  2.36  3.14 -0.0100 -0.01000 -9.24  6.53\n",
       "1  0.000862  2.36  3.14 -0.0180 -0.00437 -9.24  6.53\n",
       "2  0.001720  2.36  3.14 -0.0259  0.00126 -9.24  6.53\n",
       "3  0.002590  2.36  3.14 -0.0339  0.00689 -9.24  6.53\n",
       "4  0.003450  2.36  3.14 -0.0418  0.01250 -9.24  6.53"
      ]
     },
     "execution_count": 2,
     "metadata": {},
     "output_type": "execute_result"
    }
   ],
   "source": [
    "df = pd.read_csv(\n",
    "    \"https://s3.amazonaws.com/datarobot_public_datasets/double-pendulum.csv\"\n",
    ")\n",
    "df.head()"
   ]
  },
  {
   "cell_type": "code",
   "execution_count": 3,
   "id": "581e5d6e-c905-406b-879d-db176b70a8e9",
   "metadata": {},
   "outputs": [
    {
     "data": {
      "text/plain": [
       "2429"
      ]
     },
     "execution_count": 3,
     "metadata": {},
     "output_type": "execute_result"
    }
   ],
   "source": [
    "len(df)"
   ]
  },
  {
   "cell_type": "markdown",
   "id": "2ce07f37-79d1-466d-8080-824fd1ea8527",
   "metadata": {},
   "source": [
    "## Create a DataRobot project\n",
    "\n",
    "For the example covered in this workflow, you want to predict `a2`, the acceleration of the second pendulum. To do so you will use the other columns within the dataset as your features.\n",
    "\n",
    "### Start Autopilot"
   ]
  },
  {
   "cell_type": "code",
   "execution_count": 5,
   "id": "63fc1302-a990-4f68-825f-845006d04e53",
   "metadata": {},
   "outputs": [
    {
     "data": {
      "text/plain": [
       "Project(AI_Accelerator_Eureqa_2023-02-22 15:49)"
      ]
     },
     "execution_count": 5,
     "metadata": {},
     "output_type": "execute_result"
    }
   ],
   "source": [
    "project_eureqa = dr.Project.create(\n",
    "    sourcedata=df,\n",
    "    project_name=\"AI_Accelerator_Eureqa_{}\".format(\n",
    "        pd.datetime.now().strftime(\"%Y-%m-%d %H:%M\")\n",
    "    ),\n",
    ")\n",
    "\n",
    "# Set the project's target and set quick mode\n",
    "project_eureqa.set_target(\n",
    "    target=\"a2\",\n",
    "    mode=\"quick\",\n",
    "    worker_count=-1,\n",
    "    advanced_options=dr.AdvancedOptions(seed=RANDOM_SEED),\n",
    ")"
   ]
  },
  {
   "cell_type": "markdown",
   "id": "acf0d6d3-082a-4eeb-a286-4abc8e30b6cd",
   "metadata": {},
   "source": [
    "### Add Eureqa blueprints\n",
    "\n",
    "Once Autopilot has finished running, add and train a Eureqa blueprint from the Repository."
   ]
  },
  {
   "cell_type": "code",
   "execution_count": 6,
   "id": "0607e97c-5dfd-4910-8e9d-3bac5517bffc",
   "metadata": {},
   "outputs": [
    {
     "name": "stdout",
     "output_type": "stream",
     "text": [
      "Eureqa Regressor (Instant Search: 40 Generations)\n",
      "Eureqa Generalized Additive Model (40 Generations)\n",
      "Eureqa Generalized Additive Model (1000 Generations)\n",
      "Eureqa Generalized Additive Model (10000 Generations)\n",
      "Eureqa Regressor (Quick Search: 250 Generations)\n",
      "Eureqa Regressor (Default Search: 3000 Generations)\n"
     ]
    }
   ],
   "source": [
    "# There are many Eureqa blueprints available in the repository\n",
    "# The \"Eureqa Regressor\" (or \"classifier\") blueprints are the original Eureqa evolutionary model\n",
    "# The \"Eureqa General Additive Model\" blueprints are a 2-stage approach that first fits an xgboost model, then runs Eureqa on the smoothed signal\n",
    "# The number of generations just denotes how long each blueprint will continue running\n",
    "for bp in project_eureqa.get_blueprints():\n",
    "    if bp.model_type.startswith(\"Eureqa\"):\n",
    "        print(bp.model_type)"
   ]
  },
  {
   "cell_type": "code",
   "execution_count": 7,
   "id": "72c8af68-8f7f-4ff1-9a2a-3fec8b5d5ffd",
   "metadata": {},
   "outputs": [
    {
     "data": {
      "text/plain": [
       "Model('Eureqa Regressor (Default Search: 3000 Generations)')"
      ]
     },
     "execution_count": 7,
     "metadata": {},
     "output_type": "execute_result"
    }
   ],
   "source": [
    "# Run the Eureqa 3k gen regressor blueprint from the repository, adding it to the Leaderboard\n",
    "eq_bp = next(\n",
    "    bp\n",
    "    for bp in project_eureqa.get_blueprints()\n",
    "    if bp.model_type == \"Eureqa Regressor (Default Search: 3000 Generations)\"\n",
    ")\n",
    "job_id = project_eureqa.train(eq_bp.id)\n",
    "eq_model = dr.ModelJob.get(project_eureqa.id, job_id).get_result_when_complete()\n",
    "job = eq_model.cross_validate()\n",
    "job.wait_for_completion()\n",
    "eq_model"
   ]
  },
  {
   "cell_type": "code",
   "execution_count": 8,
   "id": "6194ef06-f8b8-4664-a094-4b2a6aae0aae",
   "metadata": {},
   "outputs": [],
   "source": [
    "def view_cv_scores(project, metric=\"RMSE\"):\n",
    "    \"\"\"\n",
    "    View the models with the best validation scores.\n",
    "    \"\"\"\n",
    "    models = project.get_models()\n",
    "    leaderboard = []\n",
    "    for m in models:\n",
    "        leaderboard.append([m.model_type, m.metrics[metric][\"crossValidation\"]])\n",
    "    leaderboard_df = pd.DataFrame(leaderboard, columns=[\"model\", \"cv_score\"]).dropna()\n",
    "    return leaderboard_df.sort_values(by=\"cv_score\")"
   ]
  },
  {
   "cell_type": "code",
   "execution_count": 9,
   "id": "225292cc-ad41-43f4-98be-56d350f6f430",
   "metadata": {},
   "outputs": [
    {
     "name": "stdout",
     "output_type": "stream",
     "text": [
      "In progress: 16, queued: 0 (waited: 0s)\n",
      "In progress: 16, queued: 0 (waited: 1s)\n",
      "In progress: 15, queued: 0 (waited: 1s)\n",
      "In progress: 15, queued: 0 (waited: 2s)\n",
      "In progress: 15, queued: 0 (waited: 3s)\n",
      "In progress: 13, queued: 0 (waited: 5s)\n",
      "In progress: 10, queued: 0 (waited: 9s)\n",
      "In progress: 4, queued: 0 (waited: 15s)\n",
      "In progress: 0, queued: 0 (waited: 29s)\n",
      "In progress: 0, queued: 0 (waited: 49s)\n",
      "In progress: 0, queued: 0 (waited: 69s)\n",
      "In progress: 1, queued: 0 (waited: 90s)\n",
      "In progress: 1, queued: 0 (waited: 110s)\n",
      "In progress: 1, queued: 0 (waited: 130s)\n",
      "In progress: 0, queued: 0 (waited: 151s)\n",
      "In progress: 0, queued: 0 (waited: 171s)\n",
      "In progress: 0, queued: 0 (waited: 192s)\n"
     ]
    },
    {
     "data": {
      "text/html": [
       "<div>\n",
       "<style scoped>\n",
       "    .dataframe tbody tr th:only-of-type {\n",
       "        vertical-align: middle;\n",
       "    }\n",
       "\n",
       "    .dataframe tbody tr th {\n",
       "        vertical-align: top;\n",
       "    }\n",
       "\n",
       "    .dataframe thead th {\n",
       "        text-align: right;\n",
       "    }\n",
       "</style>\n",
       "<table border=\"1\" class=\"dataframe\">\n",
       "  <thead>\n",
       "    <tr style=\"text-align: right;\">\n",
       "      <th></th>\n",
       "      <th>model</th>\n",
       "      <th>cv_score</th>\n",
       "    </tr>\n",
       "  </thead>\n",
       "  <tbody>\n",
       "    <tr>\n",
       "      <th>1</th>\n",
       "      <td>Light Gradient Boosting on ElasticNet Predicti...</td>\n",
       "      <td>1.931188</td>\n",
       "    </tr>\n",
       "    <tr>\n",
       "      <th>0</th>\n",
       "      <td>Light Gradient Boosting on ElasticNet Predicti...</td>\n",
       "      <td>1.932670</td>\n",
       "    </tr>\n",
       "    <tr>\n",
       "      <th>2</th>\n",
       "      <td>Light Gradient Boosted Trees Regressor with Ea...</td>\n",
       "      <td>2.173850</td>\n",
       "    </tr>\n",
       "    <tr>\n",
       "      <th>3</th>\n",
       "      <td>eXtreme Gradient Boosted Trees Regressor</td>\n",
       "      <td>2.251016</td>\n",
       "    </tr>\n",
       "    <tr>\n",
       "      <th>4</th>\n",
       "      <td>RandomForest Regressor</td>\n",
       "      <td>2.698264</td>\n",
       "    </tr>\n",
       "    <tr>\n",
       "      <th>7</th>\n",
       "      <td>Eureqa Regressor (Default Search: 3000 Generat...</td>\n",
       "      <td>14.649408</td>\n",
       "    </tr>\n",
       "  </tbody>\n",
       "</table>\n",
       "</div>"
      ],
      "text/plain": [
       "                                               model   cv_score\n",
       "1  Light Gradient Boosting on ElasticNet Predicti...   1.931188\n",
       "0  Light Gradient Boosting on ElasticNet Predicti...   1.932670\n",
       "2  Light Gradient Boosted Trees Regressor with Ea...   2.173850\n",
       "3           eXtreme Gradient Boosted Trees Regressor   2.251016\n",
       "4                             RandomForest Regressor   2.698264\n",
       "7  Eureqa Regressor (Default Search: 3000 Generat...  14.649408"
      ]
     },
     "execution_count": 9,
     "metadata": {},
     "output_type": "execute_result"
    }
   ],
   "source": [
    "# See where the unmodified Eureqa model initially shows up on the Leaderboard\n",
    "project_eureqa.wait_for_autopilot()\n",
    "view_cv_scores(project_eureqa)"
   ]
  },
  {
   "cell_type": "markdown",
   "id": "cdd6e823-564f-46bd-ba64-803369eeb16d",
   "metadata": {},
   "source": [
    "## Tune Eureqa"
   ]
  },
  {
   "cell_type": "markdown",
   "id": "b814691b-b43c-4b7d-8909-353e54b399d1",
   "metadata": {},
   "source": [
    "There are some use cases where Eureqa shows up at the top of the Leaderboard just by using default settings, but other cases (including this one) need modifications to fit domain knowledge into how Eureqa is run.\n",
    "\n",
    "In this case,rotation is a key component to predicting the movement of a double pendulum. Therefore, modify the Eureqa model to include the `sin`/`cos` building blocks."
   ]
  },
  {
   "cell_type": "code",
   "execution_count": null,
   "id": "7837ce8e-c38f-40df-950d-d10c44c827ff",
   "metadata": {},
   "outputs": [],
   "source": [
    "# This is how you begin tuning Eureqa models\n",
    "# Examine the available tuning options\n",
    "tune = eq_model.start_advanced_tuning_session()\n",
    "tune.get_parameters()[\"tuning_parameters\"]"
   ]
  },
  {
   "cell_type": "code",
   "execution_count": 11,
   "id": "13724095-a65e-4afd-933b-4d1a656599c8",
   "metadata": {},
   "outputs": [
    {
     "data": {
      "text/plain": [
       "[{'parameter_name': 'building_block__cosine',\n",
       "  'parameter_id': 'eyJhcmciOiJidWlsZGluZ19ibG9ja19fY29zaW5lIiwidmlkIjoiMiJ9',\n",
       "  'default_value': 'Disabled',\n",
       "  'current_value': 'Disabled',\n",
       "  'task_name': 'Eureqa Regressor (Default Search: 3000 Generations)',\n",
       "  'constraints': {'select': {'values': ['Disabled']},\n",
       "   'int': {'min': 0, 'max': 100, 'supports_grid_search': False}},\n",
       "  'vertex_id': '2',\n",
       "  'value': None},\n",
       " {'parameter_name': 'building_block__sine',\n",
       "  'parameter_id': 'eyJhcmciOiJidWlsZGluZ19ibG9ja19fc2luZSIsInZpZCI6IjIifQ',\n",
       "  'default_value': 'Disabled',\n",
       "  'current_value': 'Disabled',\n",
       "  'task_name': 'Eureqa Regressor (Default Search: 3000 Generations)',\n",
       "  'constraints': {'select': {'values': ['Disabled']},\n",
       "   'int': {'min': 0, 'max': 100, 'supports_grid_search': False}},\n",
       "  'vertex_id': '2',\n",
       "  'value': None},\n",
       " {'parameter_name': 'target_expression_string',\n",
       "  'parameter_id': 'eyJhcmciOiJ0YXJnZXRfZXhwcmVzc2lvbl9zdHJpbmciLCJ2aWQiOiIyIn0',\n",
       "  'default_value': '',\n",
       "  'current_value': '',\n",
       "  'task_name': 'Eureqa Regressor (Default Search: 3000 Generations)',\n",
       "  'constraints': {'unicode': {}},\n",
       "  'vertex_id': '2',\n",
       "  'value': None}]"
      ]
     },
     "execution_count": 11,
     "metadata": {},
     "output_type": "execute_result"
    }
   ],
   "source": [
    "# Looking specifically at the sin/cos operators and target expression, these are disabled by default\n",
    "[\n",
    "    param\n",
    "    for param in tune.get_parameters()[\"tuning_parameters\"]\n",
    "    if param[\"parameter_name\"].endswith(\"__sine\")\n",
    "    or param[\"parameter_name\"].endswith(\"__cosine\")\n",
    "    or param[\"parameter_name\"] == \"target_expression_string\"\n",
    "]"
   ]
  },
  {
   "cell_type": "code",
   "execution_count": 12,
   "id": "2322a2f8-ba52-491c-be8e-dcb0de44746b",
   "metadata": {},
   "outputs": [
    {
     "name": "stdout",
     "output_type": "stream",
     "text": [
      "Setting to disabled:\n",
      "building_block__addition 0\n",
      "building_block__constant 0\n",
      "building_block__division 2\n",
      "building_block__if-then-else 1\n",
      "building_block__input_variable 1\n",
      "building_block__less-than 1\n",
      "building_block__logistic_function 4\n",
      "building_block__maximum 1\n",
      "building_block__minimum 1\n",
      "building_block__multiplication 0\n",
      "building_block__natural_logarithm 2\n",
      "building_block__square_root 1\n",
      "building_block__step_function 2\n",
      "building_block__subtraction 0\n"
     ]
    }
   ],
   "source": [
    "# First, disable all building blocks\n",
    "print(\"Setting to disabled:\")\n",
    "for param in tune.get_parameters()[\"tuning_parameters\"]:\n",
    "    if (\n",
    "        param[\"parameter_name\"].startswith(\"building_block\")\n",
    "        and param[\"current_value\"] != \"Disabled\"\n",
    "    ):\n",
    "        tune.set_parameter(parameter_name=param[\"parameter_name\"], value=\"Disabled\")\n",
    "        print(param[\"parameter_name\"], param[\"current_value\"])\n",
    "\n",
    "# Now, enable the specific building blocks that you know are relevant to this problem\n",
    "# The final expression should contain trigonometric functions and consist of the form f(x1, x2, v1, a1)\n",
    "tune.set_parameter(parameter_name=\"building_block__sine\", value=1)\n",
    "tune.set_parameter(parameter_name=\"building_block__cosine\", value=1)\n",
    "tune.set_parameter(parameter_name=\"target_expression_string\", value=\"f(x1, x2, v1, a1)\")\n",
    "tune.set_parameter(parameter_name=\"building_block__input_variable\", value=1)\n",
    "tune.set_parameter(parameter_name=\"building_block__constant\", value=1)\n",
    "tune.set_parameter(parameter_name=\"building_block__addition\", value=1)\n",
    "tune.set_parameter(parameter_name=\"building_block__subtraction\", value=0)\n",
    "tune.set_parameter(parameter_name=\"building_block__multiplication\", value=0)\n",
    "\n",
    "# Now run this tuned eureqa model\n",
    "tune.description = \"Enabled sin/cos\"\n",
    "job = tune.run()\n",
    "\n",
    "tuned_eq = job.get_result_when_complete()\n",
    "job = tuned_eq.cross_validate()\n",
    "job.wait_for_completion()"
   ]
  },
  {
   "cell_type": "code",
   "execution_count": 13,
   "id": "97884cce-14c3-4816-8f2e-ae5be8449d79",
   "metadata": {},
   "outputs": [
    {
     "data": {
      "text/html": [
       "<div>\n",
       "<style scoped>\n",
       "    .dataframe tbody tr th:only-of-type {\n",
       "        vertical-align: middle;\n",
       "    }\n",
       "\n",
       "    .dataframe tbody tr th {\n",
       "        vertical-align: top;\n",
       "    }\n",
       "\n",
       "    .dataframe thead th {\n",
       "        text-align: right;\n",
       "    }\n",
       "</style>\n",
       "<table border=\"1\" class=\"dataframe\">\n",
       "  <thead>\n",
       "    <tr style=\"text-align: right;\">\n",
       "      <th></th>\n",
       "      <th>model</th>\n",
       "      <th>cv_score</th>\n",
       "    </tr>\n",
       "  </thead>\n",
       "  <tbody>\n",
       "    <tr>\n",
       "      <th>0</th>\n",
       "      <td>Eureqa Regressor (Default Search: 3000 Generat...</td>\n",
       "      <td>0.863400</td>\n",
       "    </tr>\n",
       "    <tr>\n",
       "      <th>2</th>\n",
       "      <td>Light Gradient Boosting on ElasticNet Predicti...</td>\n",
       "      <td>1.931188</td>\n",
       "    </tr>\n",
       "    <tr>\n",
       "      <th>1</th>\n",
       "      <td>Light Gradient Boosting on ElasticNet Predicti...</td>\n",
       "      <td>1.932670</td>\n",
       "    </tr>\n",
       "    <tr>\n",
       "      <th>3</th>\n",
       "      <td>Light Gradient Boosted Trees Regressor with Ea...</td>\n",
       "      <td>2.173850</td>\n",
       "    </tr>\n",
       "    <tr>\n",
       "      <th>4</th>\n",
       "      <td>eXtreme Gradient Boosted Trees Regressor</td>\n",
       "      <td>2.251016</td>\n",
       "    </tr>\n",
       "    <tr>\n",
       "      <th>5</th>\n",
       "      <td>RandomForest Regressor</td>\n",
       "      <td>2.698264</td>\n",
       "    </tr>\n",
       "    <tr>\n",
       "      <th>8</th>\n",
       "      <td>Eureqa Regressor (Default Search: 3000 Generat...</td>\n",
       "      <td>14.649408</td>\n",
       "    </tr>\n",
       "  </tbody>\n",
       "</table>\n",
       "</div>"
      ],
      "text/plain": [
       "                                               model   cv_score\n",
       "0  Eureqa Regressor (Default Search: 3000 Generat...   0.863400\n",
       "2  Light Gradient Boosting on ElasticNet Predicti...   1.931188\n",
       "1  Light Gradient Boosting on ElasticNet Predicti...   1.932670\n",
       "3  Light Gradient Boosted Trees Regressor with Ea...   2.173850\n",
       "4           eXtreme Gradient Boosted Trees Regressor   2.251016\n",
       "5                             RandomForest Regressor   2.698264\n",
       "8  Eureqa Regressor (Default Search: 3000 Generat...  14.649408"
      ]
     },
     "execution_count": 13,
     "metadata": {},
     "output_type": "execute_result"
    }
   ],
   "source": [
    "view_cv_scores(project_eureqa)"
   ]
  },
  {
   "cell_type": "markdown",
   "id": "556266fd-943a-4843-80ef-50713a6b47d7",
   "metadata": {},
   "source": [
    "You can see a much better performance here by the Eureqa model."
   ]
  },
  {
   "cell_type": "markdown",
   "id": "4f124eeb-8870-40c7-b5b5-dd568ace3067",
   "metadata": {},
   "source": [
    "## Compare DataRobot results with the physical equation"
   ]
  },
  {
   "cell_type": "markdown",
   "id": "58044353-581c-4525-92a0-9ab3f42b19aa",
   "metadata": {},
   "source": [
    "Remember that physicists have determined that the equation governing the motion of a double pendulum is:\n",
    "\n",
    "`a2 = v1<sup>2</sup> * sin(x1 - x2) - a1 * cos(x2 - x1) - g * sin(x2)`\n",
    "\n",
    "Where `g` is the gravitational constant – approximately 9.81 or 9.82 m/s."
   ]
  },
  {
   "cell_type": "code",
   "execution_count": 14,
   "id": "341e2bf4-8819-414f-bebe-0f33c7d6c676",
   "metadata": {},
   "outputs": [
    {
     "data": {
      "text/plain": [
       "'Target = 0.99845736281396*v1^2*sin(x1 - x2) - 9.86312521430275*sin(x2) - 0.999583191303474*a1*cos(x1 - x2)'"
      ]
     },
     "execution_count": 14,
     "metadata": {},
     "output_type": "execute_result"
    }
   ],
   "source": [
    "# Access the closed form of the solution\n",
    "pareto = tuned_eq.get_pareto_front()\n",
    "solutions = pareto.solutions\n",
    "best_solution = solutions[-1]\n",
    "best_solution.expression"
   ]
  },
  {
   "cell_type": "markdown",
   "id": "0fcfb864-1afb-420d-b78e-52b1bc753c04",
   "metadata": {},
   "source": [
    "The Eureqa model has produced a coefficient on that last term of 9.86, remarkably close to the gravitational constant."
   ]
  }
 ],
 "metadata": {
  "kernelspec": {
   "display_name": "dr-notebook",
   "language": "python",
   "name": "dr-notebook"
  },
  "language_info": {
   "codemirror_mode": {
    "name": "ipython",
    "version": 3
   },
   "file_extension": ".py",
   "mimetype": "text/x-python",
   "name": "python",
   "nbconvert_exporter": "python",
   "pygments_lexer": "ipython3",
   "version": "3.7.12"
  }
 },
 "nbformat": 4,
 "nbformat_minor": 5
}
