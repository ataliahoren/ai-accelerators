{
 "cells": [
  {
   "cell_type": "markdown",
   "id": "b691ed7d",
   "metadata": {},
   "source": [
    "# Improve customer communication using generative AI and DataRobot\n",
    "\n",
    "Author: abdul.jilani@datarobot.com\n",
    "\n",
    "## Summary\n",
    "\n",
    "A crucial part of the machine learning life cycle is the effective consumption of the prediction results by the end users. A good machine learning model provides not only the prediction, but also  auxillary information like prediction explanations and the prediction threshold. This additional information is crucial for interpreting and recommending subsequent actions for the user consuming the model predictions. However, all this information is technical in nature and an end user not familiar with this information might not be able to utilize its full potential.\n",
    "\n",
    "This notebook aims to provide an example of how generative AI models like GPT-3 can be used to augment predictions and provide customer friendly subject matter expert responses. The example chosen for this notebook shows how a generative AI model can provide positive user communication to adverse events like loan rejection that is predicted by the model. The generative AI model provides expert advice that is tailored for each individual loan applicant based on the <a href='https://docs.datarobot.com/en/docs/modeling/analyze-models/understand/pred-explain/predex-overview.html'>prediction explanations</a> provided by DataRobot. \n",
    "\n",
    "Positive and engaging customer communication is a key factor for customer success for organizations and DataRobot along with Large Language Model can provide highly tailored, expert level customer communication.\n",
    "\n",
    "- The dataset used in this notebook is the Lending Club dataset. This dataset can be used to build machine learning models that ingest various features of a loan application and infer if the applicant will default on the loan if approved. \n",
    "- This notebook will use the prediction explanations from the loan default model and use generative AI to provide positive and domain-expert-level responses to loan applicants whose loans applications have been ejected by the model. \n",
    "- The notebook assumes data is uploaded and available in DataRobot's AI Catalog.\n",
    "- The notebook assumes that you have an API key for OpenAI systems. This method can be used for generative text AI models similar to GPT-3."
   ]
  },
  {
   "cell_type": "markdown",
   "id": "c5ba974c-a462-429f-80cf-34faa943b15e",
   "metadata": {},
   "source": [
    "## Setup\n",
    "\n",
    "### Import libraries"
   ]
  },
  {
   "cell_type": "code",
   "execution_count": 1,
   "id": "1dcd177d",
   "metadata": {},
   "outputs": [],
   "source": [
    "import pandas as pd\n",
    "import datarobot as dr\n",
    "import yaml"
   ]
  },
  {
   "cell_type": "markdown",
   "id": "040360b8",
   "metadata": {},
   "source": [
    "### Configure connections to DataRobot and OpenAI"
   ]
  },
  {
   "cell_type": "code",
   "execution_count": 2,
   "id": "9530ab90",
   "metadata": {},
   "outputs": [],
   "source": [
    "with open(\"./settings.yaml\", 'r') as stream:\n",
    "    config = yaml.safe_load(stream)"
   ]
  },
  {
   "cell_type": "code",
   "execution_count": 3,
   "id": "e6a2db0e",
   "metadata": {},
   "outputs": [
    {
     "data": {
      "text/plain": [
       "<datarobot.rest.RESTClientObject at 0x7fb8a3162520>"
      ]
     },
     "execution_count": 3,
     "metadata": {},
     "output_type": "execute_result"
    }
   ],
   "source": [
    "dr.Client(endpoint=config['endpoint'], \n",
    "          token=config['token'])"
   ]
  },
  {
   "cell_type": "code",
   "execution_count": 4,
   "id": "1dbcce03",
   "metadata": {},
   "outputs": [],
   "source": [
    "import openai\n",
    "openai.api_key = config['openai_key']"
   ]
  },
  {
   "cell_type": "markdown",
   "id": "edf1f406",
   "metadata": {},
   "source": [
    "## Retrieve a loan default project\n",
    "\n",
    "A loan default model is already built and a deployment has been created for making predictions on the recommended DataRobot model. Please use this <a href='https://community.datarobot.com/t5/ai-accelerators/end-to-end-workflows-with-datarobot-and-aws/td-p/15985'>tutorial</a> to create the project and deployment. The dataset used for this project is available <a href='https://s3.amazonaws.com/datarobot_public_datasets/10K_Lending_Club_Loans.csv'>here</a>."
   ]
  },
  {
   "cell_type": "code",
   "execution_count": 5,
   "id": "bdf84f32",
   "metadata": {},
   "outputs": [
    {
     "data": {
      "text/plain": [
       "Project(Project Big Query)"
      ]
     },
     "execution_count": 5,
     "metadata": {},
     "output_type": "execute_result"
    }
   ],
   "source": [
    "projectID = '64a63925cdbc0e8191b96bb0'\n",
    "project = dr.Project.get(projectID)\n",
    "project"
   ]
  },
  {
   "cell_type": "code",
   "execution_count": 6,
   "id": "dcc7d14e",
   "metadata": {},
   "outputs": [
    {
     "data": {
      "text/plain": [
       "Deployment(is_bad Predictions)"
      ]
     },
     "execution_count": 6,
     "metadata": {},
     "output_type": "execute_result"
    }
   ],
   "source": [
    "DEPLOYMENT_ID = '64a63eaaccaae422aae17bbf'\n",
    "deployment = dr.Deployment.get(DEPLOYMENT_ID)\n",
    "deployment"
   ]
  },
  {
   "cell_type": "code",
   "execution_count": 7,
   "id": "f4425f45",
   "metadata": {},
   "outputs": [
    {
     "data": {
      "text/plain": [
       "Dataset(name='gcp-demo-390701-Demo-10K_Lending_club-2023-06-23T07:34:52.472Z', id='64954b1d2ec1de1758d5bb07')"
      ]
     },
     "execution_count": 7,
     "metadata": {},
     "output_type": "execute_result"
    }
   ],
   "source": [
    "df_inference_id = '64954b1d2ec1de1758d5bb07'\n",
    "df_inference_dataset = dr.Dataset.get(df_inference_id)\n",
    "df_inference_dataset"
   ]
  },
  {
   "cell_type": "markdown",
   "id": "e54c5e58",
   "metadata": {},
   "source": [
    "## Make predictions from inference data\n",
    "\n",
    "The following cells illustrate the process of making predictions from inference data and filtering the negative class predictions which have to be communicated to the loan applicants. "
   ]
  },
  {
   "cell_type": "code",
   "execution_count": 8,
   "id": "bfc1312e",
   "metadata": {},
   "outputs": [],
   "source": [
    "# Set the number of top prediction explanations to extract from DataRobot\n",
    "# This will also be used as the number of bullet points in the prompt response from the LLM\n",
    "n_explanations = 3"
   ]
  },
  {
   "cell_type": "code",
   "execution_count": 9,
   "id": "24ee3722",
   "metadata": {},
   "outputs": [],
   "source": [
    "job = dr.BatchPredictionJob.score(\n",
    "        deployment=DEPLOYMENT_ID,\n",
    "        intake_settings={\n",
    "            'type': 'dataset',\n",
    "            'dataset': df_inference_dataset\n",
    "        },\n",
    "        output_settings={\n",
    "            'type': 'localFile',\n",
    "            'path': './prediction.csv',\n",
    "        },\n",
    "        max_explanations=n_explanations\n",
    "    )"
   ]
  },
  {
   "cell_type": "code",
   "execution_count": 10,
   "id": "0613af41",
   "metadata": {},
   "outputs": [
    {
     "name": "stdout",
     "output_type": "stream",
     "text": [
      "<class 'pandas.core.frame.DataFrame'>\n",
      "RangeIndex: 10000 entries, 0 to 9999\n",
      "Data columns (total 18 columns):\n",
      " #   Column                              Non-Null Count  Dtype  \n",
      "---  ------                              --------------  -----  \n",
      " 0   is_bad_1_PREDICTION                 10000 non-null  float64\n",
      " 1   is_bad_0_PREDICTION                 10000 non-null  float64\n",
      " 2   is_bad_PREDICTION                   10000 non-null  int64  \n",
      " 3   THRESHOLD                           10000 non-null  float64\n",
      " 4   POSITIVE_CLASS                      10000 non-null  int64  \n",
      " 5   EXPLANATION_1_FEATURE_NAME          10000 non-null  object \n",
      " 6   EXPLANATION_1_STRENGTH              10000 non-null  float64\n",
      " 7   EXPLANATION_1_ACTUAL_VALUE          9762 non-null   object \n",
      " 8   EXPLANATION_1_QUALITATIVE_STRENGTH  10000 non-null  object \n",
      " 9   EXPLANATION_2_FEATURE_NAME          10000 non-null  object \n",
      " 10  EXPLANATION_2_STRENGTH              10000 non-null  float64\n",
      " 11  EXPLANATION_2_ACTUAL_VALUE          9680 non-null   object \n",
      " 12  EXPLANATION_2_QUALITATIVE_STRENGTH  10000 non-null  object \n",
      " 13  EXPLANATION_3_FEATURE_NAME          10000 non-null  object \n",
      " 14  EXPLANATION_3_STRENGTH              10000 non-null  float64\n",
      " 15  EXPLANATION_3_ACTUAL_VALUE          9798 non-null   object \n",
      " 16  EXPLANATION_3_QUALITATIVE_STRENGTH  10000 non-null  object \n",
      " 17  DEPLOYMENT_APPROVAL_STATUS          10000 non-null  object \n",
      "dtypes: float64(6), int64(2), object(10)\n",
      "memory usage: 1.4+ MB\n"
     ]
    }
   ],
   "source": [
    "predictions = pd.read_csv('./prediction.csv')\n",
    "predictions.info()"
   ]
  },
  {
   "cell_type": "code",
   "execution_count": 11,
   "id": "716c8d12",
   "metadata": {},
   "outputs": [
    {
     "data": {
      "text/plain": [
       "(34, 18)"
      ]
     },
     "execution_count": 11,
     "metadata": {},
     "output_type": "execute_result"
    }
   ],
   "source": [
    "rejections = predictions[predictions.is_bad_PREDICTION==1]\n",
    "rejections.shape"
   ]
  },
  {
   "cell_type": "markdown",
   "id": "9247d6ed",
   "metadata": {},
   "source": [
    "## Response generation\n",
    "\n",
    "Once the negative outcome records are available, use Generative AI models like GPT-3 to consume prediction explanations and generate responses for communication. This demo uses OpenAI's ChatGPT, but the approach can be used on similar LLM models. The prompt structure and completion functions are inspired from Andrew Ng's course on <a href='https://www.deeplearning.ai/short-courses/chatgpt-prompt-engineering-for-developers/'>Prompt Engineering.</a>"
   ]
  },
  {
   "cell_type": "code",
   "execution_count": 12,
   "id": "2ca83e4b",
   "metadata": {},
   "outputs": [],
   "source": [
    "max_token_size = 4097\n",
    "def get_completion(prompt, model=\"gpt-3.5-turbo\"):\n",
    "    messages = [{\"role\": \"user\", \"content\": prompt}]\n",
    "    response = openai.ChatCompletion.create(\n",
    "        model=model,\n",
    "        messages=messages,\n",
    "        temperature=0, \n",
    "    )\n",
    "    return response.choices[0].message[\"content\"]"
   ]
  },
  {
   "cell_type": "markdown",
   "id": "a48e8f80",
   "metadata": {},
   "source": [
    "The function below takes the prediction explanations from DataRobot and applies domain knowledge to convert highly technical information into user communication. "
   ]
  },
  {
   "cell_type": "code",
   "execution_count": 46,
   "id": "12dbd6a3",
   "metadata": {},
   "outputs": [],
   "source": [
    "def provide_rejection_advice(sample_1,  n_explanations):\n",
    "    sample_1.fillna('not available', inplace = True)\n",
    "    explanation_string = sample_1.EXPLANATION_1_FEATURE_NAME.iloc[0] + ' is ' \\\n",
    "    + str(sample_1.EXPLANATION_1_ACTUAL_VALUE.iloc[0]) + ', ' \\\n",
    "    + sample_1.EXPLANATION_2_FEATURE_NAME.iloc[0] + ' is ' \\\n",
    "    + str(sample_1.EXPLANATION_2_ACTUAL_VALUE.iloc[0]) + ', ' \\\n",
    "    + sample_1.EXPLANATION_3_FEATURE_NAME.iloc[0] + ' is ' \\\n",
    "    + str(sample_1.EXPLANATION_3_ACTUAL_VALUE.iloc[0]) + ', '\n",
    "    explanation_string = explanation_string.replace('loan_amnt','loan amount')\\\n",
    "    .replace('emp_length', 'employment tenure')\\\n",
    "    .replace('inq_last_6mths', 'number of customer inquiries for loan in last 6 months')\\\n",
    "    .replace('emp_title', 'employee designation')\n",
    "    \n",
    "    prompt = 'You are a telephonic loan sales representative. Based on the model prediction of loan rejection for a customer due to the following reasons \"'+\\\n",
    "    explanation_string+\\\n",
    "    '\", please provide a positive sentiment reply to the customer with ' + str(n_explanations) \\\n",
    "    + ' of the most urgent steps to improve the chances of loan approval. Do not mention about any models or predictions in the response.'\n",
    "    response = get_completion(prompt)\n",
    "    return prompt, response"
   ]
  },
  {
   "cell_type": "markdown",
   "id": "d274e321",
   "metadata": {},
   "source": [
    "## Outcome\n",
    "\n",
    "In the below examples, it is evident that marrying DataRobot's prediction explanations with LLM's like GPT-3/4 provides a superior customer experience. This also reduces the effort on SMEs and Domain experts in an organization and improves their productivity."
   ]
  },
  {
   "cell_type": "code",
   "execution_count": 47,
   "id": "8aa615bd",
   "metadata": {},
   "outputs": [
    {
     "data": {
      "text/html": [
       "<div>\n",
       "<style scoped>\n",
       "    .dataframe tbody tr th:only-of-type {\n",
       "        vertical-align: middle;\n",
       "    }\n",
       "\n",
       "    .dataframe tbody tr th {\n",
       "        vertical-align: top;\n",
       "    }\n",
       "\n",
       "    .dataframe thead th {\n",
       "        text-align: right;\n",
       "    }\n",
       "</style>\n",
       "<table border=\"1\" class=\"dataframe\">\n",
       "  <thead>\n",
       "    <tr style=\"text-align: right;\">\n",
       "      <th></th>\n",
       "      <th>is_bad_1_PREDICTION</th>\n",
       "      <th>is_bad_0_PREDICTION</th>\n",
       "      <th>is_bad_PREDICTION</th>\n",
       "      <th>THRESHOLD</th>\n",
       "      <th>POSITIVE_CLASS</th>\n",
       "      <th>EXPLANATION_1_FEATURE_NAME</th>\n",
       "      <th>EXPLANATION_1_STRENGTH</th>\n",
       "      <th>EXPLANATION_1_ACTUAL_VALUE</th>\n",
       "      <th>EXPLANATION_1_QUALITATIVE_STRENGTH</th>\n",
       "      <th>EXPLANATION_2_FEATURE_NAME</th>\n",
       "      <th>EXPLANATION_2_STRENGTH</th>\n",
       "      <th>EXPLANATION_2_ACTUAL_VALUE</th>\n",
       "      <th>EXPLANATION_2_QUALITATIVE_STRENGTH</th>\n",
       "      <th>EXPLANATION_3_FEATURE_NAME</th>\n",
       "      <th>EXPLANATION_3_STRENGTH</th>\n",
       "      <th>EXPLANATION_3_ACTUAL_VALUE</th>\n",
       "      <th>EXPLANATION_3_QUALITATIVE_STRENGTH</th>\n",
       "      <th>DEPLOYMENT_APPROVAL_STATUS</th>\n",
       "    </tr>\n",
       "  </thead>\n",
       "  <tbody>\n",
       "    <tr>\n",
       "      <th>3869</th>\n",
       "      <td>0.540126</td>\n",
       "      <td>0.459874</td>\n",
       "      <td>1</td>\n",
       "      <td>0.5</td>\n",
       "      <td>1</td>\n",
       "      <td>int_rate</td>\n",
       "      <td>1.300985</td>\n",
       "      <td>0.2248</td>\n",
       "      <td>+++</td>\n",
       "      <td>term</td>\n",
       "      <td>0.36881</td>\n",
       "      <td>60 months</td>\n",
       "      <td>++</td>\n",
       "      <td>sub_grade</td>\n",
       "      <td>0.272515</td>\n",
       "      <td>G2</td>\n",
       "      <td>++</td>\n",
       "      <td>APPROVED</td>\n",
       "    </tr>\n",
       "  </tbody>\n",
       "</table>\n",
       "</div>"
      ],
      "text/plain": [
       "      is_bad_1_PREDICTION  is_bad_0_PREDICTION  is_bad_PREDICTION  THRESHOLD  \\\n",
       "3869             0.540126             0.459874                  1        0.5   \n",
       "\n",
       "      POSITIVE_CLASS EXPLANATION_1_FEATURE_NAME  EXPLANATION_1_STRENGTH  \\\n",
       "3869               1                   int_rate                1.300985   \n",
       "\n",
       "     EXPLANATION_1_ACTUAL_VALUE EXPLANATION_1_QUALITATIVE_STRENGTH  \\\n",
       "3869                     0.2248                                +++   \n",
       "\n",
       "     EXPLANATION_2_FEATURE_NAME  EXPLANATION_2_STRENGTH  \\\n",
       "3869                       term                 0.36881   \n",
       "\n",
       "     EXPLANATION_2_ACTUAL_VALUE EXPLANATION_2_QUALITATIVE_STRENGTH  \\\n",
       "3869                  60 months                                 ++   \n",
       "\n",
       "     EXPLANATION_3_FEATURE_NAME  EXPLANATION_3_STRENGTH  \\\n",
       "3869                  sub_grade                0.272515   \n",
       "\n",
       "     EXPLANATION_3_ACTUAL_VALUE EXPLANATION_3_QUALITATIVE_STRENGTH  \\\n",
       "3869                         G2                                 ++   \n",
       "\n",
       "     DEPLOYMENT_APPROVAL_STATUS  \n",
       "3869                   APPROVED  "
      ]
     },
     "execution_count": 47,
     "metadata": {},
     "output_type": "execute_result"
    }
   ],
   "source": [
    "sample_1 = rejections.sample(1)\n",
    "sample_1"
   ]
  },
  {
   "cell_type": "code",
   "execution_count": 48,
   "id": "b639eb6f",
   "metadata": {},
   "outputs": [
    {
     "name": "stdout",
     "output_type": "stream",
     "text": [
      "You are a telephonic loan sales representative. Based on the model prediction of loan rejection for a customer due to the following reasons \"int_rate is 0.2248, term is  60 months, sub_grade is G2, \", please provide a positive sentiment reply to the customer with 3 of the most urgent steps to improve the chances of loan approval. Do not mention about any models or predictions in the response.\n",
      "=====================\n",
      "Dear Customer,\n",
      "\n",
      "Thank you for considering our loan services. We understand that you may have concerns about the loan approval process, and we appreciate the opportunity to address them. While we cannot guarantee approval, we can certainly provide you with some steps that may improve your chances:\n",
      "\n",
      "1. Improve your credit score: Lenders often consider credit history as a crucial factor in loan approval. To enhance your chances, focus on paying your bills on time, reducing outstanding debts, and maintaining a low credit utilization ratio. This will demonstrate your financial responsibility and increase your creditworthiness.\n",
      "\n",
      "2. Consider a shorter loan term: In your case, the loan term is currently set at 60 months. Shortening the term may positively impact your chances of approval. A shorter term reduces the overall risk for the lender and shows your commitment to repaying the loan in a timely manner.\n",
      "\n",
      "3. Explore alternative loan options: While our loan may not be suitable for your current circumstances, there might be other loan products available that better align with your financial situation. We encourage you to discuss your needs with our loan specialists, who can guide you towards alternative options that may increase your chances of approval.\n",
      "\n",
      "Remember, each loan application is unique, and our decision is based on various factors. By taking these steps, you can demonstrate your commitment to responsible financial management and potentially improve your chances of loan approval.\n",
      "\n",
      "If you have any further questions or require assistance, please do not hesitate to reach out to our team. We are here to help you navigate the loan process and find the best solution for your needs.\n",
      "\n",
      "Best regards,\n",
      "[Your Name]\n",
      "Telephonic Loan Sales Representative\n"
     ]
    }
   ],
   "source": [
    "# please replace n_explanations with a lower number if you want to reduce the amount of\n",
    "# text in the response.\n",
    "prompt, loan_rejection_advice = provide_rejection_advice(sample_1, n_explanations)\n",
    "print(prompt)\n",
    "print('=====================')\n",
    "print(loan_rejection_advice)"
   ]
  },
  {
   "cell_type": "code",
   "execution_count": 17,
   "id": "2fb66d51",
   "metadata": {},
   "outputs": [
    {
     "data": {
      "text/html": [
       "<div>\n",
       "<style scoped>\n",
       "    .dataframe tbody tr th:only-of-type {\n",
       "        vertical-align: middle;\n",
       "    }\n",
       "\n",
       "    .dataframe tbody tr th {\n",
       "        vertical-align: top;\n",
       "    }\n",
       "\n",
       "    .dataframe thead th {\n",
       "        text-align: right;\n",
       "    }\n",
       "</style>\n",
       "<table border=\"1\" class=\"dataframe\">\n",
       "  <thead>\n",
       "    <tr style=\"text-align: right;\">\n",
       "      <th></th>\n",
       "      <th>is_bad_1_PREDICTION</th>\n",
       "      <th>is_bad_0_PREDICTION</th>\n",
       "      <th>is_bad_PREDICTION</th>\n",
       "      <th>THRESHOLD</th>\n",
       "      <th>POSITIVE_CLASS</th>\n",
       "      <th>EXPLANATION_1_FEATURE_NAME</th>\n",
       "      <th>EXPLANATION_1_STRENGTH</th>\n",
       "      <th>EXPLANATION_1_ACTUAL_VALUE</th>\n",
       "      <th>EXPLANATION_1_QUALITATIVE_STRENGTH</th>\n",
       "      <th>EXPLANATION_2_FEATURE_NAME</th>\n",
       "      <th>EXPLANATION_2_STRENGTH</th>\n",
       "      <th>EXPLANATION_2_ACTUAL_VALUE</th>\n",
       "      <th>EXPLANATION_2_QUALITATIVE_STRENGTH</th>\n",
       "      <th>EXPLANATION_3_FEATURE_NAME</th>\n",
       "      <th>EXPLANATION_3_STRENGTH</th>\n",
       "      <th>EXPLANATION_3_ACTUAL_VALUE</th>\n",
       "      <th>EXPLANATION_3_QUALITATIVE_STRENGTH</th>\n",
       "      <th>DEPLOYMENT_APPROVAL_STATUS</th>\n",
       "    </tr>\n",
       "  </thead>\n",
       "  <tbody>\n",
       "    <tr>\n",
       "      <th>2105</th>\n",
       "      <td>0.543579</td>\n",
       "      <td>0.456421</td>\n",
       "      <td>1</td>\n",
       "      <td>0.5</td>\n",
       "      <td>1</td>\n",
       "      <td>int_rate</td>\n",
       "      <td>0.692471</td>\n",
       "      <td>0.1991</td>\n",
       "      <td>+++</td>\n",
       "      <td>emp_title</td>\n",
       "      <td>0.276402</td>\n",
       "      <td>NaN</td>\n",
       "      <td>++</td>\n",
       "      <td>term</td>\n",
       "      <td>0.276129</td>\n",
       "      <td>60 months</td>\n",
       "      <td>++</td>\n",
       "      <td>APPROVED</td>\n",
       "    </tr>\n",
       "  </tbody>\n",
       "</table>\n",
       "</div>"
      ],
      "text/plain": [
       "      is_bad_1_PREDICTION  is_bad_0_PREDICTION  is_bad_PREDICTION  THRESHOLD  \\\n",
       "2105             0.543579             0.456421                  1        0.5   \n",
       "\n",
       "      POSITIVE_CLASS EXPLANATION_1_FEATURE_NAME  EXPLANATION_1_STRENGTH  \\\n",
       "2105               1                   int_rate                0.692471   \n",
       "\n",
       "     EXPLANATION_1_ACTUAL_VALUE EXPLANATION_1_QUALITATIVE_STRENGTH  \\\n",
       "2105                     0.1991                                +++   \n",
       "\n",
       "     EXPLANATION_2_FEATURE_NAME  EXPLANATION_2_STRENGTH  \\\n",
       "2105                  emp_title                0.276402   \n",
       "\n",
       "     EXPLANATION_2_ACTUAL_VALUE EXPLANATION_2_QUALITATIVE_STRENGTH  \\\n",
       "2105                        NaN                                 ++   \n",
       "\n",
       "     EXPLANATION_3_FEATURE_NAME  EXPLANATION_3_STRENGTH  \\\n",
       "2105                       term                0.276129   \n",
       "\n",
       "     EXPLANATION_3_ACTUAL_VALUE EXPLANATION_3_QUALITATIVE_STRENGTH  \\\n",
       "2105                  60 months                                 ++   \n",
       "\n",
       "     DEPLOYMENT_APPROVAL_STATUS  \n",
       "2105                   APPROVED  "
      ]
     },
     "execution_count": 17,
     "metadata": {},
     "output_type": "execute_result"
    }
   ],
   "source": [
    "sample_2 = rejections.sample(1)\n",
    "sample_2"
   ]
  },
  {
   "cell_type": "code",
   "execution_count": 49,
   "id": "8ed7cc4e",
   "metadata": {},
   "outputs": [
    {
     "name": "stdout",
     "output_type": "stream",
     "text": [
      "You are a telephonic loan sales representative. Based on the model prediction of loan rejection for a customer due to the following reasons \"int_rate is 0.1991, employee designation is not available, term is  60 months, \", please provide a positive sentiment reply to the customer with 3 of the most urgent steps to improve the chances of loan approval. Do not mention about any models or predictions in the response.\n",
      "=====================\n",
      "Dear Customer,\n",
      "\n",
      "Thank you for considering our loan services. We appreciate your interest in obtaining a loan from us. While we understand that your recent loan application was not approved, we would like to provide you with some steps that can help improve your chances of loan approval in the future.\n",
      "\n",
      "1. Improve your credit score: Lenders often consider credit scores as an important factor in loan approval. Maintaining a good credit score by making timely payments, reducing outstanding debts, and avoiding new credit applications can significantly enhance your chances of loan approval.\n",
      "\n",
      "2. Provide complete employment details: It is crucial to provide accurate and detailed information about your employment, including your job title, employer's name, and duration of employment. This information helps lenders assess your stability and ability to repay the loan.\n",
      "\n",
      "3. Consider a shorter loan term: While a 60-month term may seem appealing due to lower monthly payments, it can also increase the risk for lenders. Opting for a shorter loan term, if feasible, can demonstrate your commitment to repaying the loan quickly and may increase your chances of approval.\n",
      "\n",
      "We hope you find these suggestions helpful in improving your chances of loan approval. If you have any further questions or require assistance, please do not hesitate to reach out to us. We are here to support you throughout the loan application process.\n",
      "\n",
      "Best regards,\n",
      "[Your Name]\n",
      "Telephonic Loan Sales Representative\n"
     ]
    }
   ],
   "source": [
    "prompt, loan_rejection_advice = provide_rejection_advice(sample_2, n_explanations)\n",
    "print(prompt)\n",
    "print('=====================')\n",
    "print(loan_rejection_advice)"
   ]
  },
  {
   "cell_type": "code",
   "execution_count": 39,
   "id": "dcc16ce0",
   "metadata": {},
   "outputs": [
    {
     "data": {
      "text/html": [
       "<div>\n",
       "<style scoped>\n",
       "    .dataframe tbody tr th:only-of-type {\n",
       "        vertical-align: middle;\n",
       "    }\n",
       "\n",
       "    .dataframe tbody tr th {\n",
       "        vertical-align: top;\n",
       "    }\n",
       "\n",
       "    .dataframe thead th {\n",
       "        text-align: right;\n",
       "    }\n",
       "</style>\n",
       "<table border=\"1\" class=\"dataframe\">\n",
       "  <thead>\n",
       "    <tr style=\"text-align: right;\">\n",
       "      <th></th>\n",
       "      <th>is_bad_1_PREDICTION</th>\n",
       "      <th>is_bad_0_PREDICTION</th>\n",
       "      <th>is_bad_PREDICTION</th>\n",
       "      <th>THRESHOLD</th>\n",
       "      <th>POSITIVE_CLASS</th>\n",
       "      <th>EXPLANATION_1_FEATURE_NAME</th>\n",
       "      <th>EXPLANATION_1_STRENGTH</th>\n",
       "      <th>EXPLANATION_1_ACTUAL_VALUE</th>\n",
       "      <th>EXPLANATION_1_QUALITATIVE_STRENGTH</th>\n",
       "      <th>EXPLANATION_2_FEATURE_NAME</th>\n",
       "      <th>EXPLANATION_2_STRENGTH</th>\n",
       "      <th>EXPLANATION_2_ACTUAL_VALUE</th>\n",
       "      <th>EXPLANATION_2_QUALITATIVE_STRENGTH</th>\n",
       "      <th>EXPLANATION_3_FEATURE_NAME</th>\n",
       "      <th>EXPLANATION_3_STRENGTH</th>\n",
       "      <th>EXPLANATION_3_ACTUAL_VALUE</th>\n",
       "      <th>EXPLANATION_3_QUALITATIVE_STRENGTH</th>\n",
       "      <th>DEPLOYMENT_APPROVAL_STATUS</th>\n",
       "    </tr>\n",
       "  </thead>\n",
       "  <tbody>\n",
       "    <tr>\n",
       "      <th>9918</th>\n",
       "      <td>0.502272</td>\n",
       "      <td>0.497728</td>\n",
       "      <td>1</td>\n",
       "      <td>0.5</td>\n",
       "      <td>1</td>\n",
       "      <td>loan_amnt</td>\n",
       "      <td>0.524048</td>\n",
       "      <td>1000</td>\n",
       "      <td>+++</td>\n",
       "      <td>int_rate</td>\n",
       "      <td>0.353008</td>\n",
       "      <td>0.1629</td>\n",
       "      <td>++</td>\n",
       "      <td>inq_last_6mths</td>\n",
       "      <td>0.262294</td>\n",
       "      <td>3</td>\n",
       "      <td>++</td>\n",
       "      <td>APPROVED</td>\n",
       "    </tr>\n",
       "  </tbody>\n",
       "</table>\n",
       "</div>"
      ],
      "text/plain": [
       "      is_bad_1_PREDICTION  is_bad_0_PREDICTION  is_bad_PREDICTION  THRESHOLD  \\\n",
       "9918             0.502272             0.497728                  1        0.5   \n",
       "\n",
       "      POSITIVE_CLASS EXPLANATION_1_FEATURE_NAME  EXPLANATION_1_STRENGTH  \\\n",
       "9918               1                  loan_amnt                0.524048   \n",
       "\n",
       "     EXPLANATION_1_ACTUAL_VALUE EXPLANATION_1_QUALITATIVE_STRENGTH  \\\n",
       "9918                       1000                                +++   \n",
       "\n",
       "     EXPLANATION_2_FEATURE_NAME  EXPLANATION_2_STRENGTH  \\\n",
       "9918                   int_rate                0.353008   \n",
       "\n",
       "     EXPLANATION_2_ACTUAL_VALUE EXPLANATION_2_QUALITATIVE_STRENGTH  \\\n",
       "9918                     0.1629                                 ++   \n",
       "\n",
       "     EXPLANATION_3_FEATURE_NAME  EXPLANATION_3_STRENGTH  \\\n",
       "9918             inq_last_6mths                0.262294   \n",
       "\n",
       "     EXPLANATION_3_ACTUAL_VALUE EXPLANATION_3_QUALITATIVE_STRENGTH  \\\n",
       "9918                          3                                 ++   \n",
       "\n",
       "     DEPLOYMENT_APPROVAL_STATUS  \n",
       "9918                   APPROVED  "
      ]
     },
     "execution_count": 39,
     "metadata": {},
     "output_type": "execute_result"
    }
   ],
   "source": [
    "sample_3 = rejections[rejections.index==9918].head()\n",
    "sample_3"
   ]
  },
  {
   "cell_type": "code",
   "execution_count": 50,
   "id": "bcc6bf86",
   "metadata": {},
   "outputs": [
    {
     "name": "stdout",
     "output_type": "stream",
     "text": [
      "You are a telephonic loan sales representative. Based on the model prediction of loan rejection for a customer due to the following reasons \"loan amount is 1000, int_rate is 0.1629, number of customer inquiries for loan in last 6 months is 3, \", please provide a positive sentiment reply to the customer with 3 of the most urgent steps to improve the chances of loan approval. Do not mention about any models or predictions in the response.\n",
      "=====================\n",
      "Dear Customer,\n",
      "\n",
      "Thank you for considering our loan services. We appreciate your interest in obtaining financial assistance. We understand that loan approval is important to you, and we are here to help you improve your chances. \n",
      "\n",
      "To increase the likelihood of loan approval, we recommend focusing on the following three steps:\n",
      "\n",
      "1. Strengthen your credit history: Maintaining a good credit score is crucial for loan approval. We suggest reviewing your credit report and ensuring that all information is accurate. Paying bills on time, reducing credit card balances, and avoiding new credit inquiries can positively impact your creditworthiness.\n",
      "\n",
      "2. Adjust the loan amount: In some cases, a smaller loan amount can increase the chances of approval. Consider adjusting the loan amount to a more manageable level that aligns with your financial situation. This can demonstrate responsible borrowing and improve your chances of approval.\n",
      "\n",
      "3. Minimize recent loan inquiries: Lenders often consider the number of recent loan inquiries when evaluating loan applications. While we understand your need for financial assistance, it may be beneficial to limit new loan inquiries for the time being. This will show lenders that you are focused on responsible borrowing and reduce the perceived risk.\n",
      "\n",
      "Remember, our team is here to guide you through the loan application process and provide any additional assistance you may need. We believe that by following these steps, you can improve your chances of loan approval. We appreciate your trust in our services and look forward to helping you achieve your financial goals.\n",
      "\n",
      "Best regards,\n",
      "[Your Name]\n",
      "Telephonic Loan Sales Representative\n"
     ]
    }
   ],
   "source": [
    "prompt, loan_rejection_advice = provide_rejection_advice(sample_3, n_explanations)\n",
    "print(prompt)\n",
    "print('=====================')\n",
    "print(loan_rejection_advice)"
   ]
  },
  {
   "cell_type": "markdown",
   "id": "d84dfbb0",
   "metadata": {},
   "source": [
    "## Conclusion\n",
    "In this notebook, you can see how you can use Generative AI with DataRobot's prediction explanations to augment predictions and provide customer friendly and subject matter expert-level communication. "
   ]
  }
 ],
 "metadata": {
  "kernelspec": {
   "display_name": "Python 3",
   "language": "python",
   "name": "python3"
  },
  "language_info": {
   "codemirror_mode": {
    "name": "ipython",
    "version": 3
   },
   "file_extension": ".py",
   "mimetype": "text/x-python",
   "name": "python",
   "nbconvert_exporter": "python",
   "pygments_lexer": "ipython3",
   "version": "3.8.8"
  }
 },
 "nbformat": 4,
 "nbformat_minor": 5
}
