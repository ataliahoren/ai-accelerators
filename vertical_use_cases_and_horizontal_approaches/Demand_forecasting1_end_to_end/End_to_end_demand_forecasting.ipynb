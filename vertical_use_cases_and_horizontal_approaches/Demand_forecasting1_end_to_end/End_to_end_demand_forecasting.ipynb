{
 "cells": [
  {
   "cell_type": "markdown",
   "id": "9b4473b3-339a-493e-8fa5-b04800b668c5",
   "metadata": {},
   "source": [
    "# End-to-end demand forecasting workflow\n",
    "\n",
    "Author: Andrii Kruchko\n",
    "\n",
    "Version Date: 01/19/2023\n",
    "\n",
    "[DataRobot's API reference documentation](https://docs.datarobot.com/en/docs/api/reference/index.html)"
   ]
  },
  {
   "cell_type": "markdown",
   "id": "f56477c3-0743-4330-885a-d798e7510ad7",
   "metadata": {},
   "source": [
    "## Summary\n",
    "\n",
    "This notebook illustrates an end-to-end demand forecasting workflow in DataRobot.  Time series forecasting in DataRobot has a huge suite of tools and approaches to handle highly complex multiseries problems. These include:\n",
    "\n",
    "- Automatic feature engineering and creation of lagged variables across multiple data types, as well as training dataset creation\n",
    "- Diverse approaches for time series modeling with text data, learning from cross-series interactions, and scaling to hundreds or thousands of series\n",
    "- Feature generation from an uploaded calendar of events file specific to your business or use case\n",
    "- Automatic backtesting controls for regular and irregular time series\n",
    "- Training dataset creation for an irregular series via custom aggregations\n",
    "- Segmented modeling, hierarchical clustering for multi-series  models, text support, and ensembling\n",
    "- Periodicity and stationarity detection and automatic feature list creation with various differencing strategies\n",
    "- Cold start modeling on series with limited or no history\n",
    "- Insights for models\n",
    "\n",
    "This notebook serves as an introduction to that diverse functionality via the Python SDK. Subsequent notebooks in this series will dig deeper into the nuance of seeing data drift in production, handling cold-start series, and deploying a web-based application for what-if analysis for promotion planning. As such, this notebook provides a framework to inspect and handle common data and modeling challenges, identifying common pitfalls in real-life time series data, and leaving it to the reader to dig deeper on specific issues. The dataset consists of 50 skus across many stores over a 2 year period with varying series history, typical of a business releasing and removing products over time.\n",
    "\n",
    "DataRobot will be used for the model training, selection, deployment, and making predictions.  Snowflake will work as a datasource for both training and testing, and as a storage to write predictions back. This workflow, however, applies to any data source, e.g. Redshift, S3, Big Query, Synapse, etc.  For examples of data loading from other environemnts, check out the other end-to-end examples in this Git Repo. \n",
    "\n",
    "The following steps are covered:\n",
    "\n",
    "- [Ingesting the data from Snowflake into AI Catalog within DataRobot](#data_prep)\n",
    "- [Running a new DataRobot project](#modeling)\n",
    "- [Getting the insights from the top model](#insights)\n",
    "- [Deploying the recommended model](#deployment)\n",
    "- [Defining and running a job to make predictions and write them back into Snowflake](#preds)\n",
    "\n"
   ]
  },
  {
   "cell_type": "markdown",
   "id": "b39eadba-f1b5-4f0f-87e3-2541600c20e6",
   "metadata": {},
   "source": [
    "## Setup\n",
    "\n",
    "### Optional: Import public demo data\n",
    "\n",
    "For this workflow, you can download publicly available datasets (training, scoring, and calendar data) from DataRobot's S3 bucket to your database or load into your DataRobot instance. \n",
    "\n",
    "If you are using Snowflake, you will need to update the fields below with your Snowflake information. Data will be loaded and created in your Snowflake instance. You will also need the following files found in the same repo as this notebook:\n",
    "\n",
    "* dr_utils.py\n",
    "* datasets.yaml\n",
    "\n",
    "Once you are done with this notebook, remember to delete the data from your Snowflake instance."
   ]
  },
  {
   "cell_type": "code",
   "execution_count": 1,
   "id": "98c81648-cd2c-4c50-aefc-c01fad05f8bd",
   "metadata": {
    "tags": []
   },
   "outputs": [],
   "source": [
    "#requires Python 3.8 or higher\n",
    "from dr_utils import prepare_demo_tables_in_db"
   ]
  },
  {
   "cell_type": "markdown",
   "id": "f8621c21-fcb3-45c1-bcfd-771943e66c1e",
   "metadata": {},
   "source": [
    "Fill out the credentials for your Snowflake instance. You will need write access to a database."
   ]
  },
  {
   "cell_type": "code",
   "execution_count": 2,
   "id": "4bdef746-6731-4990-afa5-6f7e956820a3",
   "metadata": {},
   "outputs": [],
   "source": [
    "db_user = 'your_username' # Username to access Snowflake database\n",
    "db_password = 'your_password' # Password \n",
    "account = 'account' # Snowflake account identifier\n",
    "db = 'YOUR_DB_NAME' # Database to Write_To\n",
    "warehouse = 'YOUR_WAREHOUSE' # Warehouse \n",
    "schema = 'YOUR_SCHEMA' # Schema\n",
    "\n"
   ]
  },
  {
   "cell_type": "markdown",
   "id": "a17b9687-4a39-4161-bf91-a26794bc237f",
   "metadata": {},
   "source": [
    "Use the util function to pull the data from DataRobot's public S3 and import into your Snowflake instance."
   ]
  },
  {
   "cell_type": "code",
   "execution_count": 3,
   "id": "55f1e049-f95b-4ba2-9d07-0a811c19b33a",
   "metadata": {},
   "outputs": [
    {
     "name": "stdout",
     "output_type": "stream",
     "text": [
      "******************************\n",
      "table: ts_demand_forecasting_train\n"
     ]
    },
    {
     "data": {
      "text/html": [
       "<div>\n",
       "<style scoped>\n",
       "    .dataframe tbody tr th:only-of-type {\n",
       "        vertical-align: middle;\n",
       "    }\n",
       "\n",
       "    .dataframe tbody tr th {\n",
       "        vertical-align: top;\n",
       "    }\n",
       "\n",
       "    .dataframe thead th {\n",
       "        text-align: right;\n",
       "    }\n",
       "</style>\n",
       "<table border=\"1\" class=\"dataframe\">\n",
       "  <thead>\n",
       "    <tr style=\"text-align: right;\">\n",
       "      <th></th>\n",
       "      <th>STORE_SKU</th>\n",
       "      <th>DATE</th>\n",
       "      <th>UNITS</th>\n",
       "      <th>UNITS_MIN</th>\n",
       "      <th>UNITS_MAX</th>\n",
       "      <th>UNITS_MEAN</th>\n",
       "      <th>UNITS_STD</th>\n",
       "      <th>TRANSACTIONS_SUM</th>\n",
       "      <th>PROMO_MAX</th>\n",
       "      <th>PRICE_MEAN</th>\n",
       "      <th>STORE</th>\n",
       "      <th>SKU</th>\n",
       "      <th>SKU_CATEGORY</th>\n",
       "    </tr>\n",
       "  </thead>\n",
       "  <tbody>\n",
       "    <tr>\n",
       "      <th>0</th>\n",
       "      <td>store_130_SKU_120931082</td>\n",
       "      <td>2019-05-06</td>\n",
       "      <td>388.0</td>\n",
       "      <td>44.0</td>\n",
       "      <td>69.0</td>\n",
       "      <td>55.428571</td>\n",
       "      <td>8.182443</td>\n",
       "      <td>243.0</td>\n",
       "      <td>1.0</td>\n",
       "      <td>44.8</td>\n",
       "      <td>store_130</td>\n",
       "      <td>SKU_120931082</td>\n",
       "      <td>cat_1160</td>\n",
       "    </tr>\n",
       "    <tr>\n",
       "      <th>1</th>\n",
       "      <td>store_130_SKU_120931082</td>\n",
       "      <td>2019-05-13</td>\n",
       "      <td>318.0</td>\n",
       "      <td>37.0</td>\n",
       "      <td>62.0</td>\n",
       "      <td>45.428571</td>\n",
       "      <td>8.079958</td>\n",
       "      <td>210.0</td>\n",
       "      <td>1.0</td>\n",
       "      <td>44.8</td>\n",
       "      <td>store_130</td>\n",
       "      <td>SKU_120931082</td>\n",
       "      <td>cat_1160</td>\n",
       "    </tr>\n",
       "    <tr>\n",
       "      <th>2</th>\n",
       "      <td>store_130_SKU_120931082</td>\n",
       "      <td>2019-05-20</td>\n",
       "      <td>126.0</td>\n",
       "      <td>13.0</td>\n",
       "      <td>23.0</td>\n",
       "      <td>18.000000</td>\n",
       "      <td>3.915780</td>\n",
       "      <td>118.0</td>\n",
       "      <td>0.0</td>\n",
       "      <td>44.8</td>\n",
       "      <td>store_130</td>\n",
       "      <td>SKU_120931082</td>\n",
       "      <td>cat_1160</td>\n",
       "    </tr>\n",
       "    <tr>\n",
       "      <th>3</th>\n",
       "      <td>store_130_SKU_120931082</td>\n",
       "      <td>2019-05-27</td>\n",
       "      <td>285.0</td>\n",
       "      <td>23.0</td>\n",
       "      <td>65.0</td>\n",
       "      <td>40.714286</td>\n",
       "      <td>14.067863</td>\n",
       "      <td>197.0</td>\n",
       "      <td>1.0</td>\n",
       "      <td>44.8</td>\n",
       "      <td>store_130</td>\n",
       "      <td>SKU_120931082</td>\n",
       "      <td>cat_1160</td>\n",
       "    </tr>\n",
       "    <tr>\n",
       "      <th>4</th>\n",
       "      <td>store_130_SKU_120931082</td>\n",
       "      <td>2019-06-03</td>\n",
       "      <td>93.0</td>\n",
       "      <td>10.0</td>\n",
       "      <td>20.0</td>\n",
       "      <td>13.285714</td>\n",
       "      <td>3.352327</td>\n",
       "      <td>87.0</td>\n",
       "      <td>0.0</td>\n",
       "      <td>44.8</td>\n",
       "      <td>store_130</td>\n",
       "      <td>SKU_120931082</td>\n",
       "      <td>cat_1160</td>\n",
       "    </tr>\n",
       "  </tbody>\n",
       "</table>\n",
       "</div>"
      ],
      "text/plain": [
       "                 STORE_SKU        DATE  UNITS  UNITS_MIN  UNITS_MAX  \\\n",
       "0  store_130_SKU_120931082  2019-05-06  388.0       44.0       69.0   \n",
       "1  store_130_SKU_120931082  2019-05-13  318.0       37.0       62.0   \n",
       "2  store_130_SKU_120931082  2019-05-20  126.0       13.0       23.0   \n",
       "3  store_130_SKU_120931082  2019-05-27  285.0       23.0       65.0   \n",
       "4  store_130_SKU_120931082  2019-06-03   93.0       10.0       20.0   \n",
       "\n",
       "   UNITS_MEAN  UNITS_STD  TRANSACTIONS_SUM  PROMO_MAX  PRICE_MEAN      STORE  \\\n",
       "0   55.428571   8.182443             243.0        1.0        44.8  store_130   \n",
       "1   45.428571   8.079958             210.0        1.0        44.8  store_130   \n",
       "2   18.000000   3.915780             118.0        0.0        44.8  store_130   \n",
       "3   40.714286  14.067863             197.0        1.0        44.8  store_130   \n",
       "4   13.285714   3.352327              87.0        0.0        44.8  store_130   \n",
       "\n",
       "             SKU SKU_CATEGORY  \n",
       "0  SKU_120931082     cat_1160  \n",
       "1  SKU_120931082     cat_1160  \n",
       "2  SKU_120931082     cat_1160  \n",
       "3  SKU_120931082     cat_1160  \n",
       "4  SKU_120931082     cat_1160  "
      ]
     },
     "metadata": {},
     "output_type": "display_data"
    },
    {
     "name": "stdout",
     "output_type": "stream",
     "text": [
      "info for  ts_demand_forecasting_train\n",
      "<class 'pandas.core.frame.DataFrame'>\n",
      "RangeIndex: 8589 entries, 0 to 8588\n",
      "Data columns (total 13 columns):\n",
      " #   Column            Non-Null Count  Dtype  \n",
      "---  ------            --------------  -----  \n",
      " 0   STORE_SKU         8589 non-null   object \n",
      " 1   DATE              8589 non-null   object \n",
      " 2   UNITS             8589 non-null   float64\n",
      " 3   UNITS_MIN         8589 non-null   float64\n",
      " 4   UNITS_MAX         8589 non-null   float64\n",
      " 5   UNITS_MEAN        8589 non-null   float64\n",
      " 6   UNITS_STD         8589 non-null   float64\n",
      " 7   TRANSACTIONS_SUM  8589 non-null   float64\n",
      " 8   PROMO_MAX         8589 non-null   float64\n",
      " 9   PRICE_MEAN        8589 non-null   float64\n",
      " 10  STORE             8589 non-null   object \n",
      " 11  SKU               8589 non-null   object \n",
      " 12  SKU_CATEGORY      8589 non-null   object \n",
      "dtypes: float64(8), object(5)\n",
      "memory usage: 872.4+ KB\n",
      "None\n",
      "writing ts_demand_forecasting_train to snowflake from:  https://s3.amazonaws.com/datarobot_public_datasets/ai_accelerators/ts_demand_forecasting_train.csv\n",
      "******************************\n",
      "table: ts_demand_forecasting_scoring\n"
     ]
    },
    {
     "data": {
      "text/html": [
       "<div>\n",
       "<style scoped>\n",
       "    .dataframe tbody tr th:only-of-type {\n",
       "        vertical-align: middle;\n",
       "    }\n",
       "\n",
       "    .dataframe tbody tr th {\n",
       "        vertical-align: top;\n",
       "    }\n",
       "\n",
       "    .dataframe thead th {\n",
       "        text-align: right;\n",
       "    }\n",
       "</style>\n",
       "<table border=\"1\" class=\"dataframe\">\n",
       "  <thead>\n",
       "    <tr style=\"text-align: right;\">\n",
       "      <th></th>\n",
       "      <th>STORE_SKU</th>\n",
       "      <th>DATE</th>\n",
       "      <th>UNITS</th>\n",
       "      <th>UNITS_MIN</th>\n",
       "      <th>UNITS_MAX</th>\n",
       "      <th>UNITS_MEAN</th>\n",
       "      <th>UNITS_STD</th>\n",
       "      <th>TRANSACTIONS_SUM</th>\n",
       "      <th>PROMO_MAX</th>\n",
       "      <th>PRICE_MEAN</th>\n",
       "      <th>STORE</th>\n",
       "      <th>SKU</th>\n",
       "      <th>SKU_CATEGORY</th>\n",
       "    </tr>\n",
       "  </thead>\n",
       "  <tbody>\n",
       "    <tr>\n",
       "      <th>0</th>\n",
       "      <td>store_130_SKU_120931082</td>\n",
       "      <td>2022-07-04</td>\n",
       "      <td>70.0</td>\n",
       "      <td>7.0</td>\n",
       "      <td>13.0</td>\n",
       "      <td>10.000000</td>\n",
       "      <td>2.581989</td>\n",
       "      <td>65.0</td>\n",
       "      <td>0.0</td>\n",
       "      <td>22.8</td>\n",
       "      <td>store_130</td>\n",
       "      <td>SKU_120931082</td>\n",
       "      <td>cat_1160</td>\n",
       "    </tr>\n",
       "    <tr>\n",
       "      <th>1</th>\n",
       "      <td>store_130_SKU_120931082</td>\n",
       "      <td>2022-07-11</td>\n",
       "      <td>89.0</td>\n",
       "      <td>5.0</td>\n",
       "      <td>19.0</td>\n",
       "      <td>12.714286</td>\n",
       "      <td>5.936168</td>\n",
       "      <td>84.0</td>\n",
       "      <td>0.0</td>\n",
       "      <td>22.8</td>\n",
       "      <td>store_130</td>\n",
       "      <td>SKU_120931082</td>\n",
       "      <td>cat_1160</td>\n",
       "    </tr>\n",
       "    <tr>\n",
       "      <th>2</th>\n",
       "      <td>store_130_SKU_120931082</td>\n",
       "      <td>2022-07-18</td>\n",
       "      <td>90.0</td>\n",
       "      <td>10.0</td>\n",
       "      <td>18.0</td>\n",
       "      <td>12.857143</td>\n",
       "      <td>3.132016</td>\n",
       "      <td>85.0</td>\n",
       "      <td>0.0</td>\n",
       "      <td>22.8</td>\n",
       "      <td>store_130</td>\n",
       "      <td>SKU_120931082</td>\n",
       "      <td>cat_1160</td>\n",
       "    </tr>\n",
       "    <tr>\n",
       "      <th>3</th>\n",
       "      <td>store_130_SKU_120931082</td>\n",
       "      <td>2022-07-25</td>\n",
       "      <td>77.0</td>\n",
       "      <td>4.0</td>\n",
       "      <td>20.0</td>\n",
       "      <td>11.000000</td>\n",
       "      <td>5.000000</td>\n",
       "      <td>67.0</td>\n",
       "      <td>0.0</td>\n",
       "      <td>22.8</td>\n",
       "      <td>store_130</td>\n",
       "      <td>SKU_120931082</td>\n",
       "      <td>cat_1160</td>\n",
       "    </tr>\n",
       "    <tr>\n",
       "      <th>4</th>\n",
       "      <td>store_130_SKU_120931082</td>\n",
       "      <td>2022-08-01</td>\n",
       "      <td>85.0</td>\n",
       "      <td>6.0</td>\n",
       "      <td>26.0</td>\n",
       "      <td>12.142857</td>\n",
       "      <td>6.466028</td>\n",
       "      <td>82.0</td>\n",
       "      <td>0.0</td>\n",
       "      <td>22.8</td>\n",
       "      <td>store_130</td>\n",
       "      <td>SKU_120931082</td>\n",
       "      <td>cat_1160</td>\n",
       "    </tr>\n",
       "  </tbody>\n",
       "</table>\n",
       "</div>"
      ],
      "text/plain": [
       "                 STORE_SKU        DATE  UNITS  UNITS_MIN  UNITS_MAX  \\\n",
       "0  store_130_SKU_120931082  2022-07-04   70.0        7.0       13.0   \n",
       "1  store_130_SKU_120931082  2022-07-11   89.0        5.0       19.0   \n",
       "2  store_130_SKU_120931082  2022-07-18   90.0       10.0       18.0   \n",
       "3  store_130_SKU_120931082  2022-07-25   77.0        4.0       20.0   \n",
       "4  store_130_SKU_120931082  2022-08-01   85.0        6.0       26.0   \n",
       "\n",
       "   UNITS_MEAN  UNITS_STD  TRANSACTIONS_SUM  PROMO_MAX  PRICE_MEAN      STORE  \\\n",
       "0   10.000000   2.581989              65.0        0.0        22.8  store_130   \n",
       "1   12.714286   5.936168              84.0        0.0        22.8  store_130   \n",
       "2   12.857143   3.132016              85.0        0.0        22.8  store_130   \n",
       "3   11.000000   5.000000              67.0        0.0        22.8  store_130   \n",
       "4   12.142857   6.466028              82.0        0.0        22.8  store_130   \n",
       "\n",
       "             SKU SKU_CATEGORY  \n",
       "0  SKU_120931082     cat_1160  \n",
       "1  SKU_120931082     cat_1160  \n",
       "2  SKU_120931082     cat_1160  \n",
       "3  SKU_120931082     cat_1160  \n",
       "4  SKU_120931082     cat_1160  "
      ]
     },
     "metadata": {},
     "output_type": "display_data"
    },
    {
     "name": "stdout",
     "output_type": "stream",
     "text": [
      "info for  ts_demand_forecasting_scoring\n",
      "<class 'pandas.core.frame.DataFrame'>\n",
      "RangeIndex: 1050 entries, 0 to 1049\n",
      "Data columns (total 13 columns):\n",
      " #   Column            Non-Null Count  Dtype  \n",
      "---  ------            --------------  -----  \n",
      " 0   STORE_SKU         1050 non-null   object \n",
      " 1   DATE              1050 non-null   object \n",
      " 2   UNITS             850 non-null    float64\n",
      " 3   UNITS_MIN         850 non-null    float64\n",
      " 4   UNITS_MAX         850 non-null    float64\n",
      " 5   UNITS_MEAN        850 non-null    float64\n",
      " 6   UNITS_STD         850 non-null    float64\n",
      " 7   TRANSACTIONS_SUM  850 non-null    float64\n",
      " 8   PROMO_MAX         1050 non-null   float64\n",
      " 9   PRICE_MEAN        850 non-null    float64\n",
      " 10  STORE             1050 non-null   object \n",
      " 11  SKU               1050 non-null   object \n",
      " 12  SKU_CATEGORY      1050 non-null   object \n",
      "dtypes: float64(8), object(5)\n",
      "memory usage: 106.8+ KB\n",
      "None\n",
      "writing ts_demand_forecasting_scoring to snowflake from:  https://s3.amazonaws.com/datarobot_public_datasets/ai_accelerators/ts_demand_forecasting_scoring.csv\n",
      "******************************\n",
      "table: ts_demand_forecasting_calendar\n"
     ]
    },
    {
     "data": {
      "text/html": [
       "<div>\n",
       "<style scoped>\n",
       "    .dataframe tbody tr th:only-of-type {\n",
       "        vertical-align: middle;\n",
       "    }\n",
       "\n",
       "    .dataframe tbody tr th {\n",
       "        vertical-align: top;\n",
       "    }\n",
       "\n",
       "    .dataframe thead th {\n",
       "        text-align: right;\n",
       "    }\n",
       "</style>\n",
       "<table border=\"1\" class=\"dataframe\">\n",
       "  <thead>\n",
       "    <tr style=\"text-align: right;\">\n",
       "      <th></th>\n",
       "      <th>date</th>\n",
       "      <th>event_type</th>\n",
       "    </tr>\n",
       "  </thead>\n",
       "  <tbody>\n",
       "    <tr>\n",
       "      <th>0</th>\n",
       "      <td>2017-01-01</td>\n",
       "      <td>New Year's Day</td>\n",
       "    </tr>\n",
       "    <tr>\n",
       "      <th>1</th>\n",
       "      <td>2017-01-02</td>\n",
       "      <td>New Year's Day (Observed)</td>\n",
       "    </tr>\n",
       "    <tr>\n",
       "      <th>2</th>\n",
       "      <td>2017-01-16</td>\n",
       "      <td>Martin Luther King, Jr. Day</td>\n",
       "    </tr>\n",
       "    <tr>\n",
       "      <th>3</th>\n",
       "      <td>2017-02-20</td>\n",
       "      <td>Washington's Birthday</td>\n",
       "    </tr>\n",
       "    <tr>\n",
       "      <th>4</th>\n",
       "      <td>2017-05-29</td>\n",
       "      <td>Memorial Day</td>\n",
       "    </tr>\n",
       "  </tbody>\n",
       "</table>\n",
       "</div>"
      ],
      "text/plain": [
       "         date                   event_type\n",
       "0  2017-01-01               New Year's Day\n",
       "1  2017-01-02    New Year's Day (Observed)\n",
       "2  2017-01-16  Martin Luther King, Jr. Day\n",
       "3  2017-02-20        Washington's Birthday\n",
       "4  2017-05-29                 Memorial Day"
      ]
     },
     "metadata": {},
     "output_type": "display_data"
    },
    {
     "name": "stdout",
     "output_type": "stream",
     "text": [
      "info for  ts_demand_forecasting_calendar\n",
      "<class 'pandas.core.frame.DataFrame'>\n",
      "RangeIndex: 81 entries, 0 to 80\n",
      "Data columns (total 2 columns):\n",
      " #   Column      Non-Null Count  Dtype \n",
      "---  ------      --------------  ----- \n",
      " 0   date        81 non-null     object\n",
      " 1   event_type  81 non-null     object\n",
      "dtypes: object(2)\n",
      "memory usage: 1.4+ KB\n",
      "None\n",
      "writing ts_demand_forecasting_calendar to snowflake from:  https://s3.amazonaws.com/datarobot_public_datasets/ai_accelerators/ts_demand_forecasting_calendar.csv\n"
     ]
    }
   ],
   "source": [
    "response = prepare_demo_tables_in_db(\n",
    "    db_user = db_user,                        \n",
    "    db_password = db_password,                \n",
    "    account = account,                        \n",
    "    db = db,                                  \n",
    "    warehouse = warehouse,                     \n",
    "    schema = schema\n",
    ")"
   ]
  },
  {
   "cell_type": "markdown",
   "id": "1eda26f8-04a2-4e57-a202-1cceaf893f8c",
   "metadata": {},
   "source": [
    "### Import libraries"
   ]
  },
  {
   "cell_type": "code",
   "execution_count": 4,
   "id": "b66a7ea9-550d-4b5c-8e9f-a37a2a751e02",
   "metadata": {
    "tags": []
   },
   "outputs": [
    {
     "name": "stdout",
     "output_type": "stream",
     "text": [
      "Python version: 3.9.7\n",
      "Client version: 3.0.2\n"
     ]
    }
   ],
   "source": [
    "from datetime import datetime as dt\n",
    "from platform import python_version\n",
    "\n",
    "import pandas as pd\n",
    "import datarobot as dr\n",
    "\n",
    "import dr_utils as dru\n",
    "\n",
    "print('Python version:', python_version())\n",
    "print('Client version:', dr.__version__)"
   ]
  },
  {
   "cell_type": "markdown",
   "id": "7349939a-1df8-455a-87c4-fb488cebc205",
   "metadata": {},
   "source": [
    "### Connect to DataRobot\n",
    "\n",
    "1. In DataRobot, navigate to **Developer Tools** by clicking on the user icon in the top-right corner. From here you can generate a API Key that you will use to authenticate to DataRobot. You can find more details on creating an API key [in the DataRobot documentation](https://app.datarobot.com/docs/api/api-quickstart/index.html#create-a-datarobot-api-key). \n",
    "\n",
    "2. Determine your DataRobot API Endpoint. The API endpoint is the same as your DataRobot UI root. Replace {datarobot.example.com} with your deployment endpoint.\n",
    "\n",
    "    API endpoint root: `https://{datarobot.example.com}/api/v2`\n",
    "    \n",
    "    For users of the AI Cloud platform, the endpoint is `https://app.datarobot.com/api/v2`\n",
    "    \n",
    "3. After obtaining your API Key and endpoint, there are several options to [connect to DataRobot](https://app.datarobot.com/docs/api/api-quickstart/index.html#configure-api-authentication). This notebook uses option B.\n",
    "\n",
    "    A. Create a .yaml file and refer to it in the code:\n",
    "    \n",
    "        - .yaml config file example:\n",
    "\n",
    "        ```yaml\n",
    "        endpoint: 'https://{datarobot.example.com}/api/v2'\n",
    "        token: 'YOUR_API_KEY'\n",
    "\n",
    "\n",
    "         ```\n",
    "        \n",
    "        - Code to connect:\n",
    "        \n",
    "        ```python\n",
    "        dr.Client(config_path = \"~/.config/datarobot/drconfig.yaml\")\n",
    "        \n",
    "        \n",
    "        ```\n",
    "        \n",
    "    B. Set environment variables in the UNIX shell\n",
    "    \n",
    "        ```shell\n",
    "        export DATAROBOT_ENDPOINT=https://{datarobot.example.com}/api/v2\n",
    "        export DATAROBOT_API_TOKEN=YOUR_API_KEY\n",
    "        \n",
    "        \n",
    "        ```\n",
    "        - Code to connect:\n",
    "        \n",
    "        ```python\n",
    "        dr.Client()\n",
    "        \n",
    "        \n",
    "        ```\n",
    "        \n",
    "    C. Embed in the code\n",
    "    \n",
    "        ```python\n",
    "        dr.Client(endpoint='https://{datarobot.example.com}/api/v2', token='YOUR_API_KEY')\n",
    "        \n",
    "        ```"
   ]
  },
  {
   "cell_type": "code",
   "execution_count": 5,
   "id": "31780f68-12f1-4a3a-8d51-b32e23cb208f",
   "metadata": {},
   "outputs": [],
   "source": [
    "# Instantiate the DataRobot connection\n",
    "\n",
    "DATAROBOT_API_TOKEN = \"\" # Get this from the Developer Tools page in the DataRobot UI\n",
    "# Endpoint - This notebook uses the default endpoint for DataRobot Managed AI Cloud (US)\n",
    "DATAROBOT_ENDPOINT = \"https://app.datarobot.com/\" # This should be the URL you use to access the DataRobot UI\n",
    "\n",
    "client = dr.Client(\n",
    "    token=DATAROBOT_API_TOKEN, \n",
    "    endpoint=DATAROBOT_ENDPOINT,\n",
    "    user_agent_suffix='AIA-E2E-TS-24' #Optional but helps DataRobot improve this workflow\n",
    ")\n",
    "\n",
    "dr.client._global_client = client"
   ]
  },
  {
   "cell_type": "markdown",
   "id": "ffe9b895-e301-47a7-b4c1-ec217abda2fb",
   "metadata": {
    "tags": []
   },
   "source": [
    "<a id='data_prep'></a>\n",
    "## Data preparation\n",
    "\n",
    "In general, data preparation consists of several broadly defined steps:\n",
    "\n",
    "- Explanatory data analysis\n",
    "- Training data selection\n",
    "- Data preparation itself based on the previous steps\n",
    "\n",
    "Depending on the use case some of these steps can be skipped or additional business related steps may be necessary.\n",
    "\n",
    "In this section you should define:\n",
    "\n",
    "- The unit of analysis: every SKU sales or the whole store sales\n",
    "- Observation frequency:\n",
    "    - If the data is at the transaction level, you should aggregate to some regular timestamp, such as hour or day;\n",
    "    - Sometimes the data provided is already aggregated, but it has a lot of missing dates. Or, from the business perspective, you may need predictions with lower resolution (e.g., weekly or monthly instead of hourly or daily).\n",
    "    \n",
    "The dataset should contain at least the following columns:\n",
    "\n",
    "- Date\n",
    "- Series ID: SKU, Store, Store - SKU combination\n",
    "- Target\n",
    "\n",
    "Aditionally, [the calendar file can be specified.](https://docs.datarobot.com/en/docs/modeling/time/ts-adv-modeling/ts-adv-opt.html#calendar-files)  DataRobot will automatically create features based on the calendar events (such as “days to next event” )."
   ]
  },
  {
   "cell_type": "markdown",
   "id": "d87a8e50-f728-4881-8fa2-e268b393e780",
   "metadata": {},
   "source": [
    "### Define variables"
   ]
  },
  {
   "cell_type": "code",
   "execution_count": 6,
   "id": "e0e12bfb-1a18-4dc7-ac8f-74d250a9ea3f",
   "metadata": {},
   "outputs": [],
   "source": [
    "date_col = 'DATE'\n",
    "series_id = 'STORE_SKU'\n",
    "target = 'UNITS'"
   ]
  },
  {
   "cell_type": "markdown",
   "id": "f8db9f44-9c04-4210-be34-934552b81221",
   "metadata": {},
   "source": [
    "### Configure a data connection\n",
    "\n",
    "DataRobot supports connections to a wide variety of databases through AI Catalog, allowing repeated access to the database as an AI Catalog Data Store. You can find the examples [in the DataRobot documentation](https://docs.datarobot.com/en/docs/data/connect-data/data-sources/index.html).\n",
    "\n",
    "[Credentials for the connection to your Data Store can be securely stored within DataRobot](https://docs.datarobot.com/en/docs/data/connect-data/stored-creds.html). They will be used during the dataset creation in the AI Catalog, and can be found under the `Data Connections` tab in DataRobot.  \n",
    "\n",
    "If you don't have credentials and a datastore created, uncomment and run the cell below."
   ]
  },
  {
   "cell_type": "code",
   "execution_count": null,
   "id": "a111f458-fb52-4e7c-b094-95d1e9b78665",
   "metadata": {},
   "outputs": [],
   "source": [
    "# # Find the driver ID from name\n",
    "# Can be skipped if you have the ID - showing the code here for completeness\n",
    "# for d in dr.DataDriver.list():\n",
    "#     if d.canonical_name in 'Snowflake (3.13.9 - recommended)':\n",
    "#         print((d.id, d.canonical_name))\n",
    "        \n",
    "# # Create a datastore and datastore ID\n",
    "# data_store = dr.DataStore.create(data_store_type='jdbc', canonical_name='Snowflake Demo DB', driver_id='626bae0a98b54f9ba70b4122', jdbc_url= db_url)\n",
    "# data_store.test(username=db_user, password=db_password)\n",
    "\n",
    "# # Create and store credentials to allow the AI Catalog access to this database\n",
    "# # These can be found in the Data Connections tab under your profile in DataRobot  \n",
    "# cred = dr.Credential.create_basic(name='test_cred',user=db_user, password=db_password,)"
   ]
  },
  {
   "cell_type": "markdown",
   "id": "1a98b9a2-fe44-43f0-9188-40fee018b6d9",
   "metadata": {},
   "source": [
    "Use the snippet below to find a credential and a data connection (AKA a datastore)."
   ]
  },
  {
   "cell_type": "code",
   "execution_count": null,
   "id": "e6da18d5-91dd-4bb0-b6af-cec9a61141a8",
   "metadata": {},
   "outputs": [],
   "source": [
    "creds_name = 'your_stored_credential'\n",
    "data_store_name = 'your_datastore_name'\n",
    "\n",
    "credential_id = [cr.credential_id for cr in dr.Credential.list() if cr.name == creds_name][0]\n",
    "data_store_id = [ds.id for ds in dr.DataStore.list() if ds.canonical_name == data_store_name][0]"
   ]
  },
  {
   "cell_type": "markdown",
   "id": "88c004bd-bd3f-4224-b05e-fc426573af38",
   "metadata": {},
   "source": [
    "Use the snippet below to create or get an existing data connection based on a query and upload a training dataset into the AI Catalog."
   ]
  },
  {
   "cell_type": "code",
   "execution_count": 12,
   "id": "58b64e2e-f03a-452d-8fed-012ff569cdcc",
   "metadata": {},
   "outputs": [
    {
     "name": "stdout",
     "output_type": "stream",
     "text": [
      "new data source: DataSource('ts_training_data')\n"
     ]
    }
   ],
   "source": [
    "data_source_train, dataset_train = dru.create_dataset_from_data_source(\n",
    "    data_source_name='ts_training_data', query=f'select * from {db}.{schema}.\"ts_demand_forecasting_train\";',\n",
    "    data_store_id=data_store_id, credential_id=credential_id)"
   ]
  },
  {
   "cell_type": "markdown",
   "id": "555d31c9-b565-4f1f-b150-797316b23efa",
   "metadata": {},
   "source": [
    "Use the following snippet to create or get an existing data connection based on a query and upload a calendar dataset into the AI Catalog."
   ]
  },
  {
   "cell_type": "code",
   "execution_count": 14,
   "id": "6ba21ef5-aaa1-4b71-9ff5-d77ef0a66ed8",
   "metadata": {},
   "outputs": [
    {
     "name": "stdout",
     "output_type": "stream",
     "text": [
      "new data source: DataSource('ts_calendar')\n"
     ]
    }
   ],
   "source": [
    "data_source_calendar, dataset_calendar = dru.create_dataset_from_data_source(\n",
    "    data_source_name='ts_calendar', query=f'select * from {db}.{schema}.\"ts_demand_forecasting_calendar\";',\n",
    "    data_store_id=data_store_id, credential_id=credential_id)"
   ]
  },
  {
   "cell_type": "markdown",
   "id": "57262668-8236-425e-892d-1c8a08982c2a",
   "metadata": {},
   "source": [
    "The following snippet is optional and can be used to get data to investigate before modeling."
   ]
  },
  {
   "cell_type": "code",
   "execution_count": 15,
   "id": "81b04abf-2a3a-46f2-9b4e-f7567d568cd3",
   "metadata": {},
   "outputs": [
    {
     "name": "stdout",
     "output_type": "stream",
     "text": [
      "the original data shape   : (8589, 13)\n",
      "the total number of series: 50\n",
      "the min date: 2019-05-06 00:00:00\n",
      "the max date: 2022-10-24 00:00:00\n"
     ]
    },
    {
     "data": {
      "text/html": [
       "<div>\n",
       "<style scoped>\n",
       "    .dataframe tbody tr th:only-of-type {\n",
       "        vertical-align: middle;\n",
       "    }\n",
       "\n",
       "    .dataframe tbody tr th {\n",
       "        vertical-align: top;\n",
       "    }\n",
       "\n",
       "    .dataframe thead th {\n",
       "        text-align: right;\n",
       "    }\n",
       "</style>\n",
       "<table border=\"1\" class=\"dataframe\">\n",
       "  <thead>\n",
       "    <tr style=\"text-align: right;\">\n",
       "      <th></th>\n",
       "      <th>STORE_SKU</th>\n",
       "      <th>DATE</th>\n",
       "      <th>UNITS</th>\n",
       "      <th>UNITS_MIN</th>\n",
       "      <th>UNITS_MAX</th>\n",
       "      <th>UNITS_MEAN</th>\n",
       "      <th>UNITS_STD</th>\n",
       "      <th>TRANSACTIONS_SUM</th>\n",
       "      <th>PROMO_MAX</th>\n",
       "      <th>PRICE_MEAN</th>\n",
       "      <th>STORE</th>\n",
       "      <th>SKU</th>\n",
       "      <th>SKU_CATEGORY</th>\n",
       "    </tr>\n",
       "  </thead>\n",
       "  <tbody>\n",
       "    <tr>\n",
       "      <th>0</th>\n",
       "      <td>store_130_SKU_120931082</td>\n",
       "      <td>2019-05-06</td>\n",
       "      <td>388.0</td>\n",
       "      <td>44.0</td>\n",
       "      <td>69.0</td>\n",
       "      <td>55.428571</td>\n",
       "      <td>8.182443</td>\n",
       "      <td>243.0</td>\n",
       "      <td>1.0</td>\n",
       "      <td>44.8</td>\n",
       "      <td>store_130</td>\n",
       "      <td>SKU_120931082</td>\n",
       "      <td>cat_1160</td>\n",
       "    </tr>\n",
       "    <tr>\n",
       "      <th>1</th>\n",
       "      <td>store_130_SKU_120931082</td>\n",
       "      <td>2019-05-13</td>\n",
       "      <td>318.0</td>\n",
       "      <td>37.0</td>\n",
       "      <td>62.0</td>\n",
       "      <td>45.428571</td>\n",
       "      <td>8.079958</td>\n",
       "      <td>210.0</td>\n",
       "      <td>1.0</td>\n",
       "      <td>44.8</td>\n",
       "      <td>store_130</td>\n",
       "      <td>SKU_120931082</td>\n",
       "      <td>cat_1160</td>\n",
       "    </tr>\n",
       "    <tr>\n",
       "      <th>2</th>\n",
       "      <td>store_130_SKU_120931082</td>\n",
       "      <td>2019-05-20</td>\n",
       "      <td>126.0</td>\n",
       "      <td>13.0</td>\n",
       "      <td>23.0</td>\n",
       "      <td>18.000000</td>\n",
       "      <td>3.915780</td>\n",
       "      <td>118.0</td>\n",
       "      <td>0.0</td>\n",
       "      <td>44.8</td>\n",
       "      <td>store_130</td>\n",
       "      <td>SKU_120931082</td>\n",
       "      <td>cat_1160</td>\n",
       "    </tr>\n",
       "    <tr>\n",
       "      <th>3</th>\n",
       "      <td>store_130_SKU_120931082</td>\n",
       "      <td>2019-05-27</td>\n",
       "      <td>285.0</td>\n",
       "      <td>23.0</td>\n",
       "      <td>65.0</td>\n",
       "      <td>40.714286</td>\n",
       "      <td>14.067863</td>\n",
       "      <td>197.0</td>\n",
       "      <td>1.0</td>\n",
       "      <td>44.8</td>\n",
       "      <td>store_130</td>\n",
       "      <td>SKU_120931082</td>\n",
       "      <td>cat_1160</td>\n",
       "    </tr>\n",
       "    <tr>\n",
       "      <th>4</th>\n",
       "      <td>store_130_SKU_120931082</td>\n",
       "      <td>2019-06-03</td>\n",
       "      <td>93.0</td>\n",
       "      <td>10.0</td>\n",
       "      <td>20.0</td>\n",
       "      <td>13.285714</td>\n",
       "      <td>3.352327</td>\n",
       "      <td>87.0</td>\n",
       "      <td>0.0</td>\n",
       "      <td>44.8</td>\n",
       "      <td>store_130</td>\n",
       "      <td>SKU_120931082</td>\n",
       "      <td>cat_1160</td>\n",
       "    </tr>\n",
       "  </tbody>\n",
       "</table>\n",
       "</div>"
      ],
      "text/plain": [
       "                 STORE_SKU       DATE  UNITS  UNITS_MIN  UNITS_MAX  \\\n",
       "0  store_130_SKU_120931082 2019-05-06  388.0       44.0       69.0   \n",
       "1  store_130_SKU_120931082 2019-05-13  318.0       37.0       62.0   \n",
       "2  store_130_SKU_120931082 2019-05-20  126.0       13.0       23.0   \n",
       "3  store_130_SKU_120931082 2019-05-27  285.0       23.0       65.0   \n",
       "4  store_130_SKU_120931082 2019-06-03   93.0       10.0       20.0   \n",
       "\n",
       "   UNITS_MEAN  UNITS_STD  TRANSACTIONS_SUM  PROMO_MAX  PRICE_MEAN      STORE  \\\n",
       "0   55.428571   8.182443             243.0        1.0        44.8  store_130   \n",
       "1   45.428571   8.079958             210.0        1.0        44.8  store_130   \n",
       "2   18.000000   3.915780             118.0        0.0        44.8  store_130   \n",
       "3   40.714286  14.067863             197.0        1.0        44.8  store_130   \n",
       "4   13.285714   3.352327              87.0        0.0        44.8  store_130   \n",
       "\n",
       "             SKU SKU_CATEGORY  \n",
       "0  SKU_120931082     cat_1160  \n",
       "1  SKU_120931082     cat_1160  \n",
       "2  SKU_120931082     cat_1160  \n",
       "3  SKU_120931082     cat_1160  \n",
       "4  SKU_120931082     cat_1160  "
      ]
     },
     "execution_count": 15,
     "metadata": {},
     "output_type": "execute_result"
    }
   ],
   "source": [
    "df = dataset_train.get_as_dataframe()\n",
    "df[date_col] = pd.to_datetime(df[date_col], format='%Y-%m-%d')\n",
    "print('the original data shape   :', df.shape)\n",
    "print('the total number of series:', df[series_id].nunique())\n",
    "print('the min date:', df[date_col].min())\n",
    "print('the max date:', df[date_col].max())\n",
    "df.head()"
   ]
  },
  {
   "cell_type": "markdown",
   "id": "43452b03-8eee-4b63-9aa0-2cadd642ed1b",
   "metadata": {},
   "source": [
    "<a id='eda'></a>\n",
    "## EDA\n",
    "\n",
    "Explanatory data analysis is a starting point of data preparation. The purpose of this section is to:\n",
    "- check the number of series over time\n",
    "- plot the target distribution and the target over time\n",
    "- find out how sparse our original data is"
   ]
  },
  {
   "cell_type": "code",
   "execution_count": 16,
   "id": "cbe4eaa5-a09f-47c8-8068-7aaf80d97fe1",
   "metadata": {},
   "outputs": [],
   "source": [
    "# Compute per series stats to check for inconsistencies in data\n",
    "\n",
    "df_stats = dru.make_series_stats(df, date_col, series_id, target, freq=1)"
   ]
  },
  {
   "cell_type": "markdown",
   "id": "17e61ba2-5385-4452-95e0-e89d8084c204",
   "metadata": {},
   "source": [
    "### Original frequency"
   ]
  },
  {
   "cell_type": "markdown",
   "id": "09911ce7-a04f-44dd-b9e2-94cb1657c865",
   "metadata": {},
   "source": [
    "It is quite common for demand forecasting use cases to have series which don't have sales any more, had temporary or seasonal sales, or were just released. The plot below shows how the number of series evolved over time for the chosen dataset."
   ]
  },
  {
   "cell_type": "code",
   "execution_count": 17,
   "id": "5d1fe613-38cd-474f-9907-e5ab20f1f648",
   "metadata": {},
   "outputs": [
    {
     "data": {
      "image/png": "[encoded data removed]",
      "text/plain": [
       "<Figure size 1080x504 with 1 Axes>"
      ]
     },
     "metadata": {
      "needs_background": "light"
     },
     "output_type": "display_data"
    }
   ],
   "source": [
    "dru.plot_series_count_over_time(df, date_col, series_id)"
   ]
  },
  {
   "cell_type": "markdown",
   "id": "30b55591-0167-413a-9564-a5d9b591b0f3",
   "metadata": {},
   "source": [
    "The target distribution plot can help to identify the most frequent values and the shape of data in general."
   ]
  },
  {
   "cell_type": "code",
   "execution_count": 18,
   "id": "fbfcf1b0-b96e-4400-9ee2-eac17a155bc0",
   "metadata": {},
   "outputs": [
    {
     "data": {
      "image/png": "[encoded data removed]",
      "text/plain": [
       "<Figure size 1080x504 with 1 Axes>"
      ]
     },
     "metadata": {
      "needs_background": "light"
     },
     "output_type": "display_data"
    }
   ],
   "source": [
    "dru.plot_hist(df, target, clip_min=0)"
   ]
  },
  {
   "cell_type": "markdown",
   "id": "e78666d1-c732-401f-b2fd-6cfc42228426",
   "metadata": {},
   "source": [
    "The plot of the target over time can show overall seasonality, trend, /or possible issues with the data (e.g., sudden drops or periods without data)."
   ]
  },
  {
   "cell_type": "code",
   "execution_count": 19,
   "id": "f1713e38-64df-45fd-9e1c-d02b60cd4be6",
   "metadata": {},
   "outputs": [
    {
     "data": {
      "image/png": "[encoded data removed]",
      "text/plain": [
       "<Figure size 1080x504 with 1 Axes>"
      ]
     },
     "metadata": {
      "needs_background": "light"
     },
     "output_type": "display_data"
    }
   ],
   "source": [
    "dru.plot_num_col_over_time(df, date_col, target, func='sum', freq='W-MON')"
   ]
  },
  {
   "cell_type": "markdown",
   "id": "c37a250c-fe4c-43e1-acc6-5b78620a554d",
   "metadata": {
    "tags": []
   },
   "source": [
    "<a id='data_checks'></a>\n",
    "### Data checks"
   ]
  },
  {
   "cell_type": "markdown",
   "id": "a9087ca5-55db-4960-b19f-acd34a3c3167",
   "metadata": {},
   "source": [
    "#### Spikes\n",
    "\n",
    "The dataset should be checked for anomalous spikes. They should be verified. If they are correct, they should be added to a calendar file, or some form of feature engineering should be completed so that the models can be able to predict these spikes."
   ]
  },
  {
   "cell_type": "code",
   "execution_count": 20,
   "id": "2d9cf400-e65f-410d-8f14-b467308a0d21",
   "metadata": {},
   "outputs": [
    {
     "name": "stdout",
     "output_type": "stream",
     "text": [
      "# of series with spikes: 50\n"
     ]
    },
    {
     "data": {
      "text/html": [
       "<div>\n",
       "<style scoped>\n",
       "    .dataframe tbody tr th:only-of-type {\n",
       "        vertical-align: middle;\n",
       "    }\n",
       "\n",
       "    .dataframe tbody tr th {\n",
       "        vertical-align: top;\n",
       "    }\n",
       "\n",
       "    .dataframe thead th {\n",
       "        text-align: right;\n",
       "    }\n",
       "</style>\n",
       "<table border=\"1\" class=\"dataframe\">\n",
       "  <thead>\n",
       "    <tr style=\"text-align: right;\">\n",
       "      <th></th>\n",
       "      <th>STORE_SKU</th>\n",
       "      <th>DATE</th>\n",
       "      <th>UNITS</th>\n",
       "      <th>EWA</th>\n",
       "      <th>SD</th>\n",
       "      <th>Threshold</th>\n",
       "      <th>Spike</th>\n",
       "    </tr>\n",
       "  </thead>\n",
       "  <tbody>\n",
       "    <tr>\n",
       "      <th>4770</th>\n",
       "      <td>store_175_SKU_120939350</td>\n",
       "      <td>2021-08-23</td>\n",
       "      <td>657.0</td>\n",
       "      <td>596.806961</td>\n",
       "      <td>85.265846</td>\n",
       "      <td>596.860920</td>\n",
       "      <td>1</td>\n",
       "    </tr>\n",
       "    <tr>\n",
       "      <th>4772</th>\n",
       "      <td>store_175_SKU_120939350</td>\n",
       "      <td>2021-09-06</td>\n",
       "      <td>649.0</td>\n",
       "      <td>597.580871</td>\n",
       "      <td>76.941499</td>\n",
       "      <td>538.590492</td>\n",
       "      <td>1</td>\n",
       "    </tr>\n",
       "    <tr>\n",
       "      <th>4769</th>\n",
       "      <td>store_175_SKU_120939350</td>\n",
       "      <td>2021-08-16</td>\n",
       "      <td>641.0</td>\n",
       "      <td>566.710441</td>\n",
       "      <td>86.652437</td>\n",
       "      <td>606.567057</td>\n",
       "      <td>1</td>\n",
       "    </tr>\n",
       "    <tr>\n",
       "      <th>4782</th>\n",
       "      <td>store_175_SKU_120939350</td>\n",
       "      <td>2021-11-15</td>\n",
       "      <td>634.0</td>\n",
       "      <td>570.983367</td>\n",
       "      <td>62.093165</td>\n",
       "      <td>434.652155</td>\n",
       "      <td>1</td>\n",
       "    </tr>\n",
       "    <tr>\n",
       "      <th>5391</th>\n",
       "      <td>store_175_SKU_9888909</td>\n",
       "      <td>2019-08-05</td>\n",
       "      <td>628.0</td>\n",
       "      <td>541.622103</td>\n",
       "      <td>76.445072</td>\n",
       "      <td>535.115503</td>\n",
       "      <td>1</td>\n",
       "    </tr>\n",
       "  </tbody>\n",
       "</table>\n",
       "</div>"
      ],
      "text/plain": [
       "                    STORE_SKU       DATE  UNITS         EWA         SD  \\\n",
       "4770  store_175_SKU_120939350 2021-08-23  657.0  596.806961  85.265846   \n",
       "4772  store_175_SKU_120939350 2021-09-06  649.0  597.580871  76.941499   \n",
       "4769  store_175_SKU_120939350 2021-08-16  641.0  566.710441  86.652437   \n",
       "4782  store_175_SKU_120939350 2021-11-15  634.0  570.983367  62.093165   \n",
       "5391    store_175_SKU_9888909 2019-08-05  628.0  541.622103  76.445072   \n",
       "\n",
       "       Threshold  Spike  \n",
       "4770  596.860920      1  \n",
       "4772  538.590492      1  \n",
       "4769  606.567057      1  \n",
       "4782  434.652155      1  \n",
       "5391  535.115503      1  "
      ]
     },
     "execution_count": 20,
     "metadata": {},
     "output_type": "execute_result"
    }
   ],
   "source": [
    "df_spikes = dru.identify_spikes(df, date_col, series_id, target, span=5, threshold=7)\n",
    "print('# of series with spikes:', df_spikes[df_spikes['Spike'] == 1][series_id].nunique())\n",
    "df_spikes[df_spikes['Spike'] == 1].sort_values(target, ascending=False).head()"
   ]
  },
  {
   "cell_type": "code",
   "execution_count": 21,
   "id": "50879310-6a53-45f8-8460-ba520dc8041d",
   "metadata": {},
   "outputs": [
    {
     "data": {
      "image/png": "[encoded data removed]",
      "text/plain": [
       "<Figure size 1080x504 with 1 Axes>"
      ]
     },
     "metadata": {
      "needs_background": "light"
     },
     "output_type": "display_data"
    }
   ],
   "source": [
    "sid = df_spikes[df_spikes['Spike'] == 1].sort_values(target, ascending=False)[series_id].values.tolist()[0]\n",
    "dru.plot_series_over_time(df_spikes, date_col, series_id, sid, [target, 'EWA'])"
   ]
  },
  {
   "cell_type": "markdown",
   "id": "f7eaae25-2208-4023-ad87-20126d68fe47",
   "metadata": {
    "tags": []
   },
   "source": [
    "#### Negative values\n",
    "Negative values should be also checked if they are correct."
   ]
  },
  {
   "cell_type": "code",
   "execution_count": 22,
   "id": "198183ee-ef84-4fe7-8db4-7758384efd62",
   "metadata": {},
   "outputs": [
    {
     "name": "stdout",
     "output_type": "stream",
     "text": [
      "# of series with negative values: 0\n"
     ]
    }
   ],
   "source": [
    "series_neg = df_stats[df_stats['negatives'] > 0][series_id].unique().tolist()\n",
    "print('# of series with negative values:', len(series_neg))\n",
    "if len(series_neg) > 0:\n",
    "    dru.plot_series_over_time(df, date_col, series_id, series_neg[0], [target])"
   ]
  },
  {
   "cell_type": "markdown",
   "id": "e6474d8a-6c5b-4289-b980-a7e239851c8e",
   "metadata": {},
   "source": [
    "#### Duplicate datetimes\n",
    "Duplicate datetimes within single series could be introduced by mistake."
   ]
  },
  {
   "cell_type": "code",
   "execution_count": 23,
   "id": "1e328de3-32eb-4b5e-bcae-4100ceee9ceb",
   "metadata": {},
   "outputs": [
    {
     "name": "stdout",
     "output_type": "stream",
     "text": [
      "# of series with duplicate dates: 0\n"
     ]
    }
   ],
   "source": [
    "series_dupl_dates = df.groupby([series_id, date_col])[date_col].count()\n",
    "series_dupl_dates = series_dupl_dates[series_dupl_dates > 1]\n",
    "print('# of series with duplicate dates:', len(series_dupl_dates))\n",
    "if len(series_dupl_dates):\n",
    "    print('eries with duplicate examples:', len(series_dupl_dates))\n",
    "    print(series_dupl_dates.head())"
   ]
  },
  {
   "cell_type": "markdown",
   "id": "90eb9f96-19b6-4689-b442-6d87650ff906",
   "metadata": {},
   "source": [
    "#### Series start and end dates\n",
    "Check if any series start after the the minimum datetime and if any series end before the maximum datetime."
   ]
  },
  {
   "cell_type": "code",
   "execution_count": 24,
   "id": "bee787e7-3c84-40bb-9a66-78b251803966",
   "metadata": {},
   "outputs": [
    {
     "name": "stdout",
     "output_type": "stream",
     "text": [
      "# of new series: 10\n",
      "# of old series: 0\n"
     ]
    }
   ],
   "source": [
    "series_new = df_stats[df_stats['date_col_min'] > df_stats['date_col_min'].min()][series_id].unique().tolist()\n",
    "series_old = df_stats[df_stats['date_col_max'] < df_stats['date_col_min'].max()][series_id].unique().tolist()\n",
    "print('# of new series:', len(series_new))\n",
    "print('# of old series:', len(series_old))"
   ]
  },
  {
   "cell_type": "markdown",
   "id": "1853166a-a4ac-4407-9581-821b9fee74a9",
   "metadata": {},
   "source": [
    "#### Gaps\n",
    "Completely missing records within the series should be verified."
   ]
  },
  {
   "cell_type": "code",
   "execution_count": 25,
   "id": "5cd3c3bc-6d42-45a5-adf9-ff7b2506de4c",
   "metadata": {},
   "outputs": [
    {
     "data": {
      "text/html": [
       "<div>\n",
       "<style scoped>\n",
       "    .dataframe tbody tr th:only-of-type {\n",
       "        vertical-align: middle;\n",
       "    }\n",
       "\n",
       "    .dataframe tbody tr th {\n",
       "        vertical-align: top;\n",
       "    }\n",
       "\n",
       "    .dataframe thead th {\n",
       "        text-align: right;\n",
       "    }\n",
       "</style>\n",
       "<table border=\"1\" class=\"dataframe\">\n",
       "  <thead>\n",
       "    <tr style=\"text-align: right;\">\n",
       "      <th></th>\n",
       "      <th>STORE_SKU</th>\n",
       "      <th>rows</th>\n",
       "      <th>date_col_min</th>\n",
       "      <th>date_col_max</th>\n",
       "      <th>target_mean</th>\n",
       "      <th>nunique</th>\n",
       "      <th>missing</th>\n",
       "      <th>zeros</th>\n",
       "      <th>negatives</th>\n",
       "      <th>gap_max</th>\n",
       "      <th>gap_mode</th>\n",
       "      <th>gap_uncommon_count</th>\n",
       "      <th>duration</th>\n",
       "      <th>rows_to_duration</th>\n",
       "      <th>missing_rate</th>\n",
       "      <th>zeros_rate</th>\n",
       "    </tr>\n",
       "  </thead>\n",
       "  <tbody>\n",
       "    <tr>\n",
       "      <th>0</th>\n",
       "      <td>store_130_SKU_120931082</td>\n",
       "      <td>182</td>\n",
       "      <td>2019-05-06</td>\n",
       "      <td>2022-10-24</td>\n",
       "      <td>127.401099</td>\n",
       "      <td>95</td>\n",
       "      <td>0</td>\n",
       "      <td>0</td>\n",
       "      <td>0</td>\n",
       "      <td>7 days</td>\n",
       "      <td>7 days</td>\n",
       "      <td>0</td>\n",
       "      <td>1268</td>\n",
       "      <td>0.143533</td>\n",
       "      <td>0.0</td>\n",
       "      <td>0.000000</td>\n",
       "    </tr>\n",
       "    <tr>\n",
       "      <th>37</th>\n",
       "      <td>store_192_SKU_909893792</td>\n",
       "      <td>182</td>\n",
       "      <td>2019-05-06</td>\n",
       "      <td>2022-10-24</td>\n",
       "      <td>74.543956</td>\n",
       "      <td>87</td>\n",
       "      <td>0</td>\n",
       "      <td>0</td>\n",
       "      <td>0</td>\n",
       "      <td>7 days</td>\n",
       "      <td>7 days</td>\n",
       "      <td>0</td>\n",
       "      <td>1268</td>\n",
       "      <td>0.143533</td>\n",
       "      <td>0.0</td>\n",
       "      <td>0.000000</td>\n",
       "    </tr>\n",
       "    <tr>\n",
       "      <th>27</th>\n",
       "      <td>store_175_SKU_120949681</td>\n",
       "      <td>182</td>\n",
       "      <td>2019-05-06</td>\n",
       "      <td>2022-10-24</td>\n",
       "      <td>395.049451</td>\n",
       "      <td>136</td>\n",
       "      <td>0</td>\n",
       "      <td>0</td>\n",
       "      <td>0</td>\n",
       "      <td>7 days</td>\n",
       "      <td>7 days</td>\n",
       "      <td>0</td>\n",
       "      <td>1268</td>\n",
       "      <td>0.143533</td>\n",
       "      <td>0.0</td>\n",
       "      <td>0.000000</td>\n",
       "    </tr>\n",
       "    <tr>\n",
       "      <th>28</th>\n",
       "      <td>store_175_SKU_120969012</td>\n",
       "      <td>182</td>\n",
       "      <td>2019-05-06</td>\n",
       "      <td>2022-10-24</td>\n",
       "      <td>237.461538</td>\n",
       "      <td>136</td>\n",
       "      <td>0</td>\n",
       "      <td>0</td>\n",
       "      <td>0</td>\n",
       "      <td>7 days</td>\n",
       "      <td>7 days</td>\n",
       "      <td>0</td>\n",
       "      <td>1268</td>\n",
       "      <td>0.143533</td>\n",
       "      <td>0.0</td>\n",
       "      <td>0.000000</td>\n",
       "    </tr>\n",
       "    <tr>\n",
       "      <th>29</th>\n",
       "      <td>store_175_SKU_409929345</td>\n",
       "      <td>182</td>\n",
       "      <td>2019-05-06</td>\n",
       "      <td>2022-10-24</td>\n",
       "      <td>75.258242</td>\n",
       "      <td>96</td>\n",
       "      <td>0</td>\n",
       "      <td>1</td>\n",
       "      <td>0</td>\n",
       "      <td>7 days</td>\n",
       "      <td>7 days</td>\n",
       "      <td>0</td>\n",
       "      <td>1268</td>\n",
       "      <td>0.143533</td>\n",
       "      <td>0.0</td>\n",
       "      <td>0.005495</td>\n",
       "    </tr>\n",
       "  </tbody>\n",
       "</table>\n",
       "</div>"
      ],
      "text/plain": [
       "                  STORE_SKU  rows date_col_min date_col_max  target_mean  \\\n",
       "0   store_130_SKU_120931082   182   2019-05-06   2022-10-24   127.401099   \n",
       "37  store_192_SKU_909893792   182   2019-05-06   2022-10-24    74.543956   \n",
       "27  store_175_SKU_120949681   182   2019-05-06   2022-10-24   395.049451   \n",
       "28  store_175_SKU_120969012   182   2019-05-06   2022-10-24   237.461538   \n",
       "29  store_175_SKU_409929345   182   2019-05-06   2022-10-24    75.258242   \n",
       "\n",
       "    nunique  missing  zeros  negatives gap_max gap_mode  gap_uncommon_count  \\\n",
       "0        95        0      0          0  7 days   7 days                   0   \n",
       "37       87        0      0          0  7 days   7 days                   0   \n",
       "27      136        0      0          0  7 days   7 days                   0   \n",
       "28      136        0      0          0  7 days   7 days                   0   \n",
       "29       96        0      1          0  7 days   7 days                   0   \n",
       "\n",
       "    duration  rows_to_duration  missing_rate  zeros_rate  \n",
       "0       1268          0.143533           0.0    0.000000  \n",
       "37      1268          0.143533           0.0    0.000000  \n",
       "27      1268          0.143533           0.0    0.000000  \n",
       "28      1268          0.143533           0.0    0.000000  \n",
       "29      1268          0.143533           0.0    0.005495  "
      ]
     },
     "execution_count": 25,
     "metadata": {},
     "output_type": "execute_result"
    }
   ],
   "source": [
    "df_stats.sort_values('gap_max', ascending=False).head()"
   ]
  },
  {
   "cell_type": "code",
   "execution_count": 26,
   "id": "3e709dd5-d47c-4658-a910-bab035c11c01",
   "metadata": {},
   "outputs": [
    {
     "data": {
      "image/png": "[encoded data removed]",
      "text/plain": [
       "<Figure size 1080x504 with 1 Axes>"
      ]
     },
     "metadata": {
      "needs_background": "light"
     },
     "output_type": "display_data"
    }
   ],
   "source": [
    "dru.plot_series_over_time(df, date_col, series_id, df_stats.sort_values('gap_max', ascending=False)[series_id].values[0], [target])"
   ]
  },
  {
   "cell_type": "markdown",
   "id": "0e9da601-abc0-4556-8995-823b0a729b44",
   "metadata": {
    "tags": []
   },
   "source": [
    "<a id='modeling'></a>\n",
    "## Modeling\n",
    "\n",
    "The next step after the data preparation and before modeling is [to specify the modeling parameters](https://datarobot-public-api-client.readthedocs-hosted.com/en/v2.28.0/reference/modeling/spec/time_series.html#):\n",
    "\n",
    "- *Features known in advance* are things you know in the future, such as product metadata or a planned marketing event. If all features are known in advance, use the setting `default_to_known_in_advance`.\n",
    "\n",
    "- *Do not derive features* will be excluded from deriving time-related features. If all features should be excluded, `default_to_do_not_derive` can be used.\n",
    "\n",
    "- `metric` is used for evaluating models. [DataRobot supports a wide variety of metrics](https://app.datarobot.com/docs/modeling/reference/model-detail/opt-metric.html). The metric used depends on the use case. If the value is not specified, DataRobot suggests a metric based on the target distribution.\n",
    "\n",
    "- `feature_derivation_window_start` and `feature_derivation_window_end` define the feature derivation window (FDW). The FDW represents the rolling window that is used to derive time series features and lags. FDW definition should be long enough to capture relevant trends to your use case. On the other hand, FDW shouldn't be too long (e.g., 365 days) because it shrinks the available training data and increases the size of the feature list. Older data does not help the model learn recent trends. It is not necessary to have a year-long FDW to capture seasonality; DataRobot auto-derives features (month indicator, day indicator), as well as learns effects near calendar events (if a calendar is provided), in addition to blueprint specific techniques for seasonality.\n",
    "\n",
    "- `gap_duration` is the duration of the gap between training and validation/holdout scoring data, representing delays in data availability. For example, at prediction time, if events occuring on Monday aren't reported or made available until Wednesday, you would have a gap of 2 days. This can occur with reporting lags or with data that requires some form of validation before being stored on a system of record.\n",
    "\n",
    "- `forecast_window_start` and `forecast_window_end` defines the forecast window (FW). It represents the rolling window of future values to predict. FW depends on a business application of the model predictions.\n",
    "\n",
    "- `number_of_backtests` and `validation_duration`. Proper backtest configuration helps evaluate the model’s ability to generalize to the appropriate time periods. The main considerations during the backtests specification are listed below.\n",
    "    - Validation from all backtests combined should span the region of interest.\n",
    "    - Fewer backtests means the validation lengths might need to be longer.\n",
    "    - After the specification of the appropriate validation length, the number of backtests should be adjusted until they span a full region of interest.\n",
    "    - The validation duration should be at least as long as your best estimate of the amount of time the model will be in production without retraining.\n",
    "\n",
    "\n",
    "- `holdout_start_date` with one of `holdout_end_date` or `holdout_duration` can be added additionally. DataRobot will define them based on `validation_duration` if they were not specified.\n",
    "\n",
    "\n",
    "- `calendar_id` is the ID of the previously created calendar. DataRobot automatically create features based on the calendar events (such as “days to next event” ). There are several options to create a calendar:\n",
    "    \n",
    "    - From an AI Catalog dataset:\n",
    "        ```python\n",
    "        calendar = dr.CalendarFile.create_calendar_from_dataset(dataset_id)\n",
    "        \n",
    "        \n",
    "        ```\n",
    "    - Based on the provided country code and dataset start date and end dates:\n",
    "        ```python\n",
    "        calendar = dr.CalendarFile.create_calendar_from_country_code(country_code, start_date, end_date)\n",
    "        \n",
    "        \n",
    "        ```\n",
    "    - From a local file:\n",
    "        ```python\n",
    "        calendar = dr.CalendarFile.create(path_to_calendar_file)\n",
    "        \n",
    "        \n",
    "        ```\n",
    "\n",
    "- `allow_partial_history_time_series_predictions` - Not all blueprints are designed to predict on new series with only partial history, as it can lead to suboptimal predictions. This is because for those blueprints the full history is needed to derive the features for specific forecast points. \"Cold start\" is the ability to model on series that were not seen in the training data; partial history refers to prediction datasets with series history that is only partially known (historical rows are partially available within the feature derivation window). If `True`, Autopilot will run the blueprints optimized for cold start and also for partial history modeling, eliminating models with less accurate results for partial history support.\n",
    "\n",
    "- `segmented_project` set to `True` and the cluster name `cluster_id` can be used for segmented modeling. This feature offers the ability to build multiple forecasting models simultaneously. DataRobot creates multiple projects “under the hood”. Each project is specific to its own data per `cluster_id`. The model benefits by having forecasts tailored to the specific data subset, rather than assuming that the important features are going to be the same across all of series. The models for different `cluster_id`s will have features engineered specifically from cluster-specific data. The benefits of segmented modeling also extend to deployments. Rather than deploying each model separately, we can deploy all of them at once within one segmented deployment.\n",
    "\n",
    "> The function `dr.helpers.partitioning_methods.construct_duration_string()` can be used to construct a valid string representing the `gap_duration`, `validation_duration` and `holdout_duration` duration in accordance with ISO8601."
   ]
  },
  {
   "cell_type": "markdown",
   "id": "b2f5d7c0-5710-4c1e-a312-8a9efa3beabc",
   "metadata": {},
   "source": [
    "### Create a calendar\n",
    "\n",
    "Create a calendar based on the dataset in the AI Catalog."
   ]
  },
  {
   "cell_type": "code",
   "execution_count": null,
   "id": "860d974d-dd77-4a91-97b1-f9f7c6db18e3",
   "metadata": {},
   "outputs": [],
   "source": [
    "calendar = dr.CalendarFile.create_calendar_from_dataset(dataset_id=dataset_calendar.id, calendar_name=dataset_calendar.name)\n",
    "calendar_id = calendar.id"
   ]
  },
  {
   "cell_type": "markdown",
   "id": "cbbc8aea-6f76-4c43-9a9a-5d643534eda7",
   "metadata": {},
   "source": [
    "### Configure modeling settings"
   ]
  },
  {
   "cell_type": "code",
   "execution_count": null,
   "id": "40f1c744-83c9-4764-a304-0a976c4eb140",
   "metadata": {},
   "outputs": [],
   "source": [
    "features_known_in_advance = ['STORE', 'SKU', 'SKU_CATEGORY', 'PROMO_MAX']\n",
    "do_not_derive_features = ['STORE', 'SKU', 'SKU_CATEGORY']\n",
    "\n",
    "params = {\n",
    "    'metric': None,\n",
    "    'features_known_in_advance': features_known_in_advance,\n",
    "    'do_not_derive_features': do_not_derive_features,\n",
    "    \n",
    "    'target': target,\n",
    "    'mode': 'quick',\n",
    "    \n",
    "    'segmented_project': False,\n",
    "    'cluster_id': None,\n",
    "    \n",
    "    'datetime_partition_column': date_col,\n",
    "    'multiseries_id_columns': [series_id],\n",
    "    'use_time_series': True,\n",
    "    \n",
    "    'feature_derivation_window_start': None,\n",
    "    'feature_derivation_window_end': None,\n",
    "    \n",
    "    'gap_duration': None,\n",
    "    \n",
    "    'forecast_window_start': None,\n",
    "    'forecast_window_end': None,\n",
    "    \n",
    "    'number_of_backtests': None,\n",
    "    'validation_duration': None,\n",
    "    \n",
    "    'calendar_id': calendar_id,\n",
    "    \n",
    "    'allow_partial_history_time_series_predictions': True\n",
    "}"
   ]
  },
  {
   "cell_type": "markdown",
   "id": "51f8444e-36f8-4f02-a022-6da103c54430",
   "metadata": {},
   "source": [
    "### Create and run projects"
   ]
  },
  {
   "cell_type": "markdown",
   "id": "7b091158-bb39-403d-bcc9-3189de247c89",
   "metadata": {},
   "source": [
    "Run projects using the function `dru.run_projects` and wait for completion. The arguments:\n",
    "\n",
    "- `data` - a `dr.Dataset`, a pandas `DataFrame` or a path to a local file\n",
    "- `params` - a `dictionary` with parameters as specified in the description and example above.\n",
    "return a nested dictionary of `{project.id: {project meta-data : values,...}}`. Defaults to one project unless segmented modeling is enabled"
   ]
  },
  {
   "cell_type": "code",
   "execution_count": 29,
   "id": "c102558d-14c9-4e1d-beda-f310630881b5",
   "metadata": {},
   "outputs": [
    {
     "name": "stdout",
     "output_type": "stream",
     "text": [
      "DataRobot will define FDW and FD automatically.\n",
      "2023-01-20 18:03:33.759359 start: UNITS_20230120_1803\n"
     ]
    }
   ],
   "source": [
    "projects = dru.run_projects(data=dataset_train, params=params, description='all series', file_to_save='projects_test.csv')"
   ]
  },
  {
   "cell_type": "code",
   "execution_count": 44,
   "id": "208cde43-ddd5-42a3-b54d-cfce0f578a1d",
   "metadata": {},
   "outputs": [
    {
     "data": {
      "text/plain": [
       "{'63cb1dc57f7acc3548033664': {'project': Project(UNITS_20230120_1803),\n",
       "  'project_name': 'UNITS_20230120_1803',\n",
       "  'project_type': 'all series',\n",
       "  'cluster_id': None,\n",
       "  'cluster_name': None,\n",
       "  'description': 'all series',\n",
       "  'deployment_id': '63cb208ca24ba50de23d8825',\n",
       "  'deployment': Deployment(UNITS_20230120_1803),\n",
       "  'preds_job_def': BatchPredictionJobDefinition(63cb20f6a015dc87b07d1637),\n",
       "  'preds_job_def_id': '63cb20f6a015dc87b07d1637'}}"
      ]
     },
     "execution_count": 44,
     "metadata": {},
     "output_type": "execute_result"
    }
   ],
   "source": [
    "projects"
   ]
  },
  {
   "cell_type": "markdown",
   "id": "b24f1d08-d5e7-464f-9154-040e9308ae5d",
   "metadata": {},
   "source": [
    "### Initiate Autopilot"
   ]
  },
  {
   "cell_type": "code",
   "execution_count": 30,
   "id": "07993092-793d-424e-a597-e35b61532519",
   "metadata": {},
   "outputs": [
    {
     "name": "stdout",
     "output_type": "stream",
     "text": [
      "63cb1dc57f7acc3548033664 Project(UNITS_20230120_1803)\n"
     ]
    }
   ],
   "source": [
    "for cl, vals in projects.items():\n",
    "    proj = vals['project'] #DataRobot Project Object\n",
    "    print(proj.id, proj) \n",
    "    proj.wait_for_autopilot(verbosity=dr.enums.VERBOSITY_LEVEL.SILENT)"
   ]
  },
  {
   "cell_type": "markdown",
   "id": "47f6d14b-e1cd-40b6-8d13-b3b05ace24b9",
   "metadata": {},
   "source": [
    "<a id='insights'></a>\n",
    "## Model evaluation and insights\n",
    "\n",
    "Select a project to take a closer look at model performance."
   ]
  },
  {
   "cell_type": "code",
   "execution_count": 31,
   "id": "435a65d4-d89e-42bd-a133-f89b0d2be84b",
   "metadata": {},
   "outputs": [
    {
     "name": "stdout",
     "output_type": "stream",
     "text": [
      "63cb1dc57f7acc3548033664 Project(UNITS_20230120_1803)\n"
     ]
    }
   ],
   "source": [
    "project = list(projects.values())[0]['project']\n",
    "if project.is_segmented:\n",
    "    combined_model  = project.get_combined_models()[0]\n",
    "    segments_df = combined_model.get_segments_as_dataframe()\n",
    "    project = dr.Project.get(segments_df.sort_values('row_percentage', ascending=False)['project_id'][0])\n",
    "\n",
    "print(project.id, project)"
   ]
  },
  {
   "cell_type": "markdown",
   "id": "4fc5bbfb-42b5-4f22-b6e8-a4493fc250e4",
   "metadata": {},
   "source": [
    "### Retrieve models\n",
    "\n",
    "Select the most accurate model from the Leaderboard."
   ]
  },
  {
   "cell_type": "code",
   "execution_count": 32,
   "id": "3acc6782-78d0-46b9-a99f-cf9941b10c1d",
   "metadata": {},
   "outputs": [
    {
     "name": "stdout",
     "output_type": "stream",
     "text": [
      "63cb1e6e40ff7079faba3407 DatetimeModel('eXtreme Gradient Boosting Regressor with Early Stopping and New Series Support')\n"
     ]
    },
    {
     "data": {
      "text/html": [
       "<div>\n",
       "<style scoped>\n",
       "    .dataframe tbody tr th:only-of-type {\n",
       "        vertical-align: middle;\n",
       "    }\n",
       "\n",
       "    .dataframe tbody tr th {\n",
       "        vertical-align: top;\n",
       "    }\n",
       "\n",
       "    .dataframe thead th {\n",
       "        text-align: right;\n",
       "    }\n",
       "</style>\n",
       "<table border=\"1\" class=\"dataframe\">\n",
       "  <thead>\n",
       "    <tr style=\"text-align: right;\">\n",
       "      <th></th>\n",
       "      <th>project_id</th>\n",
       "      <th>blueprint_id</th>\n",
       "      <th>featurelist_id</th>\n",
       "      <th>model_id</th>\n",
       "      <th>model_n</th>\n",
       "      <th>model_cat</th>\n",
       "      <th>model_type</th>\n",
       "      <th>model</th>\n",
       "      <th>duration</th>\n",
       "      <th>end_date</th>\n",
       "      <th>RMSE_backtests</th>\n",
       "      <th>RMSE_backtest1</th>\n",
       "    </tr>\n",
       "  </thead>\n",
       "  <tbody>\n",
       "    <tr>\n",
       "      <th>0</th>\n",
       "      <td>63cb1dc57f7acc3548033664</td>\n",
       "      <td>10807011a661cff2077ffcae75a240f5</td>\n",
       "      <td>63cb1e317157b7ddd0784314</td>\n",
       "      <td>63cb1e6e40ff7079faba3407</td>\n",
       "      <td>15</td>\n",
       "      <td>model</td>\n",
       "      <td>eXtreme Gradient Boosting Regressor with Early...</td>\n",
       "      <td>DatetimeModel('eXtreme Gradient Boosting Regre...</td>\n",
       "      <td>P0Y0M797D</td>\n",
       "      <td>NaT</td>\n",
       "      <td>43.79093</td>\n",
       "      <td>34.57502</td>\n",
       "    </tr>\n",
       "    <tr>\n",
       "      <th>1</th>\n",
       "      <td>63cb1dc57f7acc3548033664</td>\n",
       "      <td>10807011a661cff2077ffcae75a240f5</td>\n",
       "      <td>63cb1f40eb25b482359d0195</td>\n",
       "      <td>63cb1f41eb25b482359d019c</td>\n",
       "      <td>36</td>\n",
       "      <td>model</td>\n",
       "      <td>eXtreme Gradient Boosting Regressor with Early...</td>\n",
       "      <td>DatetimeModel('eXtreme Gradient Boosting Regre...</td>\n",
       "      <td>P0Y0M797D</td>\n",
       "      <td>NaT</td>\n",
       "      <td>43.82645</td>\n",
       "      <td>34.24454</td>\n",
       "    </tr>\n",
       "    <tr>\n",
       "      <th>2</th>\n",
       "      <td>63cb1dc57f7acc3548033664</td>\n",
       "      <td>919fd7caa918c51626dcdcbf3e4a2fe5</td>\n",
       "      <td>63cb1e317157b7ddd0784314</td>\n",
       "      <td>63cb1e6e40ff7079faba3406</td>\n",
       "      <td>14</td>\n",
       "      <td>model</td>\n",
       "      <td>eXtreme Gradient Boosting Regressor with Early...</td>\n",
       "      <td>DatetimeModel('eXtreme Gradient Boosting Regre...</td>\n",
       "      <td>P0Y0M797D</td>\n",
       "      <td>NaT</td>\n",
       "      <td>44.04191</td>\n",
       "      <td>32.92600</td>\n",
       "    </tr>\n",
       "    <tr>\n",
       "      <th>3</th>\n",
       "      <td>63cb1dc57f7acc3548033664</td>\n",
       "      <td>f7b1dd1f2967237ac8aec1510e1a2c48</td>\n",
       "      <td>63cb1e317157b7ddd0784314</td>\n",
       "      <td>63cb1e6e40ff7079faba3403</td>\n",
       "      <td>11</td>\n",
       "      <td>model</td>\n",
       "      <td>Performance Clustered eXtreme Gradient Boosted...</td>\n",
       "      <td>DatetimeModel('Performance Clustered eXtreme G...</td>\n",
       "      <td>P0Y0M797D</td>\n",
       "      <td>NaT</td>\n",
       "      <td>44.92713</td>\n",
       "      <td>34.66657</td>\n",
       "    </tr>\n",
       "    <tr>\n",
       "      <th>4</th>\n",
       "      <td>63cb1dc57f7acc3548033664</td>\n",
       "      <td>586e48c7da793c3384aa5102caaef2e5</td>\n",
       "      <td>63cb1e317157b7ddd0784314</td>\n",
       "      <td>63cb1e6e40ff7079faba3404</td>\n",
       "      <td>12</td>\n",
       "      <td>model</td>\n",
       "      <td>Temporal Hierarchical Model with Elastic Net a...</td>\n",
       "      <td>DatetimeModel('Temporal Hierarchical Model wit...</td>\n",
       "      <td>P0Y0M797D</td>\n",
       "      <td>NaT</td>\n",
       "      <td>45.56763</td>\n",
       "      <td>34.62065</td>\n",
       "    </tr>\n",
       "  </tbody>\n",
       "</table>\n",
       "</div>"
      ],
      "text/plain": [
       "                 project_id                      blueprint_id  \\\n",
       "0  63cb1dc57f7acc3548033664  10807011a661cff2077ffcae75a240f5   \n",
       "1  63cb1dc57f7acc3548033664  10807011a661cff2077ffcae75a240f5   \n",
       "2  63cb1dc57f7acc3548033664  919fd7caa918c51626dcdcbf3e4a2fe5   \n",
       "3  63cb1dc57f7acc3548033664  f7b1dd1f2967237ac8aec1510e1a2c48   \n",
       "4  63cb1dc57f7acc3548033664  586e48c7da793c3384aa5102caaef2e5   \n",
       "\n",
       "             featurelist_id                  model_id  model_n model_cat  \\\n",
       "0  63cb1e317157b7ddd0784314  63cb1e6e40ff7079faba3407       15     model   \n",
       "1  63cb1f40eb25b482359d0195  63cb1f41eb25b482359d019c       36     model   \n",
       "2  63cb1e317157b7ddd0784314  63cb1e6e40ff7079faba3406       14     model   \n",
       "3  63cb1e317157b7ddd0784314  63cb1e6e40ff7079faba3403       11     model   \n",
       "4  63cb1e317157b7ddd0784314  63cb1e6e40ff7079faba3404       12     model   \n",
       "\n",
       "                                          model_type  \\\n",
       "0  eXtreme Gradient Boosting Regressor with Early...   \n",
       "1  eXtreme Gradient Boosting Regressor with Early...   \n",
       "2  eXtreme Gradient Boosting Regressor with Early...   \n",
       "3  Performance Clustered eXtreme Gradient Boosted...   \n",
       "4  Temporal Hierarchical Model with Elastic Net a...   \n",
       "\n",
       "                                               model   duration end_date  \\\n",
       "0  DatetimeModel('eXtreme Gradient Boosting Regre...  P0Y0M797D      NaT   \n",
       "1  DatetimeModel('eXtreme Gradient Boosting Regre...  P0Y0M797D      NaT   \n",
       "2  DatetimeModel('eXtreme Gradient Boosting Regre...  P0Y0M797D      NaT   \n",
       "3  DatetimeModel('Performance Clustered eXtreme G...  P0Y0M797D      NaT   \n",
       "4  DatetimeModel('Temporal Hierarchical Model wit...  P0Y0M797D      NaT   \n",
       "\n",
       "   RMSE_backtests  RMSE_backtest1  \n",
       "0        43.79093        34.57502  \n",
       "1        43.82645        34.24454  \n",
       "2        44.04191        32.92600  \n",
       "3        44.92713        34.66657  \n",
       "4        45.56763        34.62065  "
      ]
     },
     "execution_count": 32,
     "metadata": {},
     "output_type": "execute_result"
    }
   ],
   "source": [
    "model_scores = dru.get_leaderboard(project)\n",
    "model = model_scores['model'][0]\n",
    "print(model.id, model)\n",
    "model_scores.head()"
   ]
  },
  {
   "cell_type": "markdown",
   "id": "c76ed51f-2606-47cf-b68d-2de795451fe9",
   "metadata": {},
   "source": [
    "### Accuracy over time\n",
    "\n",
    "[Accuracy over time](https://app.datarobot.com/docs/modeling/analyze-models/evaluate/aot.html) helps visualize how predictions change over time compared to actuals."
   ]
  },
  {
   "cell_type": "code",
   "execution_count": 33,
   "id": "fbe112c1-e53a-4c12-a9a2-10ad1888a427",
   "metadata": {},
   "outputs": [
    {
     "data": {
      "image/png": "[encoded data removed]",
      "text/plain": [
       "<Figure size 1080x504 with 1 Axes>"
      ]
     },
     "metadata": {
      "needs_background": "light"
     },
     "output_type": "display_data"
    }
   ],
   "source": [
    "dru.plot_accuracy_over_time(project, model)"
   ]
  },
  {
   "cell_type": "markdown",
   "id": "12429398-0547-46f9-a4f9-3aa479467d1c",
   "metadata": {},
   "source": [
    "### Stability\n",
    "\n",
    "View an [at-a-glance summary](https://app.datarobot.com/docs/modeling/analyze-models/evaluate/stability.html) of how well a model performs on different backtests."
   ]
  },
  {
   "cell_type": "code",
   "execution_count": 34,
   "id": "74492726-cacb-4078-bbba-b4240ae21fd0",
   "metadata": {},
   "outputs": [
    {
     "data": {
      "image/png": "[encoded data removed]",
      "text/plain": [
       "<Figure size 1080x504 with 1 Axes>"
      ]
     },
     "metadata": {
      "needs_background": "light"
     },
     "output_type": "display_data"
    }
   ],
   "source": [
    "dru.plot_stability_scores(project, model)"
   ]
  },
  {
   "cell_type": "markdown",
   "id": "28e3b705-ff72-46c7-aaa9-d10eb0d5fe91",
   "metadata": {},
   "source": [
    "### Series insights\n",
    "\n",
    "[Series insights](https://app.datarobot.com/docs/modeling/analyze-models/evaluate/series-acc.html) provide data representing accuracy, average scores, length, and start/end date distribution by count for each series."
   ]
  },
  {
   "cell_type": "code",
   "execution_count": 35,
   "id": "8f3df023-1a35-4f34-9403-2e2716792d33",
   "metadata": {},
   "outputs": [
    {
     "name": "stdout",
     "output_type": "stream",
     "text": [
      "project metric: RMSE\n",
      "(50, 10)\n"
     ]
    },
    {
     "data": {
      "text/html": [
       "<div>\n",
       "<style scoped>\n",
       "    .dataframe tbody tr th:only-of-type {\n",
       "        vertical-align: middle;\n",
       "    }\n",
       "\n",
       "    .dataframe tbody tr th {\n",
       "        vertical-align: top;\n",
       "    }\n",
       "\n",
       "    .dataframe thead th {\n",
       "        text-align: right;\n",
       "    }\n",
       "</style>\n",
       "<table border=\"1\" class=\"dataframe\">\n",
       "  <thead>\n",
       "    <tr style=\"text-align: right;\">\n",
       "      <th></th>\n",
       "      <th>multiseriesId</th>\n",
       "      <th>multiseriesValues</th>\n",
       "      <th>rowCount</th>\n",
       "      <th>duration</th>\n",
       "      <th>startDate</th>\n",
       "      <th>endDate</th>\n",
       "      <th>validationScore</th>\n",
       "      <th>backtestingScore</th>\n",
       "      <th>holdoutScore</th>\n",
       "      <th>targetAverage</th>\n",
       "    </tr>\n",
       "  </thead>\n",
       "  <tbody>\n",
       "    <tr>\n",
       "      <th>0</th>\n",
       "      <td>63cb1df7f8f3aac9f4cba3ce</td>\n",
       "      <td>[store_130_SKU_120931082]</td>\n",
       "      <td>182</td>\n",
       "      <td>P3Y5M18D</td>\n",
       "      <td>2019-05-06T00:00:00.000000Z</td>\n",
       "      <td>2022-10-24T00:00:00.000000Z</td>\n",
       "      <td>11.47039</td>\n",
       "      <td>17.603000</td>\n",
       "      <td>22.04872</td>\n",
       "      <td>127.401099</td>\n",
       "    </tr>\n",
       "    <tr>\n",
       "      <th>1</th>\n",
       "      <td>63cb1df7f8f3aac9f4cba3cf</td>\n",
       "      <td>[store_130_SKU_120969795]</td>\n",
       "      <td>182</td>\n",
       "      <td>P3Y5M18D</td>\n",
       "      <td>2019-05-06T00:00:00.000000Z</td>\n",
       "      <td>2022-10-24T00:00:00.000000Z</td>\n",
       "      <td>17.91493</td>\n",
       "      <td>21.465530</td>\n",
       "      <td>21.05725</td>\n",
       "      <td>46.098901</td>\n",
       "    </tr>\n",
       "    <tr>\n",
       "      <th>2</th>\n",
       "      <td>63cb1df7f8f3aac9f4cba3d0</td>\n",
       "      <td>[store_133_SKU_9888998]</td>\n",
       "      <td>182</td>\n",
       "      <td>P3Y5M18D</td>\n",
       "      <td>2019-05-06T00:00:00.000000Z</td>\n",
       "      <td>2022-10-24T00:00:00.000000Z</td>\n",
       "      <td>19.46449</td>\n",
       "      <td>14.697310</td>\n",
       "      <td>22.61437</td>\n",
       "      <td>46.986264</td>\n",
       "    </tr>\n",
       "    <tr>\n",
       "      <th>3</th>\n",
       "      <td>63cb1df7f8f3aac9f4cba3d1</td>\n",
       "      <td>[store_136_SKU_120973845]</td>\n",
       "      <td>182</td>\n",
       "      <td>P3Y5M18D</td>\n",
       "      <td>2019-05-06T00:00:00.000000Z</td>\n",
       "      <td>2022-10-24T00:00:00.000000Z</td>\n",
       "      <td>18.62200</td>\n",
       "      <td>20.046770</td>\n",
       "      <td>23.13299</td>\n",
       "      <td>88.274725</td>\n",
       "    </tr>\n",
       "    <tr>\n",
       "      <th>4</th>\n",
       "      <td>63cb1df7f8f3aac9f4cba3d2</td>\n",
       "      <td>[store_137_SKU_120949681]</td>\n",
       "      <td>182</td>\n",
       "      <td>P3Y5M18D</td>\n",
       "      <td>2019-05-06T00:00:00.000000Z</td>\n",
       "      <td>2022-10-24T00:00:00.000000Z</td>\n",
       "      <td>30.88644</td>\n",
       "      <td>105.254205</td>\n",
       "      <td>62.46387</td>\n",
       "      <td>232.565934</td>\n",
       "    </tr>\n",
       "  </tbody>\n",
       "</table>\n",
       "</div>"
      ],
      "text/plain": [
       "              multiseriesId          multiseriesValues  rowCount  duration  \\\n",
       "0  63cb1df7f8f3aac9f4cba3ce  [store_130_SKU_120931082]       182  P3Y5M18D   \n",
       "1  63cb1df7f8f3aac9f4cba3cf  [store_130_SKU_120969795]       182  P3Y5M18D   \n",
       "2  63cb1df7f8f3aac9f4cba3d0    [store_133_SKU_9888998]       182  P3Y5M18D   \n",
       "3  63cb1df7f8f3aac9f4cba3d1  [store_136_SKU_120973845]       182  P3Y5M18D   \n",
       "4  63cb1df7f8f3aac9f4cba3d2  [store_137_SKU_120949681]       182  P3Y5M18D   \n",
       "\n",
       "                     startDate                      endDate  validationScore  \\\n",
       "0  2019-05-06T00:00:00.000000Z  2022-10-24T00:00:00.000000Z         11.47039   \n",
       "1  2019-05-06T00:00:00.000000Z  2022-10-24T00:00:00.000000Z         17.91493   \n",
       "2  2019-05-06T00:00:00.000000Z  2022-10-24T00:00:00.000000Z         19.46449   \n",
       "3  2019-05-06T00:00:00.000000Z  2022-10-24T00:00:00.000000Z         18.62200   \n",
       "4  2019-05-06T00:00:00.000000Z  2022-10-24T00:00:00.000000Z         30.88644   \n",
       "\n",
       "   backtestingScore  holdoutScore  targetAverage  \n",
       "0         17.603000      22.04872     127.401099  \n",
       "1         21.465530      21.05725      46.098901  \n",
       "2         14.697310      22.61437      46.986264  \n",
       "3         20.046770      23.13299      88.274725  \n",
       "4        105.254205      62.46387     232.565934  "
      ]
     },
     "execution_count": 35,
     "metadata": {},
     "output_type": "execute_result"
    }
   ],
   "source": [
    "model_sa = dru.get_series_accuracy(project, model, compute_all_series=True)\n",
    "print('project metric:', project.metric)\n",
    "print(model_sa.shape)\n",
    "model_sa.head()"
   ]
  },
  {
   "cell_type": "markdown",
   "id": "e4b11be3-a0ba-4552-81c4-29ae843c0d40",
   "metadata": {},
   "source": [
    "### Feature Impact\n",
    "\n",
    "[Feature Impact](https://app.datarobot.com/docs/modeling/analyze-models/understand/feature-impact.html) is available for all model types and works by altering input data and observing the effect on a model’s score. It is an on-demand feature, meaning that you must initiate a calculation to see the results. Once you have had DataRobot compute the feature impact for a model, that information is saved with the project.\n",
    "\n",
    "Feature Impact measures how important a feature is in the context of a model. That is, it measures how much the accuracy of a model would decrease if that feature were removed.\n",
    "\n",
    "Note that the diversity of features created is providing signal to the model. "
   ]
  },
  {
   "cell_type": "code",
   "execution_count": 36,
   "id": "bacab84a-7dcd-4577-9e58-d27624b47632",
   "metadata": {},
   "outputs": [
    {
     "data": {
      "image/png": "[encoded data removed]",
      "text/plain": [
       "<Figure size 864x864 with 1 Axes>"
      ]
     },
     "metadata": {
      "needs_background": "light"
     },
     "output_type": "display_data"
    }
   ],
   "source": [
    "dru.plot_feature_impacts(model, top_n=30)"
   ]
  },
  {
   "cell_type": "markdown",
   "id": "3675dbc8-b1b6-417e-af7e-576dd054894e",
   "metadata": {},
   "source": [
    "<a id='deployment'></a>\n",
    "## Deployment\n",
    "\n",
    "After you have selected your final model, you have multiple options for a production deployment in DataRobot MLOps. Creating a deployment will add your model package to the Model Registry and containerize all model artifacts, generate compliance documentation, expose a production quality REST API on a prediction server in your DataRobot cluster, and enable all lifecycle management fucntionality, like drift monitoring. Two helper function are provided below:\n",
    "\n",
    "`dru.make_deployments` accepts a dictionary of projects and deploys the DataRobot recommended model. This will enable multiple deployments if you are using segmented modeling, which can be helpful if you have many segments (and thus many models to deploy). \n",
    "\n",
    "`dru.make_deployment` can be used to deploy a specific model by passing the `model.id`. If `model.id` is **None**, the DataRobot recommended model from the project will be deployed."
   ]
  },
  {
   "cell_type": "code",
   "execution_count": 37,
   "id": "8a2d5696-5572-4919-b29f-c800f456743c",
   "metadata": {},
   "outputs": [
    {
     "name": "stdout",
     "output_type": "stream",
     "text": [
      "Deployment ID: 63cb208ca24ba50de23d8825; URL: https://app.datarobot.com/deployments/63cb208ca24ba50de23d8825/overview\n",
      "\n"
     ]
    }
   ],
   "source": [
    "deployments = dru.make_deployments(projects, file_to_save='deployments_test.csv', feature_drift_enabled=True)"
   ]
  },
  {
   "cell_type": "code",
   "execution_count": 46,
   "id": "aaeff289-3396-494d-be68-b8250fad60f1",
   "metadata": {},
   "outputs": [
    {
     "name": "stdout",
     "output_type": "stream",
     "text": [
      "Deployment ID: 63cb51522fe7840c4fa43cfd; URL: https://app.datarobot.com/deployments/63cb51522fe7840c4fa43cfd/overview\n",
      "\n"
     ]
    }
   ],
   "source": [
    "dep2 = dru.make_deployment(project=project, name='Temporal Hierarchical Model with Elastic Net and XGBoost', model_id = '63cb1e6e40ff7079faba3404')"
   ]
  },
  {
   "cell_type": "markdown",
   "id": "3cceede7-cb37-406e-a585-5c435db9bcb2",
   "metadata": {},
   "source": [
    "<a id='preds'></a>\n",
    "## Make predictions\n",
    "\n",
    "The scoring dataset should follow requirements to ensure the Batch Prediction API can make predictions: \n",
    "- Sort prediction rows by their series ID then timestamp, with the earliest row first.\n",
    "- The dataset must contain rows without a target for the desired forecast window.\n",
    "\n",
    "You can find more details on the scoring dataset structure [in the DataRobot documentation](https://app.datarobot.com/docs/api/reference/batch-prediction-api/batch-pred-ts.html#requirements-for-the-scoring-dataset)."
   ]
  },
  {
   "cell_type": "markdown",
   "id": "2520dd5d-756e-484d-85a9-c2248c8f04c2",
   "metadata": {},
   "source": [
    "### Batch predictions on demand\n",
    "\n",
    "Select the data from your data store, make predictions, and write them back to Snowflake once processed,."
   ]
  },
  {
   "cell_type": "code",
   "execution_count": 38,
   "id": "30244c76-671f-458a-a037-80710bd1c0fc",
   "metadata": {},
   "outputs": [
    {
     "name": "stdout",
     "output_type": "stream",
     "text": [
      "2023-01-20 18:16:21.003062 start: UNITS_20230120_1803 predictions\n"
     ]
    }
   ],
   "source": [
    "intake_settings = {\n",
    "    \"type\": \"jdbc\",\n",
    "    \"data_store_id\": data_store_id,\n",
    "    \"credential_id\": credential_id,\n",
    "    \"query\": f'select * from {db}.{schema}.\"ts_demand_forecasting_scoring\" order by {series_id}, {date_col};'\n",
    "}\n",
    "\n",
    "output_settings = {\n",
    "    \"type\": \"jdbc\",\n",
    "    \"data_store_id\": data_store_id,\n",
    "    \"credential_id\": credential_id,\n",
    "    \"table\": \"ts_demand_forecasting_predictions\",\n",
    "    \"schema\": schema,\n",
    "    \"catalog\": db,\n",
    "    \"create_table_if_not_exists\": True,\n",
    "    \"statement_type\": \"insert\"\n",
    "}\n",
    "\n",
    "pred_jobs = dru.make_predictions(deployments=deployments, intake_settings=intake_settings, output_settings=output_settings,\n",
    "                                 passthrough_columns_set=None, passthrough_columns=['SKU', 'STORE'])"
   ]
  },
  {
   "cell_type": "markdown",
   "id": "a870bd39-ded9-47f7-812c-8e0c7a4cf4ed",
   "metadata": {
    "tags": []
   },
   "source": [
    "### Scheduled batch predictions\n",
    "\n",
    "Use prediction job definitions to make batch predictions on a schedule."
   ]
  },
  {
   "cell_type": "code",
   "execution_count": 39,
   "id": "74af5338-465a-4174-8554-72077b8b177e",
   "metadata": {},
   "outputs": [
    {
     "name": "stdout",
     "output_type": "stream",
     "text": [
      "2023-01-20 18:17:09.453436 start: UNITS_20230120_1803 create predictions job definition\n"
     ]
    }
   ],
   "source": [
    "intake_settings = {\n",
    "    \"type\": \"jdbc\",\n",
    "    \"data_store_id\": data_store_id,\n",
    "    \"credential_id\": credential_id,\n",
    "    \"query\": f'select * from {db}.{schema}.\"ts_demand_forecasting_scoring\" order by {series_id}, {date_col};'\n",
    "}\n",
    "\n",
    "output_settings = {\n",
    "    \"type\": \"jdbc\",\n",
    "    \"data_store_id\": data_store_id,\n",
    "    \"credential_id\": credential_id,\n",
    "    \"table\": \"ts_demand_forecasting_predictions\",\n",
    "    \"schema\": schema,\n",
    "    \"catalog\": db,\n",
    "    \"create_table_if_not_exists\": True,\n",
    "    \"statement_type\": \"insert\"\n",
    "}\n",
    "\n",
    "schedule = {\n",
    "    \"minute\": [0],\n",
    "    \"hour\": [23],\n",
    "    \"day_of_week\": [\"*\"],\n",
    "    \"day_of_month\": [\"*\"],\n",
    "    \"month\": [\"*\"],\n",
    "}\n",
    "\n",
    "deployments = dru.create_preds_job_definitions(deployments=deployments, intake_settings=intake_settings, output_settings=output_settings,\n",
    "                                               enabled=False, schedule=schedule, passthrough_columns_set=None, passthrough_columns=['SKU', 'STORE'])"
   ]
  },
  {
   "cell_type": "code",
   "execution_count": 40,
   "id": "616460c3-6c66-4f36-9838-313aa93b47ca",
   "metadata": {},
   "outputs": [],
   "source": [
    "# # Run predictions job definitions manually\n",
    "\n",
    "# for pid, vals in deployments.items():\n",
    "#     vals['preds_job_def'].run_once()"
   ]
  },
  {
   "cell_type": "markdown",
   "id": "6d010f98-0fb7-4747-aa1c-aee532c66ef2",
   "metadata": {},
   "source": [
    "## Get predictions\n",
    "\n",
    "In the previous step, you ran prediction jobs from your registered data store (Snowflake) with your prediciton dataset, `ts_demand_forecasting_scoring` . The steps below add the new prediction table, `ts_demand_forecasting_predictions`, to the AI Catalog. This enables versioning of each prediciton run, and completing the governance loop for traceability from scoring data to model to predicition data.\n"
   ]
  },
  {
   "cell_type": "code",
   "execution_count": 41,
   "id": "63dea9dd-937e-40cd-9e1e-fdeb10ea8797",
   "metadata": {},
   "outputs": [
    {
     "name": "stdout",
     "output_type": "stream",
     "text": [
      "new data source: DataSource('ts_preds_data')\n"
     ]
    }
   ],
   "source": [
    "# Create or get an existing data connection based on a query and upload the predictions into AI Catalog\n",
    "\n",
    "data_source_preds, dataset_preds= dru.create_dataset_from_data_source(\n",
    "    data_source_name='ts_preds_data', query=f'select * from {db}.{schema}.\"ts_demand_forecasting_predictions\";',\n",
    "    data_store_id=data_store_id, credential_id=credential_id)"
   ]
  },
  {
   "cell_type": "markdown",
   "id": "5cea6990-665f-4c00-8571-a83f9a9abe8a",
   "metadata": {},
   "source": [
    "The table with predictions has the following schema:\n",
    "- `{SERIES_ID_COLUMN_NAME}` is the series ID the row belongs to. In this demo the column name is STORE_SKU.\n",
    "- `FORECAST_POINT` is the timestamp ou are making a prediction from.\n",
    "- `{TIME_COLUMN_NAME}` is the time series timestamp the predictions were made for. In this demo the column name is DATE.\n",
    "- `FORECAST_DISTANCE` is a unique relative position within the Forecast Window. A model outputs one row for each Forecast Distance.\n",
    "- `<target_name>_PREDICTION`\n",
    "- `DEPLOYMENT_APPROVAL_STATUS`. If the approval workflow is enabled for the deployment, the output schema will contain an extra column showing the deployment approval status.\n",
    "- Other columns specified in `passthrough_columns` or all columns from the prediction dataset if `passthrough_columns_set='all'`.\n",
    "\n",
    "You can find more details on the predictions structure [in the DataRobot documentation](https://app.datarobot.com/docs/api/reference/batch-prediction-api/output-format.html#time-series-models). "
   ]
  },
  {
   "cell_type": "code",
   "execution_count": 42,
   "id": "bb256506-59ae-4e9e-9bab-626ff16454bf",
   "metadata": {},
   "outputs": [
    {
     "name": "stdout",
     "output_type": "stream",
     "text": [
      "the original data shape   : (200, 8)\n",
      "the total number of series: 50\n",
      "the min date: 2022-10-30 17:00:00\n",
      "the max date: 2022-11-20 16:00:00\n"
     ]
    },
    {
     "data": {
      "text/html": [
       "<div>\n",
       "<style scoped>\n",
       "    .dataframe tbody tr th:only-of-type {\n",
       "        vertical-align: middle;\n",
       "    }\n",
       "\n",
       "    .dataframe tbody tr th {\n",
       "        vertical-align: top;\n",
       "    }\n",
       "\n",
       "    .dataframe thead th {\n",
       "        text-align: right;\n",
       "    }\n",
       "</style>\n",
       "<table border=\"1\" class=\"dataframe\">\n",
       "  <thead>\n",
       "    <tr style=\"text-align: right;\">\n",
       "      <th></th>\n",
       "      <th>STORE_SKU</th>\n",
       "      <th>FORECAST_POINT</th>\n",
       "      <th>DATE</th>\n",
       "      <th>FORECAST_DISTANCE</th>\n",
       "      <th>UNITS (actual)_PREDICTION</th>\n",
       "      <th>DEPLOYMENT_APPROVAL_STATUS</th>\n",
       "      <th>SKU</th>\n",
       "      <th>STORE</th>\n",
       "    </tr>\n",
       "  </thead>\n",
       "  <tbody>\n",
       "    <tr>\n",
       "      <th>0</th>\n",
       "      <td>store_130_SKU_120931082</td>\n",
       "      <td>2022-10-23 17:00:00.000</td>\n",
       "      <td>2022-10-30 17:00:00</td>\n",
       "      <td>1.0</td>\n",
       "      <td>77.779026</td>\n",
       "      <td>APPROVED</td>\n",
       "      <td>SKU_120931082</td>\n",
       "      <td>store_130</td>\n",
       "    </tr>\n",
       "    <tr>\n",
       "      <th>199</th>\n",
       "      <td>store_130_SKU_120931082</td>\n",
       "      <td>2022-10-23 17:00:00.000</td>\n",
       "      <td>2022-11-06 16:00:00</td>\n",
       "      <td>2.0</td>\n",
       "      <td>78.455166</td>\n",
       "      <td>APPROVED</td>\n",
       "      <td>SKU_120931082</td>\n",
       "      <td>store_130</td>\n",
       "    </tr>\n",
       "    <tr>\n",
       "      <th>198</th>\n",
       "      <td>store_130_SKU_120931082</td>\n",
       "      <td>2022-10-23 17:00:00.000</td>\n",
       "      <td>2022-11-13 16:00:00</td>\n",
       "      <td>3.0</td>\n",
       "      <td>80.292369</td>\n",
       "      <td>APPROVED</td>\n",
       "      <td>SKU_120931082</td>\n",
       "      <td>store_130</td>\n",
       "    </tr>\n",
       "    <tr>\n",
       "      <th>197</th>\n",
       "      <td>store_130_SKU_120931082</td>\n",
       "      <td>2022-10-23 17:00:00.000</td>\n",
       "      <td>2022-11-20 16:00:00</td>\n",
       "      <td>4.0</td>\n",
       "      <td>89.633220</td>\n",
       "      <td>APPROVED</td>\n",
       "      <td>SKU_120931082</td>\n",
       "      <td>store_130</td>\n",
       "    </tr>\n",
       "    <tr>\n",
       "      <th>196</th>\n",
       "      <td>store_130_SKU_120969795</td>\n",
       "      <td>2022-10-23 17:00:00.000</td>\n",
       "      <td>2022-10-30 17:00:00</td>\n",
       "      <td>1.0</td>\n",
       "      <td>66.912723</td>\n",
       "      <td>APPROVED</td>\n",
       "      <td>SKU_120969795</td>\n",
       "      <td>store_130</td>\n",
       "    </tr>\n",
       "  </tbody>\n",
       "</table>\n",
       "</div>"
      ],
      "text/plain": [
       "                   STORE_SKU           FORECAST_POINT                DATE  \\\n",
       "0    store_130_SKU_120931082  2022-10-23 17:00:00.000 2022-10-30 17:00:00   \n",
       "199  store_130_SKU_120931082  2022-10-23 17:00:00.000 2022-11-06 16:00:00   \n",
       "198  store_130_SKU_120931082  2022-10-23 17:00:00.000 2022-11-13 16:00:00   \n",
       "197  store_130_SKU_120931082  2022-10-23 17:00:00.000 2022-11-20 16:00:00   \n",
       "196  store_130_SKU_120969795  2022-10-23 17:00:00.000 2022-10-30 17:00:00   \n",
       "\n",
       "     FORECAST_DISTANCE  UNITS (actual)_PREDICTION DEPLOYMENT_APPROVAL_STATUS  \\\n",
       "0                  1.0                  77.779026                   APPROVED   \n",
       "199                2.0                  78.455166                   APPROVED   \n",
       "198                3.0                  80.292369                   APPROVED   \n",
       "197                4.0                  89.633220                   APPROVED   \n",
       "196                1.0                  66.912723                   APPROVED   \n",
       "\n",
       "               SKU      STORE  \n",
       "0    SKU_120931082  store_130  \n",
       "199  SKU_120931082  store_130  \n",
       "198  SKU_120931082  store_130  \n",
       "197  SKU_120931082  store_130  \n",
       "196  SKU_120969795  store_130  "
      ]
     },
     "execution_count": 42,
     "metadata": {},
     "output_type": "execute_result"
    }
   ],
   "source": [
    "# Get predictions as a dataframe\n",
    "\n",
    "df_preds = dataset_preds.get_as_dataframe()\n",
    "df_preds[date_col] = pd.to_datetime(df_preds[date_col], format='%Y-%m-%d')\n",
    "df_preds.sort_values([series_id, date_col], inplace=True)\n",
    "print('the original data shape   :', df_preds.shape)\n",
    "print('the total number of series:', df_preds[series_id].nunique())\n",
    "print('the min date:', df_preds[date_col].min())\n",
    "print('the max date:', df_preds[date_col].max())\n",
    "df_preds.head()"
   ]
  },
  {
   "cell_type": "markdown",
   "id": "26423b0e-6050-4ef4-b7ef-1b8d768f6840",
   "metadata": {},
   "source": [
    "## Conclusion\n",
    "\n",
    "This notebook's workflow provides a repeatable framework from project setup to model deployment for times series data with multiple series (SKUs) with full, partial and no history.  This notebook presented frameworks for aggregation at the SKU and store-SKU level, and provided functions to streamline building and deploying multiple models from time series projects with and without Segmented Modeling enabled. It also provided helpers to extract series and model insights for common challenges seen in real-world data, and multiple methods for prediciton and production deployment with full MLOps capabilities. The steps above provide many of the building blocks necessary for evaluating and experimenting on complex, real-world multi-series data.\n",
    "\n",
    "An extremely common practice in the field is running experiments with various feature derivation windows and forecast distances. For example, if a business desires predictions 6 months out, and you have a few years of history, the best model to predict 3-6 months out may not be the same model that best predicts 1-3 months out. Conceptually, recall that DataRobot generates a wide range of lagged features based on the Feature Derivation Window. The features that best capture short-term predictions (with customer data, this can be lags of a few days or weeks and product interactions), can quite reasonably not be the same set of features that capture mid to long-term predictions.  This can be compounded when you have a large number of series/SKUs; many blueprints are designed to learn interactions and trends across series, which again can have different interaction effects and periodicities. This is usually a good indicator to use Segmented Modeling.  At the same time, one model could work quite well depending on the dynamics of your target.  There is no silver bullet, hence the benefit of learning how to apply automation to rapidly experiment and improve your models.\n",
    "\n",
    "In all cases, ensuring your validation period captures the behavior you want to predict, and that your backtests do as well, is vitally important. \n",
    "\n",
    "Try experimenting with differnet Forecast Distances and compare the important features across projects.  Enable the various project settings in the `params` dictionary in the **Run Projects** section, and enable Segmented Modeling. Identify and evaluate the peformance of some of the partial history series. Getting comfortable with these common workflows will accelerate your time to value in future projects. "
   ]
  },
  {
   "cell_type": "markdown",
   "id": "ae2f5d31-a590-4cc4-b34d-252f1edd1f04",
   "metadata": {},
   "source": [
    "## Delete project artifacts \n",
    "\n",
    "Optional."
   ]
  },
  {
   "cell_type": "code",
   "execution_count": 43,
   "id": "741a0eb9-ce23-4316-a684-31a114ec6dfb",
   "metadata": {},
   "outputs": [],
   "source": [
    "# # Uncomment and run this cell to remove everything you added in DataRobot during this session\n",
    "\n",
    "# dr.Dataset.delete(dataset_train.id)\n",
    "# dr.Dataset.delete(dataset_calendar.id)\n",
    "# dr.Dataset.delete(dataset_preds.id)\n",
    "\n",
    "# data_source_train.delete()\n",
    "# data_source_calendar.delete()\n",
    "# data_source_preds.delete()\n",
    "\n",
    "# _ = [d['preds_job_def'].delete() for d in list(deployments.values())]\n",
    "\n",
    "# _ = [d['deployment'].delete() for d in list(deployments.values())]\n",
    "\n",
    "# _ = [p['project'].delete() for p in list(projects.values())]\n",
    "\n",
    "# dr.CalendarFile.delete(calendar_id)"
   ]
  }
 ],
 "metadata": {
  "kernelspec": {
   "display_name": "Python 3 (ipykernel)",
   "language": "python",
   "name": "python3"
  },
  "language_info": {
   "codemirror_mode": {
    "name": "ipython",
    "version": 3
   },
   "file_extension": ".py",
   "mimetype": "text/x-python",
   "name": "python",
   "nbconvert_exporter": "python",
   "pygments_lexer": "ipython3",
   "version": "3.7.12"
  },
  "toc-autonumbering": false,
  "toc-showcode": false,
  "toc-showmarkdowntxt": false
 },
 "nbformat": 4,
 "nbformat_minor": 5
}
